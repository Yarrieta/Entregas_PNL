{
  "cells": [
    {
      "cell_type": "markdown",
      "metadata": {
        "id": "view-in-github",
        "colab_type": "text"
      },
      "source": [
        "<a href=\"https://colab.research.google.com/github/Yarrieta/Entregas_PNL/blob/Desafio1/Desafio_1.ipynb\" target=\"_parent\"><img src=\"https://colab.research.google.com/assets/colab-badge.svg\" alt=\"Open In Colab\"/></a>"
      ]
    },
    {
      "cell_type": "markdown",
      "metadata": {
        "id": "zq6j8LsYq1Dr"
      },
      "source": [
        "### Vectorización de texto y modelo de clasificación Naïve Bayes con el dataset 20 newsgroups"
      ]
    },
    {
      "cell_type": "code",
      "execution_count": 48,
      "metadata": {
        "id": "l7cXR6CI30ry"
      },
      "outputs": [],
      "source": [
        "from sklearn.feature_extraction.text import CountVectorizer, TfidfVectorizer\n",
        "from sklearn.metrics.pairwise import cosine_similarity\n",
        "from sklearn.naive_bayes import MultinomialNB, ComplementNB\n",
        "from sklearn.metrics import f1_score\n",
        "\n",
        "# 20newsgroups por ser un dataset clásico de NLP ya viene incluido y formateado\n",
        "# en sklearn\n",
        "from sklearn.datasets import fetch_20newsgroups\n",
        "import numpy as np"
      ]
    },
    {
      "cell_type": "markdown",
      "metadata": {
        "id": "yD-pVDWV_rQc"
      },
      "source": [
        "## Carga de datos"
      ]
    },
    {
      "cell_type": "code",
      "execution_count": 49,
      "metadata": {
        "id": "Ech9qJaUo9vK"
      },
      "outputs": [],
      "source": [
        "# cargamos los datos (ya separados de forma predeterminada en train y test)\n",
        "newsgroups_train = fetch_20newsgroups(subset='train', remove=('headers', 'footers', 'quotes'))\n",
        "newsgroups_test = fetch_20newsgroups(subset='test', remove=('headers', 'footers', 'quotes'))"
      ]
    },
    {
      "cell_type": "markdown",
      "metadata": {
        "id": "UxjSI7su_uWI"
      },
      "source": [
        "## Vectorización"
      ]
    },
    {
      "cell_type": "code",
      "execution_count": 50,
      "metadata": {
        "id": "-94VP0QYCzDn"
      },
      "outputs": [],
      "source": [
        "# instanciamos un vectorizador\n",
        "# ver diferentes parámetros de instanciación en la documentación de sklearn\n",
        "tfidfvect = TfidfVectorizer()"
      ]
    },
    {
      "cell_type": "code",
      "execution_count": 51,
      "metadata": {
        "colab": {
          "base_uri": "https://localhost:8080/",
          "height": 71
        },
        "id": "ftPlyanuak8n",
        "outputId": "c323797b-5132-487e-f769-fe1ed8959c52"
      },
      "outputs": [
        {
          "output_type": "execute_result",
          "data": {
            "text/plain": [
              "'I was wondering if anyone out there could enlighten me on this car I saw\\nthe other day. It was a 2-door sports car, looked to be from the late 60s/\\nearly 70s. It was called a Bricklin. The doors were really small. In addition,\\nthe front bumper was separate from the rest of the body. This is \\nall I know. If anyone can tellme a model name, engine specs, years\\nof production, where this car is made, history, or whatever info you\\nhave on this funky looking car, please e-mail.'"
            ],
            "application/vnd.google.colaboratory.intrinsic+json": {
              "type": "string"
            }
          },
          "metadata": {},
          "execution_count": 51
        }
      ],
      "source": [
        "# en el atributo `data` accedemos al texto\n",
        "newsgroups_train.data[0]"
      ]
    },
    {
      "cell_type": "code",
      "execution_count": 52,
      "metadata": {
        "id": "1zxcXV6aC_oL"
      },
      "outputs": [],
      "source": [
        "# con la interfaz habitual de sklearn podemos fitear el vectorizador\n",
        "# (obtener el vocabulario y calcular el vector IDF)\n",
        "# y transformar directamente los datos\n",
        "X_train = tfidfvect.fit_transform(newsgroups_train.data)\n",
        "# `X_train` la podemos denominar como la matriz documento-término"
      ]
    },
    {
      "cell_type": "code",
      "execution_count": 53,
      "metadata": {
        "colab": {
          "base_uri": "https://localhost:8080/"
        },
        "id": "4Sv7TXbda41-",
        "outputId": "485927ca-e232-45f6-8a46-1298978f3e25"
      },
      "outputs": [
        {
          "output_type": "stream",
          "name": "stdout",
          "text": [
            "<class 'scipy.sparse._csr.csr_matrix'>\n",
            "shape: (11314, 101631)\n",
            "cantidad de documentos: 11314\n",
            "tamaño del vocabulario (dimensionalidad de los vectores): 101631\n"
          ]
        }
      ],
      "source": [
        "# recordar que las vectorizaciones por conteos son esparsas\n",
        "# por ello sklearn convenientemente devuelve los vectores de documentos\n",
        "# como matrices esparsas\n",
        "print(type(X_train))\n",
        "print(f'shape: {X_train.shape}')\n",
        "print(f'cantidad de documentos: {X_train.shape[0]}')\n",
        "print(f'tamaño del vocabulario (dimensionalidad de los vectores): {X_train.shape[1]}')"
      ]
    },
    {
      "cell_type": "code",
      "execution_count": 54,
      "metadata": {
        "colab": {
          "base_uri": "https://localhost:8080/"
        },
        "id": "dgydNTZ2pAgR",
        "outputId": "799ba0cc-cb19-4cac-faf1-a9402c87ebe1"
      },
      "outputs": [
        {
          "output_type": "execute_result",
          "data": {
            "text/plain": [
              "25775"
            ]
          },
          "metadata": {},
          "execution_count": 54
        }
      ],
      "source": [
        "# una vez fiteado el vectorizador, podemos acceder a atributos como el vocabulario\n",
        "# aprendido. Es un diccionario que va de términos a índices.\n",
        "# El índice es la posición en el vector de documento.\n",
        "tfidfvect.vocabulary_['car']"
      ]
    },
    {
      "cell_type": "code",
      "execution_count": 55,
      "metadata": {
        "id": "xnTSZuvyrTcP"
      },
      "outputs": [],
      "source": [
        "# es muy útil tener el diccionario opuesto que va de índices a términos\n",
        "idx2word = {v: k for k,v in tfidfvect.vocabulary_.items()}"
      ]
    },
    {
      "cell_type": "code",
      "execution_count": 56,
      "metadata": {
        "colab": {
          "base_uri": "https://localhost:8080/"
        },
        "id": "swa-AgWrMSHM",
        "outputId": "36ac78dd-ab6a-4a48-c22b-ee7d7946c742"
      },
      "outputs": [
        {
          "output_type": "execute_result",
          "data": {
            "text/plain": [
              "array([ 7,  4,  4,  1, 14, 16, 13,  3,  2,  4])"
            ]
          },
          "metadata": {},
          "execution_count": 56
        }
      ],
      "source": [
        "# en `y_train` guardamos los targets que son enteros\n",
        "y_train = newsgroups_train.target\n",
        "y_train[:10]"
      ]
    },
    {
      "cell_type": "code",
      "execution_count": 57,
      "metadata": {
        "colab": {
          "base_uri": "https://localhost:8080/"
        },
        "id": "je5kxvQMDLvf",
        "outputId": "48a87c2e-7022-442c-da4b-c4625bd7f61f"
      },
      "outputs": [
        {
          "output_type": "stream",
          "name": "stdout",
          "text": [
            "clases [ 0  1  2  3  4  5  6  7  8  9 10 11 12 13 14 15 16 17 18 19]\n"
          ]
        },
        {
          "output_type": "execute_result",
          "data": {
            "text/plain": [
              "['alt.atheism',\n",
              " 'comp.graphics',\n",
              " 'comp.os.ms-windows.misc',\n",
              " 'comp.sys.ibm.pc.hardware',\n",
              " 'comp.sys.mac.hardware',\n",
              " 'comp.windows.x',\n",
              " 'misc.forsale',\n",
              " 'rec.autos',\n",
              " 'rec.motorcycles',\n",
              " 'rec.sport.baseball',\n",
              " 'rec.sport.hockey',\n",
              " 'sci.crypt',\n",
              " 'sci.electronics',\n",
              " 'sci.med',\n",
              " 'sci.space',\n",
              " 'soc.religion.christian',\n",
              " 'talk.politics.guns',\n",
              " 'talk.politics.mideast',\n",
              " 'talk.politics.misc',\n",
              " 'talk.religion.misc']"
            ]
          },
          "metadata": {},
          "execution_count": 57
        }
      ],
      "source": [
        "# hay 20 clases correspondientes a los 20 grupos de noticias\n",
        "print(f'clases {np.unique(newsgroups_test.target)}')\n",
        "newsgroups_test.target_names"
      ]
    },
    {
      "cell_type": "markdown",
      "metadata": {
        "id": "SXCICFSd_y90"
      },
      "source": [
        "## Similaridad de documentos"
      ]
    },
    {
      "cell_type": "code",
      "execution_count": 58,
      "metadata": {
        "colab": {
          "base_uri": "https://localhost:8080/"
        },
        "id": "_pki_olShnyE",
        "outputId": "1bf312dc-a6b3-459a-b393-03f088eb7a23"
      },
      "outputs": [
        {
          "output_type": "stream",
          "name": "stdout",
          "text": [
            "THE WHITE HOUSE\n",
            "\n",
            "                  Office of the Press Secretary\n",
            "                   (Pittsburgh, Pennslyvania)\n",
            "______________________________________________________________\n",
            "For Immediate Release                         April 17, 1993     \n",
            "\n",
            "             \n",
            "                  RADIO ADDRESS TO THE NATION \n",
            "                        BY THE PRESIDENT\n",
            "             \n",
            "                Pittsburgh International Airport\n",
            "                    Pittsburgh, Pennsylvania\n",
            "             \n",
            "             \n",
            "10:06 A.M. EDT\n",
            "             \n",
            "             \n",
            "             THE PRESIDENT:  Good morning.  My voice is coming to\n",
            "you this morning through the facilities of the oldest radio\n",
            "station in America, KDKA in Pittsburgh.  I'm visiting the city to\n",
            "meet personally with citizens here to discuss my plans for jobs,\n",
            "health care and the economy.  But I wanted first to do my weekly\n",
            "broadcast with the American people. \n",
            "             \n",
            "             I'm told this station first broadcast in 1920 when\n",
            "it reported that year's presidential elections.  Over the past\n",
            "seven decades presidents have found ways to keep in touch with\n",
            "the people, from whistle-stop tours to fire-side chats to the bus\n",
            "tour that I adopted, along with Vice President Gore, in last\n",
            "year's campaign.\n",
            "             \n",
            "             Every Saturday morning I take this time to talk with\n",
            "you, my fellow Americans, about the problems on your minds and\n",
            "what I'm doing to try and solve them.  It's my way of reporting\n",
            "to you and of giving you a way to hold me accountable.\n",
            "             \n",
            "             You sent me to Washington to get our government and\n",
            "economy moving after years of paralysis and policy and a bad\n",
            "experiment with trickle-down economics.  You know how important\n",
            "it is for us to make bold, comprehensive changes in the way we do\n",
            "business.  \n",
            "             \n",
            "             We live in a competitive global economy.  Nations\n",
            "rise and fall on the skills of their workers, the competitiveness\n",
            "of their companies, the imagination of their industries, and the\n",
            "cooperative experience and spirit that exists between business,\n",
            "labor and government.  Although many of the economies of the\n",
            "industrialized world are now suffering from slow growth, they've\n",
            "made many of the smart investments and the tough choices which\n",
            "our government has for too long ignored.  That's why many of them\n",
            "have been moving ahead and too many of our people have been\n",
            "falling behind.\n",
            "             \n",
            "             We have an economy today that even when it grows is\n",
            "not producing new jobs.  We've increased the debt of our nation\n",
            "by four times over the last 12 years, and we don't have much to\n",
            "show for it.  We know that wages of most working people have\n",
            "stopped rising, that most people are working longer work weeks\n",
            "and that too many families can no longer afford the escalating\n",
            "cost of health care.\n",
            "             \n",
            "             But we also know that, given the right tools, the\n",
            "right incentives and the right encouragement, our workers and\n",
            "businesses can make the kinds of products and profits our economy\n",
            "needs to expand opportunity and to make our communities better\n",
            "places to live.\n",
            "             \n",
            "             In many critical products today Americans are the\n",
            "low cost, high quality producers.  Our task is to make sure that\n",
            "we create more of those kinds of jobs.\n",
            "             \n",
            "             Just two months ago I gave Congress my plan for\n",
            "long-term jobs and economic growth.  It changes the old\n",
            "priorities in Washington and puts our emphasis where it needs to\n",
            "be -- on people's real needs, on increasing investments and jobs\n",
            "and education, on cutting the federal deficit, on stopping the\n",
            "waste which pays no dividends, and redirecting our precious\n",
            "resources toward investment that creates jobs now and lays the\n",
            "groundwork for robust economic growth in the future.\n",
            "             \n",
            "             These new directions passed the Congress in record\n",
            "time and created a new sense of hope and opportunity in our\n",
            "country.  Then the jobs plan I presented to Congress, which would\n",
            "create hundreds of thousands of jobs, most of them in the private\n",
            "sector in 1993 and 1994, passed the House of Representatives.  It\n",
            "now has the support of a majority of the United States Senate. \n",
            "But it's been held up by a filibuster of a minority in the\n",
            "Senate, just 43 senators.  They blocked a vote that they know\n",
            "would result in the passage of our bill and the creation of jobs.\n",
            "             \n",
            "             The issue isn't politics; the issue is people. \n",
            "Millions of Americans are waiting for this legislation and\n",
            "counting on it, counting on us in Washington.  But the jobs bill\n",
            "has been grounded by gridlock.  \n",
            "             \n",
            "             I know the American people are tired of business as\n",
            "usual and politics as usual.  I know they don't want us to spin\n",
            "or wheels.  They want the recovery to get moving.  So I have\n",
            "taken a first step to break this gridlock and gone the extra\n",
            "mile.  Yesterday I offered to cut the size of this plan by 25\n",
            "percent -- from $16 billion to $12 billion.  \n",
            "             \n",
            "             It's not what I'd hoped for.  With 16 million\n",
            "Americans looking for full-time work, I simply can't let the bill\n",
            "languish when I know that even a compromise bill will mean\n",
            "hundreds of thousands of jobs for our people.  The mandate is to\n",
            "act to achieve change and move the country forward.  By taking\n",
            "this initiative in the face of an unrelenting Senate talkathon, I\n",
            "think we can respond to your mandate and achieve a significant\n",
            "portion of our original goals.\n",
            "             \n",
            "             First, we want to keep the programs as much as\n",
            "possible that are needed to generate jobs and meet human needs,\n",
            "including highway and road construction, summer jobs for young\n",
            "people, immunization for children, construction of waste water\n",
            "sites, and aid to small businesses.  We also want to keep funding\n",
            "for extended unemployment compensation benefits, for people who\n",
            "have been unemployed for a long time because the economy isn't\n",
            "creating jobs.\n",
            "             \n",
            "             Second, I've recommended that all the other programs\n",
            "in the bill be cut across-the-board by a little more than 40\n",
            "percent.\n",
            "             \n",
            "             And third, I've recommended a new element in this\n",
            "program to help us immediately start our attempt to fight against\n",
            "crime by providing $200 million for cities and towns to rehire\n",
            "police officers who lost their jobs during the recession and put\n",
            "them back to work protecting our people.  I'm also going to fight\n",
            "for a tough crime bill because the people of this country need it\n",
            "and deserve it.\n",
            "             \n",
            "             Now, the people who are filibustering this bill --\n",
            "the Republican senators -- say they won't vote for it because it\n",
            "increases deficit spending, because there's extra spending this\n",
            "year that hasn't already been approved.  That sounds reasonable,\n",
            "doesn't it?  Here's what they don't say.  This program is more\n",
            "than paid for by budget cuts over my five-year budget, and this\n",
            "budget is well within the spending limits already approved by the\n",
            "Congress this year.\n",
            "             \n",
            "             It's amazing to me that many of these same senators\n",
            "who are filibustering the bill voted during the previous\n",
            "administration for billions of dollars of the same kind of\n",
            "emergency spending, and much of it was not designed to put the\n",
            "American people to work.  \n",
            "             \n",
            "             This is not about deficit spending.  We have offered\n",
            "a plan to cut the deficit.  This is about where your priorities\n",
            "are -- on people or on politics.  \n",
            "             \n",
            "             Keep in mind that our jobs bill is paid for dollar\n",
            "for dollar.  It is paid for by budget cuts.  And it's the\n",
            "soundest investment we can now make for ourselves and our\n",
            "children.  I urge all Americans to take another look at this jobs\n",
            "and investment program; to consider again the benefits for all of\n",
            "us when we've helped make more American partners working to\n",
            "ensure the future of our nation and the strength of our economy.\n",
            "             \n",
            "             You know, if every American who wanted a job had\n",
            "one, we wouldn't have a lot of the other problems we have in this\n",
            "country today.  This bill is not a miracle, it's a modest first\n",
            "step to try to set off a job creation explosion in this country\n",
            "again.  But it's a step we ought to take.  And it is fully paid\n",
            "for over the life of our budget.\n",
            "             \n",
            "             Tell your lawmakers what you think.  Tell them how\n",
            "important the bill is.  If it passes, we'll all be winners.\n",
            "             \n",
            "             Good morning, and thank you for listening.\n"
          ]
        }
      ],
      "source": [
        "# Veamos similaridad de documentos. Tomemos algún documento\n",
        "idx = 4811\n",
        "print(newsgroups_train.data[idx])"
      ]
    },
    {
      "cell_type": "code",
      "execution_count": 59,
      "metadata": {
        "id": "Ssa9bqJ-hA_v"
      },
      "outputs": [],
      "source": [
        "# midamos la similaridad coseno con todos los documentos de train\n",
        "cossim = cosine_similarity(X_train[idx], X_train)[0]"
      ]
    },
    {
      "cell_type": "code",
      "execution_count": 60,
      "metadata": {
        "colab": {
          "base_uri": "https://localhost:8080/"
        },
        "id": "p_mDA7p3AzcQ",
        "outputId": "34baf08a-2dca-4cf4-946b-0a0b5ed1086f"
      },
      "outputs": [
        {
          "output_type": "execute_result",
          "data": {
            "text/plain": [
              "array([1.        , 0.70930477, 0.67474953, ..., 0.        , 0.        ,\n",
              "       0.        ])"
            ]
          },
          "metadata": {},
          "execution_count": 60
        }
      ],
      "source": [
        "# podemos ver los valores de similaridad ordenados de mayor a menos\n",
        "np.sort(cossim)[::-1]"
      ]
    },
    {
      "cell_type": "code",
      "execution_count": 61,
      "metadata": {
        "colab": {
          "base_uri": "https://localhost:8080/"
        },
        "id": "0OIhDA1jAryX",
        "outputId": "ce1f94ba-702d-4add-8591-86d73f544b08"
      },
      "outputs": [
        {
          "output_type": "execute_result",
          "data": {
            "text/plain": [
              "array([ 4811,  6635,  4253, ...,  1534, 10055,  4750])"
            ]
          },
          "metadata": {},
          "execution_count": 61
        }
      ],
      "source": [
        "# y a qué documentos corresponden\n",
        "np.argsort(cossim)[::-1]"
      ]
    },
    {
      "cell_type": "code",
      "execution_count": 62,
      "metadata": {
        "id": "hP7qLS4ZBLps"
      },
      "outputs": [],
      "source": [
        "# los 5 documentos más similares:\n",
        "mostsim = np.argsort(cossim)[::-1][1:6]"
      ]
    },
    {
      "cell_type": "code",
      "execution_count": 63,
      "metadata": {
        "colab": {
          "base_uri": "https://localhost:8080/",
          "height": 35
        },
        "id": "QdJLHPJACvaj",
        "outputId": "c3180feb-9d5b-410e-ae31-43a4a662bb2c"
      },
      "outputs": [
        {
          "output_type": "execute_result",
          "data": {
            "text/plain": [
              "'talk.politics.misc'"
            ],
            "application/vnd.google.colaboratory.intrinsic+json": {
              "type": "string"
            }
          },
          "metadata": {},
          "execution_count": 63
        }
      ],
      "source": [
        "# el documento original pertenece a la clase:\n",
        "newsgroups_train.target_names[y_train[idx]]"
      ]
    },
    {
      "cell_type": "code",
      "execution_count": 64,
      "metadata": {
        "colab": {
          "base_uri": "https://localhost:8080/"
        },
        "id": "RWy_73epCbFG",
        "outputId": "61887c86-50a4-468c-b3e8-a4d4a88673e2"
      },
      "outputs": [
        {
          "output_type": "stream",
          "name": "stdout",
          "text": [
            "talk.politics.misc\n",
            "talk.politics.misc\n",
            "talk.politics.misc\n",
            "talk.politics.misc\n",
            "talk.politics.misc\n"
          ]
        }
      ],
      "source": [
        "# y los 5 más similares son de las clases:\n",
        "for i in mostsim:\n",
        "  print(newsgroups_train.target_names[y_train[i]])"
      ]
    },
    {
      "cell_type": "markdown",
      "metadata": {
        "id": "zRoNnKwhBqzq"
      },
      "source": [
        "### Modelo de clasificación Naïve Bayes"
      ]
    },
    {
      "cell_type": "code",
      "execution_count": 65,
      "metadata": {
        "colab": {
          "base_uri": "https://localhost:8080/",
          "height": 75
        },
        "id": "TPM0thDaLk0R",
        "outputId": "c2009990-f014-4000-b85c-e14d865383e8"
      },
      "outputs": [
        {
          "output_type": "execute_result",
          "data": {
            "text/plain": [
              "MultinomialNB()"
            ],
            "text/html": [
              "<style>#sk-container-id-2 {color: black;background-color: white;}#sk-container-id-2 pre{padding: 0;}#sk-container-id-2 div.sk-toggleable {background-color: white;}#sk-container-id-2 label.sk-toggleable__label {cursor: pointer;display: block;width: 100%;margin-bottom: 0;padding: 0.3em;box-sizing: border-box;text-align: center;}#sk-container-id-2 label.sk-toggleable__label-arrow:before {content: \"▸\";float: left;margin-right: 0.25em;color: #696969;}#sk-container-id-2 label.sk-toggleable__label-arrow:hover:before {color: black;}#sk-container-id-2 div.sk-estimator:hover label.sk-toggleable__label-arrow:before {color: black;}#sk-container-id-2 div.sk-toggleable__content {max-height: 0;max-width: 0;overflow: hidden;text-align: left;background-color: #f0f8ff;}#sk-container-id-2 div.sk-toggleable__content pre {margin: 0.2em;color: black;border-radius: 0.25em;background-color: #f0f8ff;}#sk-container-id-2 input.sk-toggleable__control:checked~div.sk-toggleable__content {max-height: 200px;max-width: 100%;overflow: auto;}#sk-container-id-2 input.sk-toggleable__control:checked~label.sk-toggleable__label-arrow:before {content: \"▾\";}#sk-container-id-2 div.sk-estimator input.sk-toggleable__control:checked~label.sk-toggleable__label {background-color: #d4ebff;}#sk-container-id-2 div.sk-label input.sk-toggleable__control:checked~label.sk-toggleable__label {background-color: #d4ebff;}#sk-container-id-2 input.sk-hidden--visually {border: 0;clip: rect(1px 1px 1px 1px);clip: rect(1px, 1px, 1px, 1px);height: 1px;margin: -1px;overflow: hidden;padding: 0;position: absolute;width: 1px;}#sk-container-id-2 div.sk-estimator {font-family: monospace;background-color: #f0f8ff;border: 1px dotted black;border-radius: 0.25em;box-sizing: border-box;margin-bottom: 0.5em;}#sk-container-id-2 div.sk-estimator:hover {background-color: #d4ebff;}#sk-container-id-2 div.sk-parallel-item::after {content: \"\";width: 100%;border-bottom: 1px solid gray;flex-grow: 1;}#sk-container-id-2 div.sk-label:hover label.sk-toggleable__label {background-color: #d4ebff;}#sk-container-id-2 div.sk-serial::before {content: \"\";position: absolute;border-left: 1px solid gray;box-sizing: border-box;top: 0;bottom: 0;left: 50%;z-index: 0;}#sk-container-id-2 div.sk-serial {display: flex;flex-direction: column;align-items: center;background-color: white;padding-right: 0.2em;padding-left: 0.2em;position: relative;}#sk-container-id-2 div.sk-item {position: relative;z-index: 1;}#sk-container-id-2 div.sk-parallel {display: flex;align-items: stretch;justify-content: center;background-color: white;position: relative;}#sk-container-id-2 div.sk-item::before, #sk-container-id-2 div.sk-parallel-item::before {content: \"\";position: absolute;border-left: 1px solid gray;box-sizing: border-box;top: 0;bottom: 0;left: 50%;z-index: -1;}#sk-container-id-2 div.sk-parallel-item {display: flex;flex-direction: column;z-index: 1;position: relative;background-color: white;}#sk-container-id-2 div.sk-parallel-item:first-child::after {align-self: flex-end;width: 50%;}#sk-container-id-2 div.sk-parallel-item:last-child::after {align-self: flex-start;width: 50%;}#sk-container-id-2 div.sk-parallel-item:only-child::after {width: 0;}#sk-container-id-2 div.sk-dashed-wrapped {border: 1px dashed gray;margin: 0 0.4em 0.5em 0.4em;box-sizing: border-box;padding-bottom: 0.4em;background-color: white;}#sk-container-id-2 div.sk-label label {font-family: monospace;font-weight: bold;display: inline-block;line-height: 1.2em;}#sk-container-id-2 div.sk-label-container {text-align: center;}#sk-container-id-2 div.sk-container {/* jupyter's `normalize.less` sets `[hidden] { display: none; }` but bootstrap.min.css set `[hidden] { display: none !important; }` so we also need the `!important` here to be able to override the default hidden behavior on the sphinx rendered scikit-learn.org. See: https://github.com/scikit-learn/scikit-learn/issues/21755 */display: inline-block !important;position: relative;}#sk-container-id-2 div.sk-text-repr-fallback {display: none;}</style><div id=\"sk-container-id-2\" class=\"sk-top-container\"><div class=\"sk-text-repr-fallback\"><pre>MultinomialNB()</pre><b>In a Jupyter environment, please rerun this cell to show the HTML representation or trust the notebook. <br />On GitHub, the HTML representation is unable to render, please try loading this page with nbviewer.org.</b></div><div class=\"sk-container\" hidden><div class=\"sk-item\"><div class=\"sk-estimator sk-toggleable\"><input class=\"sk-toggleable__control sk-hidden--visually\" id=\"sk-estimator-id-2\" type=\"checkbox\" checked><label for=\"sk-estimator-id-2\" class=\"sk-toggleable__label sk-toggleable__label-arrow\">MultinomialNB</label><div class=\"sk-toggleable__content\"><pre>MultinomialNB()</pre></div></div></div></div></div>"
            ]
          },
          "metadata": {},
          "execution_count": 65
        }
      ],
      "source": [
        "# es muy fácil instanciar un modelo de clasificación Naïve Bayes y entrenarlo con sklearn\n",
        "clf = MultinomialNB()\n",
        "clf.fit(X_train, y_train)"
      ]
    },
    {
      "cell_type": "code",
      "execution_count": 66,
      "metadata": {
        "id": "NrQjzM48Mu4T"
      },
      "outputs": [],
      "source": [
        "# con nuestro vectorizador ya fiteado en train, vectorizamos los textos\n",
        "# del conjunto de test\n",
        "X_test = tfidfvect.transform(newsgroups_test.data)\n",
        "y_test = newsgroups_test.target\n",
        "y_pred =  clf.predict(X_test)"
      ]
    },
    {
      "cell_type": "code",
      "execution_count": 67,
      "metadata": {
        "colab": {
          "base_uri": "https://localhost:8080/"
        },
        "id": "UkGJhetEPdA4",
        "outputId": "fdc72571-e59f-490d-f2ac-738a95e5cbb8"
      },
      "outputs": [
        {
          "output_type": "execute_result",
          "data": {
            "text/plain": [
              "0.5854345727938506"
            ]
          },
          "metadata": {},
          "execution_count": 67
        }
      ],
      "source": [
        "# el F1-score es una metrica adecuada para reportar desempeño de modelos de claificación\n",
        "# es robusta al desbalance de clases. El promediado 'macro' es el promedio de los\n",
        "# F1-score de cada clase. El promedio 'micro' es equivalente a la accuracy que no\n",
        "# es una buena métrica cuando los datasets son desbalanceados\n",
        "f1_score(y_test, y_pred, average='macro')"
      ]
    },
    {
      "cell_type": "markdown",
      "metadata": {
        "id": "McArD4rSDR2K"
      },
      "source": [
        "### Consigna del desafío 1"
      ]
    },
    {
      "cell_type": "markdown",
      "metadata": {
        "id": "lJgf6GQIIEH1"
      },
      "source": [
        "**1**. Vectorizar documentos. Tomar 5 documentos al azar y medir similaridad con el resto de los documentos.\n",
        "Estudiar los 5 documentos más similares de cada uno analizar si tiene sentido\n",
        "la similaridad según el contenido del texto y la etiqueta de clasificación.\n",
        "\n",
        "**2**. Entrenar modelos de clasificación Naïve Bayes para maximizar el desempeño de clasificación\n",
        "(f1-score macro) en el conjunto de datos de test. Considerar cambiar parámteros\n",
        "de instanciación del vectorizador y los modelos y probar modelos de Naïve Bayes Multinomial\n",
        "y ComplementNB.\n",
        "\n",
        "**3**. Transponer la matriz documento-término. De esa manera se obtiene una matriz\n",
        "término-documento que puede ser interpretada como una colección de vectorización de palabras.\n",
        "Estudiar ahora similaridad entre palabras tomando 5 palabras y estudiando sus 5 más similares.\n"
      ]
    },
    {
      "cell_type": "markdown",
      "source": [
        "####SOLUCIÓN"
      ],
      "metadata": {
        "id": "AlhLOztaO3rK"
      }
    },
    {
      "cell_type": "markdown",
      "source": [
        "1. Vectorizar documentos. Tomar 5 documentos al azar y medir similaridad con el resto de los documentos. Estudiar los 5 documentos más similares de cada uno analizar si tiene sentido la similaridad según el contenido del texto y la etiqueta de clasificación."
      ],
      "metadata": {
        "id": "HyEO5B5lO-sE"
      }
    },
    {
      "cell_type": "code",
      "source": [
        "# instanciamos un vectorizador con iferentes parámetros de instanciación en la documentación de sklearn\n",
        "tfidfvect1 = TfidfVectorizer(stop_words='english', ngram_range=(1, 2))"
      ],
      "metadata": {
        "id": "E4-X5nutOy1l"
      },
      "execution_count": 68,
      "outputs": []
    },
    {
      "cell_type": "code",
      "source": [
        "# con la interfaz habitual de sklearn podemos fitear el vectorizador\n",
        "# (obtener el vocabulario y calcular el vector IDF)\n",
        "# y transformar directamente los datos\n",
        "X_train = tfidfvect1.fit_transform(newsgroups_train.data)\n",
        "# `X_train` la podemos denominar como la matriz documento-término"
      ],
      "metadata": {
        "id": "cqV4z6VZOyyv"
      },
      "execution_count": 69,
      "outputs": []
    },
    {
      "cell_type": "code",
      "source": [
        "# recordar que las vectorizaciones por conteos son esparsas\n",
        "# por ello sklearn convenientemente devuelve los vectores de documentos\n",
        "# como matrices esparsas\n",
        "print(type(X_train))\n",
        "print(f'shape: {X_train.shape}')\n",
        "print(f'cantidad de documentos: {X_train.shape[0]}')\n",
        "print(f'tamaño del vocabulario (dimensionalidad de los vectores): {X_train.shape[1]}')"
      ],
      "metadata": {
        "colab": {
          "base_uri": "https://localhost:8080/"
        },
        "id": "j4U9lcopTSM1",
        "outputId": "8f50fe03-cc06-4f9f-a32c-4be338a3e4a0"
      },
      "execution_count": 70,
      "outputs": [
        {
          "output_type": "stream",
          "name": "stdout",
          "text": [
            "<class 'scipy.sparse._csr.csr_matrix'>\n",
            "shape: (11314, 943737)\n",
            "cantidad de documentos: 11314\n",
            "tamaño del vocabulario (dimensionalidad de los vectores): 943737\n"
          ]
        }
      ]
    },
    {
      "cell_type": "code",
      "source": [
        "# en `y_train` guardamos los targets que son enteros\n",
        "y_train = newsgroups_train.target\n",
        "y_train[:10]"
      ],
      "metadata": {
        "colab": {
          "base_uri": "https://localhost:8080/"
        },
        "id": "b-64q-TQTSJ0",
        "outputId": "8c99a8b5-d7fe-46a5-dc69-620a93cfa105"
      },
      "execution_count": 71,
      "outputs": [
        {
          "output_type": "execute_result",
          "data": {
            "text/plain": [
              "array([ 7,  4,  4,  1, 14, 16, 13,  3,  2,  4])"
            ]
          },
          "metadata": {},
          "execution_count": 71
        }
      ]
    },
    {
      "cell_type": "code",
      "source": [
        "# hay 20 clases correspondientes a los 20 grupos de noticias\n",
        "print(f'clases {np.unique(newsgroups_test.target)}')\n",
        "newsgroups_test.target_names"
      ],
      "metadata": {
        "colab": {
          "base_uri": "https://localhost:8080/"
        },
        "id": "Vkbc0_m6TSGa",
        "outputId": "0c37a0af-a2f3-4686-9fd4-01df3b021a59"
      },
      "execution_count": 72,
      "outputs": [
        {
          "output_type": "stream",
          "name": "stdout",
          "text": [
            "clases [ 0  1  2  3  4  5  6  7  8  9 10 11 12 13 14 15 16 17 18 19]\n"
          ]
        },
        {
          "output_type": "execute_result",
          "data": {
            "text/plain": [
              "['alt.atheism',\n",
              " 'comp.graphics',\n",
              " 'comp.os.ms-windows.misc',\n",
              " 'comp.sys.ibm.pc.hardware',\n",
              " 'comp.sys.mac.hardware',\n",
              " 'comp.windows.x',\n",
              " 'misc.forsale',\n",
              " 'rec.autos',\n",
              " 'rec.motorcycles',\n",
              " 'rec.sport.baseball',\n",
              " 'rec.sport.hockey',\n",
              " 'sci.crypt',\n",
              " 'sci.electronics',\n",
              " 'sci.med',\n",
              " 'sci.space',\n",
              " 'soc.religion.christian',\n",
              " 'talk.politics.guns',\n",
              " 'talk.politics.mideast',\n",
              " 'talk.politics.misc',\n",
              " 'talk.religion.misc']"
            ]
          },
          "metadata": {},
          "execution_count": 72
        }
      ]
    },
    {
      "cell_type": "markdown",
      "source": [
        "###Documento 1"
      ],
      "metadata": {
        "id": "05YrTVHbUjVm"
      }
    },
    {
      "cell_type": "code",
      "source": [
        "# Veamos similaridad de documentos. Tomemos el primer documento\n",
        "idx = 6000\n",
        "print(newsgroups_train.data[idx])"
      ],
      "metadata": {
        "colab": {
          "base_uri": "https://localhost:8080/"
        },
        "id": "CnlVHsDdUqRw",
        "outputId": "9feb8118-f341-4299-9e39-b9999a6998cf"
      },
      "execution_count": 73,
      "outputs": [
        {
          "output_type": "stream",
          "name": "stdout",
          "text": [
            ":You are loosing.\n",
            "\n",
            "\"Loosing\"?  Well, I'll avoid the spelling flames and see if this person\n",
            "can make up for it.\n",
            "\n",
            "\n",
            ":There is no question about it. \n",
            "\n",
            "Oh, there's LOTS of question about it.  People are becoming more aware each\n",
            "day that their rights are being threatened, so much so that NRA membership \n",
            "is growing at the rate of nearly 2,000 per *day*.  We are slowly gaining\n",
            "our rightful voice, despite the biases, prejudices, and veiled motives of\n",
            "the liberal media and anti-gun politicians.  We will win.\n",
            "\n",
            ":Of those who vote, your cause is considered an abomination. No matter\n",
            ":how hard you try, public opinion is set against the RKBA. \n",
            "\n",
            "What do you base this on?  Some highly-skewed poll conducted by NBC News?\n",
            "The same group who faked GM pickup explosions just to make \"news\"?  Right.\n",
            "\n",
            ":This is the end. By the finish of the Clinton administration, your\n",
            ":RKBA will be null and void. Tough titty.\n",
            "\n",
            "It is true that we face even greater obstacles to our rights, betrayed by\n",
            "those lying politicians who swear an oath to protect the Constitution \"from\n",
            "all enemies, both foreign and domestic.\"  But the People will take only so\n",
            "many lies and deceits.\n",
            "\n",
            ":You had better discover ways to make do without firearms. The number of\n",
            ":cases of firearms abuses has ruined your cause. There is nothing you\n",
            ":can do about it. Those who live by the sword shall die by it. \n",
            "\n",
            "Then the criminals who live by murder shall die by it.  Honest, law-abiding\n",
            "citizens need have no fear on that count.  You, however, will evidently\n",
            "die by (or at least in) ignorance.  And the number of firearms self-defenses\n",
            "shall spell out our ultimate victory.\n",
            "\n",
            ":The press is against you, the public (the voting public) is against\n",
            ":you, the flow of history is against you ... this is it !\n",
            "\n",
            "The flow of history was against the Founding Fathers, but they managed to \n",
            "successfully form the first real free republic on the face of this planet,\n",
            "a republic that has become the model for all others to follow.  The press\n",
            "is against us, for its own selfish motivations.  And the people will soon\n",
            "realize the depths of deceit being spread by that media, and nullify its\n",
            "ill-directed power.  The People are with us.\n",
            "\n",
            ":Surrender your arms. Soon enough, officers will be around to collect\n",
            ":them. Resistance is useless. They will overwhelm you - one at a time.\n",
            ":Your neighbors will not help you. They will consider you more if an\n",
            ":immediate threat than the abstract 'criminal'. \n",
            "\n",
            "I shall never submit to an illegal, unConstitutional police state.  I will\n",
            "take my own vow to uphold the Constitution, and I shall defend it and my\n",
            "country against a tyrannical government gone mad, should it become\n",
            "necessary.\n",
            "\n",
            ":Too fucking bad. You have gone the way of the KKK. Violent solutions\n",
            ":are passe'. Avoid situations which encourage criminals. Then you will\n",
            ":be as safe as possible. Such as it is ...\n",
            "\n",
            "I will not be your sacrificial sheep, and I shall not bow down to you or\n",
            "anyone else who seeks to control my life.  Being an unarmed target is the\n",
            "SUREST way of encouraging criminals, and believe me, I shall avoid it as\n",
            "much as possible.  Then I shall be as safe as possible.  I will answer\n",
            "with violence only when no other option exists, but I shall surely answer.\n",
            "\n",
            "Mike Ruff\n",
            "\n",
            "\n",
            "\n"
          ]
        }
      ]
    },
    {
      "cell_type": "code",
      "source": [
        "# midamos la similaridad coseno con todos los documentos de train\n",
        "cossim = cosine_similarity(X_train[idx], X_train)[0]"
      ],
      "metadata": {
        "id": "PXd8sq2tUx8E"
      },
      "execution_count": 74,
      "outputs": []
    },
    {
      "cell_type": "code",
      "source": [
        "# podemos ver los valores de similaridad ordenados de mayor a menos\n",
        "np.sort(cossim)[::-1]"
      ],
      "metadata": {
        "colab": {
          "base_uri": "https://localhost:8080/"
        },
        "id": "xed_ZPvrUx4i",
        "outputId": "977cd2ca-8d1e-4618-a53c-e6f8f392fcca"
      },
      "execution_count": 75,
      "outputs": [
        {
          "output_type": "execute_result",
          "data": {
            "text/plain": [
              "array([1.        , 0.31236346, 0.11577304, ..., 0.        , 0.        ,\n",
              "       0.        ])"
            ]
          },
          "metadata": {},
          "execution_count": 75
        }
      ]
    },
    {
      "cell_type": "code",
      "source": [
        "# y a qué documentos corresponden\n",
        "np.argsort(cossim)[::-1]"
      ],
      "metadata": {
        "colab": {
          "base_uri": "https://localhost:8080/"
        },
        "id": "ziT5vv1zUx0h",
        "outputId": "00453c22-789f-448a-9dfc-542845b24f0c"
      },
      "execution_count": 76,
      "outputs": [
        {
          "output_type": "execute_result",
          "data": {
            "text/plain": [
              "array([ 6000,  4163,  4499, ..., 10388,  5582, 10545])"
            ]
          },
          "metadata": {},
          "execution_count": 76
        }
      ]
    },
    {
      "cell_type": "code",
      "source": [
        "# los 5 documentos más similares:\n",
        "mostsim = np.argsort(cossim)[::-1][1:6]"
      ],
      "metadata": {
        "id": "a8AWUZSRUxw7"
      },
      "execution_count": 77,
      "outputs": []
    },
    {
      "cell_type": "code",
      "source": [
        "mostsim"
      ],
      "metadata": {
        "colab": {
          "base_uri": "https://localhost:8080/"
        },
        "id": "cSOR5ECYi6-a",
        "outputId": "680a93e8-7552-460a-c539-80c1e961edd1"
      },
      "execution_count": 78,
      "outputs": [
        {
          "output_type": "execute_result",
          "data": {
            "text/plain": [
              "array([4163, 4499, 5559, 5513, 9049])"
            ]
          },
          "metadata": {},
          "execution_count": 78
        }
      ]
    },
    {
      "cell_type": "code",
      "source": [
        "# el documento original pertenece a la clase:\n",
        "newsgroups_train.target_names[y_train[idx]]"
      ],
      "metadata": {
        "colab": {
          "base_uri": "https://localhost:8080/",
          "height": 35
        },
        "id": "d_3_LGMxUxti",
        "outputId": "e8c60259-8a2a-49d0-f3ac-da6c408a490d"
      },
      "execution_count": 79,
      "outputs": [
        {
          "output_type": "execute_result",
          "data": {
            "text/plain": [
              "'talk.politics.guns'"
            ],
            "application/vnd.google.colaboratory.intrinsic+json": {
              "type": "string"
            }
          },
          "metadata": {},
          "execution_count": 79
        }
      ]
    },
    {
      "cell_type": "code",
      "source": [
        "# y los 5 más similares son de las clases:\n",
        "for i in mostsim:\n",
        "  print(newsgroups_train.target_names[y_train[i]])"
      ],
      "metadata": {
        "colab": {
          "base_uri": "https://localhost:8080/"
        },
        "id": "JkqureQNUxqy",
        "outputId": "18cbdb6c-24cd-4323-8167-51a0bc554ebb"
      },
      "execution_count": 80,
      "outputs": [
        {
          "output_type": "stream",
          "name": "stdout",
          "text": [
            "talk.politics.guns\n",
            "sci.crypt\n",
            "soc.religion.christian\n",
            "talk.politics.guns\n",
            "rec.sport.hockey\n"
          ]
        }
      ]
    },
    {
      "cell_type": "code",
      "source": [
        "# Veamos el documento de índice 4163 con mayor similaridad.\n",
        "idx = 4163\n",
        "print(newsgroups_train.data[idx])"
      ],
      "metadata": {
        "colab": {
          "base_uri": "https://localhost:8080/"
        },
        "id": "mp6sCgxPpDxE",
        "outputId": "50fdf8b7-d9db-4935-db02-7cc1599d25b3"
      },
      "execution_count": 81,
      "outputs": [
        {
          "output_type": "stream",
          "name": "stdout",
          "text": [
            ": You are loosing.\n",
            ": There is no question about it. \n",
            ": Of those who vote, your cause is considered an abomination. No matter\n",
            ": how hard you try, public opinion is set against the RKBA. \n",
            "\n",
            "  Care to show some *real* numbers instead of something HCI make up?\n",
            "  I thought so, all \"foaming at the mouth\" shouting but nothing is \n",
            "  ever said...\n",
            "   \n",
            ": This is the end. By the finish of the Clinton administration, your\n",
            ": RKBA will be null and void. Tough titty.\n",
            "\n",
            "  Well, we'll just have to wait and see about that, won't we?  Or are\n",
            "  you quite satisified with living in your little fantasy?\n",
            " \n",
            "< SNIP >\n",
            ": cases of firearms abuses has ruined your cause. There is nothing you\n",
            "< SNIP >\n",
            ": The press is against you, the public (the voting public) is against\n",
            ": you, the flow of history is against you ... this is it !\n",
            "\n",
            "  Not true, it is ONLY those who are ignorant and are afraid to understand,\n",
            "  accept, and deal with the real problems behind this violent society \n",
            "  who are proposing gun control as a band-aid solution.  May be I should \n",
            "  refresh your memory with a quote from Prez. Clintion? \n",
            "\n",
            "    \"It's the criminals, stupid!\"  \n",
            "\n",
            "  HEY, why is he cutting the budget for more prisons? May be someone need \n",
            "  to remind him of what he promised...on second thought, why bother...\n",
            "\n",
            ": Surrender your arms. Soon enough, officers will be around to collect\n",
            ": them. Resistance is useless. They will overwhelm you - one at a time.\n",
            ": Your neighbors will not help you. They will consider you more if an\n",
            ": immediate threat than the abstract 'criminal'. \n",
            "\n",
            "  Oooh, WACO II, coming to your living room soon...  When was the last\n",
            "  time you turned off your TV?  Can't remember?  I thought so...\n",
            "\n",
            ": Too fucking bad. You have gone the way of the KKK. Violent solutions\n",
            ": are passe'. Avoid situations which encourage criminals. Then you will\n",
            ": be as safe as possible. Such as it is ...\n",
            "\n",
            "  Wait, I got it, this is a late April fool post, right?  I didn't\n",
            "  think ANYBODY is stupid enough to post something like this...good one\n",
            "  guys, this group was getting boring without Holly and Susan. \n"
          ]
        }
      ]
    },
    {
      "cell_type": "markdown",
      "source": [
        "Se observa que el contenido del documento 1 de índice 6000 que pertenece a la etiqueta \"talk.politics.guns\" escrito por Mike Ruff, guarda relación con el documento de índice 4163 que también tiene la etiqueta \"talk.politics.guns\". En cuanto al contenido, se observa similaridad en el contenido entre ambos documentos porque se habladel mismo tema:RKBA."
      ],
      "metadata": {
        "id": "1Zn682BisqS5"
      }
    },
    {
      "cell_type": "code",
      "source": [
        "# Veamos el documento de índice 4499.\n",
        "idx = 4499\n",
        "print(newsgroups_train.data[idx])"
      ],
      "metadata": {
        "colab": {
          "base_uri": "https://localhost:8080/"
        },
        "id": "RvEjJfput4_p",
        "outputId": "e93408cd-008f-4828-e902-bd5cde2b3641"
      },
      "execution_count": 82,
      "outputs": [
        {
          "output_type": "stream",
          "name": "stdout",
          "text": [
            "I am eager to hear the legal theory behind restricting exchange of\n",
            "cryptographic data and encrypted messages, given the first admendment;\n",
            "the theory behind regulating the *personal* encryption of one's personal\n",
            "*thoughts and feelings* seems even less tenable.\n",
            "\n",
            "Perhaps if we make a *treaty* with, say, Iceland, to restrict crypto\n",
            "paraphernalia can a good \"end run\" around the Constitution happen...\n",
            "(Treaties -- as someone pointed out -- has the force of any other \"law of\n",
            "the land\".  Like the Bill of Rights.)\n",
            "\n",
            "\n",
            "    Amendment 1\n",
            "\n",
            "    Congress shall make no law respecting an establishment of religion, or\n",
            "prohibiting the free exercise thereof; or abridging the freedom of speech,\n",
            "or of the press; or the right of the people peaceably to assemble, and to\n",
            "petition the Government for a redress of grievances.\n",
            "\n",
            "    Amendment 2\n",
            "\n",
            "    A well regulated Militia, being necessary to the security of a free State,\n",
            "the right of the people to keep and bear Arms, shall not be infringed.\n",
            "\n",
            "    Amendment 3\n",
            "\n",
            "    No Soldier shall, in time of peace be quartered in any house, without the\n",
            "consent of the Owner, nor in time of war, but in a manner to be prescribed\n",
            "by law.\n",
            "\n",
            "    Amendment 4\n",
            "\n",
            "    The right of the people to be secure in their persons, houses, papers, and\n",
            "effects, against unreasonable searches and seizures, shall not be violated,\n",
            "and no Warrants shall issue, but upon probable cause, supported by Oath or\n",
            "affirmation, and particularly describing the place to be searched, and the\n",
            "persons or things to be seized.\n",
            "\n",
            "    Amendment 5\n",
            "\n",
            "    No person shall be held to answer for a capital, or otherwise infamous\n",
            "crime, unless on a presentment or indictment of a Grand Jury, except in\n",
            "cases arising in the land or naval forces, or in the Militia, when in\n",
            "actual service in time of War or public danger; nor shall any person be\n",
            "subject for the same offence to be twice put in jeopardy of life or limb;\n",
            "nor shall be compelled in any criminal case to be a witness against\n",
            "himself, nor be deprived of life, liberty, or property, without due process\n",
            "of law; nor shall private property be taken for public use, without just\n",
            "compensation.\n",
            "\n",
            "\n",
            "Well -- at least for a few minutes we had some privacy...\n"
          ]
        }
      ]
    },
    {
      "cell_type": "markdown",
      "source": [
        "Se observa que el contenido del documento 1 de índice 6000 que pertenece a la etiqueta \"talk.politics.guns\" escrito por Mike Ruff, no guarda relación con el documento de índice 4499 que tiene la etiqueta \"tsci.crypt\". No obstante, el contenido habla menciona algunos términos relacionados con temas políticos como: [\"first admendment\", \"treaty\", \"Constitution\", \"the Bill of Rights\"]. Entonces se observa similaridad en el contenido entre ambos documentos."
      ],
      "metadata": {
        "id": "dlbhDh_nu0Gs"
      }
    },
    {
      "cell_type": "code",
      "source": [
        "# Veamos el documento de índice 5559.\n",
        "idx = 5559\n",
        "print(newsgroups_train.data[idx])"
      ],
      "metadata": {
        "colab": {
          "base_uri": "https://localhost:8080/"
        },
        "id": "XAMulP1Ct43I",
        "outputId": "0e34b57a-7ef4-47c7-e5f7-16fd562a6096"
      },
      "execution_count": 83,
      "outputs": [
        {
          "output_type": "stream",
          "name": "stdout",
          "text": [
            "I have come across what I consider to be an excellent tract. It is a\n",
            "bit lengthy for a posting, but I thought I'd share it with all of you\n",
            "anyway. Feel free to pass it along to anyone whom you feel might\n",
            "benefit from what it says. May God richly bless those who read it.\n",
            " \n",
            "=======================================================================\n",
            " \n",
            "                   D O E S  G O D  L O V E  Y O U ?\n",
            " \n",
            " \n",
            "Q. What  kind  of  question  is that?   Anyone who can read sees signs,\n",
            "   tracts, books, and bumper stickers that say, \"God Loves You.\"  Isn't\n",
            "   that true?\n",
            " \n",
            "A. It  is  true that God offers His love to the whole world, as we read\n",
            "   in one of the most quoted verses in the Bible:\n",
            " \n",
            "      For  God  so  loved  the world, that he gave his only begotten\n",
            "      Son, that whosoever believeth in him should  not  perish,  but\n",
            "      have everlasting life.                               John 3:16\n",
            " \n",
            " \n",
            "      The way of the wicked is an abomination unto the LORD:  but he\n",
            "      loveth him that followeth after righteousness.   Proverbs 15:9\n",
            " \n",
            "      For  the LORD knoweth the way of the righteous: but the way of\n",
            "      the ungodly shall perish.                            Psalm 1:6\n",
            " \n",
            " \n",
            "Q. But  I am not wicked.  I am a decent, moral person.  Surely the good\n",
            "   I have done in my life far outweighs whatever bad I have done.   How\n",
            "   can these verses apply to me?\n",
            " \n",
            "A. By  God's  standard  of  righteousness even the most moral person is\n",
            "   looked upon by God as a desperate sinner on his way to  Hell.    The\n",
            "   Bible teaches that no one is good enough in himself to go to Heaven.\n",
            "   On  the  contrary,  we  are all sinners and we are all guilty before\n",
            "   God.\n",
            " \n",
            "      As it is written, There is none righteous, no, not one:  There\n",
            "      is  none  that understandeth, there is none that seeketh after\n",
            "      God.                                            Romans 3:10-11\n",
            " \n",
            "      The  heart  is  deceitful  above  all  things, and desperately\n",
            "      wicked: who can know it?                         Jeremiah 17:9\n",
            " \n",
            " \n",
            "Q. If I am such a wicked person in God's sight, what will God do to me?\n",
            " \n",
            "A. The  Bible  teaches that at the end of the world all the wicked will\n",
            "   come under eternal punishment in a place called Hell.\n",
            " \n",
            "      For  a  fire is kindled in mine anger, and shall burn unto the\n",
            "      lowest hell, and shall consume the earth  with  her  increase,\n",
            "      and set on fire the foundations of the mountains.  I will heap\n",
            "      mischiefs upon them; I will spend mine arrows upon them.  They\n",
            "      shall  be  burnt  with hunger, and devoured with burning heat,\n",
            "      and  with  bitter  destruction:  I will also send the teeth of\n",
            "      beasts upon them, with the poison of serpents of the dust.\n",
            "                                                Deuteronomy 32:22-24\n",
            " \n",
            " \n",
            "Q. Oh,  come  on now!   Hell is not real, is it?  Surely things are not\n",
            "   that bad.\n",
            " \n",
            "A. Indeed,  Hell is very real, and things are that bad for the individ-\n",
            "   ual who does not know the Lord Jesus Christ as Savior.    The  Bible\n",
            "   makes  many  references  to Hell, indicating that it is both eternal\n",
            "   and consists of perpetual suffering.\n",
            " \n",
            "      And  whosoever  was  not found written in the book of life was\n",
            "      cast into the lake of fire.                   Revelation 20:15\n",
            " \n",
            "      So  shall it be at the end of the world: the angels shall come\n",
            "      forth, and sever the wicked from among  the  just,  And  shall\n",
            "      cast them into the furnace of fire: there shall be wailing and\n",
            "      gnashing of teeth.                            Matthew 13:49-50\n",
            " \n",
            "      ...    when  the Lord Jesus shall be revealed from heaven with\n",
            "      his mighty angels, In flaming fire taking  vengeance  on  them\n",
            "      that  know  not  God, and that obey not the gospel of our Lord\n",
            "      Jesus   Christ:    Who  shall  be  punished  with  everlasting\n",
            "      destruction  from the presence of the Lord, and from the glory\n",
            "      of his power;                            2 Thessalonians 1:7-9\n",
            " \n",
            " \n",
            "Q. That is terrible!  Why would God create a Hell?\n",
            " \n",
            "A. Hell  is  terrible,  and  it  exists  because  God created man to be\n",
            "   accountable to God for his actions.  God's perfect  justice  demands\n",
            "   payment for sin.\n",
            " \n",
            "      For the wages of sin is death;                     Romans 6:23\n",
            " \n",
            "      For  we  must  all  appear before the judgment seat of Christ;\n",
            "      that every one may  receive  the  things  done  in  his  body,\n",
            "      according to that he hath done, whether it be good or bad.\n",
            "                                                  2 Corinthians 5:10\n",
            " \n",
            "      But I say unto you, That every idle word that men shall speak,\n",
            "      they shall give account thereof in the day of judgment.\n",
            "                                                       Matthew 12:36\n",
            " \n",
            " \n",
            "Q. Does that mean that at the end of the world everyone will be brought\n",
            "   to life again to be judged and then to be sent to Hell?\n",
            " \n",
            "A. Indeed  it  does;  that  is,  unless  we  can find someone to be our\n",
            "   substitute in bearing the punishment of eternal  damnation  for  our\n",
            "   sins.    That  someone  is  God  Himself, who came to earth as Jesus\n",
            "   Christ to bear the wrath of God for all who believe in Him.\n",
            " \n",
            "      All  we  like sheep have gone astray; we have turned every one\n",
            "      to his own way; and the LORD hath laid on him the iniquity  of\n",
            "      us all.                                            Isaiah 53:6\n",
            " \n",
            "      But  he was wounded for our transgressions, he was bruised for\n",
            "      our iniquities: the chastisement of our peace  was  upon  him;\n",
            "      and with his stripes we are healed.                Isaiah 53:5\n",
            " \n",
            "      For  I  delivered  unto  you  first  of  all that which I also\n",
            "      received, how that Christ died for our sins according  to  the\n",
            "      scriptures; And that he was buried, and that he rose again the\n",
            "      third day according to the scriptures:    1 Corinthians 15:3-4\n",
            " \n",
            "      For  he  hath made him to be sin for us, who knew no sin; that\n",
            "      we might be made the righteousness of God in him.\n",
            "                                                  2 Corinthians 5:21\n",
            " \n",
            " \n",
            "Q. Are  you  saying that if I trust in Christ as my substitute, Who was\n",
            "   already punished for my sins, then I will not have  to  worry  about\n",
            "   Hell anymore?\n",
            " \n",
            "A. Yes, this is so!  If I have believed in Christ as my Savior, then it\n",
            "   is  as  if  I  have already stood before the Judgment Throne of God.\n",
            "   Christ as my substitute has already paid for my sins.\n",
            " \n",
            "      He  that  believeth  on  the Son hath everlasting life: and he\n",
            "      that believeth not the Son shall not see life; but  the  wrath\n",
            "      of God abideth on him.                               John 3:36\n",
            " \n",
            " \n",
            "Q. But  what  does it mean to believe on Him?  If I agree with all that\n",
            "   the Bible says about Christ as Savior, then am I saved from going to\n",
            "   Hell?\n",
            " \n",
            "A. Believing  on  Christ  means  a  whole lot more than agreeing in our\n",
            "   minds with the truths of the Bible.  It means that we hang our whole\n",
            "   lives  on Him.   It means that we entrust every part of our lives to\n",
            "   the  truths  of the Bible.  It means that we turn away from our sins\n",
            "   and serve Christ as our Lord.\n",
            " \n",
            "      No man can serve two masters: for either he will hate the one,\n",
            "      and  love  the  other;  or  else  he will hold to the one, and\n",
            "      despise the other. Ye cannot serve God and mammon.\n",
            "                                                        Matthew 6:24\n",
            " \n",
            "      Repent  ye  therefore, and be converted, that your sins may be\n",
            "      blotted out, when the times of refreshing shall come from  the\n",
            "      presence of the Lord;                                Acts 3:19\n",
            " \n",
            " \n",
            "Q. Are  you  saying  that  there  is no other way to escape Hell except\n",
            "   through Jesus?   What about all the other  religions?    Will  their\n",
            "   followers also go to Hell?\n",
            " \n",
            "A. Yes, indeed.  They cannot escape the fact that God holds us account-\n",
            "   able  for  our  sins.   God demands that we pay for our sins.  Other\n",
            "   religions  cannot  provide  a  substitute  to bear the sins of their\n",
            "   followers.  Christ is the only one who is able to bear our guilt and\n",
            "   save us.\n",
            " \n",
            "      Neither  is  there  salvation  in any other: for there is none\n",
            "      other name under heaven given among men, whereby  we  must  be\n",
            "      saved.                                               Acts 4:12\n",
            " \n",
            " \n",
            "      I  am the way, the truth, and the life: no man cometh unto the\n",
            "      Father, but by me.                                   John 14:6\n",
            " \n",
            "      If  we confess our sins, he is faithful and just to forgive us\n",
            "      our sins, and to cleanse us from all unrighteousness.\n",
            "                                                          1 John 1:9\n",
            " \n",
            " \n",
            "Q. Now I am desperate.  I do not want to go to Hell.  What can I do?\n",
            " \n",
            "A. You  must  remember  that God is the only one who can help you.  You\n",
            "   must throw yourself altogether on the mercies of God.   As  you  see\n",
            "   your hopeless condition as a sinner, cry out to God to save you.\n",
            " \n",
            "      And the publican, standing afar off, would not lift up so much\n",
            "      as  his  eyes  unto heaven, but smote upon his breast, saying,\n",
            "      God be merciful to me a sinner.                     Luke 18:13\n",
            " \n",
            "      ...  Sirs, what must I do to be saved?  And they said, Believe\n",
            "      on the Lord Jesus Christ, and thou shalt be saved, ...\n",
            "                                                       Acts 16:30-31\n",
            " \n",
            " \n",
            "Q. But how can I believe on Christ if I know so little about Him?\n",
            " \n",
            "A. Wonderfully,  God  not  only saves us through the Lord Jesus, but He\n",
            "   also gives us the faith to believe on Him.  You can pray to God that\n",
            "   He will give you faith in Jesus Christ as your Savior.\n",
            " \n",
            "      For  by  grace  are  ye  saved  through faith; and that not of\n",
            "      yourselves: it is the gift of God:               Ephesians 2:8\n",
            " \n",
            "   God works particularly through the Bible to give us that faith.  So,\n",
            "   if  you  really  mean  business  with  God about your salvation, you\n",
            "   should  use  every opportunity to hear and study the Bible, which is\n",
            "   the only Word of God.\n",
            "   In  this  brochure,  all  verses  from the Bible are within indented\n",
            "   paragraphs.  Give heed to them with all your heart.\n",
            " \n",
            "      So  then  faith  cometh by hearing, and hearing by the word of\n",
            "      God.                                              Romans 10:17\n",
            " \n",
            " \n",
            "Q. But does this mean that I have to surrender everything to God?\n",
            " \n",
            "A. Yes.    God wants us to come to Him in total humility, acknowledging\n",
            "   our sinfulness and our helplessness, trusting totally in Him.\n",
            " \n",
            "      The  sacrifices  of  God  are  a broken spirit: a broken and a\n",
            "      contrite heart, O God, thou wilt not despise.      Psalm 51:17\n",
            " \n",
            "   Because  we  are sinners we love our sins.  Therefore, we must begin\n",
            "   to pray to God for an intense  hatred  of  our  sins.    And  if  we\n",
            "   sincerely desire salvation, we will also begin to turn from our sins\n",
            "   as  God  strengthens  us.    We know that our sins are sending us to\n",
            "   Hell.\n",
            " \n",
            "      Unto  you  first God, having raised up his Son Jesus, sent him\n",
            "      to bless you, in turning  away  every  one  of  you  from  his\n",
            "      iniquities.                                          Acts 3:26\n",
            " \n",
            " \n",
            "Q. Doesn't  the  Bible teach that I must attend church regularly and be\n",
            "   baptized?  Will these save me?\n",
            " \n",
            "A. If  possible,  we should do these things, but they will not save us.\n",
            "   No work of any kind can secure our salvation.   Salvation  is  God's\n",
            "   sovereign gift of grace given according to His mercy and good pleas-\n",
            "   ure.  Salvation is\n",
            " \n",
            "      Not of works, lest any man should boast.         Ephesians 2:9\n",
            " \n",
            " \n",
            "Q. What else will happen at the end of the world?\n",
            " \n",
            "A. Those  who have trusted in Jesus as their Savior will be transformed\n",
            "   into their glorious eternal bodies and will be with Christ  forever-\n",
            "   more.\n",
            " \n",
            "      For  the  Lord himself shall descend from heaven with a shout,\n",
            "      with the voice of the archangel, and with the  trump  of  God:\n",
            "      and  the  dead  in Christ shall rise first:  Then we which are\n",
            "      alive  and remain shall be caught up together with them in the\n",
            "      clouds,  to meet the Lord in the air:  and so shall we ever be\n",
            "      with the Lord.                         1 Thessalonians 4:16-17\n",
            " \n",
            " \n",
            "Q. What will happen to the earth at that time?\n",
            " \n",
            "A. God  will destroy the entire universe by fire and create new heavens\n",
            "   and a new earth where Christ will reign with His believers  forever-\n",
            "   more.\n",
            " \n",
            "      But  the day of the Lord will come as a thief in the night; in\n",
            "      the which the heavens shall pass away with a great noise,  and\n",
            "      the  elements shall melt with fervent heat, the earth also and\n",
            "      the   works  that  are  therein  shall  be  burned  up.    ...\n",
            "      Nevertheless  we,  according  to  his  promise,  look  for new\n",
            "      heavens and a new earth, wherein dwelleth righteousness.\n",
            "                                                     2 Peter 3:10,13\n",
            " \n",
            " \n",
            "Q. Does  the  Bible  give us any idea of when the end of the earth will\n",
            "   come?\n",
            " \n",
            "A. Yes!    The end will come when Christ has saved all whom He plans to\n",
            "   save.\n",
            " \n",
            "      And  this  gospel  of the kingdom shall be preached in all the\n",
            "      world for a witness unto all nations; and then shall  the  end\n",
            "      come.                                            Matthew 24:14\n",
            " \n",
            " \n",
            "Q. Can we know how close to the end of the world we might be?\n",
            " \n",
            "A. Yes!   God gives much information in the Bible concerning the timing\n",
            "   of the history of the world and tells us that while the Day  of  the\n",
            "   Lord  will come as a thief in the night for the unsaved, it will not\n",
            "   come  as  a  thief for the believers.  There is much evidence in the\n",
            "   Bible  that  the  end  of  the world and the return of Christ may be\n",
            "   very, very close.* All the time clues in the Bible point to this.\n",
            " \n",
            "      For  when  they  shall  say,  Peace  and  safety;  then sudden\n",
            "      destruction cometh upon them, as travail  upon  a  woman  with\n",
            "      child; and they shall not escape.          1 Thessalonians 5:3\n",
            " \n",
            "      Surely  the  Lord  GOD  will  do nothing, but he revealeth his\n",
            "      secret unto his servants the prophets.                Amos 3:7\n",
            " \n",
            " \n",
            "Q. But that means Judgment Day is almost here.\n",
            " \n",
            "A. Yes,  it  does.    God  warned  ancient Nineveh that He was going to\n",
            "   destroy that great city and He gave them forty days warning.\n",
            " \n",
            "      And Jonah began to enter into the city a day's journey, and he\n",
            "      cried,  and  said,  Yet  forty  days,  and  Nineveh  shall  be\n",
            "      overthrown.                                          Jonah 3:4\n",
            " \n",
            " \n",
            "Q. What did the people of Nineveh do?\n",
            " \n",
            "A. From  the  king on down they humbled themselves before God, repented\n",
            "   of their sins, and cried to God for mercy.\n",
            " \n",
            "      But  let  man  and  beast  be  covered with sackcloth, and cry\n",
            "      mightily unto God: yea, let them turn every one from his  evil\n",
            "      way,  and  from  the violence that is in their hands.  Who can\n",
            "      tell  if  God  will  turn  and  repent, and turn away from his\n",
            "      fierce anger, that we perish not?                  Jonah 3:8-9\n",
            " \n",
            " \n",
            "Q. Did God hear their prayers?\n",
            " \n",
            "A. Yes.  God saved a great many people of Nineveh.\n",
            " \n",
            " \n",
            "Q. Can  I still cry to God for mercy so that I will not come into judg-\n",
            "   ment?\n",
            " \n",
            "A. Yes.   There is still time to become saved even though that time has\n",
            "   become very short.\n",
            " \n",
            "      How  shall  we escape, if we neglect so great salvation; which\n",
            "      at the first began to be spoken by the Lord, and was confirmed\n",
            "      unto us by them that heard him;                    Hebrews 2:3\n",
            " \n",
            "      In  God is my salvation and my glory: the rock of my strength,\n",
            "      and my refuge, is in God.   Trust in  him  at  all  times;  ye\n",
            "      people,  pour  out  your heart before him: God is a refuge for\n",
            "      us.                                               Psalm 62:7-8\n",
            " \n",
            " \n",
            " \n",
            " \n",
            "            A R E  Y O U  R E A D Y  T O  M E E T  G O D ?\n",
            " \n",
            " \n",
            " \n",
            "A  book  entitled  1994?,  written by Harold Camping, presents Biblical\n",
            "information that we may be very near the end of time.  For  information\n",
            "on  how to obtain a copy or to receive a free program guide and list of\n",
            "radio  stations on which you can hear our Gospel programs, please write\n",
            "to Family Radio, Oakland, California, 94621 (The United States of Amer-\n",
            "ica), or call 1-800-543-1495.\n",
            " \n",
            "               ----------------------------------------\n",
            " \n",
            " \n",
            "The  foregoing  is a copy of the \"Does God Love You?\" tract printed by,\n",
            "and available free of charge from, Family Radio.   A  number  of  minor\n",
            "changes  have  been  made to its layout to facilitate computer printing\n",
            "and  distribution.  The only change to the text itself is the paragraph\n",
            "which  describes  the  way in which Biblical passages appear within the\n",
            "text.    In  the  original  tract they appear in italic lettering; they\n",
            "appear here as indented paragraphs.\n",
            " \n",
            " \n",
            "I have read Mr. Camping's book, compared it with what the Bible actual-\n",
            "ly  says, find it to be the most credible research with respect to what\n",
            "the  future holds that I have ever come across, and agree with him that\n",
            "there  is just too much data to ignore.  While none of us is guaranteed\n",
            "one  more  second  of  life, and while we, therefore, should take these\n",
            "matters  very seriously regardless of when Christ will actually return,\n",
            "it  would appear that our natural tendency to postpone caring about our\n",
            "eternal  destiny  until we feel that our death is imminent is even more\n",
            "senseless  now  because,  in  all  likelihood, the law of averages with\n",
            "respect  to life expectancy no longer applies.  If you wish to obtain a\n",
            "copy  of  this book so that you can check out these facts for yourself,\n",
            "you may find the following information helpful:\n",
            " \n",
            "      title:       1994?\n",
            "      author:      Harold Camping\n",
            "      publisher:   Vantage Press\n",
            "      distributor: Baker and Taylor\n",
            "      ISBN:        0-533-10368-1\n",
            " \n",
            " \n",
            "I  have  chosen  to share this tract with you because I whole-heartedly\n",
            "agree with everything it declares and feel that now, perhaps more  than\n",
            "ever  before,  this information must be made known.  To paraphrase Acts\n",
            "20:27,  it  does not shun to declare unto us all the counsel of God.  I\n",
            "am  always  willing  to  discuss  the  eternal truths of the Bible with\n",
            "anyone who is interested as I believe them to be the only issues of any\n",
            "real  importance since we will spend, comparatively speaking, so little\n",
            "time  on this side of the grave and so much on the other.  Feel free to\n",
            "get in touch with me at any time:\n",
            " \n",
            "      e-mail: davem@bnr.ca\n",
            "      office: 1-613-765-4671\n",
            "      home:   1-613-726-0014\n"
          ]
        }
      ]
    },
    {
      "cell_type": "markdown",
      "source": [
        "Se observa que el contenido del documento 1 de índice 6000 que pertenece a la etiqueta \"talk.politics.guns\" escrito por Mike Ruff, no guarda relación con el documento de índice 5559 que tiene la etiqueta \"soc.religion.christian\". Tampoco el contenido contiene palabras usadas en contexto político."
      ],
      "metadata": {
        "id": "VqHM6WIdwoqX"
      }
    },
    {
      "cell_type": "code",
      "source": [
        "# Veamos el documento de índice 5513.\n",
        "idx = 5513\n",
        "print(newsgroups_train.data[idx])"
      ],
      "metadata": {
        "colab": {
          "base_uri": "https://localhost:8080/"
        },
        "id": "hm_CteHSUxnF",
        "outputId": "276fe6a4-95c2-4535-e999-886144e3440a"
      },
      "execution_count": 84,
      "outputs": [
        {
          "output_type": "stream",
          "name": "stdout",
          "text": [
            ":> Surrender your arms. Soon enough, officers will be around to collect\n",
            ":> them. Resistance is useless. \n",
            ":\n",
            ":Don't tell me -- you're the \"Borg Warner,\" right?\n",
            "\n",
            "HAAAAAAAAAAHAHAHAHAHAHAHAHAHAHAHA.  Hee, hee.  <chuckle>\n",
            "\n",
            "This was absolutely fabulous.  I nearly fell out of my chair laughing.\n",
            "Wonderful!  Mr. Tavares, my hat is off to you again!\n",
            "\n",
            "\n",
            "Mike Ruff\n",
            "\n"
          ]
        }
      ]
    },
    {
      "cell_type": "markdown",
      "source": [
        "Se observa que el contenido del documento 1 de índice 6000 que pertenece a la etiqueta \"talk.politics.guns\" escrito por Mike Ruff, sólamente guarda relación con el documento de índice 5513 que también tiene la etiqueta \"talk.politics.guns\" y también escrito por la misma persona talk.politics.guns. En cuanto al contenido, no se observa similaridad en el contenido entre ambos documentos excepto que fueron escrtitos por la misma persona. Con respecto al primer documento de índice 6000, el contenido corresponde a política, no obstante, el documento de índice 5513 parece una conversación informal."
      ],
      "metadata": {
        "id": "RqxWpvKIiNVT"
      }
    },
    {
      "cell_type": "code",
      "source": [
        "# Veamos el documento de índice 9049.\n",
        "idx2 = 9049\n",
        "print(newsgroups_train.data[idx2])"
      ],
      "metadata": {
        "colab": {
          "base_uri": "https://localhost:8080/"
        },
        "id": "8YkxQFKEjLz2",
        "outputId": "93a52ba1-52f5-4238-86f7-5c87ff7ad6a2"
      },
      "execution_count": 96,
      "outputs": [
        {
          "output_type": "stream",
          "name": "stdout",
          "text": [
            "The Blackhawks shall triumph.\n"
          ]
        }
      ]
    },
    {
      "cell_type": "markdown",
      "source": [
        "Se observa que el contenido del documento 1 de índice 6000 que pertenece a la etiqueta \"talk.politics.guns\" escrito por Mike Ruff, no guarda relación con el documento de índice 9049 que tiene la etiqueta \"rec.sport.hockey\". Tampoco el contenido contiene palabras usadas en contexto político."
      ],
      "metadata": {
        "id": "gdtuopAw1x7S"
      }
    },
    {
      "cell_type": "markdown",
      "source": [
        "###Documento 2"
      ],
      "metadata": {
        "id": "Sr6lNajF2W8-"
      }
    },
    {
      "cell_type": "code",
      "source": [
        "# Veamos similaridad de documentos. Tomemos algún documento\n",
        "idx2 = 6001\n",
        "print(newsgroups_train.data[idx2])"
      ],
      "metadata": {
        "colab": {
          "base_uri": "https://localhost:8080/"
        },
        "id": "gIV1cYLlxHLY",
        "outputId": "bd85f0f5-2064-4766-eecc-cf60971c5bf1"
      },
      "execution_count": 97,
      "outputs": [
        {
          "output_type": "stream",
          "name": "stdout",
          "text": [
            "Pete Young, on the Tue, 20 Apr 93 08:29:21 GMT wibbled:\n",
            "\n",
            ": : Tsk, tsk, tsk.  Another newbie bites the dust, eh?  They'll learn.\n",
            "\n",
            ": Newbie. Sorry to disappoint you, but as far as the Internet goes I was\n",
            ": in Baghdad while you were still in your dads bag.\n",
            "Is this bit funny?\n",
            "\n",
            ": Most of the people who made this group interesting 3 or 4 years ago\n",
            ": are no longer around and I only have time to make a random sweep\n",
            ": once a week or so. Hence I missed most of this thread. \n",
            "I'm terribly sorry.\n",
            "\n",
            ": Based on your previous postings, apparently devoid of humour, sarcasm,\n",
            ": wit, or the apparent capacity to walk and chew gum at the same time, I\n",
            ": assumed you were serious. Mea culpa.\n",
            "I know, I know. Subtlety is sort of, you know, subtle, isn't it.\n",
            "\n",
            ": Still, it's nice to see that BNR are doing so well that they can afford\n",
            ": to overpay some contractors to sit and read news all day.\n",
            "That's foreign firms for you.\n",
            "\n",
            "\n",
            "..and a touchy newbie, at that.\n",
            "\n",
            "What's the matter, too much starch in the undies?\n",
            "--\n",
            "\n",
            "Nick (the Considerate Biker)   DoD 1069   Concise Oxford   None Gum-Chewer\n",
            "\n",
            "M'Lud.\n"
          ]
        }
      ]
    },
    {
      "cell_type": "code",
      "source": [
        "# midamos la similaridad coseno con todos los documentos de train\n",
        "cossim = cosine_similarity(X_train[idx2], X_train)[0]"
      ],
      "metadata": {
        "id": "CR8PSDY3xHI-"
      },
      "execution_count": 98,
      "outputs": []
    },
    {
      "cell_type": "code",
      "source": [
        "# podemos ver los valores de similaridad ordenados de mayor a menos\n",
        "np.sort(cossim)[::-1]"
      ],
      "metadata": {
        "colab": {
          "base_uri": "https://localhost:8080/"
        },
        "id": "8luTLSq7jLxA",
        "outputId": "76f5607d-1c29-4355-a987-f3706d552076"
      },
      "execution_count": 99,
      "outputs": [
        {
          "output_type": "execute_result",
          "data": {
            "text/plain": [
              "array([1.        , 0.76016038, 0.10189777, ..., 0.        , 0.        ,\n",
              "       0.        ])"
            ]
          },
          "metadata": {},
          "execution_count": 99
        }
      ]
    },
    {
      "cell_type": "code",
      "source": [
        "# y a qué documentos corresponden\n",
        "np.argsort(cossim)[::-1]"
      ],
      "metadata": {
        "colab": {
          "base_uri": "https://localhost:8080/"
        },
        "id": "EtZHy4lZ3pmg",
        "outputId": "7ca5f8bd-31aa-4148-9a70-ec2ba22fe2d6"
      },
      "execution_count": 100,
      "outputs": [
        {
          "output_type": "execute_result",
          "data": {
            "text/plain": [
              "array([ 6001, 10411,  1232, ...,  2820,  6833,  5912])"
            ]
          },
          "metadata": {},
          "execution_count": 100
        }
      ]
    },
    {
      "cell_type": "code",
      "source": [
        "# los 5 documentos más similares:\n",
        "mostsim = np.argsort(cossim)[::-1][1:6]"
      ],
      "metadata": {
        "id": "BOz58TBZ3pkB"
      },
      "execution_count": 101,
      "outputs": []
    },
    {
      "cell_type": "code",
      "source": [
        "mostsim"
      ],
      "metadata": {
        "colab": {
          "base_uri": "https://localhost:8080/"
        },
        "id": "NYKWdgxk64z3",
        "outputId": "c6250e22-6207-40b9-e233-669fa4728de2"
      },
      "execution_count": 102,
      "outputs": [
        {
          "output_type": "execute_result",
          "data": {
            "text/plain": [
              "array([10411,  1232,  1101,  6441,  6585])"
            ]
          },
          "metadata": {},
          "execution_count": 102
        }
      ]
    },
    {
      "cell_type": "code",
      "source": [
        "# el documento original pertenece a la clase:\n",
        "newsgroups_train.target_names[y_train[idx2]]"
      ],
      "metadata": {
        "colab": {
          "base_uri": "https://localhost:8080/",
          "height": 35
        },
        "id": "uQ1vjuhS3phk",
        "outputId": "b0b9332d-88c2-443b-8455-5ab5d93acc1a"
      },
      "execution_count": 103,
      "outputs": [
        {
          "output_type": "execute_result",
          "data": {
            "text/plain": [
              "'rec.motorcycles'"
            ],
            "application/vnd.google.colaboratory.intrinsic+json": {
              "type": "string"
            }
          },
          "metadata": {},
          "execution_count": 103
        }
      ]
    },
    {
      "cell_type": "code",
      "source": [
        "# y los 5 más similares son de las clases:\n",
        "for i in mostsim:\n",
        "  print(newsgroups_train.target_names[y_train[i]])"
      ],
      "metadata": {
        "colab": {
          "base_uri": "https://localhost:8080/"
        },
        "id": "ncE5VE4J3pfN",
        "outputId": "60a186eb-2f98-4f25-e221-b8b759103676"
      },
      "execution_count": 104,
      "outputs": [
        {
          "output_type": "stream",
          "name": "stdout",
          "text": [
            "rec.motorcycles\n",
            "rec.motorcycles\n",
            "rec.motorcycles\n",
            "rec.motorcycles\n",
            "rec.motorcycles\n"
          ]
        }
      ]
    },
    {
      "cell_type": "code",
      "source": [
        "# Veamos el documento de índice 10411.\n",
        "idx_10411= 10411\n",
        "print(newsgroups_train.data[idx_10411])"
      ],
      "metadata": {
        "colab": {
          "base_uri": "https://localhost:8080/"
        },
        "id": "cLyA4o5v3pcn",
        "outputId": "e2a8bb43-a886-4918-ebb8-2911bd39bbe7"
      },
      "execution_count": 105,
      "outputs": [
        {
          "output_type": "stream",
          "name": "stdout",
          "text": [
            "\n",
            ": Tsk, tsk, tsk.  Another newbie bites the dust, eh?  They'll learn.\n",
            "\n",
            "Newbie. Sorry to disappoint you, but as far as the Internet goes I was\n",
            "in Baghdad while you were still in your dads bag.\n",
            "\n",
            "Most of the people who made this group interesting 3 or 4 years ago\n",
            "are no longer around and I only have time to make a random sweep\n",
            "once a week or so. Hence I missed most of this thread. \n",
            "\n",
            "Based on your previous postings, apparently devoid of humour, sarcasm,\n",
            "wit, or the apparent capacity to walk and chew gum at the same time, I\n",
            "assumed you were serious. Mea culpa.\n",
            "\n",
            "Still, it's nice to see that BNR are doing so well that they can afford\n",
            "to overpay some contractors to sit and read news all day.\n",
            "\n",
            "\n"
          ]
        }
      ]
    },
    {
      "cell_type": "markdown",
      "source": [
        "Se observa que el contenido del documento 2 de índice 6001 que pertenece a la etiqueta \"trec.motorcycles\" escrito por Mike Ruff, guarda la mayor similaridad con el documento de índice 10411 que también tiene la etiqueta \"rec.motorcycles. En cuanto al contenido, se observa similaridad dado que el documento de índice 10411 contiene partes iguales de cinco párrafos del documento de índice 6001, lo que podría interpretarse como el partes de fragmentos del mismo documento en el índice 10411 con mayor similaridad."
      ],
      "metadata": {
        "id": "PwZ7KusRkss5"
      }
    },
    {
      "cell_type": "markdown",
      "source": [
        "###Documento 3"
      ],
      "metadata": {
        "id": "7uoSBPTknaXq"
      }
    },
    {
      "cell_type": "code",
      "source": [
        "# Veamos similaridad de documentos. Tomemos algún documento\n",
        "idx= 6002\n",
        "print(newsgroups_train.data[idx])"
      ],
      "metadata": {
        "colab": {
          "base_uri": "https://localhost:8080/"
        },
        "id": "W7V-4Vca3pXj",
        "outputId": "540b0971-6448-4b39-c96d-b996e9f67e19"
      },
      "execution_count": 121,
      "outputs": [
        {
          "output_type": "stream",
          "name": "stdout",
          "text": [
            "From article <1993Apr20.195853.16179@samba.oit.unc.edu>, by dil.admin@mhs.unc.edu (Dave Laudicina):\n",
            "You're using drivers version 2.02 or earlier. The latest is 2.03, available\n",
            "from their BBS or by snailmail. It at least fixes the WfW problem.\n",
            "\n",
            "The reason I wanted to reply in public instead of private mail is because\n",
            "of following: I talked to their tech support a few days ago and was told\n",
            "that I can expect a new version near the end of the month. Which should be\n",
            "about now...\n",
            "\n",
            "However, I have a problem when switching back from a DOS session in standard\n",
            "mode. Apparently they don't know of this problem and seem to be surprised\n",
            "why anybody would want to use standard mode at all.\n",
            "\n",
            "\n",
            "It's a great card for the price, at least when I bought it. Now there may be\n",
            "better alternatives.\n",
            "\n"
          ]
        }
      ]
    },
    {
      "cell_type": "code",
      "source": [
        "# midamos la similaridad coseno con todos los documentos de train\n",
        "cossim = cosine_similarity(X_train[idx], X_train)[0]"
      ],
      "metadata": {
        "id": "FxdNyy_L3pU5"
      },
      "execution_count": 122,
      "outputs": []
    },
    {
      "cell_type": "code",
      "source": [
        "# podemos ver los valores de similaridad ordenados de mayor a menos\n",
        "np.sort(cossim)[::-1]"
      ],
      "metadata": {
        "id": "Ptohe4gAnrFU",
        "outputId": "7df83fb8-6641-4d62-982f-f6200b832ec6",
        "colab": {
          "base_uri": "https://localhost:8080/"
        }
      },
      "execution_count": 123,
      "outputs": [
        {
          "output_type": "execute_result",
          "data": {
            "text/plain": [
              "array([1.        , 0.08393598, 0.06538293, ..., 0.        , 0.        ,\n",
              "       0.        ])"
            ]
          },
          "metadata": {},
          "execution_count": 123
        }
      ]
    },
    {
      "cell_type": "code",
      "source": [
        "# y a qué documentos corresponden\n",
        "np.argsort(cossim)[::-1]"
      ],
      "metadata": {
        "id": "j5iK6yqdojxW",
        "outputId": "34f54162-0c94-4457-ad16-bf2fd55ae0e4",
        "colab": {
          "base_uri": "https://localhost:8080/"
        }
      },
      "execution_count": 124,
      "outputs": [
        {
          "output_type": "execute_result",
          "data": {
            "text/plain": [
              "array([6002, 5692, 3530, ..., 4922, 8749, 3712])"
            ]
          },
          "metadata": {},
          "execution_count": 124
        }
      ]
    },
    {
      "cell_type": "code",
      "source": [
        "# los 5 documentos más similares:\n",
        "mostsim = np.argsort(cossim)[::-1][1:6]"
      ],
      "metadata": {
        "id": "PKbZnM0onrCQ"
      },
      "execution_count": 125,
      "outputs": []
    },
    {
      "cell_type": "code",
      "source": [
        "mostsim"
      ],
      "metadata": {
        "id": "QG77FCl-oTF1",
        "outputId": "4aea9077-7b41-4fc5-88e3-1c9a2fff7f86",
        "colab": {
          "base_uri": "https://localhost:8080/"
        }
      },
      "execution_count": 126,
      "outputs": [
        {
          "output_type": "execute_result",
          "data": {
            "text/plain": [
              "array([ 5692,  3530,   500, 10853,  2821])"
            ]
          },
          "metadata": {},
          "execution_count": 126
        }
      ]
    },
    {
      "cell_type": "code",
      "source": [
        "# el documento original pertenece a la clase:\n",
        "newsgroups_train.target_names[y_train[idx]]"
      ],
      "metadata": {
        "id": "tF-QcHoRnq_W",
        "outputId": "c6c93cf2-432d-4d6b-ecfe-694f4677d384",
        "colab": {
          "base_uri": "https://localhost:8080/",
          "height": 35
        }
      },
      "execution_count": 127,
      "outputs": [
        {
          "output_type": "execute_result",
          "data": {
            "text/plain": [
              "'comp.os.ms-windows.misc'"
            ],
            "application/vnd.google.colaboratory.intrinsic+json": {
              "type": "string"
            }
          },
          "metadata": {},
          "execution_count": 127
        }
      ]
    },
    {
      "cell_type": "code",
      "source": [
        "# y los 5 más similares son de las clases:\n",
        "for i in mostsim:\n",
        "  print(newsgroups_train.target_names[y_train[i]])"
      ],
      "metadata": {
        "id": "d2GNFKfpnq8Z",
        "outputId": "460bfeab-7c99-456f-c279-780317ce03cc",
        "colab": {
          "base_uri": "https://localhost:8080/"
        }
      },
      "execution_count": 128,
      "outputs": [
        {
          "output_type": "stream",
          "name": "stdout",
          "text": [
            "rec.sport.hockey\n",
            "rec.sport.baseball\n",
            "comp.os.ms-windows.misc\n",
            "rec.sport.baseball\n",
            "rec.sport.baseball\n"
          ]
        }
      ]
    },
    {
      "cell_type": "code",
      "source": [
        "# Veamos mayor similaridad de documentos.\n",
        "idx_5692 = 5692\n",
        "print(newsgroups_train.data[idx_5692])"
      ],
      "metadata": {
        "id": "sPpnlTPtnq5e",
        "outputId": "9ae2d187-3591-46fb-b3e4-f5bd2c8792de",
        "colab": {
          "base_uri": "https://localhost:8080/"
        }
      },
      "execution_count": 120,
      "outputs": [
        {
          "output_type": "stream",
          "name": "stdout",
          "text": [
            "\n",
            "I had heard(perhaps incorrectly) that while Lemieux was out, noone wore a\n",
            "C on their jersey.  The As took turns doing captain duties(whatever they\n",
            "are).\n",
            "\n",
            "Scott...\n",
            "scott.marks@launchpad.unc.edu\n",
            "scott.marks@launchpad.unc.edu\n"
          ]
        }
      ]
    },
    {
      "cell_type": "markdown",
      "source": [
        "Se observa que el contenido del documento 3 de índice 6002 que pertenece a la etiqueta \"comp.os.ms-windows.misc\" no guarda relación con el documento de índice 5692, el cual tiene la etiqueta \"rec.sport.hockey \". En cuanto al contenido, no se observa similaridad dado que el documento 3 no tiene relación con el documento de mayor similaridad de índice 5692. El documento 3 usa palabras de la computación como [\"drivers\", \"tech\"], lo cual no sucede en el documento de índice 5692. No obstante, los correos de ambos documentos finalizan con la extención unc.edu."
      ],
      "metadata": {
        "id": "WmCaerU37Mi1"
      }
    },
    {
      "cell_type": "markdown",
      "source": [
        "###Documento 4"
      ],
      "metadata": {
        "id": "4qhu8HyK4R9B"
      }
    },
    {
      "cell_type": "code",
      "source": [
        "# Veamos similaridad de documentos. Tomemos algún documento\n",
        "idx= 6003\n",
        "print(newsgroups_train.data[idx])"
      ],
      "metadata": {
        "id": "-3Cl9Nehnq2y",
        "outputId": "1c022e40-b03b-4cf8-a25b-6a44a163005d",
        "colab": {
          "base_uri": "https://localhost:8080/"
        }
      },
      "execution_count": 143,
      "outputs": [
        {
          "output_type": "stream",
          "name": "stdout",
          "text": [
            "Whoa. What did you say your name was? Address, SSN? Smoking foods, eh?\n",
            "I think the gov't would like to know about this...\n"
          ]
        }
      ]
    },
    {
      "cell_type": "code",
      "source": [
        "# midamos la similaridad coseno con todos los documentos de train\n",
        "cossim = cosine_similarity(X_train[idx], X_train)[0]"
      ],
      "metadata": {
        "id": "yLjfOVM0nqxl"
      },
      "execution_count": 144,
      "outputs": []
    },
    {
      "cell_type": "code",
      "source": [
        "# podemos ver los valores de similaridad ordenados de mayor a menos\n",
        "np.sort(cossim)[::-1]"
      ],
      "metadata": {
        "id": "QyNTR7eGnqvA",
        "outputId": "9944f592-14c7-4da5-90dd-018b677a1c87",
        "colab": {
          "base_uri": "https://localhost:8080/"
        }
      },
      "execution_count": 145,
      "outputs": [
        {
          "output_type": "execute_result",
          "data": {
            "text/plain": [
              "array([1.        , 0.09185243, 0.06331928, ..., 0.        , 0.        ,\n",
              "       0.        ])"
            ]
          },
          "metadata": {},
          "execution_count": 145
        }
      ]
    },
    {
      "cell_type": "code",
      "source": [
        "# y a qué documentos corresponden\n",
        "np.argsort(cossim)[::-1]"
      ],
      "metadata": {
        "id": "LUQcv7q247z1",
        "outputId": "1928e6bd-a0db-45cc-8835-657065714804",
        "colab": {
          "base_uri": "https://localhost:8080/"
        }
      },
      "execution_count": 146,
      "outputs": [
        {
          "output_type": "execute_result",
          "data": {
            "text/plain": [
              "array([ 6003,  7325,  8663, ...,  4474,  4475, 11313])"
            ]
          },
          "metadata": {},
          "execution_count": 146
        }
      ]
    },
    {
      "cell_type": "code",
      "source": [
        "# los 5 documentos más similares:\n",
        "mostsim = np.argsort(cossim)[::-1][1:6]"
      ],
      "metadata": {
        "id": "gKTGPsnR47wZ"
      },
      "execution_count": 147,
      "outputs": []
    },
    {
      "cell_type": "code",
      "source": [
        "mostsim"
      ],
      "metadata": {
        "id": "n_xwsXaB47tc",
        "outputId": "95f37b4e-a186-4c21-8a17-96d6e1ba021f",
        "colab": {
          "base_uri": "https://localhost:8080/"
        }
      },
      "execution_count": 148,
      "outputs": [
        {
          "output_type": "execute_result",
          "data": {
            "text/plain": [
              "array([ 7325,  8663,  1225,  7177, 10904])"
            ]
          },
          "metadata": {},
          "execution_count": 148
        }
      ]
    },
    {
      "cell_type": "code",
      "source": [
        "# el documento original pertenece a la clase:\n",
        "newsgroups_train.target_names[y_train[idx]]"
      ],
      "metadata": {
        "id": "BaufOiXv4_LV",
        "outputId": "0cd2e32f-7c5e-4258-e5ff-1003dc85c104",
        "colab": {
          "base_uri": "https://localhost:8080/",
          "height": 35
        }
      },
      "execution_count": 149,
      "outputs": [
        {
          "output_type": "execute_result",
          "data": {
            "text/plain": [
              "'sci.med'"
            ],
            "application/vnd.google.colaboratory.intrinsic+json": {
              "type": "string"
            }
          },
          "metadata": {},
          "execution_count": 149
        }
      ]
    },
    {
      "cell_type": "code",
      "source": [
        "# y los 5 más similares son de las clases:\n",
        "for i in mostsim:\n",
        "  print(newsgroups_train.target_names[y_train[i]])"
      ],
      "metadata": {
        "id": "0L9Clpy_4_IV",
        "outputId": "9207d54e-2745-4e0a-f835-5bc6d80639eb",
        "colab": {
          "base_uri": "https://localhost:8080/"
        }
      },
      "execution_count": 150,
      "outputs": [
        {
          "output_type": "stream",
          "name": "stdout",
          "text": [
            "rec.sport.baseball\n",
            "comp.windows.x\n",
            "comp.sys.mac.hardware\n",
            "sci.space\n",
            "talk.politics.misc\n"
          ]
        }
      ]
    },
    {
      "cell_type": "code",
      "source": [
        "# Veamos mayor similaridad de documentos.\n",
        "idx_7325 = 7325\n",
        "print(newsgroups_train.data[idx_7325])"
      ],
      "metadata": {
        "id": "bKMcWthj7zKo",
        "outputId": "1701a1e1-5439-468d-ba8b-09ac703fb074",
        "colab": {
          "base_uri": "https://localhost:8080/"
        }
      },
      "execution_count": 152,
      "outputs": [
        {
          "output_type": "stream",
          "name": "stdout",
          "text": [
            "ALL I CAN SAY IS   \n",
            "\n",
            "\n",
            "\n",
            "\n",
            "        G O    T I G E R S!!!!!!\n",
            "\n",
            "\n",
            "\n",
            "\n"
          ]
        }
      ]
    },
    {
      "cell_type": "markdown",
      "source": [
        "Se observa que el contenido del documento 4 de índice 6003 que pertenece a la etiqueta \"sci.med\" no guarda relación con el documento de índice 7325, el cual tiene la etiqueta \"rec.sport.baseball \". En cuanto al contenido, no se observa similaridad dado que el documento 4 no tiene relación con el documento de mayor similaridad de índice 7325."
      ],
      "metadata": {
        "id": "5c8KfyPy7k7l"
      }
    },
    {
      "cell_type": "markdown",
      "source": [
        "###Documento 5"
      ],
      "metadata": {
        "id": "xfn7tTZV81c_"
      }
    },
    {
      "cell_type": "code",
      "source": [
        "# Veamos similaridad de documentos. Tomemos algún documento\n",
        "idx= 6004\n",
        "print(newsgroups_train.data[idx])"
      ],
      "metadata": {
        "id": "g1gklnLE4_EX",
        "outputId": "bdfabf36-41b9-46d6-8a74-3f1d4aa99b4a",
        "colab": {
          "base_uri": "https://localhost:8080/"
        }
      },
      "execution_count": 161,
      "outputs": [
        {
          "output_type": "stream",
          "name": "stdout",
          "text": [
            "\n",
            "\n",
            "\n",
            "The 5426 has its own set of drivers. You may be using the\n",
            "drivers intended for the 5420 or 5422 by mistake.\n",
            "\n",
            "Be sure you have the 5426 driver version 1.2\n",
            "\n",
            "\n",
            "Don't quote me on this one, but I'd steer clear of the\n",
            "multi resolution driver that allows you to change resolution\n",
            "without exiting Windows.  I think it's buggy.\n",
            "\n",
            "\n",
            "Version 1.3 drivers are due to be release by Cirrus soon.\n",
            "Unfortunately, their not available via FTP, you have to dial\n",
            "up their BBS in the USA.  I do this from NZ using a 14.4k modem\n",
            "to cut down on phone bills.  It took me around 7 minutes to \n",
            "download the v1.2 driver.\n",
            "\n",
            "\n",
            "Good Luck,  \n"
          ]
        }
      ]
    },
    {
      "cell_type": "code",
      "source": [
        "# midamos la similaridad coseno con todos los documentos de train\n",
        "cossim = cosine_similarity(X_train[idx], X_train)[0]"
      ],
      "metadata": {
        "id": "6KSBKJIi4_A3"
      },
      "execution_count": 162,
      "outputs": []
    },
    {
      "cell_type": "code",
      "source": [
        "# podemos ver los valores de similaridad ordenados de mayor a menos\n",
        "np.sort(cossim)[::-1]"
      ],
      "metadata": {
        "id": "dsklyw1Q4-9q",
        "outputId": "2d601670-1c85-4894-fac4-3fddd9de7b91",
        "colab": {
          "base_uri": "https://localhost:8080/"
        }
      },
      "execution_count": 163,
      "outputs": [
        {
          "output_type": "execute_result",
          "data": {
            "text/plain": [
              "array([1.        , 0.51185534, 0.10369231, ..., 0.        , 0.        ,\n",
              "       0.        ])"
            ]
          },
          "metadata": {},
          "execution_count": 163
        }
      ]
    },
    {
      "cell_type": "code",
      "source": [
        "# y a qué documentos corresponden\n",
        "np.argsort(cossim)[::-1]"
      ],
      "metadata": {
        "id": "oBJXaD0J4-6h",
        "outputId": "2ac33c00-276f-49e0-d80b-721043bd46fa",
        "colab": {
          "base_uri": "https://localhost:8080/"
        }
      },
      "execution_count": 164,
      "outputs": [
        {
          "output_type": "execute_result",
          "data": {
            "text/plain": [
              "array([6004, 6045, 7175, ..., 5991, 5993,    0])"
            ]
          },
          "metadata": {},
          "execution_count": 164
        }
      ]
    },
    {
      "cell_type": "code",
      "source": [
        "# los 5 documentos más similares:\n",
        "mostsim = np.argsort(cossim)[::-1][1:6]"
      ],
      "metadata": {
        "id": "8uD8-D6_9Hfr"
      },
      "execution_count": 165,
      "outputs": []
    },
    {
      "cell_type": "code",
      "source": [
        "mostsim"
      ],
      "metadata": {
        "id": "Ewf9L0zN9Hcg",
        "outputId": "b5d7168e-5297-4230-943d-cc220d3baf2c",
        "colab": {
          "base_uri": "https://localhost:8080/"
        }
      },
      "execution_count": 166,
      "outputs": [
        {
          "output_type": "execute_result",
          "data": {
            "text/plain": [
              "array([6045, 7175, 6855, 6405, 5295])"
            ]
          },
          "metadata": {},
          "execution_count": 166
        }
      ]
    },
    {
      "cell_type": "code",
      "source": [
        "# el documento original pertenece a la clase:\n",
        "newsgroups_train.target_names[y_train[idx]]"
      ],
      "metadata": {
        "id": "79RBBz239HZU",
        "outputId": "2b1b88ce-a84a-4c94-b868-2d07debb7b95",
        "colab": {
          "base_uri": "https://localhost:8080/",
          "height": 35
        }
      },
      "execution_count": 168,
      "outputs": [
        {
          "output_type": "execute_result",
          "data": {
            "text/plain": [
              "'comp.os.ms-windows.misc'"
            ],
            "application/vnd.google.colaboratory.intrinsic+json": {
              "type": "string"
            }
          },
          "metadata": {},
          "execution_count": 168
        }
      ]
    },
    {
      "cell_type": "code",
      "source": [
        "# y los 5 más similares son de las clases:\n",
        "for i in mostsim:\n",
        "  print(newsgroups_train.target_names[y_train[i]])"
      ],
      "metadata": {
        "id": "_FHE1bxO9Qen",
        "outputId": "4a7d5684-38da-4303-b37d-29c06d68ed21",
        "colab": {
          "base_uri": "https://localhost:8080/"
        }
      },
      "execution_count": 169,
      "outputs": [
        {
          "output_type": "stream",
          "name": "stdout",
          "text": [
            "comp.os.ms-windows.misc\n",
            "rec.autos\n",
            "comp.sys.ibm.pc.hardware\n",
            "comp.os.ms-windows.misc\n",
            "comp.graphics\n"
          ]
        }
      ]
    },
    {
      "cell_type": "code",
      "source": [
        "# Veamos mayor similaridad de documentos.\n",
        "idx_6045 = 6045\n",
        "print(newsgroups_train.data[idx_6045])"
      ],
      "metadata": {
        "id": "U3DB2zKl9Qbf",
        "outputId": "2ab85bc9-22e7-42e0-e004-b77e61365821",
        "colab": {
          "base_uri": "https://localhost:8080/"
        }
      },
      "execution_count": 170,
      "outputs": [
        {
          "output_type": "stream",
          "name": "stdout",
          "text": [
            "\n",
            "\n",
            "    >Version 1.3 drivers are due to be release by Cirrus soon.\n",
            "    >Unfortunately, their not available via FTP, you have to dial\n",
            "    >up their BBS in the USA.  I do this from NZ using a 14.4k modem\n",
            "    >to cut down on phone bills.  It took me around 7 minutes to \n",
            "    >download the v1.2 driver.\n",
            "\n",
            "\tCould you please upload to any of the ftp sites (such as\n",
            "\tftp.ciaca.indiana.edu) and announce it here? This will benefit\n",
            "\tpeople does not have access to their BBS in USA (like me :-))?\n",
            "\n",
            "\tThanks a lot.\n"
          ]
        }
      ]
    },
    {
      "cell_type": "code",
      "source": [],
      "metadata": {
        "id": "37aqTEVT9lQj"
      },
      "execution_count": null,
      "outputs": []
    },
    {
      "cell_type": "code",
      "source": [],
      "metadata": {
        "id": "F-gGhPaD9lN5"
      },
      "execution_count": null,
      "outputs": []
    }
  ],
  "metadata": {
    "colab": {
      "provenance": [],
      "include_colab_link": true
    },
    "kernelspec": {
      "display_name": "Python 3",
      "name": "python3"
    },
    "language_info": {
      "name": "python"
    }
  },
  "nbformat": 4,
  "nbformat_minor": 0
}