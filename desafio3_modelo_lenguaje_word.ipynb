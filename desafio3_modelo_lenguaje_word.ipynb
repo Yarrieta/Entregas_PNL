{
  "cells": [
    {
      "cell_type": "markdown",
      "metadata": {
        "id": "view-in-github",
        "colab_type": "text"
      },
      "source": [
        "<a href=\"https://colab.research.google.com/github/Yarrieta/Entregas_PNL/blob/Desafio3/desafio3_modelo_lenguaje_word.ipynb\" target=\"_parent\"><img src=\"https://colab.research.google.com/assets/colab-badge.svg\" alt=\"Open In Colab\"/></a>"
      ]
    },
    {
      "cell_type": "markdown",
      "metadata": {
        "id": "g3yeJGnCYxuF"
      },
      "source": [
        "<img src=\"https://github.com/hernancontigiani/ceia_memorias_especializacion/raw/master/Figures/logoFIUBA.jpg\" width=\"500\" align=\"center\">\n",
        "\n",
        "\n",
        "# Procesamiento de lenguaje natural\n",
        "## Modelo de lenguaje con tokenización por palabras"
      ]
    },
    {
      "cell_type": "markdown",
      "metadata": {
        "id": "Iv5PEwGzZA9-"
      },
      "source": [
        "### Consigna\n",
        "- Seleccionar un corpus de texto sobre el cual entrenar el modelo de lenguaje.\n",
        "- Realizar el pre-procesamiento adecuado para tokenizar el corpus, estructurar el dataset y separar entre datos de entrenamiento y validación.\n",
        "- Proponer arquitecturas de redes neuronales basadas en unidades recurrentes para implementar un modelo de lenguaje.\n",
        "- Con el o los modelos que consideren adecuados, generar nuevas secuencias a partir de secuencias de contexto con las estrategias de greedy search y beam search determístico y estocástico. En este último caso observar el efecto de la temperatura en la generación de secuencias.\n",
        "\n",
        "\n",
        "### Sugerencias\n",
        "- Durante el entrenamiento, guiarse por el descenso de la perplejidad en los datos de validación para finalizar el entrenamiento. Para ello se provee un callback.\n",
        "- Explorar utilizar SimpleRNN (celda de Elman), LSTM y GRU.\n",
        "- rmsprop es el optimizador recomendado para la buena convergencia. No obstante se pueden explorar otros.\n"
      ]
    },
    {
      "cell_type": "code",
      "execution_count": 59,
      "metadata": {
        "id": "Y-QdFbHZYj7C"
      },
      "outputs": [],
      "source": [
        "import random\n",
        "import io\n",
        "import pickle\n",
        "\n",
        "import numpy as np\n",
        "import pandas as pd\n",
        "import matplotlib.pyplot as plt\n",
        "from sklearn.model_selection import train_test_split\n",
        "\n",
        "from tensorflow import keras\n",
        "from tensorflow.keras import layers\n",
        "from keras.utils import to_categorical\n",
        "from keras.models import Sequential\n",
        "from keras.layers import Dense, LSTM, Embedding, Dropout, Bidirectional\n",
        "from tensorflow.keras.losses import SparseCategoricalCrossentropy"
      ]
    },
    {
      "cell_type": "markdown",
      "metadata": {
        "id": "xTvXlEKQZdqx"
      },
      "source": [
        "### Datos\n",
        "Como ejemplo se utilizará como corpus un dataset canciones de bandas de habla inglés."
      ]
    },
    {
      "cell_type": "code",
      "execution_count": 60,
      "metadata": {
        "id": "IkdPfrQJZdB5",
        "colab": {
          "base_uri": "https://localhost:8080/"
        },
        "outputId": "5cfa804c-d0c2-4e91-da56-02988b1455a2"
      },
      "outputs": [
        {
          "output_type": "stream",
          "name": "stdout",
          "text": [
            "El dataset ya se encuentra descargado\n"
          ]
        }
      ],
      "source": [
        "# Descargar la carpeta de dataset\n",
        "import os\n",
        "import platform\n",
        "if os.access('./songs_dataset', os.F_OK) is False:\n",
        "    if os.access('songs_dataset.zip', os.F_OK) is False:\n",
        "        if platform.system() == 'Windows':\n",
        "            !curl https://raw.githubusercontent.com/FIUBA-Posgrado-Inteligencia-Artificial/procesamiento_lenguaje_natural/main/datasets/songs_dataset.zip -o songs_dataset.zip\n",
        "        else:\n",
        "            !wget songs_dataset.zip https://github.com/FIUBA-Posgrado-Inteligencia-Artificial/procesamiento_lenguaje_natural/raw/main/datasets/songs_dataset.zip\n",
        "    !unzip -q songs_dataset.zip\n",
        "else:\n",
        "    print(\"El dataset ya se encuentra descargado\")"
      ]
    },
    {
      "cell_type": "code",
      "execution_count": 61,
      "metadata": {
        "id": "6j-3nQ4lZjfb",
        "colab": {
          "base_uri": "https://localhost:8080/"
        },
        "outputId": "e592f81f-339d-4335-cef7-77b61838b9a8"
      },
      "outputs": [
        {
          "output_type": "execute_result",
          "data": {
            "text/plain": [
              "['nirvana.txt',\n",
              " 'kanye.txt',\n",
              " 'amy-winehouse.txt',\n",
              " 'dj-khaled.txt',\n",
              " 'jimi-hendrix.txt',\n",
              " 'nursery_rhymes.txt',\n",
              " 'janisjoplin.txt',\n",
              " 'Lil_Wayne.txt',\n",
              " 'Kanye_West.txt',\n",
              " 'lorde.txt',\n",
              " 'beatles.txt',\n",
              " 'notorious_big.txt',\n",
              " 'kanye-west.txt',\n",
              " 'r-kelly.txt',\n",
              " 'notorious-big.txt',\n",
              " 'bjork.txt',\n",
              " 'joni-mitchell.txt',\n",
              " 'nicki-minaj.txt',\n",
              " 'missy-elliott.txt',\n",
              " 'johnny-cash.txt',\n",
              " 'nickelback.txt',\n",
              " 'rihanna.txt',\n",
              " 'cake.txt',\n",
              " 'al-green.txt',\n",
              " 'disney.txt',\n",
              " 'patti-smith.txt',\n",
              " 'dickinson.txt',\n",
              " 'lady-gaga.txt',\n",
              " 'bieber.txt',\n",
              " 'leonard-cohen.txt',\n",
              " 'prince.txt',\n",
              " 'britney-spears.txt',\n",
              " 'radiohead.txt',\n",
              " 'dr-seuss.txt',\n",
              " 'paul-simon.txt',\n",
              " 'alicia-keys.txt',\n",
              " 'ludacris.txt',\n",
              " 'blink-182.txt',\n",
              " 'adele.txt',\n",
              " 'bruno-mars.txt',\n",
              " 'lin-manuel-miranda.txt',\n",
              " 'drake.txt',\n",
              " 'lil-wayne.txt',\n",
              " 'michael-jackson.txt',\n",
              " 'dolly-parton.txt',\n",
              " 'eminem.txt',\n",
              " 'bob-dylan.txt',\n",
              " 'bob-marley.txt',\n",
              " 'bruce-springsteen.txt']"
            ]
          },
          "metadata": {},
          "execution_count": 61
        }
      ],
      "source": [
        "# Posibles bandas\n",
        "os.listdir(\"./songs_dataset/\")"
      ]
    },
    {
      "cell_type": "code",
      "execution_count": 62,
      "metadata": {
        "id": "Gb39v3PaZmRH",
        "colab": {
          "base_uri": "https://localhost:8080/",
          "height": 260
        },
        "outputId": "fe605760-031d-465c-a23d-35e59d57b231"
      },
      "outputs": [
        {
          "output_type": "stream",
          "name": "stderr",
          "text": [
            "<ipython-input-62-eeaa081959ee>:2: ParserWarning: Falling back to the 'python' engine because the 'c' engine does not support regex separators (separators > 1 char and different from '\\s+' are interpreted as regex); you can avoid this warning by specifying engine='python'.\n",
            "  df = pd.read_csv('songs_dataset/bruno-mars.txt', sep='/n', header=None)\n"
          ]
        },
        {
          "output_type": "execute_result",
          "data": {
            "text/plain": [
              "                                                   0\n",
              "0  Now greetings to the world! Standing at this l...\n",
              "1                   Whiskey coming through my pores,\n",
              "2               Feeling like I run this whole block.\n",
              "3                           Lotto tickets cheap beer\n",
              "4                  That's why you can catch me here,"
            ],
            "text/html": [
              "\n",
              "  <div id=\"df-61f40c22-64f6-44fe-be89-a3640ce4d75a\" class=\"colab-df-container\">\n",
              "    <div>\n",
              "<style scoped>\n",
              "    .dataframe tbody tr th:only-of-type {\n",
              "        vertical-align: middle;\n",
              "    }\n",
              "\n",
              "    .dataframe tbody tr th {\n",
              "        vertical-align: top;\n",
              "    }\n",
              "\n",
              "    .dataframe thead th {\n",
              "        text-align: right;\n",
              "    }\n",
              "</style>\n",
              "<table border=\"1\" class=\"dataframe\">\n",
              "  <thead>\n",
              "    <tr style=\"text-align: right;\">\n",
              "      <th></th>\n",
              "      <th>0</th>\n",
              "    </tr>\n",
              "  </thead>\n",
              "  <tbody>\n",
              "    <tr>\n",
              "      <th>0</th>\n",
              "      <td>Now greetings to the world! Standing at this l...</td>\n",
              "    </tr>\n",
              "    <tr>\n",
              "      <th>1</th>\n",
              "      <td>Whiskey coming through my pores,</td>\n",
              "    </tr>\n",
              "    <tr>\n",
              "      <th>2</th>\n",
              "      <td>Feeling like I run this whole block.</td>\n",
              "    </tr>\n",
              "    <tr>\n",
              "      <th>3</th>\n",
              "      <td>Lotto tickets cheap beer</td>\n",
              "    </tr>\n",
              "    <tr>\n",
              "      <th>4</th>\n",
              "      <td>That's why you can catch me here,</td>\n",
              "    </tr>\n",
              "  </tbody>\n",
              "</table>\n",
              "</div>\n",
              "    <div class=\"colab-df-buttons\">\n",
              "\n",
              "  <div class=\"colab-df-container\">\n",
              "    <button class=\"colab-df-convert\" onclick=\"convertToInteractive('df-61f40c22-64f6-44fe-be89-a3640ce4d75a')\"\n",
              "            title=\"Convert this dataframe to an interactive table.\"\n",
              "            style=\"display:none;\">\n",
              "\n",
              "  <svg xmlns=\"http://www.w3.org/2000/svg\" height=\"24px\" viewBox=\"0 -960 960 960\">\n",
              "    <path d=\"M120-120v-720h720v720H120Zm60-500h600v-160H180v160Zm220 220h160v-160H400v160Zm0 220h160v-160H400v160ZM180-400h160v-160H180v160Zm440 0h160v-160H620v160ZM180-180h160v-160H180v160Zm440 0h160v-160H620v160Z\"/>\n",
              "  </svg>\n",
              "    </button>\n",
              "\n",
              "  <style>\n",
              "    .colab-df-container {\n",
              "      display:flex;\n",
              "      gap: 12px;\n",
              "    }\n",
              "\n",
              "    .colab-df-convert {\n",
              "      background-color: #E8F0FE;\n",
              "      border: none;\n",
              "      border-radius: 50%;\n",
              "      cursor: pointer;\n",
              "      display: none;\n",
              "      fill: #1967D2;\n",
              "      height: 32px;\n",
              "      padding: 0 0 0 0;\n",
              "      width: 32px;\n",
              "    }\n",
              "\n",
              "    .colab-df-convert:hover {\n",
              "      background-color: #E2EBFA;\n",
              "      box-shadow: 0px 1px 2px rgba(60, 64, 67, 0.3), 0px 1px 3px 1px rgba(60, 64, 67, 0.15);\n",
              "      fill: #174EA6;\n",
              "    }\n",
              "\n",
              "    .colab-df-buttons div {\n",
              "      margin-bottom: 4px;\n",
              "    }\n",
              "\n",
              "    [theme=dark] .colab-df-convert {\n",
              "      background-color: #3B4455;\n",
              "      fill: #D2E3FC;\n",
              "    }\n",
              "\n",
              "    [theme=dark] .colab-df-convert:hover {\n",
              "      background-color: #434B5C;\n",
              "      box-shadow: 0px 1px 3px 1px rgba(0, 0, 0, 0.15);\n",
              "      filter: drop-shadow(0px 1px 2px rgba(0, 0, 0, 0.3));\n",
              "      fill: #FFFFFF;\n",
              "    }\n",
              "  </style>\n",
              "\n",
              "    <script>\n",
              "      const buttonEl =\n",
              "        document.querySelector('#df-61f40c22-64f6-44fe-be89-a3640ce4d75a button.colab-df-convert');\n",
              "      buttonEl.style.display =\n",
              "        google.colab.kernel.accessAllowed ? 'block' : 'none';\n",
              "\n",
              "      async function convertToInteractive(key) {\n",
              "        const element = document.querySelector('#df-61f40c22-64f6-44fe-be89-a3640ce4d75a');\n",
              "        const dataTable =\n",
              "          await google.colab.kernel.invokeFunction('convertToInteractive',\n",
              "                                                    [key], {});\n",
              "        if (!dataTable) return;\n",
              "\n",
              "        const docLinkHtml = 'Like what you see? Visit the ' +\n",
              "          '<a target=\"_blank\" href=https://colab.research.google.com/notebooks/data_table.ipynb>data table notebook</a>'\n",
              "          + ' to learn more about interactive tables.';\n",
              "        element.innerHTML = '';\n",
              "        dataTable['output_type'] = 'display_data';\n",
              "        await google.colab.output.renderOutput(dataTable, element);\n",
              "        const docLink = document.createElement('div');\n",
              "        docLink.innerHTML = docLinkHtml;\n",
              "        element.appendChild(docLink);\n",
              "      }\n",
              "    </script>\n",
              "  </div>\n",
              "\n",
              "\n",
              "<div id=\"df-6244d35a-3fbb-4f01-83fd-e2dedf229015\">\n",
              "  <button class=\"colab-df-quickchart\" onclick=\"quickchart('df-6244d35a-3fbb-4f01-83fd-e2dedf229015')\"\n",
              "            title=\"Suggest charts\"\n",
              "            style=\"display:none;\">\n",
              "\n",
              "<svg xmlns=\"http://www.w3.org/2000/svg\" height=\"24px\"viewBox=\"0 0 24 24\"\n",
              "     width=\"24px\">\n",
              "    <g>\n",
              "        <path d=\"M19 3H5c-1.1 0-2 .9-2 2v14c0 1.1.9 2 2 2h14c1.1 0 2-.9 2-2V5c0-1.1-.9-2-2-2zM9 17H7v-7h2v7zm4 0h-2V7h2v10zm4 0h-2v-4h2v4z\"/>\n",
              "    </g>\n",
              "</svg>\n",
              "  </button>\n",
              "\n",
              "<style>\n",
              "  .colab-df-quickchart {\n",
              "      --bg-color: #E8F0FE;\n",
              "      --fill-color: #1967D2;\n",
              "      --hover-bg-color: #E2EBFA;\n",
              "      --hover-fill-color: #174EA6;\n",
              "      --disabled-fill-color: #AAA;\n",
              "      --disabled-bg-color: #DDD;\n",
              "  }\n",
              "\n",
              "  [theme=dark] .colab-df-quickchart {\n",
              "      --bg-color: #3B4455;\n",
              "      --fill-color: #D2E3FC;\n",
              "      --hover-bg-color: #434B5C;\n",
              "      --hover-fill-color: #FFFFFF;\n",
              "      --disabled-bg-color: #3B4455;\n",
              "      --disabled-fill-color: #666;\n",
              "  }\n",
              "\n",
              "  .colab-df-quickchart {\n",
              "    background-color: var(--bg-color);\n",
              "    border: none;\n",
              "    border-radius: 50%;\n",
              "    cursor: pointer;\n",
              "    display: none;\n",
              "    fill: var(--fill-color);\n",
              "    height: 32px;\n",
              "    padding: 0;\n",
              "    width: 32px;\n",
              "  }\n",
              "\n",
              "  .colab-df-quickchart:hover {\n",
              "    background-color: var(--hover-bg-color);\n",
              "    box-shadow: 0 1px 2px rgba(60, 64, 67, 0.3), 0 1px 3px 1px rgba(60, 64, 67, 0.15);\n",
              "    fill: var(--button-hover-fill-color);\n",
              "  }\n",
              "\n",
              "  .colab-df-quickchart-complete:disabled,\n",
              "  .colab-df-quickchart-complete:disabled:hover {\n",
              "    background-color: var(--disabled-bg-color);\n",
              "    fill: var(--disabled-fill-color);\n",
              "    box-shadow: none;\n",
              "  }\n",
              "\n",
              "  .colab-df-spinner {\n",
              "    border: 2px solid var(--fill-color);\n",
              "    border-color: transparent;\n",
              "    border-bottom-color: var(--fill-color);\n",
              "    animation:\n",
              "      spin 1s steps(1) infinite;\n",
              "  }\n",
              "\n",
              "  @keyframes spin {\n",
              "    0% {\n",
              "      border-color: transparent;\n",
              "      border-bottom-color: var(--fill-color);\n",
              "      border-left-color: var(--fill-color);\n",
              "    }\n",
              "    20% {\n",
              "      border-color: transparent;\n",
              "      border-left-color: var(--fill-color);\n",
              "      border-top-color: var(--fill-color);\n",
              "    }\n",
              "    30% {\n",
              "      border-color: transparent;\n",
              "      border-left-color: var(--fill-color);\n",
              "      border-top-color: var(--fill-color);\n",
              "      border-right-color: var(--fill-color);\n",
              "    }\n",
              "    40% {\n",
              "      border-color: transparent;\n",
              "      border-right-color: var(--fill-color);\n",
              "      border-top-color: var(--fill-color);\n",
              "    }\n",
              "    60% {\n",
              "      border-color: transparent;\n",
              "      border-right-color: var(--fill-color);\n",
              "    }\n",
              "    80% {\n",
              "      border-color: transparent;\n",
              "      border-right-color: var(--fill-color);\n",
              "      border-bottom-color: var(--fill-color);\n",
              "    }\n",
              "    90% {\n",
              "      border-color: transparent;\n",
              "      border-bottom-color: var(--fill-color);\n",
              "    }\n",
              "  }\n",
              "</style>\n",
              "\n",
              "  <script>\n",
              "    async function quickchart(key) {\n",
              "      const quickchartButtonEl =\n",
              "        document.querySelector('#' + key + ' button');\n",
              "      quickchartButtonEl.disabled = true;  // To prevent multiple clicks.\n",
              "      quickchartButtonEl.classList.add('colab-df-spinner');\n",
              "      try {\n",
              "        const charts = await google.colab.kernel.invokeFunction(\n",
              "            'suggestCharts', [key], {});\n",
              "      } catch (error) {\n",
              "        console.error('Error during call to suggestCharts:', error);\n",
              "      }\n",
              "      quickchartButtonEl.classList.remove('colab-df-spinner');\n",
              "      quickchartButtonEl.classList.add('colab-df-quickchart-complete');\n",
              "    }\n",
              "    (() => {\n",
              "      let quickchartButtonEl =\n",
              "        document.querySelector('#df-6244d35a-3fbb-4f01-83fd-e2dedf229015 button');\n",
              "      quickchartButtonEl.style.display =\n",
              "        google.colab.kernel.accessAllowed ? 'block' : 'none';\n",
              "    })();\n",
              "  </script>\n",
              "</div>\n",
              "\n",
              "    </div>\n",
              "  </div>\n"
            ],
            "application/vnd.google.colaboratory.intrinsic+json": {
              "type": "dataframe",
              "variable_name": "df",
              "summary": "{\n  \"name\": \"df\",\n  \"rows\": 3270,\n  \"fields\": [\n    {\n      \"column\": 0,\n      \"properties\": {\n        \"dtype\": \"string\",\n        \"num_unique_values\": 1911,\n        \"samples\": [\n          \"Never wanna do this again\",\n          \"Para la celestial ...\",\n          \"The only thing I need from you girl Is to press your body,\"\n        ],\n        \"semantic_type\": \"\",\n        \"description\": \"\"\n      }\n    }\n  ]\n}"
            }
          },
          "metadata": {},
          "execution_count": 62
        }
      ],
      "source": [
        "# Armar el dataset utilizando salto de línea para separar las oraciones/docs\n",
        "df = pd.read_csv('songs_dataset/bruno-mars.txt', sep='/n', header=None)\n",
        "df.head()"
      ]
    },
    {
      "cell_type": "markdown",
      "metadata": {
        "id": "VeMpWpiyG5Ya"
      },
      "source": [
        "Consideraremos que cada secuencia para este dataset es un verso.\n",
        "\n",
        "Una de las primeras decisiones que hay que tomar es el tamaño de contexto de tokens máximo que puede consumir el modelo. Este podría ser un hiperparámetro del problema.\n",
        "\n",
        "Para elegir el tamaño de contexto máximo para este problema se puede explorar el dataset, para ello:\n",
        "- se consideran las palabras como términos.\n",
        "- se segmentará el texto de todos los versos del dataset y ses explorará la cantidad de términos presentes.\n",
        "\n"
      ]
    },
    {
      "cell_type": "code",
      "execution_count": 63,
      "metadata": {
        "id": "riT898QlZnmF",
        "colab": {
          "base_uri": "https://localhost:8080/"
        },
        "outputId": "5cff6ddd-47ab-4da9-fdeb-6accb6239d8e"
      },
      "outputs": [
        {
          "output_type": "stream",
          "name": "stdout",
          "text": [
            "Cantidad de documentos: 3270\n"
          ]
        }
      ],
      "source": [
        "print(\"Cantidad de documentos:\", df.shape[0])"
      ]
    },
    {
      "cell_type": "markdown",
      "metadata": {
        "id": "cP1JdiOIKQWi"
      },
      "source": [
        "### Elegir el tamaño del contexto"
      ]
    },
    {
      "cell_type": "code",
      "execution_count": 64,
      "metadata": {
        "id": "m5FeTaGvbDbw"
      },
      "outputs": [],
      "source": [
        "# Usaremos las utilidades de procesamiento de textos y secuencias de Keras\n",
        "from tensorflow.keras.preprocessing.text import Tokenizer # equivalente a ltokenizer de nltk\n",
        "from tensorflow.keras.preprocessing.text import text_to_word_sequence # equivalente a word_tokenize de nltk\n",
        "from tensorflow.keras.utils import pad_sequences # se utilizará para padding\n"
      ]
    },
    {
      "cell_type": "code",
      "execution_count": 65,
      "metadata": {
        "id": "jveeyMVKHn9J",
        "colab": {
          "base_uri": "https://localhost:8080/"
        },
        "outputId": "21549042-d3b6-48a0-94f0-c199a92141c3"
      },
      "outputs": [
        {
          "output_type": "execute_result",
          "data": {
            "text/plain": [
              "['Now greetings to the world! Standing at this liquor store,',\n",
              " 'Whiskey coming through my pores,',\n",
              " 'Feeling like I run this whole block.',\n",
              " 'Lotto tickets cheap beer',\n",
              " \"That's why you can catch me here,\",\n",
              " \"Tryna scratch my way up to the top. 'Cause my job got me going nowhere,\",\n",
              " \"So I ain't got a thing to lose.\",\n",
              " \"Take me to a place where I don't care,\",\n",
              " \"This is me and my liquor store blues. I'll take one shot for my pain,\",\n",
              " 'One drag for my sorrow.',\n",
              " 'Get messed up today,',\n",
              " \"I'll be ok tomorrow.\",\n",
              " 'One shot for my pain,',\n",
              " 'One drag for my sorrow.',\n",
              " 'Get messed up today,',\n",
              " \"I'll be ok tomorrow. Me and my guitar tonight,\",\n",
              " 'Singing to the city lights,',\n",
              " 'Tryna live on more than what I got.',\n",
              " \"'Cause '68 cents ain't gonna pay the rent,\",\n",
              " \"So I'll be out here 'til they call the cops. 'Cause my job got me going nowhere,\",\n",
              " \"So I ain't got a thing to lose.\",\n",
              " \"Take me to a place where I don't care,\",\n",
              " \"This is me and my liquor store blues. I'll take one shot for my pain,\",\n",
              " 'One drag for my sorrow.',\n",
              " 'Get messed up today,',\n",
              " \"I'll be ok tomorrow.\",\n",
              " 'One shot for my pain,',\n",
              " 'One drag for my sorrow.',\n",
              " 'Get messed up today,',\n",
              " \"I'll be ok tomorrow. Here comes Junior Gong, I'm flying high like Superman\",\n",
              " 'And thinking that I run the whole block,',\n",
              " \"I don't know if it's just because pineapple kush between my jaws\",\n",
              " \"Has got me feeling like I'm on top Give me this one shot for my pain,\",\n",
              " 'One drag for my sorrow.',\n",
              " 'Get messed up today,',\n",
              " \"I'll be ok tomorrow.\",\n",
              " 'One shot for my pain,',\n",
              " 'One drag for my sorrow.',\n",
              " 'Get messed up today,',\n",
              " \"I'll be ok tomorrow. Now greetings to the world! You best believe! One, two, one, two, three Oh yeah yeah\",\n",
              " 'Oh yeah yeah yeah yeah, uh!',\n",
              " 'Oh yeah yeah',\n",
              " 'Oh yeah yeah yeah yeah, uh! Never had much faith in love or miracles (miracles) uh!',\n",
              " 'Never wanna put my heart on the line, uh!',\n",
              " 'But swimming in your water is something spiritual (spiritual) uh!',\n",
              " \"I'm born again every time you spend the night, uh! 'Cause your sex takes me to paradise\",\n",
              " 'Yeah your sex takes me to paradise',\n",
              " 'And it shows, yeah, yeah, yeah',\n",
              " \"'Cause you make me feel like, I've been locked out of heaven\",\n",
              " 'For too long, for too long',\n",
              " \"Yeah you make me feel like, I've been locked out of heaven\",\n",
              " 'For too long, for too long Oh yeah yeah yeah yeah, uh!',\n",
              " 'Oh yeah yeah',\n",
              " 'Oh yeah yeah yeah yeah, uh! You bring me to my knees',\n",
              " 'You make me testify, uh!',\n",
              " 'You can make a sinner change his ways, uh!',\n",
              " \"Open up your gates cause I can't wait to see the light, uh!\",\n",
              " \"And right there is where I wanna stay, uh! 'Cause your sex takes me to paradise\",\n",
              " 'Yeah your sex takes me to paradise',\n",
              " 'And it shows, yeah, yeah, yeah',\n",
              " \"'Cause you make me feel like, I've been locked out of heaven\",\n",
              " 'For too long, for too long',\n",
              " \"Yeah you make me feel like, I've been locked out of heaven\",\n",
              " 'For too long, for too long Oh oh oh oh, yeah, yeah, yeah',\n",
              " 'Can I just stay here',\n",
              " 'Spend the rest of my days here',\n",
              " 'Oh oh oh oh, yeah, yeah, yeah',\n",
              " \"Can't I just stay here\",\n",
              " \"Spend the rest of my days here 'Cause you make me feel like, I've been locked out of heaven\",\n",
              " 'For too long, for too long',\n",
              " \"Yeah you make me feel like, I've been locked out of heaven\",\n",
              " 'For too long, for too long Oh yeah yeah yeah yeah, uh!',\n",
              " 'Oh yeah yeah',\n",
              " 'Oh yeah yeah yeah yeah, uh! Hay tantas canciones',\n",
              " 'que puedo cantar para pasar el tiempo',\n",
              " 'Y me estoy quedando sin cosas que hacer',\n",
              " 'para sacarte de mi mente',\n",
              " 'Oh',\n",
              " 'Todo lo que tengo es esta foto en un marco',\n",
              " 'Que tengo muy cerca para ver tu cara todos los días Contigo es donde',\n",
              " 'yo prefiero estar',\n",
              " 'pero estamos atrapados en esto',\n",
              " 'Y es tan difícil',\n",
              " 'Estás tan lejos',\n",
              " 'Esta distancia me está matando',\n",
              " 'Me gustaría que estuvieras aquí conmigo',\n",
              " 'pero estamos atrapados en esto.',\n",
              " 'Y es tan difícil',\n",
              " 'Estás tan lejos',\n",
              " 'Esta distancia me está matando Es tan difícil',\n",
              " 'Es tan difícil',\n",
              " '¿Dónde estamos?',\n",
              " '¿Dónde estamos?',\n",
              " 'Estás tan lejos',\n",
              " 'Esta distancia me está matando',\n",
              " 'Es tan difícil',\n",
              " 'Es tan difícil',\n",
              " '¿Dónde estamos?',\n",
              " '¿Dónde estamos?',\n",
              " 'Estás tan lejos',\n",
              " 'Esta distancia me está matando Ahora los minutos',\n",
              " 'se sienten como horas',\n",
              " 'y las horas se sienten como días',\n",
              " 'Aunque estoy lejos',\n",
              " 'tu sabes que',\n",
              " 'no puedo estar en casa',\n",
              " 'pero vuelvo a casa pronto',\n",
              " 'vuelvo a casa pronto. Todo lo que tengo es esta foto en un marco',\n",
              " 'Que tengo muy cerca para ver tu cara todos los días',\n",
              " 'Contigo es donde',\n",
              " 'yo prefiero estar',\n",
              " 'pero estamos atrapados en esto',\n",
              " 'Y es tan difícil',\n",
              " 'Estás tan lejos',\n",
              " 'Esta distancia me está matando',\n",
              " 'Me gustaría que estuvieras aquí conmigo',\n",
              " 'pero estamos atrapados en esto.',\n",
              " 'Y es tan difícil',\n",
              " 'Estás tan lejos ¿Puedes oírme llorar?',\n",
              " 'Oh',\n",
              " '¿Puedes oírme llorar?',\n",
              " 'Oh',\n",
              " '¿Puedes oírme llorar?',\n",
              " 'Oh Contigo es donde',\n",
              " 'yo prefiero estar',\n",
              " 'pero estamos atrapados en esto',\n",
              " 'Y es tan difícil',\n",
              " 'Estás tan lejos',\n",
              " 'Esta distancia me está matando',\n",
              " 'Me gustaría que estuvieras aquí conmigo',\n",
              " 'pero estamos atrapados en esto.',\n",
              " 'Y es tan difícil',\n",
              " 'Estás tan lejos',\n",
              " 'Esta distancia me está matando.',\n",
              " 'Es tan difícil',\n",
              " 'Es tan difícil',\n",
              " '¿Dónde estamos?',\n",
              " '¿Dónde estamos?',\n",
              " 'Estás tan lejos',\n",
              " 'Esta distancia me está matando',\n",
              " 'Es tan difícil',\n",
              " 'Es tan difícil',\n",
              " '¿Dónde estamos?',\n",
              " '¿Dónde estamos?',\n",
              " 'Estás tan lejos',\n",
              " 'Esta distancia me está matando Hay tantas canciones',\n",
              " 'que puedo cantar para pasar el tiempo... ¿Qué estás loco?',\n",
              " 'Se está haciendo difícil esperar,',\n",
              " 'Estoy tratando de hacerle ver,',\n",
              " 'Que ella no sabe realmente',\n",
              " 'Que yo estoy tratando de encontrar una manera,',\n",
              " 'Y dile a ella todos los días, que sólo va de la mano',\n",
              " 'Así que ...',\n",
              " 'Yo no quiero ser,',\n",
              " 'El único que sabe',\n",
              " 'Que alguien podría venir y apenas',\n",
              " 'Dicen que el amor por mí,',\n",
              " 'Estoy de pie temblando de tierra,',\n",
              " 'Y estoy pensando que voy a perder, Estribillo:',\n",
              " 'Porque yo estoy perdiendo mi cabeza,',\n",
              " 'Estoy perdiendo mi mente,',\n",
              " 'Estoy perdiendo el control de mí mismo esta vez.',\n",
              " 'Ella me tiene de perder la cabeza,',\n",
              " 'Estoy perdiendo mi mente,',\n",
              " 'Estoy perdiendo a mi manera,',\n",
              " 'Pero yo creo que ella siente que ya estoy atrapado. ¿Estás hablando conmigo?',\n",
              " 'Ya estoy atrapado. Me gustaría que me podía ver,',\n",
              " 'Pero es que lo que',\n",
              " 'Siente esto debe ser.',\n",
              " 'Mi amor es como bala',\n",
              " 'Todo lo que necesita es una inyección para mí para hacer estallar todo por la borda.',\n",
              " 'No quiero sentir que estoy perdiendo el tiempo,',\n",
              " 'Va a estar con ustedes y nadie más.',\n",
              " 'Hasta que me aviso,',\n",
              " 'Necesito saber en este momento',\n",
              " 'Porque yo he estado creo que me voy a perder Estribillo:',\n",
              " 'Porque yo estoy perdiendo mi cabeza,',\n",
              " 'Estoy perdiendo mi mente,',\n",
              " 'Estoy perdiendo el control de mí mismo esta vez.',\n",
              " 'Ella me tiene de perder la cabeza,',\n",
              " 'Estoy perdiendo mi mente,',\n",
              " 'Estoy perdiendo a mi manera,',\n",
              " 'Pero yo creo que ella siente que ya estoy atrapado. Dame una oportunidad ...',\n",
              " 'Pero chica que me pone nervioso,',\n",
              " 'A estas alturas ya debería haberme dado cuenta.',\n",
              " '¿Y qué va a tomar',\n",
              " 'Para la celestial ...',\n",
              " 'Me estás volviendo loco! Estribillo:',\n",
              " 'Porque yo estoy perdiendo mi cabeza,',\n",
              " 'Estoy perdiendo mi mente,',\n",
              " 'Estoy perdiendo el control de mí mismo esta vez.',\n",
              " 'Ella me tiene de perder la cabeza,',\n",
              " 'Estoy perdiendo mi mente,',\n",
              " 'Estoy perdiendo a mi manera,',\n",
              " 'Pero yo creo que ella siente que ya estoy atrapado. Hey, hey, hey',\n",
              " 'I got a condo in Manhattan',\n",
              " \"Baby girl, what's hatnin'?\",\n",
              " 'You and your ass invited',\n",
              " \"So gon' and get to clappin'\",\n",
              " 'Go pop it for a player, pop-pop it for me',\n",
              " 'Turn around and drop it for a player, drop-drop it for me',\n",
              " \"I'll rent a beach house in Miami\",\n",
              " 'Wake up with no jammies (nope)',\n",
              " 'Lobster tail for dinner',\n",
              " 'Julio, serve that scampi',\n",
              " 'You got it if you want it, got, got it if you want it',\n",
              " 'Said you got it if you want it, take my wallet if you want it, now Jump in the Cadillac',\n",
              " \"(Girl, let's put some miles on it)\",\n",
              " 'Anything you want',\n",
              " '(Just to put a smile on you)',\n",
              " 'You deserve it baby, you deserve it all',\n",
              " \"And I'm gonna give it to you Cool jewelry shining so bright\",\n",
              " 'Strawberry champagne on ice',\n",
              " \"Lucky for you, that's what I like, that's what I like\",\n",
              " \"Lucky for you, that's what I like, that's what I like\",\n",
              " 'Sex by the fire at night',\n",
              " 'Silk sheets and diamonds all white',\n",
              " \"Lucky for you, that's what I like, that's what I like\",\n",
              " \"Lucky for you, that's what I like, that's what I like I'm talkin' trips to Puerto Rico\",\n",
              " 'Say the word and we go',\n",
              " 'You can be my fleeka',\n",
              " \"Girl, I'll be a fleeko, mamacita\",\n",
              " \"I will never make a promise that I can't keep\",\n",
              " \"I promise that your smile ain't gon' never leave\",\n",
              " 'Shopping sprees in Paris',\n",
              " 'Everything twenty-four karats',\n",
              " 'Take a look in that mirror (take a look)',\n",
              " \"Now tell me who's the fairest\",\n",
              " 'Is it you? (is it you?) is it me? (is it me?)',\n",
              " \"Say it's us (say it's us) and I'll agree, baby Jump in the Cadillac\",\n",
              " \"(Girl, let's put some miles on it)\",\n",
              " 'Anything you want',\n",
              " '(Just to put a smile on you)',\n",
              " 'You deserve it baby, you deserve it all',\n",
              " \"And I'm gonna give it to you Cool jewelry shining so bright\",\n",
              " 'Strawberry champagne on ice',\n",
              " \"Lucky for you, that's what I like, that's what I like\",\n",
              " \"Lucky for you, that's what I like, that's what I like\",\n",
              " 'Sex by the fire at night',\n",
              " 'Silk sheets and diamonds all white',\n",
              " \"Lucky for you, that's what I like, that's what I like\",\n",
              " \"Lucky for you, that's what I like, that's what I like You say you want a good time\",\n",
              " 'Well here I am, baby, here I am, baby',\n",
              " 'Talk to me, talk to me, talk to me',\n",
              " \"Talk to me, tell me what's on your mind\",\n",
              " \"What's on your mind\",\n",
              " 'If you want it, girl, come and get it',\n",
              " 'All this is here for you',\n",
              " 'Tell me baby, tell me, tell me baby',\n",
              " 'What you tryna do Cool jewelry shining so bright',\n",
              " 'Strawberry champagne on ice',\n",
              " \"Lucky for you, that's what I like, that's what I like (that's what I like)\",\n",
              " \"Lucky for you, that's what I like, that's what I like\",\n",
              " 'Sex by the fire at night',\n",
              " 'Silk sheets and diamonds all white',\n",
              " \"Lucky for you, that's what I like, that's what I like (that's what I like)\",\n",
              " \"Lucky for you, that's what I like, that's what I like I wanna be a billionaire so f***in' bad\",\n",
              " 'Buy all of the things I never had',\n",
              " 'Uh, I wanna be on the cover of Forbes magazine',\n",
              " 'Smiling next to Oprah and the Queen Oh every time I close my eyes',\n",
              " 'I see my name in shining lights',\n",
              " 'A different city every night oh right',\n",
              " 'I swear the world better prepare',\n",
              " \"For when I'm a billionaire Yeah I would have a show like Oprah\",\n",
              " 'I would be the host of, everyday Christmas',\n",
              " 'Give Travie a wish list',\n",
              " \"I'd probably pull an Angelina and Brad Pitt\",\n",
              " \"And adopt a bunch of babies that ain't never had s***\",\n",
              " 'Give away a few Mercedes like here lady have this',\n",
              " 'And last but not least grant somebody their last wish',\n",
              " \"It's been a couple months that I've been single so\",\n",
              " 'You can call me Travie Claus minus the Ho Ho',\n",
              " \"Get it, hehe, I'd probably visit where Katrina hit\",\n",
              " 'And damn sure do a lot more than FEMA did',\n",
              " \"Yeah can't forget about me stupid\",\n",
              " 'Everywhere I go Imma have my own theme music Oh every time I close my eyes',\n",
              " 'I see my name in shining lights',\n",
              " 'A different city every night oh right',\n",
              " 'I swear the world better prepare',\n",
              " \"For when I'm a billionaire\",\n",
              " \"Oh ooh oh ooh for when I'm a billionaire\",\n",
              " \"Oh ooh oh ooh for when I'm a billionaire I'll be playing basketball with the President\",\n",
              " 'Dunking on his delegates',\n",
              " \"Then I'll compliment him on his political etiquette\",\n",
              " 'Toss a couple milli in the air just for the heck of it',\n",
              " 'But keep the five, twenties tens and bens completely separate',\n",
              " \"And yeah I'll be in a whole new tax bracket\",\n",
              " 'We in recession but let me take a crack at it',\n",
              " \"I'll probably take whatever's left and just split it up\",\n",
              " 'So everybody that I love can have a couple bucks',\n",
              " 'And not a single tummy around me would know what hungry was',\n",
              " 'Eating good sleeping soundly',\n",
              " 'I know we all have a similar dream',\n",
              " 'Go in your pocket pull out your wallet',\n",
              " \"And put it in the air and sing I wanna be a billionaire so f***in' bad\",\n",
              " 'Buy all of the things I never had',\n",
              " 'Uh, I wanna be on the cover of Forbes magazine',\n",
              " 'Smiling next to Oprah and the Queen',\n",
              " 'Oh every time I close my eyes I see my name in shining lights',\n",
              " 'A different city every night all right',\n",
              " \"I swear the world better prepare for when I'm a billionaire\",\n",
              " \"I wanna be a billionaire so f***in' bad Oh every time I close my eyes\",\n",
              " 'I see my name in shining lights',\n",
              " 'A different city every night oh',\n",
              " 'I swear the world better prepare',\n",
              " \"For when I'm a billionaire I wanna be a billionaire so f***in' bad! Oh, her eyes, her eyes make the stars look like they're not shining\",\n",
              " 'Her hair, her hair falls perfectly without her trying',\n",
              " \"She's so beautiful\",\n",
              " \"And I tell her everyday. Yeah, I know, I know when I compliment her, she won't believe me\",\n",
              " \"And it's so, it's so sad to think that she doesn't see what I see\",\n",
              " 'But every time she ask me do I look okay?',\n",
              " 'I say When I see your face',\n",
              " \"There's not a thing that I would change\",\n",
              " \"'Cause you're amazing\",\n",
              " 'Just the way you are And when you smile',\n",
              " 'The whole world stops and stares for a while',\n",
              " \"'Cause girl, you're amazing\",\n",
              " \"Just the way you are Her lips, her lips, I could kiss them all day if she'd let me\",\n",
              " \"Her laugh her laugh, she hates but I think it's so sexy\",\n",
              " \"She's so beautiful\",\n",
              " \"And I tell her everyday Oh, you know, you know, you know I'd never ask you to change\",\n",
              " \"If perfect's what you're searching for, then just stay the same\",\n",
              " \"So don't even bother asking if you look okay\",\n",
              " \"You know I'll say When I see your face\",\n",
              " \"There's not a thing that I would change\",\n",
              " \"'Cause girl you're amazing\",\n",
              " 'Just the way you are And when you smile',\n",
              " 'The whole world stops and stares for a while',\n",
              " \"'Cause girl, you're amazing\",\n",
              " 'Just the way you are The way you are',\n",
              " 'The way you are',\n",
              " \"Girl, you're amazing\",\n",
              " 'Just the way you are When I see your face',\n",
              " \"There's not a thing that I would change\",\n",
              " \"'Cause girl you're amazing\",\n",
              " 'Just the way you are And when you smile',\n",
              " 'The whole world stops and stares for a while',\n",
              " \"'Cause girl, you're amazing\",\n",
              " 'Just the way you are.',\n",
              " \"Yeah Today I don't feel like doing anything\",\n",
              " 'I just wanna lay in my bed',\n",
              " \"Don't feel like picking up my phone\",\n",
              " 'So leave a message at the tone',\n",
              " \"'Cause today I swear I'm not doing anything Uh I'm gonna kick my feet up and stare at the fan\",\n",
              " 'Turn the t.v. on',\n",
              " 'Throw my hand in my pants',\n",
              " \"Nobody's gon' tell me I cant, no I'll be loungin' on the couch just chillin' in my snuggie\",\n",
              " 'Flip to MTV so they can teach me how to Dougie',\n",
              " \"'Cause in my castle I'm the freakin' man\",\n",
              " 'Oh Yes I said it',\n",
              " 'I said it',\n",
              " \"I said it 'cause I can Today I don't feel like doing anything\",\n",
              " 'I just wanna lay in my bed',\n",
              " \"Don't feel like picking up my phone\",\n",
              " 'So leave a message at the tone',\n",
              " \"'Cause today I swear I'm not doing anything Nothing at all\",\n",
              " 'Ooh hoo ooh hoo',\n",
              " 'Hoo ooh ooh',\n",
              " 'Nothing at all',\n",
              " 'Ooh hoo ooh hoo',\n",
              " \"Hoo ooh ooh Tomorrow I'll wake up do some p90x\",\n",
              " 'Meet a really nice girl have some really nice sex',\n",
              " \"And she's gonna scream out this is great I might mess around and get my college degree\",\n",
              " 'I bet my old man will be so proud of me',\n",
              " \"But sorry pops you'll just have to wait\",\n",
              " 'Oh Yes I said it',\n",
              " 'I said it',\n",
              " \"I said it 'cause I can Today I don't feel like doing anything\",\n",
              " 'I just wanna lay in my bed',\n",
              " \"Don't feel like picking up my phone\",\n",
              " 'So leave a message at the tone',\n",
              " \"'Cause today I swear I'm not doing anything No I ain't gonna comb my hair\",\n",
              " \"'Cause I ain't goin' anywhere\",\n",
              " 'No no no no no no no no no oh',\n",
              " \"I'll just strut in my birthday suit\",\n",
              " 'And let everything hang loose',\n",
              " \"Yeah yeah yeah yeah yeah yeah yeah yeah yeah yeah Oh, today I don't feel like doing anything\",\n",
              " 'I just wanna lay in my bed',\n",
              " \"Don't feel like picking up my phone\",\n",
              " 'So leave a message at the tone',\n",
              " \"'Cause today I swear I'm not doing anything Nothing at all\",\n",
              " 'Ooh hoo ooh hoo',\n",
              " 'Hoo ooh ooh',\n",
              " 'Nothing at all',\n",
              " 'Ooh hoo ooh hoo',\n",
              " 'Hoo ooh ooh',\n",
              " \"Nothing at all Easy come easy go, that's just how you live\",\n",
              " 'Oh, take, take, take it all but you never give',\n",
              " \"Should've known you was trouble from the first kiss\",\n",
              " 'Had your eyes wide open, why were they open Gave you all I had and you tossed it in the trash',\n",
              " 'You tossed it in the trash, you did',\n",
              " 'To give me all your love is all I ever asked',\n",
              " \"'Cause What you don't understand is\",\n",
              " \"I'd catch a grenade for ya\",\n",
              " 'Throw my hand on a blade for ya',\n",
              " \"I'd jump in front of a train for ya\",\n",
              " \"You know I'd do anything for ya\",\n",
              " 'oh oh oh oh oh I would go through all this pain',\n",
              " 'Take a bullet straight right through my brain',\n",
              " 'Yes, I would die for you, baby',\n",
              " \"But you won't do the same No, no, no, no Black, black, black and blue, beat me 'til I'm numb\",\n",
              " \"Tell the devil I said, hey, when you get back to where you're from\",\n",
              " \"Mad woman, bad woman, that's just what you are, yeah\",\n",
              " \"You'll smile in my face then rip the brakes out my car Gave you all I had and you tossed it in the trash\",\n",
              " 'You tossed it in the trash, yes, you did',\n",
              " 'To give me all your love is all I ever asked',\n",
              " \"'Cause What you don't understand is\",\n",
              " \"I'd catch a grenade for ya\",\n",
              " 'Throw my hand on a blade for ya',\n",
              " \"I'd jump in front of a train for ya\",\n",
              " \"You know I'd do anything for ya\",\n",
              " 'Oooh',\n",
              " 'I would go through all this pain',\n",
              " 'Take a bullet straight right through my brain',\n",
              " 'Yes, I would die for ya, baby',\n",
              " \"But you won't do the same If my body was on fire\",\n",
              " \"Ooh, you'd watch me burn down in flames\",\n",
              " \"You said you loved me, you're a liar\",\n",
              " \"'Cause you never, ever, ever did, baby But darling, I'd still catch a grenade for ya\",\n",
              " 'Throw my hand on a blade for ya',\n",
              " \"I'd jump in front of a train for ya\",\n",
              " \"You know I'd do anything for ya I would go through all this pain\",\n",
              " 'Take a bullet straight right through my brain',\n",
              " 'Yes, I would die for you, baby',\n",
              " \"But you won't do the same No, you won't do the same\",\n",
              " \"You wouldn't do the same\",\n",
              " 'Ooh, you never do the same',\n",
              " 'No, no, no, no This hit, that ice cold',\n",
              " 'Michelle Pfeiffer, that white gold',\n",
              " 'This one for them hood girls',\n",
              " 'Them good girls straight masterpieces',\n",
              " \"Stylin', whilen, livin' it up in the city\",\n",
              " 'Got Chucks on with Saint Laurent',\n",
              " \"Got kiss myself, I'm so pretty I'm too hot (hot damn)\",\n",
              " 'Called a police and a fireman',\n",
              " \"I'm too hot (hot damn)\",\n",
              " 'Make a dragon wanna retire man',\n",
              " \"I'm too hot (hot damn)\",\n",
              " 'Say my name you know who I am',\n",
              " \"I'm too hot (hot damn)\",\n",
              " \"Am I bad 'bout that money, break it down Girls hit your hallelujah (whoo)\",\n",
              " 'Girls hit your hallelujah (whoo)',\n",
              " 'Girls hit your hallelujah (whoo)',\n",
              " \"'Cause uptown funk gon' give it to you\",\n",
              " \"'Cause uptown funk gon' give it to you\",\n",
              " \"'Cause uptown funk gon' give it to you\",\n",
              " 'Saturday night and we in the spot',\n",
              " \"Don't believe me just watch (come on) Don't believe me just watch uh Don't believe me just watch\",\n",
              " \"Don't believe me just watch\",\n",
              " \"Don't believe me just watch\",\n",
              " \"Don't believe me just watch\",\n",
              " 'Hey, hey, hey, oh Stop, wait a minute',\n",
              " 'Fill my cup, put some liquor in it',\n",
              " 'Take a sip, sign a check',\n",
              " 'Julio, get the stretch',\n",
              " 'Ride to Harlem, Hollywood',\n",
              " 'Jackson, Mississippi',\n",
              " \"If we show up, we gon' show out\",\n",
              " \"Smoother than a fresh jar of Skippy I'm too hot (hot damn)\",\n",
              " 'Called a police and a fireman',\n",
              " \"I'm too hot (hot damn)\",\n",
              " 'Make a dragon wanna retire man',\n",
              " \"I'm too hot (hot damn)\",\n",
              " 'Bitch say my name you know who I am',\n",
              " \"I'm too hot (hot damn)\",\n",
              " \"Am I bad 'bout that money\",\n",
              " 'Break it down Girls hit your hallelujah (whoo)',\n",
              " 'Girls hit your hallelujah (whoo)',\n",
              " 'Girls hit your hallelujah (whoo)',\n",
              " \"'Cause uptown funk gon' give it to you\",\n",
              " \"'Cause uptown funk gon' give it to you\",\n",
              " \"'Cause uptown funk gon' give it to you\",\n",
              " 'Saturday night and we in the spot',\n",
              " \"Don't believe me just watch (come on) Don't believe me just watch uh Don't believe me just watch uh\",\n",
              " \"Don't believe me just watch uh\",\n",
              " \"Don't believe me just watch\",\n",
              " \"Don't believe me just watch\",\n",
              " 'Hey, hey, hey, oh Before we leave',\n",
              " \"Lemmi tell y'all a lil' something\",\n",
              " 'Uptown funk you up',\n",
              " 'Uptown funk you up',\n",
              " 'Uptown funk you up',\n",
              " 'Uptown funk you up uh',\n",
              " 'I said uptown funk you up',\n",
              " 'Uptown funk you up',\n",
              " 'Uptown funk you up',\n",
              " 'Uptown funk you up Come on, dance, jump on it',\n",
              " 'If you sexy then flaunt it',\n",
              " 'If you freaky then own it',\n",
              " \"Don't brag about it, come show me Come on, dance\",\n",
              " 'Jump on it',\n",
              " 'If you sexy then flaunt it',\n",
              " \"Well it's Saturday night and we in the spot\",\n",
              " \"Don't believe me just watch come on! Don't believe me just watch uh Don't believe me just watch uh\",\n",
              " \"Don't believe me just watch uh\",\n",
              " \"Don't believe me just watch\",\n",
              " \"Don't believe me just watch\",\n",
              " 'Hey, hey, hey, oh Uptown funk you up',\n",
              " 'Uptown funk you up (say what?)',\n",
              " 'Uptown funk you up',\n",
              " 'Uptown funk you up',\n",
              " 'Uptown funk you up',\n",
              " 'Uptown funk you up (say what?)',\n",
              " 'Uptown funk you up',\n",
              " 'Uptown funk you up',\n",
              " 'Uptown funk you up',\n",
              " 'Uptown funk you up (say what?)',\n",
              " 'Uptown funk you up',\n",
              " 'Uptown funk you up',\n",
              " 'Uptown funk you up',\n",
              " 'Uptown funk you up (say what?)',\n",
              " \"Uptown funk you up Let's take our time tonight, girl\",\n",
              " \"Above us all the stars are watchin'\",\n",
              " \"There's no place I'd rather be in this world\",\n",
              " \"Your eyes are where I'm lost in\",\n",
              " 'Underneath the chandelier',\n",
              " \"We're dancin' all alone\",\n",
              " \"There's no reason to hide\",\n",
              " \"What we're feelin' inside\",\n",
              " \"Right now! So baby let's just turn down the lights\",\n",
              " 'And close the door',\n",
              " 'Oooh I love that dress',\n",
              " \"But you won't need it anymore\",\n",
              " \"No you won't need it no more\",\n",
              " \"Let's just kiss 'til we're naked, baby Versace on the floor\",\n",
              " 'Oooh take it off for me, for me, for me, for me now, girl',\n",
              " 'Versace on the floor',\n",
              " 'Oooh take it off for me, for me, for me, for me now, girl I unzip the back to watch it fall',\n",
              " 'While I kiss your neck and shoulders',\n",
              " \"No don't be afraid to show it off\",\n",
              " \"I'll be right here ready to hold you\",\n",
              " \"Girl you know you're perfect from\",\n",
              " 'Your head down to your heels',\n",
              " \"Don't be confused by my smile\",\n",
              " \"'Cause I ain't ever been more for real, for real So just turn down the lights (down the lights)\",\n",
              " 'And close the door (close the door)',\n",
              " 'Oooh I love that dress',\n",
              " \"But you won't need it anymore\",\n",
              " \"No you won't need it no more\",\n",
              " \"Let's just kiss 'til we're naked, baby Versace on the floor\",\n",
              " 'Ooh take it off for me, for me, for me, for me now, girl',\n",
              " 'Versace on the floor',\n",
              " 'Ooh take it off for me, for me, for me, for me now, girl',\n",
              " \"Dance (It's warmin' up) can you feel it?\",\n",
              " \"(It's warmin' up) can you feel it?\",\n",
              " \"(It's warmin' up) can you feel it, baby?\",\n",
              " \"It's warmin' up\",\n",
              " \"Oh, seems like you're ready for more, more, more\",\n",
              " \"Let's just kiss 'til we're naked Ooh, Versace on the floor, hey baby\",\n",
              " 'Take it off for me, for me, for me, for me now, girl',\n",
              " 'Versace on the floor',\n",
              " 'Oh take it off for me, for me, for me, for me now, girl Versace on the floor',\n",
              " \"Floor Floor It's a beautiful night ,\",\n",
              " \"We're looking for something dumb to do\",\n",
              " 'Hey baby',\n",
              " 'I think I want to marry you Is it the look in your eyes?',\n",
              " 'Or is it these dancing juice?',\n",
              " 'Who cares baby',\n",
              " 'I think I wanna marry you Well I know this little chapel on the boulevard we can go',\n",
              " 'No one will know',\n",
              " \"Oh come on girl Who cares if we're trashed got a pocket full of cash we can blow\",\n",
              " 'Shots of patron',\n",
              " \"And it's on girl Don't say no, no, no, no-no\",\n",
              " 'Just say yeah, yeah, yeah, yeah-yeah',\n",
              " \"And we'll go, go, go, go-go\",\n",
              " \"If you're ready, like I'm ready Cause it's a beautiful night\",\n",
              " \"We're looking for something dumb to do\",\n",
              " 'Hey baby',\n",
              " 'I think I wanna marry you Is it the look in your eyes?',\n",
              " 'Or is it the dancing juice?',\n",
              " 'Who cares baby',\n",
              " \"I think I wanna marry you I'll go get a ring let the choir bells sing like oooh\",\n",
              " 'So what you wanna do?',\n",
              " \"Let's just run girl If we wake up and you wanna break up that's cool\",\n",
              " \"No, I won't blame you\",\n",
              " \"It was fun girl Don't say no, no, no, no-no\",\n",
              " 'Just say yeah, yeah, yeah, yeah-yeah',\n",
              " \"And we'll go, go, go, go-go\",\n",
              " \"If you're ready, like I'm ready Cause it's a beautiful night,\",\n",
              " \"We're looking for something dumb to do\",\n",
              " 'Hey baby',\n",
              " 'I think I wanna marry you. Is it the look in your eyes?',\n",
              " 'Or is it this dancing juice?',\n",
              " 'Who cares baby,',\n",
              " 'I think I wanna marry you. Just say I do,',\n",
              " 'Tell me right now baby,',\n",
              " 'Tell me right now baby, baby',\n",
              " 'Just say I do',\n",
              " 'Tell me right now baby,',\n",
              " \"Tell me right now baby, baby Oh it's a beautiful night\",\n",
              " \"We're looking for something dumb to do\",\n",
              " 'Hey baby',\n",
              " 'I think I wanna marry you Is it the look in your eyes?',\n",
              " 'Or is it this dancing juice?',\n",
              " 'Who cares baby',\n",
              " 'I think I wanna marry you. If you ever find yourself stuck in the middle of the sea,',\n",
              " \"I'll sail the world to find you\",\n",
              " \"If you ever find yourself lost in the dark and you can't see,\",\n",
              " \"I'll be the light to guide you Find out what we're made of\",\n",
              " 'When we are called to help our friends in need You can count on me like one two three',\n",
              " \"I'll be there\",\n",
              " 'And I know when I need it I can count on you like four three two',\n",
              " \"You'll be there\",\n",
              " \"'Cause that's what friends are supposed to do, oh yeah Whoa, whoa\",\n",
              " 'Oh, oh',\n",
              " \"Yeah, yeah If you tossin' and you're turnin' and you just can't fall asleep\",\n",
              " \"I'll sing a song\",\n",
              " 'Beside you',\n",
              " 'And if you ever forget how much you really mean to me',\n",
              " 'Everyday I will',\n",
              " 'Remind you Ooh',\n",
              " \"Find out what we're made of\",\n",
              " 'When we are called to help our friends in need You can count on me like one two three',\n",
              " \"I'll be there\",\n",
              " 'And I know when I need it I can count on you like four three two',\n",
              " \"You'll be there\",\n",
              " \"'Cause that's what friends are supposed to do, oh yeah Oh, oh\",\n",
              " \"Yeah, yeah You'll always have my shoulder when you cry\",\n",
              " \"I'll never let go\",\n",
              " 'Never say goodbye',\n",
              " 'You know you can Count on me like one two three',\n",
              " \"I'll be there\",\n",
              " 'And I know when I need it I can count on you like four three two',\n",
              " \"And you'll be there\",\n",
              " \"'Cause that's what friends are supposed to do, oh yeah Oh, oh\",\n",
              " \"You can count on me 'cause I can count on you Same bed but it feels just\",\n",
              " 'A little bit bigger now',\n",
              " 'Our song on the radio',\n",
              " \"But it don't sound the same\",\n",
              " 'When our friends talk about you',\n",
              " 'All it does is just tear me down',\n",
              " 'Cause my heart breaks a little',\n",
              " 'When I hear your name',\n",
              " 'It all just sounds like (oooooh)',\n",
              " 'Mmm too young too dumb to realize',\n",
              " \"That i Should've bought you flowers\",\n",
              " 'And held your hand',\n",
              " \"Should've gave you all my hours\",\n",
              " 'When I had the chance',\n",
              " 'Take you to every party',\n",
              " 'Cause all you wanted to do was dance',\n",
              " 'Now my baby is dancing',\n",
              " \"But she's dancing with another man My pride, my ego, my needs and my selfish ways\",\n",
              " 'Caused a good strong woman like you to walk out my life',\n",
              " 'Now I never never get to clean up the mess I made',\n",
              " 'Ooh and it hunts me every time I close my eyes',\n",
              " 'It all just sounds like (oooooh)',\n",
              " 'Mmm too young too dumb to realize',\n",
              " \"That I Should've bought you flowers\",\n",
              " 'And held your hand',\n",
              " \"Should've gave you all my hours\",\n",
              " 'When I had the chance',\n",
              " 'Take you to every party',\n",
              " 'Cause all you wanted to do was dance',\n",
              " 'Now my baby is dancing',\n",
              " \"But she's dancing with another man Although it hurts\",\n",
              " \"I'll be the first to say\",\n",
              " 'That I was wrooooong',\n",
              " \"Oooh I know i'm probably much too late\",\n",
              " 'To try and apologize for my mistakes',\n",
              " 'But I just want you to know I hope he buys you flowers',\n",
              " 'I hope he holds your hand',\n",
              " 'Give you all his hours',\n",
              " 'When he has the chance',\n",
              " 'Take you to every party',\n",
              " 'Cause I remember how much',\n",
              " 'You loved to dance',\n",
              " \"Do all the things I should've done\",\n",
              " 'When I was your man',\n",
              " \"Do all the things I should've done\",\n",
              " 'When I was your man Tonight',\n",
              " 'I just want to take you higher',\n",
              " 'Throw your hands up in the sky',\n",
              " \"Let's set this party off right Players, put yo' pinky rings up to the moon\",\n",
              " \"Girls, what y'all trying to do?\",\n",
              " 'Twenty four karat magic in the air',\n",
              " 'Head to toe so player',\n",
              " \"Look out uh Pop pop, it's show time (show time)\",\n",
              " 'Show time (show time)',\n",
              " \"Guess who's back again?\",\n",
              " \"Oh they don't know? (Go on tell 'em)\",\n",
              " \"Oh they don't know? (Go on tell 'em)\",\n",
              " \"I bet they know soon as we walk in (showin' up)\",\n",
              " 'Wearing Cuban links (ya)',\n",
              " 'Designer minks (ya)',\n",
              " \"Inglewood's finest shoes (whoop, whoop)\",\n",
              " \"Don't look too hard might hurt ya'self\",\n",
              " \"Known to give the color red the blues Oh shit, I'm a dangerous man with some money in my pocket (keep up)\",\n",
              " 'So many pretty girls around me and they waking up the rocket (keep up)',\n",
              " \"Why you mad, fix ya face, ain't my fault y'all be jocking (keep up) Players only, come on\",\n",
              " 'Put your pinky rings up to the moon',\n",
              " \"Girls, what y'all trying to do?\",\n",
              " 'Twenty four karat magic in the air',\n",
              " 'Head to toe so player',\n",
              " 'Uh, look out! Second verse for the hustlas (hustlas) gangstas (gangstas)',\n",
              " 'Bad bitches and ya ugly ass friends (haha)',\n",
              " 'Can I preach (uh oh) can I preach (uh oh)',\n",
              " \"I gotta show 'em how a pimp get it in\",\n",
              " 'First, take your sip (sip), do your dip (dip)',\n",
              " \"Spend your money like money ain't shit (whoop, whoop)\",\n",
              " 'We too fresh',\n",
              " 'Got to blame in on Jesus',\n",
              " \"Hashtag blessed, they ain't ready for me I'm a dangerous man with some money in my pocket (keep up)\",\n",
              " 'So many pretty girls around me and they waking up the rocket (keep up)',\n",
              " \"Why you mad, fix ya face, ain't my fault y'all be jocking (keep up) Players only, come on\",\n",
              " 'Put your pinky rings up to the moon',\n",
              " 'Hey girls',\n",
              " \"What y'all trying to do? (What y'all trying to do?)\",\n",
              " 'Twenty four karat magic in the air',\n",
              " 'Head to toe so player',\n",
              " 'Uh, look out! (Wooh) everywhere I go they be like',\n",
              " 'Ooh, so player',\n",
              " 'Everywhere I go they be like (ooh, so player ooh)',\n",
              " 'Oh everywhere I go they be like (ooh, so player ooh) Now, now, now watch me break it down like (uh)',\n",
              " 'Twenty four karat, twenty four karat magic',\n",
              " \"What's that sound (twenty four karat, twenty four karat magic)\",\n",
              " 'Come on now',\n",
              " 'Twenty four karat, twenty four karat magic',\n",
              " \"Don't fight the feeling, invite the feeling Just put your pinky rings up to the moon\",\n",
              " \"Girls, what y'all trying to do? (Tell me what y'all trying to do)\",\n",
              " 'Twenty four karat magic in the air',\n",
              " 'Head to toe so player (hands up!)',\n",
              " 'Put your pinky rings up to the moon',\n",
              " \"Girls, what y'all trying to do? (Do)\",\n",
              " 'Twenty four karat magic in the air',\n",
              " 'Head to toe so player (twenty four karat) uh, look out (Twenty four karat magic, magic, magic) If you ever leave me, baby,',\n",
              " 'Leave some morphine at my door',\n",
              " \"'Cause it would take a whole lot of medication\",\n",
              " 'To realize what we used to have,',\n",
              " \"We don't have it anymore. There's no religion that could save me\",\n",
              " 'No matter how long my knees are on the floor (Ooh)',\n",
              " \"So keep in mind all the sacrifices I'm makin'\",\n",
              " 'To keep you by my side',\n",
              " \"To keep you from walkin' out the door. 'Cause there'll be no sunlight\",\n",
              " 'If I lose you, baby',\n",
              " \"There'll be no clear skies\",\n",
              " 'If I lose you, baby',\n",
              " 'Just like the clouds',\n",
              " 'My eyes will do the same, if you walk away',\n",
              " \"Everyday it'll rain, rain, ra-a-a-ain I'll never be your mother's favorite\",\n",
              " \"Your daddy can't even look me in the eye\",\n",
              " \"Ooh, if I was in their shoes, I'd be doing the same thing\",\n",
              " 'Sayin\\' \"There goes my little girl',\n",
              " 'Walkin\\' with that troublesome guy\" But they\\'re just afraid of something they can\\'t understand',\n",
              " \"Ooh, but little darlin' watch me change their minds\",\n",
              " \"Yeah for you I'll try, I'll try, I'll try, I'll try\",\n",
              " \"And pick up these broken pieces 'til I'm bleeding\",\n",
              " \"If that'll make you mine 'Cause there'll be no sunlight\",\n",
              " 'If I lose you, baby',\n",
              " \"There'll be no clear skies\",\n",
              " 'If I lose you, baby',\n",
              " 'Just like the clouds',\n",
              " 'My eyes will do the same, if you walk away',\n",
              " \"Everyday it'll rain, rain, ra-a-a-ain Oh, don't you say (don't you say) goodbye (goodbye),\",\n",
              " \"Don't you say (don't you say) goodbye (goodbye)\",\n",
              " \"I'll pick up these broken pieces 'til I'm bleeding\",\n",
              " \"If that'll make it right 'Cause there'll be no sunlight\",\n",
              " 'If I lose you, baby',\n",
              " \"There'll be no clear skies\",\n",
              " 'If I lose you, baby',\n",
              " 'And just like the clouds',\n",
              " 'My eyes will do the same, if you walk away',\n",
              " \"Everyday it'll rain, rain, ra-a-a-ain Give me all, give me all, give me all attention baby\",\n",
              " 'I got to tell you a little something about yourself',\n",
              " \"You're wonderful, flawless, ooh you're a sexy lady\",\n",
              " \"But you walk around here like you wanna be someone else Ooooooooohhhhhhhhhhh I know that you don't know it, but you're fine, so fine\",\n",
              " '(fine, so fine)',\n",
              " \"Ooooooooooohhhhhhhhh Oh girl I'm gonna show you when you're mine, oh mine(mine, oh mine) Treasure, that is what you are\",\n",
              " \"Honey you're my golden star\",\n",
              " 'I know you could make my wish come true',\n",
              " 'If you let me treasure you',\n",
              " 'If you let me treasure you oh oooooh Pretty girl, pretty girl, pretty girl you should be smiling',\n",
              " 'A girl like you should never look so blue',\n",
              " \"You're everything I see in my dreams\",\n",
              " \"I wouldn't say that to you if it wasn't true Oooooooooohhhhhhhhhhhh I know that you don't know it, but you're fine, so fine\",\n",
              " \"(fine, so fine) Ooooooooooohhhhhhhhhhh Oh girl I'm gonna show you when you're mine, oh mine(mine, oh mine) Treasure, that is what you are\",\n",
              " \"Honey you're my golden star\",\n",
              " 'I know you could make my wish come true',\n",
              " 'If you let me treasure you',\n",
              " 'If you let me treasure you You are my treasure, you are my treasure',\n",
              " 'You are my treasure, yeah, you you you, you are',\n",
              " 'You are my treasure, you are my treasure',\n",
              " 'You are my treasure, yeah, you you you, you are Treasure, that is what you are',\n",
              " \"Honey you're my golden star\",\n",
              " 'I know you can make my wish come true',\n",
              " 'If you let me treasure you',\n",
              " \"If you let me treasure you I know you're somewhere out there\",\n",
              " 'Somewhere far away',\n",
              " 'I want you back',\n",
              " 'I want you back',\n",
              " \"My neighbors think I'm crazy\",\n",
              " \"But they don't understand\",\n",
              " \"You're all I have\",\n",
              " \"You're all I have At night when the stars\",\n",
              " 'Light up my room',\n",
              " 'I sit by myself',\n",
              " 'Talking to the moon',\n",
              " \"Tryin' to get to you\",\n",
              " \"In hopes you're on\",\n",
              " 'The other side',\n",
              " 'Talking to me too',\n",
              " 'Or am I a fool',\n",
              " 'Who sits alone',\n",
              " \"Talking to the moon Oh I'm feeling like I'm famous\",\n",
              " 'The talk of the town',\n",
              " \"They say I've gone mad\",\n",
              " \"Yeah I've gone mad\",\n",
              " \"But they don't know what I know 'Cause when the sun goes down\",\n",
              " \"someone's talking back\",\n",
              " \"Yeah they're talking back At night when the stars\",\n",
              " 'Light up my room',\n",
              " 'I sit by myself',\n",
              " 'Talking to the moon',\n",
              " \"Tryin' to get to you\",\n",
              " \"In hopes you're on\",\n",
              " 'The other side',\n",
              " 'Talking to me too',\n",
              " 'Or am I a fool',\n",
              " 'Who sits alone',\n",
              " 'Talking to the moon (Ah, ah, ah) Do you ever hear me calling?',\n",
              " '(Ah) oh oh oh',\n",
              " '(Ah) oh oh oh',\n",
              " \"'Cause every night\",\n",
              " \"I'm talking to the moon\",\n",
              " \"Still trying to get to you In hopes you're on\",\n",
              " 'The other side',\n",
              " 'Talking to me too',\n",
              " 'Or am I a fool',\n",
              " 'Who sits alone',\n",
              " \"Talking to the moon I know you're somewhere out there\",\n",
              " 'Somewhere far away Well looky here looky here ah what do we have?',\n",
              " 'Another pretty thing ready for me to grab',\n",
              " \"But little does she know that I'm a wolf in sheeps clothing\",\n",
              " \"'Cause at the end of the night it is her I'll be holding I love you so\",\n",
              " \"That's what you'll say,\",\n",
              " \"You'll tell me baby, baby please don't go away\",\n",
              " 'But when I play, I never stay',\n",
              " \"To every girl that I meet here, this is what I'll say, Run run runaway, runaway baby\",\n",
              " 'Before I put my spell on you',\n",
              " 'You better get get getaway, getaway darling',\n",
              " \"'Cause everything you heard is true You poor little heart will end up alone\",\n",
              " \"'Cause lord knows I'm a rolling stone\",\n",
              " 'So you better run run runaway, runaway baby',\n",
              " 'Uh, ah yeah Well let me think, let me think, ah what should I do?',\n",
              " \"So many eager young bunnies that I'd like to pursue\",\n",
              " \"Now even though they're eating out the palm of my hand\",\n",
              " \"There's only one carrot and they all gotta share it I love you so\",\n",
              " \"That's what you'll say,\",\n",
              " \"You'll tell me baby, baby please don't go away\",\n",
              " 'But when I play, I never stay',\n",
              " \"To every girl that I meet here, this is what I'll say, Run run runaway, runaway baby\",\n",
              " 'Before I put my spell on you',\n",
              " 'You better get get getaway, getaway darling',\n",
              " \"'Cause everything you heard is true You poor little heart will end up alone\",\n",
              " \"'Cause lord knows I'm a rolling stone\",\n",
              " 'So you better run run runaway, runaway baby',\n",
              " \"Uh, check it out See I ain't tryna hurt you baby\",\n",
              " 'No no no I just want to work you baby',\n",
              " \"See I ain't tryna hurt you baby\",\n",
              " 'No no no I just want to work you baby If you are scared, you better run (you better run)',\n",
              " 'You better run, (you better run)',\n",
              " 'You better run, (you better run)',\n",
              " 'You better, you better, you better Run run runaway, runaway baby',\n",
              " 'Before I put my spell on you',\n",
              " 'You better get get getaway, getaway darling',\n",
              " \"'Cause everything you heard is true You poor little heart will end up alone\",\n",
              " \"'Cause lord knows I'm a rolling stone\",\n",
              " 'So you better run run runaway, runaway baby Oh yeah yeah',\n",
              " 'Oh yeah yeah yeah yeah',\n",
              " 'Ooh!',\n",
              " 'Oh yeah yeah',\n",
              " 'Oh yeah yeah yeah yeah',\n",
              " 'Ooh! Never had much faith in love or miracles',\n",
              " 'Never wanna put my heart on the line',\n",
              " 'But swimming in your world is something spiritual',\n",
              " \"I'm born again every time you spend the night Cause your sex takes me to paradise\",\n",
              " 'Yeah your sex takes me to paradise',\n",
              " 'And it shows, yeah, yeah, yeah',\n",
              " \"Cause you make me feel like, I've been locked out of heaven\",\n",
              " 'For too long, For too long',\n",
              " \"Yeah you make me feel like, I've been locked out of heaven\",\n",
              " 'For too long, for too long Oh yeah yeah yeah yeah',\n",
              " 'Ooh!',\n",
              " 'Oh yeah yeah',\n",
              " 'Oh yeah yeah yeah yeah',\n",
              " 'Ooh! You bring me to my knees',\n",
              " 'You make me testify',\n",
              " 'You can make a sinner change his ways',\n",
              " \"Open up your gates cause I can't wait to see the light\",\n",
              " 'And right there is where I wanna stay Cause your heart takes me to paradise',\n",
              " 'Yeah your heart takes me to paradise',\n",
              " 'And it shows, yeah, yeah, yeah',\n",
              " \"Cause you make feel like, I've been locked out of heaven\",\n",
              " 'For too long, for too long',\n",
              " \"Yeah you make feel like, I've been locked out of heaven\",\n",
              " 'For too long, for too long Oh oh oh oh, yeah, yeah, yeah',\n",
              " \"Can't I just stay here\",\n",
              " 'Spend the rest of my days here',\n",
              " 'Oh, oh, oh, oh, yeah, yeah, yeah',\n",
              " \"Can't I just stay here\",\n",
              " \"Spend the rest of my days here Cause you make feel like, I've been locked out of heaven\",\n",
              " 'For too long, for too long',\n",
              " \"Yeah you make feel like, I've been locked out of heaven\",\n",
              " 'For too long, for too long Oh yeah yeah yeah yeah',\n",
              " 'Ooh!',\n",
              " 'Oh yeah yeah',\n",
              " 'Oh yeah yeah yeah yeah',\n",
              " 'Oh yeah yeah year yeah',\n",
              " \"Ooh! I've been working hard so long\",\n",
              " 'Seems like pain has been my only friend',\n",
              " \"My fragile heart's been done so wrong\",\n",
              " \"I wondered if I'd ever heal again Ohh just like all the seasons never stay the same\",\n",
              " 'all around me i can feel a change (ohh) CHORUS',\n",
              " 'I will break these chains that bind me, happiness will find me',\n",
              " 'leave the past behind me, today my life begins',\n",
              " \"a whole new world is waiting it's mine for the taking\",\n",
              " 'I know I can make it, today my life begins Yesterday has come and gone',\n",
              " \"And I've learnt how to leave it where it is\",\n",
              " 'And I see that I was wrong',\n",
              " 'For ever doubting I could win Ohh just like all the seasons never stay the same',\n",
              " 'all around me i can feel a change (ohh) I will break these chains that bind me, happiness will find me',\n",
              " 'leave the past behind me, today my life begins',\n",
              " \"a whole new world is waiting it's mine for the taking\",\n",
              " \"I know I can make it, today my life begins Life's too short to have regrets\",\n",
              " \"So I'm learning now to leave it in the past and try to forget\",\n",
              " 'only have one life to live',\n",
              " 'So you better make the best of it I will break these chains that bind me, happiness will find me',\n",
              " 'Leave the past behind me, today my life begins',\n",
              " \"A whole new world is waiting it's mine for the taking\",\n",
              " 'I know I can make it, today my life begins I will break these chains that bind me, happiness will find me',\n",
              " 'Leave the past behind me, today my life begins',\n",
              " \"A whole new world is waiting it's mine for the taking\",\n",
              " 'I know I can make it, today my life begins',\n",
              " 'Today my life begins... Everyday I wake up next to an angel',\n",
              " 'More beautiful than words could say',\n",
              " \"They said it wouldn't work but what did they know?\",\n",
              " \"'Cause years have passed and we're still here today Never in my dreams did I think that this would happen to me As I stand here before my woman\",\n",
              " \"I can't fight back the tears in my eyes\",\n",
              " 'Oh, how could I be so lucky',\n",
              " \"I must've done something right\",\n",
              " 'And I promise to love her for the rest of my life Seems like yesterday when she first said hello',\n",
              " \"Funny how time flies when you're in love\",\n",
              " 'It took us a lifetime to find each other',\n",
              " \"It was worth the wait 'cause I finally found the one Never in my dreams did I think that this would happen to me As I stand here before my woman\",\n",
              " \"I can't fight back the tears in my eyes\",\n",
              " 'Oh how could I be so lucky',\n",
              " \"I must've done something right\",\n",
              " 'And I promise to love her for the rest of my life With everything happening today',\n",
              " \"You don't know whether you're coming or going\",\n",
              " \"But you think that you're on your way\",\n",
              " \"Life lined up on the mirror don't blow it Look at me when I'm talkin' to you\",\n",
              " \"You looking at me but I'm lookin' through you\",\n",
              " 'I see the blood in your eyes',\n",
              " 'I see the love in disguise',\n",
              " 'I see the pain hidden in your pride',\n",
              " \"I see you're not satisfied\",\n",
              " \"And I don't see nobody else\",\n",
              " \"I see myself I'm looking at the Mirror on the wall, here we are again\",\n",
              " 'Through my rise and fall',\n",
              " \"You've been my only friend\",\n",
              " 'You told me that they can understand the man I am',\n",
              " \"So why are we here talkin' to each other again Uh, I see the truth in your lies\",\n",
              " 'I see nobody by your side',\n",
              " \"But I'm with you when you re all alone\",\n",
              " \"And you correct me when I'm lookin' wrong\",\n",
              " 'I see that guilt beneath the shame',\n",
              " 'I see your soul through your window pain',\n",
              " 'I see the scars that remain',\n",
              " \"I see you Wayne, I'm lookin' at the Mirror on the wall, here we are again\",\n",
              " 'Through my rise and fall',\n",
              " \"You've been my only friend\",\n",
              " 'You told me that they can understand the man I am',\n",
              " \"So why are we here talkin' to each other again Lookin' at me now I can see my past\",\n",
              " \"Damn I look just like my fuckin' dad\",\n",
              " \"Light it up, that's smoke at mirrors\",\n",
              " 'I even look good in the broken mirror',\n",
              " \"I see my momma smile that's a blessin'\",\n",
              " 'I see the change, I see the message',\n",
              " 'And no message could been any clearer',\n",
              " \"So I'm starting with the man in the Mirror on the wall, (MJ taught me that)\",\n",
              " 'Here we are again',\n",
              " 'Through my rise and fall',\n",
              " \"You've been my only friend (take them to mars man)\",\n",
              " 'You told me that they can understand the man I am',\n",
              " \"So why are we here talkin' to each other again\",\n",
              " 'Uh Mirror on the wall, here we are again',\n",
              " 'Through my rise and fall',\n",
              " \"You've been my only friend\",\n",
              " 'You told me that they can understand the man I am',\n",
              " \"So why are we here talkin' to each other again\",\n",
              " 'Mirror on the wall',\n",
              " \"Hey BP, looks like I did take 'em to mars this time So why are we talkin' to each other again Man, look at you, been walking in here looking all pretty and angry and mean and good\",\n",
              " 'Haha',\n",
              " \"Now I know you didn't get your hair done so you could just sit down and just sit still\",\n",
              " \"Hey, we tryna have a good time tonight, let's go over here (let's go over here!) It's my birthday\",\n",
              " \"(No, it's not)\",\n",
              " 'But I still look good though',\n",
              " '(High comb hot)',\n",
              " 'I bet you want an autograph',\n",
              " 'For you and your friends',\n",
              " ...]"
            ]
          },
          "metadata": {},
          "execution_count": 65
        }
      ],
      "source": [
        "# cada verso lo guardamos en una lista\n",
        "text = list(df.loc[:,0])\n",
        "text"
      ]
    },
    {
      "cell_type": "code",
      "execution_count": 66,
      "metadata": {
        "id": "CMu9CX34J8RQ"
      },
      "outputs": [],
      "source": [
        "# segmentamos el texto con la utilidad de Keras\n",
        "segmented_sentences = [text_to_word_sequence(sentence) for sentence in text]"
      ]
    },
    {
      "cell_type": "code",
      "source": [
        "text[0]"
      ],
      "metadata": {
        "id": "neCJEVNvkkjE",
        "colab": {
          "base_uri": "https://localhost:8080/",
          "height": 35
        },
        "outputId": "8afbf636-6096-4253-8758-80a1648bcfe1"
      },
      "execution_count": 67,
      "outputs": [
        {
          "output_type": "execute_result",
          "data": {
            "text/plain": [
              "'Now greetings to the world! Standing at this liquor store,'"
            ],
            "application/vnd.google.colaboratory.intrinsic+json": {
              "type": "string"
            }
          },
          "metadata": {},
          "execution_count": 67
        }
      ]
    },
    {
      "cell_type": "code",
      "source": [
        "segmented_sentences[0]"
      ],
      "metadata": {
        "id": "duxuc-DVkcpP",
        "colab": {
          "base_uri": "https://localhost:8080/"
        },
        "outputId": "11e7d343-301f-4ed1-bc1d-3c42ab267bf2"
      },
      "execution_count": 68,
      "outputs": [
        {
          "output_type": "execute_result",
          "data": {
            "text/plain": [
              "['now',\n",
              " 'greetings',\n",
              " 'to',\n",
              " 'the',\n",
              " 'world',\n",
              " 'standing',\n",
              " 'at',\n",
              " 'this',\n",
              " 'liquor',\n",
              " 'store']"
            ]
          },
          "metadata": {},
          "execution_count": 68
        }
      ]
    },
    {
      "cell_type": "code",
      "execution_count": 69,
      "metadata": {
        "id": "x35rV7QZH49n"
      },
      "outputs": [],
      "source": [
        "# calculamos la longitud de cada secuencia\n",
        "length_sentences = [len(sentence) for sentence in segmented_sentences]"
      ]
    },
    {
      "cell_type": "code",
      "execution_count": 70,
      "metadata": {
        "id": "R8P8vDXRII4c",
        "colab": {
          "base_uri": "https://localhost:8080/",
          "height": 552
        },
        "outputId": "c46daf5c-dd20-418f-848d-ef92b590bab6"
      },
      "outputs": [
        {
          "output_type": "execute_result",
          "data": {
            "text/plain": [
              "(array([2.288e+03, 8.650e+02, 1.090e+02, 5.000e+00, 1.000e+00, 0.000e+00,\n",
              "        0.000e+00, 0.000e+00, 0.000e+00, 1.000e+00, 0.000e+00, 0.000e+00,\n",
              "        0.000e+00, 0.000e+00, 0.000e+00, 0.000e+00, 0.000e+00, 0.000e+00,\n",
              "        0.000e+00, 1.000e+00]),\n",
              " array([  1.,  10.,  19.,  28.,  37.,  46.,  55.,  64.,  73.,  82.,  91.,\n",
              "        100., 109., 118., 127., 136., 145., 154., 163., 172., 181.]),\n",
              " <BarContainer object of 20 artists>)"
            ]
          },
          "metadata": {},
          "execution_count": 70
        },
        {
          "output_type": "display_data",
          "data": {
            "text/plain": [
              "<Figure size 640x480 with 1 Axes>"
            ],
            "image/png": "[encoded data removed]"
          },
          "metadata": {}
        }
      ],
      "source": [
        "# podemos ver su distribución\n",
        "plt.hist(length_sentences,bins=20)"
      ]
    },
    {
      "cell_type": "code",
      "execution_count": 71,
      "metadata": {
        "id": "wumBNwdjJM3j",
        "colab": {
          "base_uri": "https://localhost:8080/"
        },
        "outputId": "28c09934-d83e-41e3-9cb7-61822dc1e195"
      },
      "outputs": [
        {
          "output_type": "stream",
          "name": "stdout",
          "text": [
            "max_context_size: 13\n"
          ]
        }
      ],
      "source": [
        "# a partir de la distribución de longitudes de secuencias elegimos algún criterio\n",
        "# para determinar el máximo tamaño de contexto. En este caso es un percentil, pero\n",
        "# otros criterios también pueden ser válidos con la justificación adecuada.\n",
        "# También puede ser una selección \"a mano\"\n",
        "\n",
        "# el -1 es porque el último token será el target\n",
        "max_context_size = int(np.percentile(length_sentences, 90)-1)\n",
        "\n",
        "# max_context_size = int(np.ceil(np.mean(length_sentences))) # criterio de media\n",
        "# max_context_size = int(np.ceil(np.median(length_sentences))) # criterio de mediana\n",
        "print(f'max_context_size: {max_context_size}')"
      ]
    },
    {
      "cell_type": "markdown",
      "metadata": {
        "id": "2oIUjVU0LB0r"
      },
      "source": [
        "###  Tokenizar"
      ]
    },
    {
      "cell_type": "code",
      "execution_count": 72,
      "metadata": {
        "id": "_XKQIpRiLNbg"
      },
      "outputs": [],
      "source": [
        "# instanciamos el tokenizador\n",
        "tok = Tokenizer()\n",
        "\n",
        "# El tokenizer \"aprende\" las palabras que se usaran\n",
        "# Se construye (fit) una vez por proyecto, se aplica N veces (tal cual un encoder)\n",
        "# El token 0 es reservado y no es asignado. Se utiliza para designar a palabras\n",
        "# fuera del vocabulario aprendido\n",
        "tok.fit_on_texts(segmented_sentences)\n",
        "\n",
        "# Convertimos las palabras a números\n",
        "# entran palabras -> salen números\n",
        "tokenized_sentences = tok.texts_to_sequences(segmented_sentences)"
      ]
    },
    {
      "cell_type": "code",
      "source": [
        "tokenized_sentences[0]"
      ],
      "metadata": {
        "id": "AK2wfHyslrTz",
        "colab": {
          "base_uri": "https://localhost:8080/"
        },
        "outputId": "d03ade0a-318a-488c-db12-c3be5f3952f4"
      },
      "execution_count": 73,
      "outputs": [
        {
          "output_type": "execute_result",
          "data": {
            "text/plain": [
              "[46, 525, 6, 3, 133, 360, 76, 38, 336, 410]"
            ]
          },
          "metadata": {},
          "execution_count": 73
        }
      ]
    },
    {
      "cell_type": "code",
      "source": [
        "segmented_sentences[0]"
      ],
      "metadata": {
        "id": "s-93u9lxlwlP",
        "colab": {
          "base_uri": "https://localhost:8080/"
        },
        "outputId": "00dc3818-93e2-42a2-d3c3-bc213231ef08"
      },
      "execution_count": 74,
      "outputs": [
        {
          "output_type": "execute_result",
          "data": {
            "text/plain": [
              "['now',\n",
              " 'greetings',\n",
              " 'to',\n",
              " 'the',\n",
              " 'world',\n",
              " 'standing',\n",
              " 'at',\n",
              " 'this',\n",
              " 'liquor',\n",
              " 'store']"
            ]
          },
          "metadata": {},
          "execution_count": 74
        }
      ]
    },
    {
      "cell_type": "markdown",
      "metadata": {
        "id": "pfpYcaypKcI9"
      },
      "source": [
        "### Organizando y estructurando el dataset"
      ]
    },
    {
      "cell_type": "markdown",
      "metadata": {
        "id": "l3iPTx-UJl6r"
      },
      "source": [
        "En este punto tenemos en la variable `tokenized_sentences` los versos tokenizados. Vamos a quedarnos con un conjunto de validación que utilizaremos para medir la calidad de la generación de secuencias con la métrica de Perplejidad."
      ]
    },
    {
      "cell_type": "code",
      "execution_count": 75,
      "metadata": {
        "id": "cSeqVGyV_wz5"
      },
      "outputs": [],
      "source": [
        "tokenized_sentences_train, tokenized_sentences_val, _, _ = train_test_split(tokenized_sentences, tokenized_sentences, test_size=0.2, random_state=42)"
      ]
    },
    {
      "cell_type": "markdown",
      "metadata": {
        "id": "gmsoPbV6LxcW"
      },
      "source": [
        "\\Vamos a splitear las oraciones que tienen tamaño mayor al contexto máximo, para generarnos más secuencias de entrenamiento. Este paso puede obviarse si el tamaño de contexto máximo es muy grande.\n",
        "\n",
        "Por ejemplo, si tenemos el texto *La bella y graciosa moza marchóse a lavar la ropa* y nuestro contexto es de 5 palabras, tendremos:\n",
        "\n",
        "- *La bella y graciosa moza*\n",
        "- *bella y graciosa moza marchóse*\n",
        "- *y graciosa moza marchóse a*\n",
        "- *graciosa moza marchóse a lavar*\n",
        "- *moza marchóse a lavar la*\n",
        "- *marchóse a lavar la ropa*"
      ]
    },
    {
      "cell_type": "code",
      "execution_count": 76,
      "metadata": {
        "id": "E5BPO4qPPnNR"
      },
      "outputs": [],
      "source": [
        "tok_sent = []\n",
        "\n",
        "for sent in tokenized_sentences_train:\n",
        "\n",
        "  # si la secuencia tiene más términos que el tamaño de contexto máximo,\n",
        "  # armo varias sub-secuencias de tamaño máximo\n",
        "  if len(sent) > (max_context_size+1):\n",
        "    extra = len(sent)-(max_context_size+1) + 1\n",
        "    for i in range(extra):\n",
        "      tok_sent.append(sent[i:i+max_context_size+1])\n",
        "  else: # si la secuencia tiene menos términos el tamaño de contexto máximo, dejo la secuencia como está\n",
        "    tok_sent.append(sent)\n"
      ]
    },
    {
      "cell_type": "code",
      "execution_count": 77,
      "metadata": {
        "id": "RiEt0AAz_64v"
      },
      "outputs": [],
      "source": [
        "#len(tok_sent)"
      ]
    },
    {
      "cell_type": "markdown",
      "metadata": {
        "id": "QnwSC7A_LWfd"
      },
      "source": [
        "Ahora aumentamos los datos aprovechando que de una secuencia grande se pueden generar varias más pequeñas:\n",
        "\n",
        "- *La hermosa casa en el prado*\n",
        "- *La hermosa*\n",
        "- *La hermosa casa*\n",
        "- *La hermosa casa en*\n",
        "- *La hermosa casa en el*\n",
        "- *La hermosa casa en el prado*"
      ]
    },
    {
      "cell_type": "code",
      "execution_count": 78,
      "metadata": {
        "id": "lWdhVV04htki"
      },
      "outputs": [],
      "source": [
        "tok_sent_augm = []\n",
        "\n",
        "for sent in tok_sent:\n",
        "\n",
        "  # generamos todas las sub-secuencias\n",
        "  subseq = [sent[:i+2] for i in range(len(sent)-1)]\n",
        "  # en esta línea paddeamos al tamaño de contexto máximo\n",
        "  tok_sent_augm.append(pad_sequences(subseq, maxlen=max_context_size+1, padding='pre'))\n"
      ]
    },
    {
      "cell_type": "code",
      "execution_count": 79,
      "metadata": {
        "id": "THXXBya1tnZ8"
      },
      "outputs": [],
      "source": [
        "# finalmente concatenamos todas las secuencias en un único array de numpy\n",
        "train_seqs = np.concatenate(tok_sent_augm, axis=0)"
      ]
    },
    {
      "cell_type": "code",
      "execution_count": 80,
      "metadata": {
        "id": "o5Uiflnwt10J",
        "colab": {
          "base_uri": "https://localhost:8080/"
        },
        "outputId": "8bee0a7e-7473-4266-d69b-9ede3d17ae97"
      },
      "outputs": [
        {
          "output_type": "execute_result",
          "data": {
            "text/plain": [
              "(34532, 14)"
            ]
          },
          "metadata": {},
          "execution_count": 80
        }
      ],
      "source": [
        "train_seqs.shape"
      ]
    },
    {
      "cell_type": "code",
      "execution_count": 81,
      "metadata": {
        "id": "yprwJHiMBQIS"
      },
      "outputs": [],
      "source": [
        "# y de aquí sacamos las entradas y los targets que consumirá nuestro sistema en\n",
        "# tiempo de entrenamiento\n",
        "X = train_seqs[:,:-1]\n",
        "y = train_seqs[:,1:]"
      ]
    },
    {
      "cell_type": "markdown",
      "source": [
        "Nótese que estamos estructurando el problema de aprendizaje como *many-to-many*:\n",
        "\n",
        "Entrada: secuencia de tokens [$x_0$, $x_1$, ..., $x_N$]\n",
        "\n",
        "Target: secuencia de tokens [$x_1$, $x_2$, ..., $x_{N+1}$]\n",
        "\n",
        "De manera que la red tiene que aprender que su salida deben ser los tokens desplazados en una posición y un nuevo token predicho (el N+1).\n",
        "\n",
        "La ventaja de estructurar el aprendizaje de esta manera es que para cada token de target se propaga una señal de gradiente por el grafo de cómputo recurrente, que es mejor que estructurar el problema como *many-to-one* en donde sólo una señal de gradiente se propaga."
      ],
      "metadata": {
        "id": "YxuKNI05Ttct"
      }
    },
    {
      "cell_type": "code",
      "source": [
        "y.shape"
      ],
      "metadata": {
        "id": "KFAyA4zCWE-5",
        "colab": {
          "base_uri": "https://localhost:8080/"
        },
        "outputId": "f3446dc3-ef3f-4624-c640-aaf713a5fdbe"
      },
      "execution_count": 82,
      "outputs": [
        {
          "output_type": "execute_result",
          "data": {
            "text/plain": [
              "(34532, 13)"
            ]
          },
          "metadata": {},
          "execution_count": 82
        }
      ]
    },
    {
      "cell_type": "code",
      "execution_count": 83,
      "metadata": {
        "id": "1D9ESMGyB_QD",
        "colab": {
          "base_uri": "https://localhost:8080/"
        },
        "outputId": "68c9ebc7-1080-43d2-85ca-25258561e4bb"
      },
      "outputs": [
        {
          "output_type": "execute_result",
          "data": {
            "text/plain": [
              "{1: 'you',\n",
              " 2: 'i',\n",
              " 3: 'the',\n",
              " 4: 'me',\n",
              " 5: 'it',\n",
              " 6: 'to',\n",
              " 7: 'oh',\n",
              " 8: 'my',\n",
              " 9: 'and',\n",
              " 10: 'a',\n",
              " 11: 'for',\n",
              " 12: 'yeah',\n",
              " 13: 'in',\n",
              " 14: 'on',\n",
              " 15: 'so',\n",
              " 16: 'up',\n",
              " 17: 'what',\n",
              " 18: 'all',\n",
              " 19: \"i'm\",\n",
              " 20: 'like',\n",
              " 21: 'your',\n",
              " 22: 'that',\n",
              " 23: 'got',\n",
              " 24: \"don't\",\n",
              " 25: 'no',\n",
              " 26: 'know',\n",
              " 27: 'just',\n",
              " 28: 'we',\n",
              " 29: 'her',\n",
              " 30: 'is',\n",
              " 31: 'do',\n",
              " 32: 'baby',\n",
              " 33: 'be',\n",
              " 34: 'girl',\n",
              " 35: 'but',\n",
              " 36: 'she',\n",
              " 37: \"it's\",\n",
              " 38: 'this',\n",
              " 39: 'when',\n",
              " 40: \"you're\",\n",
              " 41: 'if',\n",
              " 42: 'of',\n",
              " 43: \"'cause\",\n",
              " 44: 'go',\n",
              " 45: 'take',\n",
              " 46: 'now',\n",
              " 47: 'can',\n",
              " 48: 'with',\n",
              " 49: 'out',\n",
              " 50: 'love',\n",
              " 51: 'are',\n",
              " 52: \"that's\",\n",
              " 53: 'way',\n",
              " 54: 'get',\n",
              " 55: 'see',\n",
              " 56: 'make',\n",
              " 57: 'say',\n",
              " 58: \"i'll\",\n",
              " 59: 'time',\n",
              " 60: 'here',\n",
              " 61: 'too',\n",
              " 62: 'one',\n",
              " 63: 'tell',\n",
              " 64: 'long',\n",
              " 65: \"can't\",\n",
              " 66: 'feel',\n",
              " 67: 'night',\n",
              " 68: 'come',\n",
              " 69: 'ooh',\n",
              " 70: 'wanna',\n",
              " 71: 'never',\n",
              " 72: 'been',\n",
              " 73: 'que',\n",
              " 74: 'show',\n",
              " 75: 'down',\n",
              " 76: 'at',\n",
              " 77: 'where',\n",
              " 78: 'better',\n",
              " 79: 'gimme',\n",
              " 80: 'more',\n",
              " 81: 'want',\n",
              " 82: 'back',\n",
              " 83: 'only',\n",
              " 84: 'uh',\n",
              " 85: 'right',\n",
              " 86: 'look',\n",
              " 87: 'run',\n",
              " 88: 'give',\n",
              " 89: \"ain't\",\n",
              " 90: 'there',\n",
              " 91: \"we're\",\n",
              " 92: 'again',\n",
              " 93: 'ah',\n",
              " 94: 'estoy',\n",
              " 95: 'gonna',\n",
              " 96: 'oo',\n",
              " 97: 'they',\n",
              " 98: 'every',\n",
              " 99: 'cause',\n",
              " 100: 'have',\n",
              " 101: 'how',\n",
              " 102: 'why',\n",
              " 103: 'tan',\n",
              " 104: 'was',\n",
              " 105: 'while',\n",
              " 106: 'let',\n",
              " 107: 'our',\n",
              " 108: 'looking',\n",
              " 109: 'money',\n",
              " 110: 'thing',\n",
              " 111: 'today',\n",
              " 112: 'es',\n",
              " 113: 'will',\n",
              " 114: 'day',\n",
              " 115: 'could',\n",
              " 116: 'put',\n",
              " 117: 'ya',\n",
              " 118: 'good',\n",
              " 119: 'not',\n",
              " 120: 'straight',\n",
              " 121: 'need',\n",
              " 122: 'fire',\n",
              " 123: \"won't\",\n",
              " 124: 'girls',\n",
              " 125: 'home',\n",
              " 126: 'eyes',\n",
              " 127: \"there's\",\n",
              " 128: 'watch',\n",
              " 129: 'hey',\n",
              " 130: 'leave',\n",
              " 131: 'did',\n",
              " 132: 'think',\n",
              " 133: 'world',\n",
              " 134: 'turn',\n",
              " 135: \"let's\",\n",
              " 136: 'some',\n",
              " 137: 'would',\n",
              " 138: \"she's\",\n",
              " 139: 'dance',\n",
              " 140: \"i've\",\n",
              " 141: 'smile',\n",
              " 142: \"i'd\",\n",
              " 143: \"you'll\",\n",
              " 144: 'tonight',\n",
              " 145: 'wait',\n",
              " 146: 'us',\n",
              " 147: 'try',\n",
              " 148: 'gotta',\n",
              " 149: 'believe',\n",
              " 150: 'perdiendo',\n",
              " 151: 'body',\n",
              " 152: 'before',\n",
              " 153: 'knows',\n",
              " 154: 'through',\n",
              " 155: 'whole',\n",
              " 156: 'new',\n",
              " 157: 'find',\n",
              " 158: 'feels',\n",
              " 159: 'lonely',\n",
              " 160: 'stay',\n",
              " 161: 'difícil',\n",
              " 162: 'mind',\n",
              " 163: 'little',\n",
              " 164: 'hard',\n",
              " 165: 'trying',\n",
              " 166: 'ever',\n",
              " 167: 'uptown',\n",
              " 168: 'funk',\n",
              " 169: 'off',\n",
              " 170: 'always',\n",
              " 171: 'pain',\n",
              " 172: 'mi',\n",
              " 173: 'esta',\n",
              " 174: 'yo',\n",
              " 175: 'estamos',\n",
              " 176: 'lucky',\n",
              " 177: 'same',\n",
              " 178: 'them',\n",
              " 179: 'tomorrow',\n",
              " 180: 'change',\n",
              " 181: 'around',\n",
              " 182: 'keep',\n",
              " 183: 'away',\n",
              " 184: 'life',\n",
              " 185: 'alright',\n",
              " 186: 'heart',\n",
              " 187: 'man',\n",
              " 188: 'slow',\n",
              " 189: 'place',\n",
              " 190: 'ok',\n",
              " 191: 'lights',\n",
              " 192: 'y',\n",
              " 193: 'de',\n",
              " 194: 'pero',\n",
              " 195: 'estás',\n",
              " 196: 'mirror',\n",
              " 197: 'kiss',\n",
              " 198: 'runaway',\n",
              " 199: 'something',\n",
              " 200: 'by',\n",
              " 201: 'then',\n",
              " 202: 'from',\n",
              " 203: 'hot',\n",
              " 204: 'who',\n",
              " 205: 'head',\n",
              " 206: 'somewhere',\n",
              " 207: 'other',\n",
              " 208: 'locked',\n",
              " 209: 'lejos',\n",
              " 210: 'lay',\n",
              " 211: 'hoo',\n",
              " 212: 'brain',\n",
              " 213: 'floor',\n",
              " 214: 'over',\n",
              " 215: 'hate',\n",
              " 216: 'than',\n",
              " 217: \"gon'\",\n",
              " 218: 'said',\n",
              " 219: 'next',\n",
              " 220: 'wish',\n",
              " 221: 'amazing',\n",
              " 222: \"we'll\",\n",
              " 223: 'young',\n",
              " 224: 'side',\n",
              " 225: 'wrong',\n",
              " 226: 'waiting',\n",
              " 227: 'en',\n",
              " 228: 'está',\n",
              " 229: 'everything',\n",
              " 230: 'well',\n",
              " 231: 'am',\n",
              " 232: 'about',\n",
              " 233: 'own',\n",
              " 234: 'stop',\n",
              " 235: 'whoa',\n",
              " 236: 'done',\n",
              " 237: 'coming',\n",
              " 238: 'shot',\n",
              " 239: 'twenty',\n",
              " 240: 'things',\n",
              " 241: 'first',\n",
              " 242: 'understand',\n",
              " 243: 'pretty',\n",
              " 244: 'babe',\n",
              " 245: 'lose',\n",
              " 246: 'drag',\n",
              " 247: 'sorrow',\n",
              " 248: 'messed',\n",
              " 249: 'sex',\n",
              " 250: 'heaven',\n",
              " 251: 'distancia',\n",
              " 252: 'matando',\n",
              " 253: 'control',\n",
              " 254: 'four',\n",
              " 255: 'everyday',\n",
              " 256: 'last',\n",
              " 257: 'damn',\n",
              " 258: 'old',\n",
              " 259: \"goin'\",\n",
              " 260: 'still',\n",
              " 261: 'ready',\n",
              " 262: 'these',\n",
              " 263: 'friends',\n",
              " 264: 'mine',\n",
              " 265: 'gone',\n",
              " 266: 'losing',\n",
              " 267: \"'til\",\n",
              " 268: 'thinking',\n",
              " 269: 'takes',\n",
              " 270: 'drop',\n",
              " 271: 'anything',\n",
              " 272: 'going',\n",
              " 273: 'para',\n",
              " 274: 'el',\n",
              " 275: '¿dónde',\n",
              " 276: 'ella',\n",
              " 277: 'talk',\n",
              " 278: 'close',\n",
              " 279: 'doing',\n",
              " 280: 'alone',\n",
              " 281: 'hear',\n",
              " 282: 'as',\n",
              " 283: 'far',\n",
              " 284: 'room',\n",
              " 285: 'brand',\n",
              " 286: 'feeling',\n",
              " 287: 'call',\n",
              " 288: 'or',\n",
              " 289: 'his',\n",
              " 290: 'he',\n",
              " 291: 'throw',\n",
              " 292: 'yes',\n",
              " 293: 'were',\n",
              " 294: 'oooh',\n",
              " 295: 'gold',\n",
              " 296: 'myself',\n",
              " 297: 'hold',\n",
              " 298: 'hands',\n",
              " 299: 'treasure',\n",
              " 300: 'ladies',\n",
              " 301: 'im',\n",
              " 302: 'tryna',\n",
              " 303: 'had',\n",
              " 304: 'mente',\n",
              " 305: 'esto',\n",
              " 306: 'name',\n",
              " 307: 'ask',\n",
              " 308: 'face',\n",
              " 309: 'phone',\n",
              " 310: 'hand',\n",
              " 311: 'lost',\n",
              " 312: 'door',\n",
              " 313: 'versace',\n",
              " 314: 'goodbye',\n",
              " 315: 'many',\n",
              " 316: 'fight',\n",
              " 317: 'chorus',\n",
              " 318: 'voices',\n",
              " 319: 'care',\n",
              " 320: 'two',\n",
              " 321: 'shining',\n",
              " 322: 'air',\n",
              " 323: \"wouldn't\",\n",
              " 324: 'fall',\n",
              " 325: 'perfect',\n",
              " 326: 'party',\n",
              " 327: 'karat',\n",
              " 328: 'true',\n",
              " 329: 'end',\n",
              " 330: 'work',\n",
              " 331: 'mom',\n",
              " 332: 'boy',\n",
              " 333: 'club',\n",
              " 334: 'burning',\n",
              " 335: 'ooooh',\n",
              " 336: 'liquor',\n",
              " 337: 'much',\n",
              " 338: 'paradise',\n",
              " 339: 'atrapados',\n",
              " 340: 'la',\n",
              " 341: 'cabeza',\n",
              " 342: 'player',\n",
              " 343: 'promise',\n",
              " 344: 'beautiful',\n",
              " 345: 'okay',\n",
              " 346: 'lips',\n",
              " 347: 'darling',\n",
              " 348: 'real',\n",
              " 349: 'fun',\n",
              " 350: 'late',\n",
              " 351: 'favorite',\n",
              " 352: 'getaway',\n",
              " 353: 'once',\n",
              " 354: 'wild',\n",
              " 355: 'touch',\n",
              " 356: \"drippin'\",\n",
              " 357: 'finesse',\n",
              " 358: \"where'd\",\n",
              " 359: 'da',\n",
              " 360: 'standing',\n",
              " 361: 'live',\n",
              " 362: 'has',\n",
              " 363: 'spend',\n",
              " 364: 'light',\n",
              " 365: 'bad',\n",
              " 366: 'swear',\n",
              " 367: 'stars',\n",
              " 368: 'hair',\n",
              " 369: 'sexy',\n",
              " 370: 'even',\n",
              " 371: 'break',\n",
              " 372: 'dancing',\n",
              " 373: 'moon',\n",
              " 374: 'magic',\n",
              " 375: 'soon',\n",
              " 376: 'matter',\n",
              " 377: 'talking',\n",
              " 378: 'play',\n",
              " 379: 'friend',\n",
              " 380: 'words',\n",
              " 381: 'nobody',\n",
              " 382: 'fast',\n",
              " 383: 'oohh',\n",
              " 384: 'block',\n",
              " 385: 'best',\n",
              " 386: 'rest',\n",
              " 387: 'estar',\n",
              " 388: 'mí',\n",
              " 389: 'perder',\n",
              " 390: 'jump',\n",
              " 391: 'billionaire',\n",
              " 392: 'laugh',\n",
              " 393: 'nothing',\n",
              " 394: 'woman',\n",
              " 395: \"y'all\",\n",
              " 396: 'count',\n",
              " 397: 'walk',\n",
              " 398: 'should',\n",
              " 399: 'calling',\n",
              " 400: 'please',\n",
              " 401: 'begins',\n",
              " 402: 'each',\n",
              " 403: 'finally',\n",
              " 404: \"you've\",\n",
              " 405: 'making',\n",
              " 406: 'since',\n",
              " 407: 'went',\n",
              " 408: 'ive',\n",
              " 409: 'press',\n",
              " 410: 'store',\n",
              " 411: 'top',\n",
              " 412: 'city',\n",
              " 413: 'deserve',\n",
              " 414: 'ice',\n",
              " 415: 'white',\n",
              " 416: 'hit',\n",
              " 417: 'everywhere',\n",
              " 418: 'left',\n",
              " 419: 'stops',\n",
              " 420: 'stares',\n",
              " 421: 'bed',\n",
              " 422: \"should've\",\n",
              " 423: 'seems',\n",
              " 424: 'else',\n",
              " 425: 'fine',\n",
              " 426: 'told',\n",
              " 427: 'killing',\n",
              " 428: 'morning',\n",
              " 429: 'both',\n",
              " 430: 'brooklyn',\n",
              " 431: 'natalie',\n",
              " 432: 'ooo',\n",
              " 433: 'gator',\n",
              " 434: 'cute',\n",
              " 435: 'nude',\n",
              " 436: 'catch',\n",
              " 437: 'high',\n",
              " 438: 'three',\n",
              " 439: 'line',\n",
              " 440: 'bring',\n",
              " 441: 'days',\n",
              " 442: 'todo',\n",
              " 443: 'lo',\n",
              " 444: 'tengo',\n",
              " 445: 'ver',\n",
              " 446: 'tu',\n",
              " 447: 'los',\n",
              " 448: 'días',\n",
              " 449: 'gustaría',\n",
              " 450: 'conmigo',\n",
              " 451: 'manera',\n",
              " 452: 'porque',\n",
              " 453: 'creo',\n",
              " 454: 'siente',\n",
              " 455: 'atrapado',\n",
              " 456: \"what's\",\n",
              " 457: 'pop',\n",
              " 458: \"talkin'\",\n",
              " 459: 'probably',\n",
              " 460: 'sing',\n",
              " 461: 'meet',\n",
              " 462: 'easy',\n",
              " 463: 'train',\n",
              " 464: 'inside',\n",
              " 465: \"warmin'\",\n",
              " 466: 'marry',\n",
              " 467: 'help',\n",
              " 468: 'another',\n",
              " 469: 'hope',\n",
              " 470: 'verse',\n",
              " 471: 'rain',\n",
              " 472: 'someone',\n",
              " 473: 'lord',\n",
              " 474: 'rolling',\n",
              " 475: 'stand',\n",
              " 476: 'distance',\n",
              " 477: 'naughty',\n",
              " 478: 'makes',\n",
              " 479: 'move',\n",
              " 480: 'shine',\n",
              " 481: 'sense',\n",
              " 482: 'madly',\n",
              " 483: 'sayin',\n",
              " 484: 'pimps',\n",
              " 485: '3x',\n",
              " 486: 'dim',\n",
              " 487: 'nowhere',\n",
              " 488: 'blues',\n",
              " 489: 'because',\n",
              " 490: 'shows',\n",
              " 491: 'open',\n",
              " 492: 'cool',\n",
              " 493: 'bright',\n",
              " 494: 'diamonds',\n",
              " 495: 'lady',\n",
              " 496: \"they're\",\n",
              " 497: 'really',\n",
              " 498: 'rather',\n",
              " 499: \"feelin'\",\n",
              " 500: 'naked',\n",
              " 501: 'yourself',\n",
              " 502: 'stuck',\n",
              " 503: 'cry',\n",
              " 504: 'shit',\n",
              " 505: \"sayin'\",\n",
              " 506: 'pick',\n",
              " 507: 'broken',\n",
              " 508: 'star',\n",
              " 509: 'dreams',\n",
              " 510: 'past',\n",
              " 511: 'behind',\n",
              " 512: 'taking',\n",
              " 513: 'yesterday',\n",
              " 514: 'lifetime',\n",
              " 515: 'truth',\n",
              " 516: \"didn't\",\n",
              " 517: 'big',\n",
              " 518: 'start',\n",
              " 519: 'gorillas',\n",
              " 520: 'pretend',\n",
              " 521: 'aint',\n",
              " 522: 'ahh',\n",
              " 523: 'everytime',\n",
              " 524: 'sweet',\n",
              " 525: 'greetings',\n",
              " 526: 'job',\n",
              " 527: 'pay',\n",
              " 528: 'rent',\n",
              " 529: 'between',\n",
              " 530: 'ways',\n",
              " 531: 'puedo',\n",
              " 532: 'tiempo',\n",
              " 533: 'todos',\n",
              " 534: 'contigo',\n",
              " 535: 'donde',\n",
              " 536: 'prefiero',\n",
              " 537: 'estuvieras',\n",
              " 538: 'aquí',\n",
              " 539: 'se',\n",
              " 540: 'como',\n",
              " 541: 'casa',\n",
              " 542: '¿puedes',\n",
              " 543: 'oírme',\n",
              " 544: 'llorar',\n",
              " 545: 'una',\n",
              " 546: 'va',\n",
              " 547: 'estribillo',\n",
              " 548: 'mismo',\n",
              " 549: 'vez',\n",
              " 550: 'tiene',\n",
              " 551: 'wake',\n",
              " 552: 'jewelry',\n",
              " 553: 'strawberry',\n",
              " 554: 'champagne',\n",
              " 555: 'silk',\n",
              " 556: 'sheets',\n",
              " 557: \"who's\",\n",
              " 558: 'smiling',\n",
              " 559: 'sure',\n",
              " 560: 'forget',\n",
              " 561: 'dream',\n",
              " 562: 'without',\n",
              " 563: 'sad',\n",
              " 564: 'message',\n",
              " 565: 'might',\n",
              " 566: 'bet',\n",
              " 567: 'gave',\n",
              " 568: 'loved',\n",
              " 569: 'hallelujah',\n",
              " 570: 'whoo',\n",
              " 571: 'fresh',\n",
              " 572: 'anymore',\n",
              " 573: 'dumb',\n",
              " 574: 'blame',\n",
              " 575: 'made',\n",
              " 576: 'shoulder',\n",
              " 577: 'wanted',\n",
              " 578: 'higher',\n",
              " 579: 'guess',\n",
              " 580: 'hurt',\n",
              " 581: \"there'll\",\n",
              " 582: \"darlin'\",\n",
              " 583: 'honey',\n",
              " 584: 'spell',\n",
              " 585: 'heard',\n",
              " 586: 'poor',\n",
              " 587: 'stone',\n",
              " 588: 'scared',\n",
              " 589: 'passed',\n",
              " 590: 'happen',\n",
              " 591: \"lookin'\",\n",
              " 592: 'wall',\n",
              " 593: 'pat',\n",
              " 594: 'getting',\n",
              " 595: 'death',\n",
              " 596: 'use',\n",
              " 597: 'already',\n",
              " 598: 'knew',\n",
              " 599: 'times',\n",
              " 600: 'exactly',\n",
              " 601: 'ohhhh',\n",
              " 602: 'sleep',\n",
              " 603: \"waitin'\",\n",
              " 604: 'forever',\n",
              " 605: 'digging',\n",
              " 606: 'special',\n",
              " 607: 'saying',\n",
              " 608: 'boom',\n",
              " 609: 'zoom',\n",
              " 610: 'strange',\n",
              " 611: 'shoot',\n",
              " 612: 'veins',\n",
              " 613: 'favourite',\n",
              " 614: 'part',\n",
              " 615: 'singing',\n",
              " 616: 'faith',\n",
              " 617: 'miracles',\n",
              " 618: 'spiritual',\n",
              " 619: 'knees',\n",
              " 620: 'ass',\n",
              " 621: 'word',\n",
              " 622: 'agree',\n",
              " 623: 'different',\n",
              " 624: 'an',\n",
              " 625: 'their',\n",
              " 626: 'music',\n",
              " 627: 'five',\n",
              " 628: 'searching',\n",
              " 629: 'nice',\n",
              " 630: 'mess',\n",
              " 631: 'strut',\n",
              " 632: 'asked',\n",
              " 633: 'die',\n",
              " 634: 'mad',\n",
              " 635: 'car',\n",
              " 636: 'called',\n",
              " 637: 'minute',\n",
              " 638: 'freaky',\n",
              " 639: 'reason',\n",
              " 640: 'shoulders',\n",
              " 641: 'afraid',\n",
              " 642: 'cares',\n",
              " 643: 'mean',\n",
              " 644: 'does',\n",
              " 645: 'hours',\n",
              " 646: 'chance',\n",
              " 647: 'remember',\n",
              " 648: 'pinky',\n",
              " 649: 'rings',\n",
              " 650: 'toe',\n",
              " 651: 'goes',\n",
              " 652: 'crazy',\n",
              " 653: 'sit',\n",
              " 654: 'fool',\n",
              " 655: 'though',\n",
              " 656: 'chains',\n",
              " 657: 'years',\n",
              " 658: 'tears',\n",
              " 659: \"must've\",\n",
              " 660: 'funny',\n",
              " 661: 'took',\n",
              " 662: 'worth',\n",
              " 663: 'running',\n",
              " 664: 'choose',\n",
              " 665: 'bar',\n",
              " 666: 'ends',\n",
              " 667: 'along',\n",
              " 668: 'desire',\n",
              " 669: \"i'ma\",\n",
              " 670: 'miss',\n",
              " 671: 'roll',\n",
              " 672: 'ohhh',\n",
              " 673: 'lovelies',\n",
              " 674: 'cross',\n",
              " 675: 'free',\n",
              " 676: 'moonshine',\n",
              " 677: 'welcome',\n",
              " 678: 'tempo',\n",
              " 679: 'guitar',\n",
              " 680: 'cops',\n",
              " 681: 'comes',\n",
              " 682: 'hay',\n",
              " 683: 'tantas',\n",
              " 684: 'canciones',\n",
              " 685: 'cantar',\n",
              " 686: 'pasar',\n",
              " 687: 'hacer',\n",
              " 688: 'foto',\n",
              " 689: 'un',\n",
              " 690: 'marco',\n",
              " 691: 'muy',\n",
              " 692: 'cerca',\n",
              " 693: 'cara',\n",
              " 694: 'sienten',\n",
              " 695: 'horas',\n",
              " 696: 'vuelvo',\n",
              " 697: 'pronto',\n",
              " 698: 'loco',\n",
              " 699: 'tratando',\n",
              " 700: 'sabe',\n",
              " 701: 'quiero',\n",
              " 702: 'ser',\n",
              " 703: 'amor',\n",
              " 704: 'por',\n",
              " 705: 'voy',\n",
              " 706: 'house',\n",
              " 707: 'serve',\n",
              " 708: 'cadillac',\n",
              " 709: 'miles',\n",
              " 710: 'f',\n",
              " 711: \"in'\",\n",
              " 712: 'prepare',\n",
              " 713: 'single',\n",
              " 714: 'playing',\n",
              " 715: 'compliment',\n",
              " 716: 'him',\n",
              " 717: 'pocket',\n",
              " 718: \"she'd\",\n",
              " 719: 'asking',\n",
              " 720: 'picking',\n",
              " 721: 'tone',\n",
              " 722: 'cant',\n",
              " 723: 'known',\n",
              " 724: 'tossed',\n",
              " 725: 'trash',\n",
              " 726: 'cold',\n",
              " 727: \"'bout\",\n",
              " 728: 'fill',\n",
              " 729: 'ride',\n",
              " 730: 'bitch',\n",
              " 731: 'above',\n",
              " 732: 'hide',\n",
              " 733: 'dress',\n",
              " 734: 'juice',\n",
              " 735: 'ring',\n",
              " 736: 'held',\n",
              " 737: 'selfish',\n",
              " 738: 'holds',\n",
              " 739: 'sky',\n",
              " 740: 'players',\n",
              " 741: \"'em\",\n",
              " 742: 'whoop',\n",
              " 743: 'fault',\n",
              " 744: 'save',\n",
              " 745: \"walkin'\",\n",
              " 746: 'eye',\n",
              " 747: 'looky',\n",
              " 748: 'grab',\n",
              " 749: 'holding',\n",
              " 750: 'heal',\n",
              " 751: 'ohh',\n",
              " 752: 'bind',\n",
              " 753: 'happiness',\n",
              " 754: \"life's\",\n",
              " 755: 'found',\n",
              " 756: 'rise',\n",
              " 757: 'taught',\n",
              " 758: 'ow',\n",
              " 759: 'activate',\n",
              " 760: 'silky',\n",
              " 761: 'smooth',\n",
              " 762: 'snap',\n",
              " 763: 'lean',\n",
              " 764: 'sheen',\n",
              " 765: 'ball',\n",
              " 766: \"here's\",\n",
              " 767: 'slide',\n",
              " 768: 'chunky',\n",
              " 769: 'hoops',\n",
              " 770: 'daisy',\n",
              " 771: 'dukes',\n",
              " 772: 'ones',\n",
              " 773: 'recruit',\n",
              " 774: 'roads',\n",
              " 775: 'drive',\n",
              " 776: 'bang',\n",
              " 777: 'lovers',\n",
              " 778: 'matters',\n",
              " 779: 'wonder',\n",
              " 780: 'listen',\n",
              " 781: 'scene',\n",
              " 782: \"got's\",\n",
              " 783: 'started',\n",
              " 784: 'named',\n",
              " 785: \"body's\",\n",
              " 786: '100',\n",
              " 787: 'degrees',\n",
              " 788: 'temperature',\n",
              " 789: 'sweating',\n",
              " 790: 'ay',\n",
              " 791: 'rush',\n",
              " 792: 'telling',\n",
              " 793: 'everyone',\n",
              " 794: 'complicated',\n",
              " 795: 'doubt',\n",
              " 796: 'x2',\n",
              " 797: 'didnt',\n",
              " 798: 'prisoner',\n",
              " 799: 'prison',\n",
              " 800: 'criminal',\n",
              " 801: 'led',\n",
              " 802: 'mall',\n",
              " 803: 'fits',\n",
              " 804: 'ninety',\n",
              " 805: 'whips',\n",
              " 806: \"standin'\",\n",
              " 807: 'table',\n",
              " 808: \"sippin'\",\n",
              " 809: 'ace',\n",
              " 810: 'spades',\n",
              " 811: 'shes',\n",
              " 812: 'victrola',\n",
              " 813: 'whiskey',\n",
              " 814: 'pores',\n",
              " 815: 'lotto',\n",
              " 816: 'tickets',\n",
              " 817: 'cheap',\n",
              " 818: 'beer',\n",
              " 819: 'scratch',\n",
              " 820: \"'68\",\n",
              " 821: 'cents',\n",
              " 822: 'junior',\n",
              " 823: 'gong',\n",
              " 824: 'flying',\n",
              " 825: 'superman',\n",
              " 826: 'pineapple',\n",
              " 827: 'kush',\n",
              " 828: 'jaws',\n",
              " 829: 'swimming',\n",
              " 830: 'born',\n",
              " 831: 'testify',\n",
              " 832: 'sinner',\n",
              " 833: 'gates',\n",
              " 834: 'pie',\n",
              " 835: 'dinner',\n",
              " 836: 'julio',\n",
              " 837: 'wallet',\n",
              " 838: 'buy',\n",
              " 839: 'oprah',\n",
              " 840: 'couple',\n",
              " 841: 'lot',\n",
              " 842: 'eating',\n",
              " 843: 'falls',\n",
              " 844: 'perfectly',\n",
              " 845: 'hates',\n",
              " 846: \"perfect's\",\n",
              " 847: 'bother',\n",
              " 848: 'feet',\n",
              " 849: \"freakin'\",\n",
              " 850: 'scream',\n",
              " 851: 'grenade',\n",
              " 852: 'blade',\n",
              " 853: 'front',\n",
              " 854: 'bullet',\n",
              " 855: 'black',\n",
              " 856: 'saturday',\n",
              " 857: 'spot',\n",
              " 858: 'sip',\n",
              " 859: 'check',\n",
              " 860: \"lil'\",\n",
              " 861: 'neck',\n",
              " 862: 'full',\n",
              " 863: 'blow',\n",
              " 864: 'supposed',\n",
              " 865: 'asleep',\n",
              " 866: 'oooooh',\n",
              " 867: 'realize',\n",
              " 868: 'flowers',\n",
              " 869: 'needs',\n",
              " 870: 'strong',\n",
              " 871: 'mistakes',\n",
              " 872: 'set',\n",
              " 873: 'red',\n",
              " 874: 'rocket',\n",
              " 875: 'preach',\n",
              " 876: 'used',\n",
              " 877: 'sunlight',\n",
              " 878: 'clear',\n",
              " 879: 'skies',\n",
              " 880: 'clouds',\n",
              " 881: \"it'll\",\n",
              " 882: 'ra',\n",
              " 883: 'ain',\n",
              " 884: 'daddy',\n",
              " 885: 'golden',\n",
              " 886: \"wasn't\",\n",
              " 887: 'hopes',\n",
              " 888: 'sits',\n",
              " 889: 'sun',\n",
              " 890: 'hello',\n",
              " 891: 'dad',\n",
              " 892: 'perm',\n",
              " 893: 'attitude',\n",
              " 894: 'relax',\n",
              " 895: 'fact',\n",
              " 896: 'band',\n",
              " 897: 'flat',\n",
              " 898: 'pass',\n",
              " 899: 'picture',\n",
              " 900: 'crying',\n",
              " 901: 'mommy',\n",
              " 902: 'into',\n",
              " 903: 'chest',\n",
              " 904: 'memory',\n",
              " 905: 'speak',\n",
              " 906: \"day's\",\n",
              " 907: 'loving',\n",
              " 908: 'nervous',\n",
              " 909: 'worry',\n",
              " 910: 'guys',\n",
              " 911: 'after',\n",
              " 912: 'covered',\n",
              " 913: 'leather',\n",
              " 914: 'unfair',\n",
              " 915: \"rockin'\",\n",
              " 916: \"ya'\",\n",
              " 917: \"i'\",\n",
              " 918: 'ma',\n",
              " 919: \"heat's\",\n",
              " 920: 'turning',\n",
              " 921: \"we've\",\n",
              " 922: 'read',\n",
              " 923: 'someday',\n",
              " 924: 'sometimes',\n",
              " 925: 'until',\n",
              " 926: 'together',\n",
              " 927: 'road',\n",
              " 928: 'pulling',\n",
              " 929: 'circle',\n",
              " 930: 'ran',\n",
              " 931: 'ditch',\n",
              " 932: 'quick',\n",
              " 933: 'bout',\n",
              " 934: 'decide',\n",
              " 935: 'alive',\n",
              " 936: 'father',\n",
              " 937: \"he'd\",\n",
              " 938: 'carry',\n",
              " 939: 'hits',\n",
              " 940: \"she'll\",\n",
              " 941: 'weird',\n",
              " 942: 'mail',\n",
              " 943: \"shinin'\",\n",
              " 944: \"baby's\",\n",
              " 945: 'noo',\n",
              " 946: 'thought',\n",
              " 947: 'lovely',\n",
              " 948: 'paid',\n",
              " 949: 'spike',\n",
              " 950: 'lee',\n",
              " 951: 'joint',\n",
              " 952: 'actions',\n",
              " 953: 'fiend',\n",
              " 954: \"somethin's\",\n",
              " 955: 'tells',\n",
              " 956: 'stick',\n",
              " 957: 'figure',\n",
              " 958: 'longer',\n",
              " 959: 'water',\n",
              " 960: 'quedando',\n",
              " 961: 'sin',\n",
              " 962: 'cosas',\n",
              " 963: 'sacarte',\n",
              " 964: 'ahora',\n",
              " 965: 'minutos',\n",
              " 966: 'las',\n",
              " 967: 'aunque',\n",
              " 968: 'sabes',\n",
              " 969: '¿qué',\n",
              " 970: 'haciendo',\n",
              " 971: 'esperar',\n",
              " 972: 'hacerle',\n",
              " 973: 'realmente',\n",
              " 974: 'encontrar',\n",
              " 975: 'dile',\n",
              " 976: 'sólo',\n",
              " 977: 'mano',\n",
              " 978: 'así',\n",
              " 979: 'único',\n",
              " 980: 'alguien',\n",
              " 981: 'podría',\n",
              " 982: 'venir',\n",
              " 983: 'apenas',\n",
              " 984: 'dicen',\n",
              " 985: 'temblando',\n",
              " 986: 'tierra',\n",
              " 987: 'pensando',\n",
              " 988: '¿estás',\n",
              " 989: 'hablando',\n",
              " 990: 'podía',\n",
              " 991: 'debe',\n",
              " 992: 'bala',\n",
              " 993: 'necesita',\n",
              " 994: 'inyección',\n",
              " 995: 'estallar',\n",
              " 996: 'borda',\n",
              " 997: 'sentir',\n",
              " 998: 'con',\n",
              " 999: 'ustedes',\n",
              " 1000: 'nadie',\n",
              " ...}"
            ]
          },
          "metadata": {},
          "execution_count": 83
        }
      ],
      "source": [
        "# Palabras del vocabulario\n",
        "tok.index_word"
      ]
    },
    {
      "cell_type": "code",
      "execution_count": 84,
      "metadata": {
        "id": "WtzINYjWCMf1",
        "colab": {
          "base_uri": "https://localhost:8080/"
        },
        "outputId": "b4517746-b349-4d54-922f-82cdf7966a4a"
      },
      "outputs": [
        {
          "output_type": "execute_result",
          "data": {
            "text/plain": [
              "1896"
            ]
          },
          "metadata": {},
          "execution_count": 84
        }
      ],
      "source": [
        "# Cantidad de palabras en el vocabulario\n",
        "vocab_size = len(tok.word_counts)\n",
        "vocab_size"
      ]
    },
    {
      "cell_type": "code",
      "execution_count": 85,
      "metadata": {
        "id": "spTBxmFQc6h8",
        "colab": {
          "base_uri": "https://localhost:8080/"
        },
        "outputId": "e0fc1e04-ac1c-43db-b1dd-f6c0b1bbe374"
      },
      "outputs": [
        {
          "output_type": "stream",
          "name": "stdout",
          "text": [
            "{'you': 1, 'i': 2, 'the': 3, 'me': 4, 'it': 5, 'to': 6, 'oh': 7, 'my': 8, 'and': 9, 'a': 10, 'for': 11, 'yeah': 12, 'in': 13, 'on': 14, 'so': 15, 'up': 16, 'what': 17, 'all': 18, \"i'm\": 19, 'like': 20, 'your': 21, 'that': 22, 'got': 23, \"don't\": 24, 'no': 25, 'know': 26, 'just': 27, 'we': 28, 'her': 29, 'is': 30, 'do': 31, 'baby': 32, 'be': 33, 'girl': 34, 'but': 35, 'she': 36, \"it's\": 37, 'this': 38, 'when': 39, \"you're\": 40, 'if': 41, 'of': 42, \"'cause\": 43, 'go': 44, 'take': 45, 'now': 46, 'can': 47, 'with': 48, 'out': 49, 'love': 50, 'are': 51, \"that's\": 52, 'way': 53, 'get': 54, 'see': 55, 'make': 56, 'say': 57, \"i'll\": 58, 'time': 59, 'here': 60, 'too': 61, 'one': 62, 'tell': 63, 'long': 64, \"can't\": 65, 'feel': 66, 'night': 67, 'come': 68, 'ooh': 69, 'wanna': 70, 'never': 71, 'been': 72, 'que': 73, 'show': 74, 'down': 75, 'at': 76, 'where': 77, 'better': 78, 'gimme': 79, 'more': 80, 'want': 81, 'back': 82, 'only': 83, 'uh': 84, 'right': 85, 'look': 86, 'run': 87, 'give': 88, \"ain't\": 89, 'there': 90, \"we're\": 91, 'again': 92, 'ah': 93, 'estoy': 94, 'gonna': 95, 'oo': 96, 'they': 97, 'every': 98, 'cause': 99, 'have': 100, 'how': 101, 'why': 102, 'tan': 103, 'was': 104, 'while': 105, 'let': 106, 'our': 107, 'looking': 108, 'money': 109, 'thing': 110, 'today': 111, 'es': 112, 'will': 113, 'day': 114, 'could': 115, 'put': 116, 'ya': 117, 'good': 118, 'not': 119, 'straight': 120, 'need': 121, 'fire': 122, \"won't\": 123, 'girls': 124, 'home': 125, 'eyes': 126, \"there's\": 127, 'watch': 128, 'hey': 129, 'leave': 130, 'did': 131, 'think': 132, 'world': 133, 'turn': 134, \"let's\": 135, 'some': 136, 'would': 137, \"she's\": 138, 'dance': 139, \"i've\": 140, 'smile': 141, \"i'd\": 142, \"you'll\": 143, 'tonight': 144, 'wait': 145, 'us': 146, 'try': 147, 'gotta': 148, 'believe': 149, 'perdiendo': 150, 'body': 151, 'before': 152, 'knows': 153, 'through': 154, 'whole': 155, 'new': 156, 'find': 157, 'feels': 158, 'lonely': 159, 'stay': 160, 'difícil': 161, 'mind': 162, 'little': 163, 'hard': 164, 'trying': 165, 'ever': 166, 'uptown': 167, 'funk': 168, 'off': 169, 'always': 170, 'pain': 171, 'mi': 172, 'esta': 173, 'yo': 174, 'estamos': 175, 'lucky': 176, 'same': 177, 'them': 178, 'tomorrow': 179, 'change': 180, 'around': 181, 'keep': 182, 'away': 183, 'life': 184, 'alright': 185, 'heart': 186, 'man': 187, 'slow': 188, 'place': 189, 'ok': 190, 'lights': 191, 'y': 192, 'de': 193, 'pero': 194, 'estás': 195, 'mirror': 196, 'kiss': 197, 'runaway': 198, 'something': 199, 'by': 200, 'then': 201, 'from': 202, 'hot': 203, 'who': 204, 'head': 205, 'somewhere': 206, 'other': 207, 'locked': 208, 'lejos': 209, 'lay': 210, 'hoo': 211, 'brain': 212, 'floor': 213, 'over': 214, 'hate': 215, 'than': 216, \"gon'\": 217, 'said': 218, 'next': 219, 'wish': 220, 'amazing': 221, \"we'll\": 222, 'young': 223, 'side': 224, 'wrong': 225, 'waiting': 226, 'en': 227, 'está': 228, 'everything': 229, 'well': 230, 'am': 231, 'about': 232, 'own': 233, 'stop': 234, 'whoa': 235, 'done': 236, 'coming': 237, 'shot': 238, 'twenty': 239, 'things': 240, 'first': 241, 'understand': 242, 'pretty': 243, 'babe': 244, 'lose': 245, 'drag': 246, 'sorrow': 247, 'messed': 248, 'sex': 249, 'heaven': 250, 'distancia': 251, 'matando': 252, 'control': 253, 'four': 254, 'everyday': 255, 'last': 256, 'damn': 257, 'old': 258, \"goin'\": 259, 'still': 260, 'ready': 261, 'these': 262, 'friends': 263, 'mine': 264, 'gone': 265, 'losing': 266, \"'til\": 267, 'thinking': 268, 'takes': 269, 'drop': 270, 'anything': 271, 'going': 272, 'para': 273, 'el': 274, '¿dónde': 275, 'ella': 276, 'talk': 277, 'close': 278, 'doing': 279, 'alone': 280, 'hear': 281, 'as': 282, 'far': 283, 'room': 284, 'brand': 285, 'feeling': 286, 'call': 287, 'or': 288, 'his': 289, 'he': 290, 'throw': 291, 'yes': 292, 'were': 293, 'oooh': 294, 'gold': 295, 'myself': 296, 'hold': 297, 'hands': 298, 'treasure': 299, 'ladies': 300, 'im': 301, 'tryna': 302, 'had': 303, 'mente': 304, 'esto': 305, 'name': 306, 'ask': 307, 'face': 308, 'phone': 309, 'hand': 310, 'lost': 311, 'door': 312, 'versace': 313, 'goodbye': 314, 'many': 315, 'fight': 316, 'chorus': 317, 'voices': 318, 'care': 319, 'two': 320, 'shining': 321, 'air': 322, \"wouldn't\": 323, 'fall': 324, 'perfect': 325, 'party': 326, 'karat': 327, 'true': 328, 'end': 329, 'work': 330, 'mom': 331, 'boy': 332, 'club': 333, 'burning': 334, 'ooooh': 335, 'liquor': 336, 'much': 337, 'paradise': 338, 'atrapados': 339, 'la': 340, 'cabeza': 341, 'player': 342, 'promise': 343, 'beautiful': 344, 'okay': 345, 'lips': 346, 'darling': 347, 'real': 348, 'fun': 349, 'late': 350, 'favorite': 351, 'getaway': 352, 'once': 353, 'wild': 354, 'touch': 355, \"drippin'\": 356, 'finesse': 357, \"where'd\": 358, 'da': 359, 'standing': 360, 'live': 361, 'has': 362, 'spend': 363, 'light': 364, 'bad': 365, 'swear': 366, 'stars': 367, 'hair': 368, 'sexy': 369, 'even': 370, 'break': 371, 'dancing': 372, 'moon': 373, 'magic': 374, 'soon': 375, 'matter': 376, 'talking': 377, 'play': 378, 'friend': 379, 'words': 380, 'nobody': 381, 'fast': 382, 'oohh': 383, 'block': 384, 'best': 385, 'rest': 386, 'estar': 387, 'mí': 388, 'perder': 389, 'jump': 390, 'billionaire': 391, 'laugh': 392, 'nothing': 393, 'woman': 394, \"y'all\": 395, 'count': 396, 'walk': 397, 'should': 398, 'calling': 399, 'please': 400, 'begins': 401, 'each': 402, 'finally': 403, \"you've\": 404, 'making': 405, 'since': 406, 'went': 407, 'ive': 408, 'press': 409, 'store': 410, 'top': 411, 'city': 412, 'deserve': 413, 'ice': 414, 'white': 415, 'hit': 416, 'everywhere': 417, 'left': 418, 'stops': 419, 'stares': 420, 'bed': 421, \"should've\": 422, 'seems': 423, 'else': 424, 'fine': 425, 'told': 426, 'killing': 427, 'morning': 428, 'both': 429, 'brooklyn': 430, 'natalie': 431, 'ooo': 432, 'gator': 433, 'cute': 434, 'nude': 435, 'catch': 436, 'high': 437, 'three': 438, 'line': 439, 'bring': 440, 'days': 441, 'todo': 442, 'lo': 443, 'tengo': 444, 'ver': 445, 'tu': 446, 'los': 447, 'días': 448, 'gustaría': 449, 'conmigo': 450, 'manera': 451, 'porque': 452, 'creo': 453, 'siente': 454, 'atrapado': 455, \"what's\": 456, 'pop': 457, \"talkin'\": 458, 'probably': 459, 'sing': 460, 'meet': 461, 'easy': 462, 'train': 463, 'inside': 464, \"warmin'\": 465, 'marry': 466, 'help': 467, 'another': 468, 'hope': 469, 'verse': 470, 'rain': 471, 'someone': 472, 'lord': 473, 'rolling': 474, 'stand': 475, 'distance': 476, 'naughty': 477, 'makes': 478, 'move': 479, 'shine': 480, 'sense': 481, 'madly': 482, 'sayin': 483, 'pimps': 484, '3x': 485, 'dim': 486, 'nowhere': 487, 'blues': 488, 'because': 489, 'shows': 490, 'open': 491, 'cool': 492, 'bright': 493, 'diamonds': 494, 'lady': 495, \"they're\": 496, 'really': 497, 'rather': 498, \"feelin'\": 499, 'naked': 500, 'yourself': 501, 'stuck': 502, 'cry': 503, 'shit': 504, \"sayin'\": 505, 'pick': 506, 'broken': 507, 'star': 508, 'dreams': 509, 'past': 510, 'behind': 511, 'taking': 512, 'yesterday': 513, 'lifetime': 514, 'truth': 515, \"didn't\": 516, 'big': 517, 'start': 518, 'gorillas': 519, 'pretend': 520, 'aint': 521, 'ahh': 522, 'everytime': 523, 'sweet': 524, 'greetings': 525, 'job': 526, 'pay': 527, 'rent': 528, 'between': 529, 'ways': 530, 'puedo': 531, 'tiempo': 532, 'todos': 533, 'contigo': 534, 'donde': 535, 'prefiero': 536, 'estuvieras': 537, 'aquí': 538, 'se': 539, 'como': 540, 'casa': 541, '¿puedes': 542, 'oírme': 543, 'llorar': 544, 'una': 545, 'va': 546, 'estribillo': 547, 'mismo': 548, 'vez': 549, 'tiene': 550, 'wake': 551, 'jewelry': 552, 'strawberry': 553, 'champagne': 554, 'silk': 555, 'sheets': 556, \"who's\": 557, 'smiling': 558, 'sure': 559, 'forget': 560, 'dream': 561, 'without': 562, 'sad': 563, 'message': 564, 'might': 565, 'bet': 566, 'gave': 567, 'loved': 568, 'hallelujah': 569, 'whoo': 570, 'fresh': 571, 'anymore': 572, 'dumb': 573, 'blame': 574, 'made': 575, 'shoulder': 576, 'wanted': 577, 'higher': 578, 'guess': 579, 'hurt': 580, \"there'll\": 581, \"darlin'\": 582, 'honey': 583, 'spell': 584, 'heard': 585, 'poor': 586, 'stone': 587, 'scared': 588, 'passed': 589, 'happen': 590, \"lookin'\": 591, 'wall': 592, 'pat': 593, 'getting': 594, 'death': 595, 'use': 596, 'already': 597, 'knew': 598, 'times': 599, 'exactly': 600, 'ohhhh': 601, 'sleep': 602, \"waitin'\": 603, 'forever': 604, 'digging': 605, 'special': 606, 'saying': 607, 'boom': 608, 'zoom': 609, 'strange': 610, 'shoot': 611, 'veins': 612, 'favourite': 613, 'part': 614, 'singing': 615, 'faith': 616, 'miracles': 617, 'spiritual': 618, 'knees': 619, 'ass': 620, 'word': 621, 'agree': 622, 'different': 623, 'an': 624, 'their': 625, 'music': 626, 'five': 627, 'searching': 628, 'nice': 629, 'mess': 630, 'strut': 631, 'asked': 632, 'die': 633, 'mad': 634, 'car': 635, 'called': 636, 'minute': 637, 'freaky': 638, 'reason': 639, 'shoulders': 640, 'afraid': 641, 'cares': 642, 'mean': 643, 'does': 644, 'hours': 645, 'chance': 646, 'remember': 647, 'pinky': 648, 'rings': 649, 'toe': 650, 'goes': 651, 'crazy': 652, 'sit': 653, 'fool': 654, 'though': 655, 'chains': 656, 'years': 657, 'tears': 658, \"must've\": 659, 'funny': 660, 'took': 661, 'worth': 662, 'running': 663, 'choose': 664, 'bar': 665, 'ends': 666, 'along': 667, 'desire': 668, \"i'ma\": 669, 'miss': 670, 'roll': 671, 'ohhh': 672, 'lovelies': 673, 'cross': 674, 'free': 675, 'moonshine': 676, 'welcome': 677, 'tempo': 678, 'guitar': 679, 'cops': 680, 'comes': 681, 'hay': 682, 'tantas': 683, 'canciones': 684, 'cantar': 685, 'pasar': 686, 'hacer': 687, 'foto': 688, 'un': 689, 'marco': 690, 'muy': 691, 'cerca': 692, 'cara': 693, 'sienten': 694, 'horas': 695, 'vuelvo': 696, 'pronto': 697, 'loco': 698, 'tratando': 699, 'sabe': 700, 'quiero': 701, 'ser': 702, 'amor': 703, 'por': 704, 'voy': 705, 'house': 706, 'serve': 707, 'cadillac': 708, 'miles': 709, 'f': 710, \"in'\": 711, 'prepare': 712, 'single': 713, 'playing': 714, 'compliment': 715, 'him': 716, 'pocket': 717, \"she'd\": 718, 'asking': 719, 'picking': 720, 'tone': 721, 'cant': 722, 'known': 723, 'tossed': 724, 'trash': 725, 'cold': 726, \"'bout\": 727, 'fill': 728, 'ride': 729, 'bitch': 730, 'above': 731, 'hide': 732, 'dress': 733, 'juice': 734, 'ring': 735, 'held': 736, 'selfish': 737, 'holds': 738, 'sky': 739, 'players': 740, \"'em\": 741, 'whoop': 742, 'fault': 743, 'save': 744, \"walkin'\": 745, 'eye': 746, 'looky': 747, 'grab': 748, 'holding': 749, 'heal': 750, 'ohh': 751, 'bind': 752, 'happiness': 753, \"life's\": 754, 'found': 755, 'rise': 756, 'taught': 757, 'ow': 758, 'activate': 759, 'silky': 760, 'smooth': 761, 'snap': 762, 'lean': 763, 'sheen': 764, 'ball': 765, \"here's\": 766, 'slide': 767, 'chunky': 768, 'hoops': 769, 'daisy': 770, 'dukes': 771, 'ones': 772, 'recruit': 773, 'roads': 774, 'drive': 775, 'bang': 776, 'lovers': 777, 'matters': 778, 'wonder': 779, 'listen': 780, 'scene': 781, \"got's\": 782, 'started': 783, 'named': 784, \"body's\": 785, '100': 786, 'degrees': 787, 'temperature': 788, 'sweating': 789, 'ay': 790, 'rush': 791, 'telling': 792, 'everyone': 793, 'complicated': 794, 'doubt': 795, 'x2': 796, 'didnt': 797, 'prisoner': 798, 'prison': 799, 'criminal': 800, 'led': 801, 'mall': 802, 'fits': 803, 'ninety': 804, 'whips': 805, \"standin'\": 806, 'table': 807, \"sippin'\": 808, 'ace': 809, 'spades': 810, 'shes': 811, 'victrola': 812, 'whiskey': 813, 'pores': 814, 'lotto': 815, 'tickets': 816, 'cheap': 817, 'beer': 818, 'scratch': 819, \"'68\": 820, 'cents': 821, 'junior': 822, 'gong': 823, 'flying': 824, 'superman': 825, 'pineapple': 826, 'kush': 827, 'jaws': 828, 'swimming': 829, 'born': 830, 'testify': 831, 'sinner': 832, 'gates': 833, 'pie': 834, 'dinner': 835, 'julio': 836, 'wallet': 837, 'buy': 838, 'oprah': 839, 'couple': 840, 'lot': 841, 'eating': 842, 'falls': 843, 'perfectly': 844, 'hates': 845, \"perfect's\": 846, 'bother': 847, 'feet': 848, \"freakin'\": 849, 'scream': 850, 'grenade': 851, 'blade': 852, 'front': 853, 'bullet': 854, 'black': 855, 'saturday': 856, 'spot': 857, 'sip': 858, 'check': 859, \"lil'\": 860, 'neck': 861, 'full': 862, 'blow': 863, 'supposed': 864, 'asleep': 865, 'oooooh': 866, 'realize': 867, 'flowers': 868, 'needs': 869, 'strong': 870, 'mistakes': 871, 'set': 872, 'red': 873, 'rocket': 874, 'preach': 875, 'used': 876, 'sunlight': 877, 'clear': 878, 'skies': 879, 'clouds': 880, \"it'll\": 881, 'ra': 882, 'ain': 883, 'daddy': 884, 'golden': 885, \"wasn't\": 886, 'hopes': 887, 'sits': 888, 'sun': 889, 'hello': 890, 'dad': 891, 'perm': 892, 'attitude': 893, 'relax': 894, 'fact': 895, 'band': 896, 'flat': 897, 'pass': 898, 'picture': 899, 'crying': 900, 'mommy': 901, 'into': 902, 'chest': 903, 'memory': 904, 'speak': 905, \"day's\": 906, 'loving': 907, 'nervous': 908, 'worry': 909, 'guys': 910, 'after': 911, 'covered': 912, 'leather': 913, 'unfair': 914, \"rockin'\": 915, \"ya'\": 916, \"i'\": 917, 'ma': 918, \"heat's\": 919, 'turning': 920, \"we've\": 921, 'read': 922, 'someday': 923, 'sometimes': 924, 'until': 925, 'together': 926, 'road': 927, 'pulling': 928, 'circle': 929, 'ran': 930, 'ditch': 931, 'quick': 932, 'bout': 933, 'decide': 934, 'alive': 935, 'father': 936, \"he'd\": 937, 'carry': 938, 'hits': 939, \"she'll\": 940, 'weird': 941, 'mail': 942, \"shinin'\": 943, \"baby's\": 944, 'noo': 945, 'thought': 946, 'lovely': 947, 'paid': 948, 'spike': 949, 'lee': 950, 'joint': 951, 'actions': 952, 'fiend': 953, \"somethin's\": 954, 'tells': 955, 'stick': 956, 'figure': 957, 'longer': 958, 'water': 959, 'quedando': 960, 'sin': 961, 'cosas': 962, 'sacarte': 963, 'ahora': 964, 'minutos': 965, 'las': 966, 'aunque': 967, 'sabes': 968, '¿qué': 969, 'haciendo': 970, 'esperar': 971, 'hacerle': 972, 'realmente': 973, 'encontrar': 974, 'dile': 975, 'sólo': 976, 'mano': 977, 'así': 978, 'único': 979, 'alguien': 980, 'podría': 981, 'venir': 982, 'apenas': 983, 'dicen': 984, 'temblando': 985, 'tierra': 986, 'pensando': 987, '¿estás': 988, 'hablando': 989, 'podía': 990, 'debe': 991, 'bala': 992, 'necesita': 993, 'inyección': 994, 'estallar': 995, 'borda': 996, 'sentir': 997, 'con': 998, 'ustedes': 999, 'nadie': 1000, 'más': 1001, 'hasta': 1002, 'aviso': 1003, 'necesito': 1004, 'saber': 1005, 'este': 1006, 'momento': 1007, 'estado': 1008, 'dame': 1009, 'oportunidad': 1010, 'chica': 1011, 'pone': 1012, 'nervioso': 1013, 'estas': 1014, 'alturas': 1015, 'debería': 1016, 'haberme': 1017, 'dado': 1018, 'cuenta': 1019, '¿y': 1020, 'qué': 1021, 'tomar': 1022, 'celestial': 1023, 'volviendo': 1024, 'condo': 1025, 'manhattan': 1026, \"hatnin'\": 1027, 'invited': 1028, \"clappin'\": 1029, 'beach': 1030, 'miami': 1031, 'jammies': 1032, 'nope': 1033, 'lobster': 1034, 'tail': 1035, 'scampi': 1036, 'trips': 1037, 'puerto': 1038, 'rico': 1039, 'fleeka': 1040, 'fleeko': 1041, 'mamacita': 1042, 'shopping': 1043, 'sprees': 1044, 'paris': 1045, 'karats': 1046, 'fairest': 1047, 'cover': 1048, 'forbes': 1049, 'magazine': 1050, 'queen': 1051, 'travie': 1052, 'pull': 1053, 'least': 1054, 'somebody': 1055, 'ho': 1056, 'stupid': 1057, 'everybody': 1058, \"doesn't\": 1059, 'flip': 1060, 'great': 1061, 'sorry': 1062, 'comb': 1063, 'birthday': 1064, 'blue': 1065, 'beat': 1066, 'devil': 1067, \"you'd\": 1068, 'police': 1069, 'fireman': 1070, 'dragon': 1071, 'retire': 1072, 'cup': 1073, 'flaunt': 1074, 'brag': 1075, \"watchin'\": 1076, 'underneath': 1077, 'chandelier': 1078, \"dancin'\": 1079, 'unzip': 1080, 'heels': 1081, 'confused': 1082, 'middle': 1083, 'song': 1084, 'bit': 1085, 'sound': 1086, 'breaks': 1087, 'sounds': 1088, 'mmm': 1089, 'bought': 1090, 'pride': 1091, 'finest': 1092, 'shoes': 1093, 'dangerous': 1094, 'waking': 1095, 'fix': 1096, 'jocking': 1097, 'hustlas': 1098, 'gangstas': 1099, 'haha': 1100, 'dip': 1101, 'pieces': 1102, 'bleeding': 1103, \"that'll\": 1104, 'attention': 1105, 'wonderful': 1106, 'neighbors': 1107, \"tryin'\": 1108, 'town': 1109, \"someone's\": 1110, 'wolf': 1111, 'sheeps': 1112, 'clothing': 1113, 'eager': 1114, 'bunnies': 1115, 'pursue': 1116, 'palm': 1117, 'carrot': 1118, 'share': 1119, 'seasons': 1120, 'win': 1121, 'angel': 1122, 'flies': 1123, 'satisfied': 1124, 'lies': 1125, 'soul': 1126, \"fuckin'\": 1127, 'smoke': 1128, 'momma': 1129, 'any': 1130, 'mars': 1131, 'woah': 1132, 'loosen': 1133, 'pour': 1134, 'card': 1135, 'booty': 1136, 'simple': 1137, 'songs': 1138, 'frame': 1139, 'fingers': 1140, 'tried': 1141, 'reach': 1142, 'voice': 1143, 'write': 1144, 'shake': 1145, 'cha': 1146, 'thirty': 1147, 'seven': 1148, 'steer': 1149, 'under': 1150, 'legs': 1151, 'jungle': 1152, 'killer': 1153, 'banging': 1154, 'gorilla': 1155, 'lover': 1156, 'knocking': 1157, 'screaming': 1158, 'felt': 1159, 'having': 1160, 'notice': 1161, 'spending': 1162, 'stronger': 1163, \"time's\": 1164, 'lead': 1165, 'expect': 1166, 'learn': 1167, 'empty': 1168, 'clothes': 1169, 'cream': 1170, 'melt': 1171, '1': 1172, 'spy': 1173, 'met': 1174, 'afar': 1175, 'lie': 1176, '2': 1177, 'story': 1178, 'against': 1179, 'being': 1180, 'came': 1181, 'corner': 1182, \"everyday's\": 1183, 'seen': 1184, 'match': 1185, 'clock': 1186, 'calls': 1187, 'eternity': 1188, 'apart': 1189, 'sunrise': 1190, 'says': 1191, 'moment': 1192, 'cannot': 1193, 'alicia': 1194, 'aisha': 1195, \"eesha's\": 1196, \"contemplatin'\": 1197, 'playa': 1198, \"hatin'\": 1199, 'hell': 1200, 'explain': 1201, 'dry': 1202, 'confidence': 1203, 'measurements': 1204, 'shut': 1205, 'sight': 1206, 'grind': 1207, 'fellas': 1208, 'proposition': 1209, 'till': 1210, 'god': 1211, 'blind': 1212, 'quite': 1213, 'insane': 1214, 'living': 1215, 'self': 1216, 'shelf': 1217, 'drunk': 1218, 'toast': 1219, 'fuck': 1220, 'dare': 1221, 'd': 1222, 'ha': 1223, 'pleasure': 1224, 'likes': 1225, 'enough': 1226, 'luck': 1227, 'moving': 1228, 'asks': 1229, 'saw': 1230, 'walls': 1231, 'closing': 1232, 'brown': 1233, 'maybe': 1234, 'turned': 1235, 'removed': 1236, 'whoever': 1237, 'outside': 1238, 'feelin': 1239, 'livin': 1240, 'super': 1241, 'holla': 1242, 'vuitton': 1243, 'aye': 1244, 'gotcha': 1245, 'return': 1246, 'seperated': 1247, 'replacement': 1248, 'almost': 1249, 'search': 1250, 'sobers': 1251, 'rushing': 1252, 'walkin': 1253, 'fuss': 1254, 'giving': 1255, 'youuu': 1256, 'seldom': 1257, 'shower': 1258, 'lotion': 1259, 'towel': 1260, 'perfection': 1261, 'reflection': 1262, 'evening': 1263, 'reservations': 1264, 'temptation': 1265, 'herself': 1266, 'finish': 1267, \"shakin'\": 1268, \"nothin'\": 1269, 'host': 1270, 'christmas': 1271, 'list': 1272, 'angelina': 1273, 'brad': 1274, 'pitt': 1275, 'adopt': 1276, 'bunch': 1277, 'babies': 1278, 's': 1279, 'few': 1280, 'mercedes': 1281, 'grant': 1282, 'months': 1283, 'claus': 1284, 'minus': 1285, 'hehe': 1286, 'visit': 1287, 'katrina': 1288, 'fema': 1289, 'imma': 1290, 'theme': 1291, 'basketball': 1292, 'president': 1293, 'dunking': 1294, 'delegates': 1295, 'political': 1296, 'etiquette': 1297, 'toss': 1298, 'milli': 1299, 'heck': 1300, 'twenties': 1301, 'tens': 1302, 'bens': 1303, 'completely': 1304, 'separate': 1305, 'tax': 1306, 'bracket': 1307, 'recession': 1308, 'crack': 1309, \"whatever's\": 1310, 'split': 1311, 'bucks': 1312, 'tummy': 1313, 'hungry': 1314, 'sleeping': 1315, 'soundly': 1316, 'similar': 1317, 'kick': 1318, 'stare': 1319, 'fan': 1320, 't': 1321, 'v': 1322, 'pants': 1323, \"nobody's\": 1324, \"loungin'\": 1325, 'couch': 1326, \"chillin'\": 1327, 'snuggie': 1328, 'mtv': 1329, 'teach': 1330, 'dougie': 1331, 'castle': 1332, 'p90x': 1333, 'college': 1334, 'degree': 1335, 'proud': 1336, 'pops': 1337, 'anywhere': 1338, 'suit': 1339, 'hang': 1340, 'loose': 1341, 'trouble': 1342, 'wide': 1343, 'numb': 1344, 'rip': 1345, 'brakes': 1346, 'burn': 1347, 'flames': 1348, 'liar': 1349, 'michelle': 1350, 'pfeiffer': 1351, 'hood': 1352, 'masterpieces': 1353, \"stylin'\": 1354, 'whilen': 1355, \"livin'\": 1356, 'chucks': 1357, 'saint': 1358, 'laurent': 1359, 'sign': 1360, 'stretch': 1361, 'harlem': 1362, 'hollywood': 1363, 'jackson': 1364, 'mississippi': 1365, 'smoother': 1366, 'jar': 1367, 'skippy': 1368, 'lemmi': 1369, 'chapel': 1370, 'boulevard': 1371, 'trashed': 1372, 'cash': 1373, 'shots': 1374, 'patron': 1375, 'choir': 1376, 'bells': 1377, 'sea': 1378, 'sail': 1379, 'dark': 1380, 'guide': 1381, \"tossin'\": 1382, \"turnin'\": 1383, 'beside': 1384, 'remind': 1385, 'bigger': 1386, 'radio': 1387, 'tear': 1388, 'ego': 1389, 'caused': 1390, 'clean': 1391, 'hunts': 1392, 'although': 1393, 'hurts': 1394, 'wrooooong': 1395, 'apologize': 1396, 'buys': 1397, \"yo'\": 1398, \"showin'\": 1399, 'wearing': 1400, 'cuban': 1401, 'links': 1402, 'designer': 1403, 'minks': 1404, \"inglewood's\": 1405, \"ya'self\": 1406, 'color': 1407, 'second': 1408, 'bitches': 1409, 'ugly': 1410, 'pimp': 1411, 'jesus': 1412, 'hashtag': 1413, 'blessed': 1414, 'wooh': 1415, 'invite': 1416, 'morphine': 1417, 'medication': 1418, 'religion': 1419, 'sacrifices': 1420, \"makin'\": 1421, \"mother's\": 1422, 'troublesome': 1423, 'guy': 1424, 'minds': 1425, 'flawless': 1426, 'ooooooooohhhhhhhhhhh': 1427, 'ooooooooooohhhhhhhhh': 1428, 'oooooooooohhhhhhhhhhhh': 1429, 'ooooooooooohhhhhhhhhhh': 1430, 'famous': 1431, 'year': 1432, 'working': 1433, 'fragile': 1434, \"heart's\": 1435, 'wondered': 1436, 'learnt': 1437, 'doubting': 1438, 'short': 1439, 'regrets': 1440, 'learning': 1441, 'happening': 1442, 'whether': 1443, 'lined': 1444, 'blood': 1445, 'disguise': 1446, 'hidden': 1447, 're': 1448, 'correct': 1449, 'guilt': 1450, 'beneath': 1451, 'shame': 1452, 'window': 1453, 'scars': 1454, 'remain': 1455, 'wayne': 1456, 'mirrors': 1457, \"blessin'\": 1458, 'clearer': 1459, 'starting': 1460, 'mj': 1461, 'bp': 1462, 'looks': 1463, 'walking': 1464, 'angry': 1465, 'autograph': 1466, 'penthouse': 1467, 'pen': 1468, 'rhythm': 1469, 'instagram': 1470, 'twitter': 1471, 'razzle': 1472, 'dazzle': 1473, 'stingy': 1474, \"ol'\": 1475, 'butt': 1476, 'follow': 1477, 'instructions': 1478, 'outta': 1479, 'minutes': 1480, 'small': 1481, 'piano': 1482, 'helps': 1483, 'superstar': 1484, 'singer': 1485, 'choice': 1486, 'rope': 1487, 'ill': 1488, 'parents': 1489, 'brush': 1490, 'teeth': 1491, 'throwing': 1492, 'shout': 1493, 'weave': 1494, 'strapped': 1495, 'tight': 1496, 'forty': 1497, 'squeeze': 1498, 'coupe': 1499, 'choo': 1500, 'oose': 1501, 'spent': 1502, 'fancy': 1503, 'eyed': 1504, 'hunnies': 1505, 'birds': 1506, 'addicted': 1507, 'believing': 1508, 'meets': 1509, 'wife': 1510, 'exist': 1511, 'bottle': 1512, 'cocaine': 1513, 'kicker': 1514, 'tall': 1515, 'fistful': 1516, 'yours': 1517, 'dirty': 1518, 'sheriff': 1519, 'swat': 1520, 'rocking': 1521, 'motherfucker': 1522, 'trembling': 1523, \"they've\": 1524, 'honesty': 1525, 'lesson': 1526, 'cruel': 1527, 'vicious': 1528, 'forgiveness': 1529, 'riding': 1530, \"danger's\": 1531, \"else's\": 1532, 'arms': 1533, 'seventeen': 1534, 'innocence': 1535, 'fell': 1536, 'starts': 1537, 'springtime': 1538, 'cupid': 1539, 'thank': 1540, 'ours': 1541, 'grows': 1542, 'very': 1543, 'faced': 1544, 'stubborn': 1545, 'proves': 1546, 'weak': 1547, 'realized': 1548, 'staring': 1549, 'hearts': 1550, 'required': 1551, 'planned': 1552, 'command': 1553, 'treat': 1554, 'princess': 1555, 'delicious': 1556, 'sunny': 1557, 'eat': 1558, 'treated': 1559, 'happily': 1560, 'point': 1561, 'hearted': 1562, 'pray': 1563, \"missin'\": 1564, 'sitting': 1565, 'nike': 1566, 'tops': 1567, 'listening': 1568, 'hip': 1569, 'hop': 1570, 'conversating': 1571, 'street': 1572, \"kickin'\": 1573, 'rocks': 1574, 'circling': 1575, 'green': 1576, 'farm': 1577, 'bush': 1578, 'checking': 1579, 'shop': 1580, \"tappin'\": 1581, \"people's\": 1582, \"askin'\": 1583, \"goodlookin'\": 1584, \"droppin'\": 1585, 'low': 1586, 'faded': 1587, 'celebration': 1588, 'celebrate': 1589, \"starin'\": 1590, 'crawling': 1591, \"touchin'\": 1592, \"kissin'\": 1593, \"lovin'\": 1594, 'melting': 1595, 'flame': 1596, 'strikes': 1597, \"detector's\": 1598, \"neighbour's\": 1599, 'trucks': 1600, 'beating': 1601, 'breath': 1602, 'leaving': 1603, 'letters': 1604, 'prove': 1605, 'build': 1606, 'kind': 1607, 'ladder': 1608, 'secrets': 1609, 'tearing': 1610, 'war': 1611, 'safe': 1612, 'warm': 1613, 'sanctuary': 1614, 'storm': 1615, 'questions': 1616, 'fade': 1617, 'signs': 1618, 'mere': 1619, 'coincidence': 1620, 'ocean': 1621, 'bold': 1622, 'team': 1623, 'act': 1624, 'fly': 1625, 'standby': 1626, \"sendin'\": 1627, 'voicemail': 1628, 'suga': 1629, 'ought': 1630, 'ashamed': 1631, \"playin'\": 1632, 'childish': 1633, 'games': 1634, 'brokenhearted': 1635, \"somebody's\": 1636, 'hi': 1637, 'reached': 1638, 'halle': 1639, 'berry': 1640, 'number': 1641, 'heads': 1642, \"connection's\": 1643, 'magnetic': 1644, 'hanging': 1645, \"everything's\": 1646, 'bedly': 1647, 'touching': 1648, 'gently': 1649, '6': 1650, 'undid': 1651, 'seatbelt': 1652, 'lyrics': 1653, 'delay': 1654, 'dusty': 1655, 'learned': 1656, 'gambling': 1657, 'dice': 1658, 'snake': 1659, 'ruined': 1660, 'lock': 1661, 'bless': 1662, 'cursed': 1663, 'which': 1664, \"payback's\": 1665, 'begging': 1666, 'jail': 1667, 'cell': 1668, 'played': 1669, 'game': 1670, 'insomnia': 1671, 'wonderland': 1672, 'narnia': 1673, 'monster': 1674, 'frankenstein': 1675, 'frankly': 1676, 'price': 1677, 'problems': 1678, 'streets': 1679, 'join': 1680, 'huh': 1681, 'kissed': 1682, 'incredible': 1683, 'chemicals': 1684, 'escape': 1685, 'extraordinary': 1686, 'lift': 1687, 'ru': 1688, 'laughs': 1689, 'drove': 1690, 'bus': 1691, 'waste': 1692, 'island': 1693, 'ticket': 1694, 'x3': 1695, 'barely': 1696, 'understands': 1697, 'son': 1698, 'quiting': 1699, 'advice': 1700, \"ya'll\": 1701, 'quit': 1702, 'nose': 1703, 'belly': 1704, 'chin': 1705, 'toes': 1706, 'won': 1707, 'fought': 1708, 'rollerskates': 1709, 'skate': 1710, 'trip': 1711, 'skip': 1712, 'tip': 1713, 'slip': 1714, 'skating': 1715, 'across': 1716, 'grooving': 1717, 'pack': 1718, 'repeat': 1719, 'imagining': 1720, 'dressed': 1721, 'feathers': 1722, 'glow': 1723, \"jungle's\": 1724, 'precious': 1725, 'jewel': 1726, 'returned': 1727, 'circus': 1728, 'dared': 1729, 'seemed': 1730, \"couldn't\": 1731, 'kept': 1732, 'reaching': 1733, 'watched': 1734, 'thousand': 1735, 'future': 1736, 'sleepin': 1737, 'anothers': 1738, 'dreamin': 1739, 'lied': 1740, 'isnt': 1741, 'wedding': 1742, 'gown': 1743, 'missing': 1744, 'daydreaming': 1745, 'misery': 1746, 'falling': 1747, 'breathe': 1748, 'shaking': 1749, 'ground': 1750, 'concerned': 1751, 'gunshot': 1752, 'wasting': 1753, 'noticed': 1754, 'heavenly': 1755, 'drawing': 1756, 'driving': 1757, \"would've\": 1758, 'stayed': 1759, 'missed': 1760, 'stood': 1761, 'caught': 1762, 'sweep': 1763, 'waited': 1764, 'believed': 1765, 'glad': 1766, 'knowing': 1767, 'helpless': 1768, 'difference': 1769, 'comfortable': 1770, 'standin': 1771, 'lookin': 1772, 'yea': 1773, 'models': 1774, 'buyin': 1775, 'bottles': 1776, 'haters': 1777, 'swallow': 1778, 'purse': 1779, 'lou': 1780, 'pumps': 1781, 'bag': 1782, 'case': 1783, 'checks': 1784, 'boys': 1785, 'getcha': 1786, 'paper': 1787, 'dimes': 1788, 'drinks': 1789, 'haa': 1790, 'stems': 1791, 'cherries': 1792, 'tied': 1793, 'tongue': 1794, 'squirter': 1795, 'cum': 1796, 'liked': 1797, 'percussions': 1798, 'drums': 1799, 'doctrine': 1800, 'sprung': 1801, 'weeks': 1802, 'wont': 1803, 'writings': 1804, 'product': 1805, 'gucci': 1806, 'juicy': 1807, 'louis': 1808, 'six': 1809, 'inch': 1810, 'heel': 1811, 'stilettos': 1812, 'turns': 1813, 'midnight': 1814, 'hour': 1815, 'early': 1816, 'homie': 1817, 'trippin': 1818, 'revoked': 1819, 'soft': 1820, \"doin'\": 1821, \"movin'\": 1822, 'instrumental': 1823, 'stage': 1824, 'stacks': 1825, 'freak': 1826, 'velvet': 1827, 'preachers': 1828, 'church': 1829, 'dollars': 1830, 'physical': 1831, 'mustve': 1832, 'beauty': 1833, 'strobe': 1834, 'crowd': 1835, 'shawty': 1836, 'walked': 1837, 'headed': 1838, 'dj': 1839, 'booth': 1840, \"callin'\": 1841, 'suppose': 1842, 'later': 1843, 'appreciate': 1844, 'ooohh': 1845, 'thats': 1846, 'youuuu': 1847, 'yooou': 1848, '3am': 1849, 'fooled': 1850, 'quickly': 1851, 'happens': 1852, \"nothing's\": 1853, 'changing': 1854, 'decisions': 1855, 'string': 1856, 'allow': 1857, 'freely': 1858, 'dreamed': 1859, 'dreaming': 1860, 'bottom': 1861, 'moments': 1862, 'wakes': 1863, 'jumps': 1864, 'rubs': 1865, 'wrapped': 1866, 'bathrooms': 1867, 'showing': 1868, 'nooo': 1869, 'noooo': 1870, 'impatient': 1871, 'gets': 1872, 'cancel': 1873, 'plans': 1874, 'ohhhhh': 1875, \"music's\": 1876, 'bedroom': 1877, 'closer': 1878, 'space': 1879, 'hips': 1880, 'licking': 1881, 'secret': 1882, 'dish': 1883, 'usually': 1884, 'nonchalant': 1885, 'feelings': 1886, 'conceal': 1887, 'must': 1888, 'admit': 1889, 'speaking': 1890, 'million': 1891, \"givin'\": 1892, 'gives': 1893, 'wear': 1894, 'sleeve': 1895, 'bridge': 1896}\n"
          ]
        }
      ],
      "source": [
        "# El índice para cada palabra\n",
        "# El sistema las ordena de las más populares a las menos populares\n",
        "print(tok.word_index)"
      ]
    },
    {
      "cell_type": "code",
      "execution_count": 86,
      "metadata": {
        "id": "nUDkjy80c77h",
        "colab": {
          "base_uri": "https://localhost:8080/"
        },
        "outputId": "1d9d6f11-9592-4fe4-ee53-37f13c5bae59"
      },
      "outputs": [
        {
          "output_type": "stream",
          "name": "stdout",
          "text": [
            "defaultdict(<class 'int'>, {'the': 599, 'liquor': 12, 'world': 35, 'now': 103, 'at': 61, 'store': 9, 'standing': 11, 'to': 428, 'this': 126, 'greetings': 6, 'my': 353, 'through': 31, 'pores': 3, 'coming': 15, 'whiskey': 3, 'like': 190, 'feeling': 14, 'run': 38, 'whole': 31, 'i': 771, 'block': 10, 'beer': 3, 'lotto': 3, 'tickets': 3, 'cheap': 3, 'can': 105, \"that's\": 71, 'you': 885, 'me': 510, 'why': 43, 'catch': 8, 'here': 76, 'got': 133, 'tryna': 14, 'way': 93, 'up': 197, \"'cause\": 121, 'scratch': 3, 'job': 6, 'going': 16, 'nowhere': 7, 'top': 9, \"ain't\": 52, 'so': 230, 'thing': 44, 'a': 318, 'lose': 18, 'place': 24, 'where': 60, \"don't\": 180, 'care': 12, 'take': 103, 'pain': 28, 'one': 74, \"i'll\": 84, 'shot': 19, 'and': 346, 'blues': 7, 'for': 253, 'is': 162, 'sorrow': 18, 'drag': 18, 'messed': 18, 'today': 44, 'get': 90, 'tomorrow': 25, 'ok': 20, 'be': 157, 'guitar': 4, 'tonight': 33, 'lights': 21, 'city': 9, 'singing': 5, 'than': 21, 'more': 47, 'live': 11, 'on': 233, 'what': 172, 'rent': 6, 'cents': 3, \"'68\": 3, 'gonna': 46, 'pay': 6, 'cops': 4, 'out': 101, \"'til\": 17, 'call': 14, 'they': 47, 'junior': 3, 'comes': 4, \"i'm\": 213, 'superman': 3, 'high': 8, 'flying': 3, 'gong': 3, 'thinking': 14, 'that': 193, 'jaws': 3, 'because': 7, 'between': 6, 'kush': 3, 'pineapple': 3, 'if': 122, \"it's\": 122, 'just': 178, 'know': 168, 'give': 52, 'has': 11, 'two': 11, 'best': 10, 'three': 8, 'oh': 232, 'yeah': 162, 'believe': 26, 'uh': 53, 'much': 12, 'in': 247, 'miracles': 3, 'had': 13, 'never': 68, 'love': 102, 'or': 15, 'faith': 5, 'put': 42, 'heart': 25, 'wanna': 67, 'line': 8, 'your': 196, 'something': 22, 'spiritual': 3, 'but': 156, 'water': 2, 'swimming': 3, 'paradise': 12, 'sex': 18, 'time': 78, 'night': 69, 'spend': 11, 'every': 46, 'again': 49, 'born': 3, 'takes': 17, 'it': 378, 'shows': 7, 'make': 87, 'heaven': 18, 'been': 67, 'feel': 68, \"i've\": 34, 'of': 114, 'locked': 20, 'too': 60, 'long': 56, 'bring': 8, 'knees': 5, 'testify': 3, 'ways': 6, 'change': 25, 'sinner': 3, 'his': 15, 'wait': 29, 'cause': 49, \"can't\": 74, 'light': 11, 'gates': 3, 'see': 86, 'open': 6, 'right': 56, 'there': 55, 'stay': 29, 'days': 8, 'rest': 10, 'tantas': 4, 'canciones': 4, 'hay': 4, 'puedo': 6, 'tiempo': 6, 'pasar': 4, 'que': 58, 'para': 14, 'el': 16, 'cantar': 4, 'estoy': 52, 'quedando': 2, 'sin': 2, 'y': 24, 'hacer': 4, 'cosas': 2, 'mi': 28, 'sacarte': 2, 'de': 22, 'mente': 14, 'lo': 8, 'foto': 4, 'en': 20, 'marco': 4, 'todo': 6, 'esta': 28, 'un': 4, 'es': 44, 'tengo': 8, 'muy': 4, 'donde': 6, 'todos': 6, 'días': 8, 'cerca': 4, 'ver': 8, 'los': 8, 'cara': 4, 'tu': 7, 'contigo': 6, 'yo': 26, 'estar': 10, 'prefiero': 6, 'estamos': 28, 'esto': 14, 'pero': 24, 'atrapados': 12, 'tan': 48, 'difícil': 30, 'lejos': 22, 'estás': 24, 'está': 20, 'matando': 18, 'distancia': 18, 'gustaría': 8, 'estuvieras': 6, 'conmigo': 8, 'aquí': 6, '¿dónde': 16, 'ahora': 2, 'minutos': 2, 'sienten': 4, 'horas': 4, 'como': 6, 'se': 6, 'las': 2, 'aunque': 2, 'sabes': 2, 'casa': 6, 'no': 127, 'vuelvo': 4, 'pronto': 4, 'llorar': 6, '¿puedes': 6, 'oírme': 6, '¿qué': 2, 'loco': 4, 'esperar': 2, 'haciendo': 2, 'hacerle': 2, 'tratando': 4, 'ella': 16, 'realmente': 2, 'sabe': 4, 'encontrar': 2, 'una': 6, 'manera': 8, 'dile': 2, 'sólo': 2, 'va': 6, 'la': 12, 'mano': 2, 'así': 2, 'ser': 4, 'quiero': 4, 'único': 2, 'venir': 2, 'apenas': 2, 'alguien': 2, 'podría': 2, 'dicen': 2, 'por': 4, 'amor': 4, 'mí': 10, 'tierra': 2, 'pie': 3, 'temblando': 2, 'perder': 10, 'estribillo': 6, 'pensando': 2, 'voy': 4, 'cabeza': 12, 'perdiendo': 32, 'porque': 8, 'mismo': 6, 'control': 17, 'vez': 6, 'tiene': 6, 'hablando': 2, 'creo': 8, 'atrapado': 8, 'ya': 41, '¿estás': 2, 'siente': 8, 'podía': 2, 'debe': 2, 'bala': 2, 'estallar': 2, 'inyección': 2, 'borda': 2, 'necesita': 2, 'sentir': 2, 'nadie': 2, 'ustedes': 2, 'más': 2, 'con': 2, 'hasta': 2, 'aviso': 2, 'momento': 2, 'necesito': 2, 'saber': 2, 'este': 2, 'he': 15, 'estado': 2, 'oportunidad': 2, 'dame': 2, 'nervioso': 2, 'chica': 2, 'pone': 2, 'cuenta': 2, 'haberme': 2, 'estas': 2, 'dado': 2, 'debería': 2, 'alturas': 2, '¿y': 2, 'tomar': 2, 'qué': 2, 'celestial': 2, 'volviendo': 2, 'hey': 28, 'condo': 2, 'manhattan': 2, 'baby': 137, 'girl': 151, \"what's\": 8, \"hatnin'\": 2, 'invited': 2, 'ass': 5, \"clappin'\": 2, \"gon'\": 21, 'player': 12, 'go': 93, 'pop': 3, 'turn': 32, 'drop': 11, 'around': 26, 'beach': 2, 'house': 4, 'miami': 2, 'with': 91, 'wake': 6, 'nope': 2, 'jammies': 2, 'tail': 2, 'dinner': 3, 'lobster': 2, 'julio': 3, 'scampi': 2, 'serve': 4, 'want': 54, 'said': 20, 'cadillac': 4, 'wallet': 3, 'jump': 10, 'some': 35, \"let's\": 33, 'miles': 4, 'anything': 17, 'smile': 34, 'deserve': 5, 'all': 197, 'shining': 13, 'bright': 7, 'cool': 7, 'jewelry': 6, 'ice': 9, 'champagne': 6, 'strawberry': 6, 'lucky': 28, 'by': 23, 'fire': 27, 'silk': 6, 'diamonds': 7, 'sheets': 6, 'white': 9, 'rico': 2, \"talkin'\": 8, 'trips': 2, 'puerto': 2, 'we': 160, 'word': 5, 'say': 82, 'fleeka': 2, 'fleeko': 2, 'mamacita': 2, 'promise': 12, 'keep': 26, 'will': 40, 'leave': 38, 'sprees': 2, 'shopping': 2, 'paris': 2, 'twenty': 15, 'karats': 2, 'everything': 17, 'four': 14, 'mirror': 24, 'look': 54, 'tell': 74, \"who's\": 6, 'fairest': 2, 'agree': 5, 'us': 30, 'good': 36, 'well': 20, 'am': 18, 'talk': 12, 'mind': 29, 'come': 67, 'do': 141, 'bad': 11, 'f': 4, \"in'\": 4, 'billionaire': 9, 'buy': 3, 'things': 19, 'forbes': 2, 'cover': 2, 'magazine': 2, 'queen': 2, 'close': 14, 'smiling': 6, 'oprah': 3, 'next': 21, 'eyes': 34, 'name': 14, 'different': 5, 'better': 47, 'swear': 11, 'prepare': 4, 'would': 36, 'have': 48, 'show': 43, 'when': 125, 'host': 1, 'everyday': 18, 'christmas': 1, 'wish': 20, 'travie': 2, 'list': 1, 'an': 5, 'pitt': 1, 'brad': 1, 'probably': 8, 'pull': 2, \"i'd\": 33, 'angelina': 1, 's': 1, 'adopt': 1, 'bunch': 1, 'babies': 1, 'lady': 7, 'away': 26, 'mercedes': 1, 'few': 1, 'last': 11, 'grant': 1, 'somebody': 2, 'not': 42, 'their': 4, 'least': 2, 'couple': 3, 'single': 4, 'months': 1, 'ho': 1, 'claus': 1, 'minus': 1, 'hit': 9, 'katrina': 1, 'visit': 1, 'hehe': 1, 'did': 38, 'lot': 3, 'damn': 16, 'fema': 1, 'sure': 6, 'stupid': 2, 'forget': 6, 'about': 20, 'everywhere': 9, 'imma': 1, 'music': 5, 'theme': 1, 'own': 16, 'ooh': 59, 'playing': 3, 'president': 1, 'basketball': 1, 'dunking': 1, 'delegates': 1, 'him': 4, 'political': 1, 'then': 23, 'etiquette': 1, 'compliment': 4, 'milli': 1, 'heck': 1, 'toss': 1, 'air': 12, 'five': 5, 'separate': 1, 'completely': 1, 'bens': 1, 'twenties': 1, 'tens': 1, 'new': 27, 'bracket': 1, 'tax': 1, 'crack': 1, 'recession': 1, 'let': 44, 'left': 7, 'split': 1, \"whatever's\": 1, 'everybody': 2, 'bucks': 1, 'was': 44, 'hungry': 1, 'tummy': 1, 'eating': 3, 'soundly': 1, 'sleeping': 1, 'dream': 6, 'similar': 1, 'pocket': 4, 'sing': 7, 'stars': 11, \"they're\": 7, 'her': 134, 'perfectly': 3, 'hair': 8, 'trying': 27, 'falls': 3, 'without': 6, 'beautiful': 12, \"she's\": 36, 'she': 118, \"won't\": 38, 'think': 33, 'sad': 6, \"doesn't\": 2, 'ask': 14, 'okay': 12, 'face': 14, \"there's\": 35, 'amazing': 21, \"you're\": 121, 'are': 97, 'stops': 9, 'stares': 9, 'while': 46, 'them': 27, 'could': 42, 'day': 44, \"she'd\": 4, 'lips': 9, 'kiss': 24, 'laugh': 5, 'sexy': 9, 'hates': 3, \"perfect's\": 3, 'searching': 5, 'same': 27, 'bother': 3, 'asking': 4, 'even': 11, 'doing': 16, 'bed': 9, 'lay': 21, 'picking': 4, 'phone': 12, 'message': 6, 'tone': 4, 'kick': 1, 'feet': 3, 'stare': 1, 'fan': 1, 'v': 1, 't': 1, 'throw': 15, 'hand': 14, 'pants': 1, 'cant': 4, \"chillin'\": 1, 'snuggie': 1, \"nobody's\": 1, 'couch': 1, \"loungin'\": 1, 'how': 49, 'teach': 1, 'flip': 2, 'dougie': 1, 'mtv': 1, 'castle': 1, 'man': 25, \"freakin'\": 3, 'yes': 15, 'nothing': 10, 'hoo': 18, 'p90x': 1, 'meet': 8, 'nice': 4, 'really': 5, 'college': 1, 'scream': 3, 'great': 2, 'degree': 1, 'mess': 5, 'might': 6, 'proud': 1, 'old': 18, 'bet': 6, 'pops': 1, 'sorry': 2, \"you'll\": 33, 'comb': 2, 'anywhere': 1, \"goin'\": 10, 'strut': 5, 'birthday': 2, 'suit': 1, 'hang': 1, 'loose': 1, 'easy': 7, 'trouble': 1, 'first': 19, 'known': 3, \"should've\": 8, 'from': 23, 'gave': 6, 'were': 14, 'tossed': 4, 'trash': 4, 'wide': 1, 'ever': 28, 'asked': 5, 'understand': 19, 'grenade': 3, 'blade': 3, 'front': 3, 'train': 8, 'brain': 10, 'bullet': 3, 'straight': 24, 'die': 5, 'numb': 1, 'blue': 2, 'beat': 2, 'black': 1, 'back': 56, 'devil': 2, 'mad': 5, 'woman': 9, 'car': 5, 'rip': 1, 'brakes': 1, 'oooh': 15, 'body': 26, 'flames': 1, 'watch': 33, 'down': 52, 'burn': 1, \"you'd\": 2, 'liar': 1, 'loved': 4, 'still': 18, 'darling': 12, \"wouldn't\": 13, 'cold': 4, 'michelle': 1, 'gold': 15, 'pfeiffer': 1, 'girls': 41, 'hood': 1, 'masterpieces': 1, 'whilen': 1, \"stylin'\": 1, \"livin'\": 1, 'laurent': 1, 'chucks': 1, 'saint': 1, 'myself': 15, 'hot': 13, 'pretty': 17, 'called': 5, 'police': 2, 'fireman': 2, 'retire': 2, 'dragon': 2, 'who': 23, \"'bout\": 4, 'whoo': 6, 'money': 23, 'hallelujah': 6, 'break': 11, 'uptown': 29, 'funk': 29, 'saturday': 3, 'spot': 3, 'stop': 18, 'minute': 5, 'cup': 2, 'fill': 4, 'check': 3, 'sign': 1, 'sip': 2, 'stretch': 1, 'ride': 4, 'harlem': 1, 'hollywood': 1, 'jackson': 1, 'mississippi': 1, 'skippy': 1, 'fresh': 6, 'smoother': 1, 'jar': 1, 'bitch': 4, 'before': 32, \"y'all\": 8, \"lil'\": 3, 'lemmi': 1, 'dance': 32, 'flaunt': 2, 'freaky': 5, 'brag': 2, 'our': 45, 'above': 4, \"watchin'\": 2, 'rather': 7, 'lost': 13, 'chandelier': 2, 'underneath': 2, \"dancin'\": 2, \"we're\": 55, 'alone': 16, 'reason': 5, 'hide': 4, 'inside': 6, \"feelin'\": 7, 'door': 12, 'dress': 4, 'need': 41, 'anymore': 6, 'versace': 14, 'floor': 20, 'naked': 7, 'off': 29, 'unzip': 2, 'fall': 13, 'shoulders': 5, 'neck': 3, 'afraid': 5, 'hold': 15, 'ready': 15, 'perfect': 13, 'head': 22, 'heels': 2, 'confused': 2, 'real': 10, \"warmin'\": 8, 'seems': 9, 'dumb': 6, 'looking': 44, 'marry': 8, 'juice': 4, 'these': 17, 'dancing': 11, 'cares': 5, 'boulevard': 1, 'chapel': 1, 'little': 29, 'cash': 1, 'full': 3, 'blow': 3, 'trashed': 1, 'shots': 1, 'patron': 1, \"we'll\": 21, 'ring': 3, 'choir': 1, 'bells': 1, 'blame': 6, 'fun': 12, 'find': 30, 'yourself': 7, 'middle': 2, 'stuck': 7, 'sea': 1, 'sail': 1, 'dark': 1, 'guide': 1, 'made': 6, 'friends': 18, 'help': 8, 'count': 9, 'supposed': 3, 'whoa': 5, \"turnin'\": 1, \"tossin'\": 1, 'asleep': 3, 'song': 2, 'beside': 1, 'mean': 5, 'remind': 1, 'cry': 4, 'shoulder': 6, 'always': 29, 'goodbye': 9, 'feels': 30, 'bigger': 1, 'bit': 2, 'radio': 1, 'sound': 2, 'does': 5, 'tear': 1, 'breaks': 2, 'hear': 16, 'sounds': 2, 'oooooh': 3, 'young': 21, 'realize': 3, 'mmm': 2, 'bought': 2, 'flowers': 3, 'held': 4, 'hours': 5, 'chance': 5, 'party': 9, 'wanted': 6, 'selfish': 4, 'pride': 2, 'ego': 1, 'another': 8, 'needs': 3, 'strong': 3, 'caused': 1, 'life': 26, 'walk': 10, 'clean': 1, 'hunts': 1, 'although': 1, 'hurts': 1, 'wrooooong': 1, 'late': 12, 'apologize': 1, 'mistakes': 3, 'try': 23, 'buys': 1, 'hope': 8, 'holds': 4, 'remember': 5, 'done': 19, 'higher': 5, 'hands': 15, 'sky': 4, 'moon': 11, 'set': 3, 'pinky': 5, 'players': 4, \"yo'\": 1, 'rings': 5, 'magic': 9, 'karat': 9, 'toe': 5, 'guess': 6, \"'em\": 4, \"showin'\": 1, 'as': 11, 'soon': 8, 'wearing': 1, 'links': 1, 'cuban': 1, 'designer': 1, 'minks': 1, \"inglewood's\": 1, 'whoop': 2, 'finest': 2, 'shoes': 2, \"ya'self\": 1, 'hurt': 6, 'hard': 28, 'dangerous': 2, 'red': 3, 'color': 1, 'shit': 7, 'many': 14, 'waking': 2, 'rocket': 3, 'only': 55, 'jocking': 2, 'fault': 4, 'fix': 2, 'verse': 8, 'second': 1, 'hustlas': 1, 'gangstas': 1, 'ugly': 1, 'bitches': 1, 'haha': 2, 'preach': 2, 'pimp': 1, 'gotta': 32, 'dip': 1, 'jesus': 1, 'hashtag': 1, 'blessed': 1, 'wooh': 1, 'invite': 1, 'fight': 12, 'morphine': 1, 'medication': 1, 'used': 3, 'save': 4, 'religion': 1, 'matter': 11, \"makin'\": 1, 'sacrifices': 1, 'side': 16, \"there'll\": 6, \"walkin'\": 4, 'sunlight': 3, 'clear': 3, 'skies': 3, 'clouds': 3, 'favorite': 11, 'ain': 3, \"mother's\": 1, \"it'll\": 3, 'ra': 3, 'rain': 5, 'daddy': 3, 'eye': 4, 'goes': 5, \"sayin'\": 7, 'troublesome': 1, 'guy': 1, 'minds': 1, \"darlin'\": 6, 'pick': 5, 'bleeding': 2, 'broken': 7, 'pieces': 2, 'mine': 12, \"that'll\": 2, 'attention': 2, 'flawless': 1, 'wonderful': 2, 'someone': 8, 'ooooooooohhhhhhhhhhh': 1, 'else': 8, 'fine': 5, 'treasure': 11, 'ooooooooooohhhhhhhhh': 1, 'honey': 6, 'golden': 3, 'star': 7, 'true': 13, 'should': 9, 'dreams': 7, \"wasn't\": 3, 'oooooooooohhhhhhhhhhhh': 1, 'ooooooooooohhhhhhhhhhh': 1, 'somewhere': 11, 'far': 16, 'crazy': 5, 'neighbors': 2, 'room': 12, 'sit': 4, 'talking': 11, \"tryin'\": 2, 'hopes': 3, 'other': 22, 'fool': 5, 'sits': 3, 'famous': 1, 'town': 2, 'gone': 16, 'sun': 3, \"someone's\": 2, 'ah': 20, 'calling': 5, 'looky': 2, 'grab': 4, 'sheeps': 2, 'wolf': 2, 'clothing': 2, 'end': 13, 'holding': 4, 'please': 8, 'play': 11, 'runaway': 12, 'spell': 6, 'getaway': 6, 'heard': 6, 'poor': 6, 'rolling': 8, 'lord': 8, 'stone': 6, 'knows': 19, 'pursue': 2, 'bunnies': 2, 'eager': 2, 'palm': 2, 'though': 5, 'share': 2, 'carrot': 2, 'work': 13, 'scared': 5, 'year': 1, 'working': 1, 'friend': 11, 'wrong': 18, 'fragile': 1, \"heart's\": 1, 'wondered': 1, 'seasons': 2, 'ohh': 4, 'heal': 4, 'chorus': 14, 'chains': 5, 'bind': 4, 'happiness': 4, 'past': 7, 'begins': 10, 'behind': 7, 'taking': 7, 'waiting': 21, 'yesterday': 7, 'learnt': 1, 'doubting': 1, 'win': 2, 'regrets': 1, \"life's\": 4, 'short': 1, 'learning': 1, 'angel': 2, 'words': 9, 'years': 5, 'happen': 6, 'passed': 6, 'stand': 8, 'tears': 5, \"must've\": 5, 'hello': 3, 'flies': 2, 'funny': 5, 'lifetime': 7, 'each': 10, 'took': 5, 'found': 4, 'finally': 10, 'worth': 5, 'happening': 1, 'whether': 1, 'lined': 1, \"lookin'\": 6, 'blood': 1, 'disguise': 1, 'hidden': 1, 'satisfied': 2, 'nobody': 11, 'wall': 6, 'rise': 4, \"you've\": 10, 'told': 9, 'lies': 2, 'truth': 7, 're': 1, 'correct': 1, 'beneath': 1, 'guilt': 1, 'shame': 1, 'soul': 2, 'window': 1, 'scars': 1, 'remain': 1, 'wayne': 1, 'dad': 3, \"fuckin'\": 2, 'smoke': 2, 'mirrors': 1, \"blessin'\": 1, 'momma': 2, 'any': 2, 'clearer': 1, 'taught': 4, 'mj': 1, 'starting': 1, 'mars': 2, 'walking': 1, 'bp': 1, 'looks': 1, 'angry': 1, \"didn't\": 7, 'over': 18, 'autograph': 1, 'penthouse': 1, 'pen': 1, 'rhythm': 1, 'twitter': 1, 'instagram': 1, 'woah': 2, 'loosen': 2, 'perm': 3, 'attitude': 3, 'pour': 2, 'relax': 3, 'band': 3, 'fact': 3, 'ow': 4, 'alright': 19, 'razzle': 1, 'card': 2, 'dazzle': 1, \"ol'\": 1, 'big': 7, 'stingy': 1, 'butt': 1, 'booty': 2, 'instructions': 1, 'activate': 2, 'follow': 1, 'simple': 2, 'smooth': 2, 'silky': 2, 'snap': 2, 'sheen': 2, 'lean': 2, 'flat': 3, 'pat': 2, 'songs': 2, 'pass': 3, 'running': 5, 'outta': 1, 'picture': 3, 'frame': 2, 'distance': 8, 'killing': 9, 'minutes': 1, 'home': 35, 'crying': 3, 'mom': 11, 'ball': 4, 'mommy': 3, 'small': 1, 'fingers': 2, 'tried': 2, 'reach': 2, 'piano': 1, 'voice': 2, 'helps': 1, 'superstar': 1, 'choice': 1, 'singer': 1, 'rope': 1, 'choose': 4, 'write': 2, 'ill': 1, 'parents': 1, 'brush': 1, 'teeth': 1, 'morning': 8, 'shake': 1, 'throwing': 1, 'shout': 1, 'naughty': 4, 'getting': 6, \"here's\": 4, 'boy': 13, 'bar': 5, 'slide': 4, 'chunky': 4, 'hoops': 4, 'daisy': 4, 'dukes': 4, 'recruit': 4, 'ones': 4, 'strapped': 1, 'tight': 1, 'weave': 1, 'once': 12, 'cha': 1, 'thirty': 2, 'seven': 1, 'forty': 1, 'coupe': 1, 'squeeze': 1, 'into': 3, 'oose': 1, 'choo': 1, 'fancy': 1, 'spent': 1, 'hunnies': 1, 'eyed': 1, 'birds': 1, 'start': 7, 'addicted': 1, 'steer': 2, 'roads': 4, 'wild': 12, 'drive': 4, 'death': 3, 'under': 2, 'believing': 1, 'meets': 1, 'wife': 1, 'makes': 8, 'exist': 1, 'bottle': 1, 'cocaine': 1, 'kicker': 1, 'tall': 1, 'legs': 2, 'jungle': 2, 'chest': 3, 'banging': 2, 'killer': 2, 'making': 10, 'gorillas': 7, 'bang': 2, 'gorilla': 2, 'fistful': 1, 'yours': 1, 'dirty': 1, 'lover': 2, 'use': 6, 'sheriff': 1, 'swat': 1, 'rocking': 1, 'knocking': 2, 'screaming': 2, 'motherfucker': 1, 'felt': 2, 'trembling': 1, \"they've\": 1, 'pretend': 7, 'having': 2, 'memory': 3, 'lovers': 4, 'ends': 5, 'matters': 4, 'honesty': 1, 'speak': 3, 'already': 5, 'since': 7, 'lesson': 1, 'vicious': 1, 'cruel': 1, 'forgiveness': 1, \"danger's\": 1, 'riding': 1, 'knew': 6, 'arms': 1, \"else's\": 1, 'seventeen': 1, 'innocence': 1, 'notice': 2, 'fell': 1, 'spending': 2, \"day's\": 3, 'loving': 3, 'starts': 1, 'wonder': 4, 'springtime': 1, 'cupid': 1, 'grows': 1, 'stronger': 2, 'ours': 1, 'thank': 1, \"time's\": 2, 'very': 1, 'faced': 1, 'stubborn': 1, 'proves': 1, 'lead': 2, 'expect': 2, 'learn': 2, 'move': 5, 'weak': 1, 'along': 5, 'times': 6, 'listen': 4, 'realized': 1, 'babe': 9, 'brand': 12, 'empty': 2, 'staring': 1, 'both': 9, 'hearts': 1, 'nervous': 3, 'worry': 3, 'slow': 19, 'planned': 1, 'required': 1, 'clothes': 2, 'command': 1, 'desire': 5, 'treat': 1, 'princess': 1, 'delicious': 1, 'melt': 2, 'eat': 1, 'cream': 2, 'sunny': 1, 'shine': 8, 'scene': 4, 'guys': 3, '1': 2, 'spy': 2, 'sense': 8, 'met': 2, 'afar': 2, \"i'ma\": 5, 'lie': 2, '2': 2, 'treated': 1, 'after': 3, 'happily': 1, 'story': 2, 'against': 2, \"got's\": 4, 'hearted': 1, 'point': 1, 'being': 2, 'pray': 1, \"missin'\": 1, 'leather': 3, 'covered': 3, 'brooklyn': 9, 'unfair': 3, 'miss': 5, 'sitting': 1, 'tops': 1, 'hop': 1, 'listening': 1, 'hip': 1, 'nike': 1, 'started': 4, 'conversating': 1, 'came': 2, 'street': 1, 'rocks': 1, 'circling': 1, \"kickin'\": 1, 'checking': 1, 'shop': 1, 'farm': 1, 'green': 1, 'corner': 2, 'bush': 1, \"askin'\": 1, \"people's\": 1, \"tappin'\": 1, \"everyday's\": 2, 'named': 4, \"goodlookin'\": 1, 'seen': 2, 'low': 1, \"droppin'\": 1, \"rockin'\": 3, 'exactly': 6, 'faded': 1, 'celebration': 1, 'celebrate': 1, 'club': 13, \"starin'\": 1, 'ohhhh': 6, \"touchin'\": 1, \"ya'\": 1, 'crawling': 1, \"kissin'\": 1, \"lovin'\": 1, 'melting': 1, 'flame': 1, 'touch': 12, 'strikes': 1, 'match': 2, \"i'\": 3, 'ma': 3, 'roll': 3, \"heat's\": 2, \"body's\": 4, 'degrees': 4, '100': 4, 'burning': 10, 'temperature': 4, 'sweating': 4, \"detector's\": 1, \"neighbour's\": 1, 'trucks': 1, 'turning': 3, \"we've\": 3, 'ohhh': 4, 'fast': 11, 'beating': 1, 'breath': 1, 'leaving': 1, 'clock': 2, 'read': 3, 'calls': 2, 'letters': 1, 'prove': 1, 'build': 1, 'kind': 1, 'ladder': 1, 'eternity': 2, 'secrets': 1, 'sleep': 6, 'tearing': 1, 'apart': 2, 'someday': 3, 'sometimes': 3, 'sunrise': 2, 'says': 2, 'madly': 8, 'war': 1, 'warm': 1, 'moment': 2, 'safe': 1, 'storm': 1, 'sanctuary': 1, 'signs': 1, 'fade': 1, 'cannot': 2, 'questions': 1, 'until': 3, 'mere': 1, 'coincidence': 1, 'lonely': 26, 'ocean': 1, 'bold': 1, 'team': 1, 'act': 1, 'alicia': 2, \"waitin'\": 4, 'aisha': 2, \"eesha's\": 2, 'playa': 2, \"hatin'\": 2, \"contemplatin'\": 2, 'lovelies': 3, 'standby': 1, 'fly': 1, 'hell': 2, 'voicemail': 1, 'suga': 1, \"sendin'\": 1, 'childish': 1, 'ought': 1, \"playin'\": 1, 'ashamed': 1, 'games': 1, 'brokenhearted': 1, 'explain': 2, \"somebody's\": 1, 'reached': 1, 'berry': 1, 'dry': 1, 'hi': 1, 'halle': 1, 'number': 1, 'together': 2, 'heads': 1, 'forever': 5, 'confidence': 2, 'measurements': 2, 'shut': 2, 'sight': 2, 'finesse': 12, \"drippin'\": 12, 'grind': 2, 'magnetic': 1, \"connection's\": 1, 'ladies': 15, 'fellas': 2, 'ay': 4, 'hanging': 1, \"everything's\": 1, 'bedly': 1, 'touching': 1, 'gently': 1, 'proposition': 2, 'road': 3, 'rush': 4, 'aint': 7, 'pulling': 3, 'circle': 3, '6': 1, 'seatbelt': 1, 'undid': 1, 'lyrics': 1, 'till': 2, 'delay': 1, 'telling': 4, 'dusty': 1, 'learned': 1, 'god': 2, 'blind': 2, 'gambling': 1, 'dice': 1, 'ruined': 1, 'snake': 1, 'lock': 1, 'ran': 3, 'natalie': 9, 'everyone': 4, 'digging': 3, 'ditch': 3, 'quick': 3, 'bless': 1, 'cursed': 1, 'which': 1, \"payback's\": 1, 'begging': 1, 'jail': 1, 'bout': 3, 'cell': 1, 'played': 1, 'game': 1, 'complicated': 4, 'cross': 5, 'decide': 3, 'insomnia': 1, 'wonderland': 1, 'narnia': 1, 'monster': 1, 'frankenstein': 1, 'frankly': 1, 'quite': 2, 'insane': 2, 'alive': 3, 'price': 1, 'living': 2, 'free': 5, 'self': 1, 'shelf': 1, 'problems': 1, 'oo': 10, 'fuck': 2, 'drunk': 2, 'toast': 2, 'streets': 1, 'join': 1, 'dare': 1, 'ahh': 6, 'd': 2, 'ha': 1, 'huh': 1, 'kissed': 1, 'chemicals': 1, 'incredible': 1, 'extraordinary': 1, 'escape': 1, 'lift': 1, 'moonshine': 5, 'special': 6, 'went': 10, 'ru': 1, 'laughs': 1, 'drove': 1, 'bus': 1, 'waste': 1, 'pleasure': 1, 'island': 1, 'saying': 6, 'likes': 2, 'ticket': 1, 'boom': 2, 'zoom': 2, 'x3': 1, 'enough': 2, 'barely': 1, 'doubt': 4, 'father': 3, \"he'd\": 3, 'carry': 3, 'understands': 1, 'son': 1, 'x2': 4, 'quiting': 1, 'advice': 1, \"ya'll\": 1, 'quit': 1, 'luck': 2, 'nose': 1, 'hits': 2, 'belly': 1, 'chin': 1, 'toes': 1, 'won': 1, 'fought': 1, 'rollerskates': 1, 'skate': 1, 'trip': 1, 'tip': 1, 'slip': 1, 'skip': 1, 'skating': 1, 'moving': 2, 'across': 1, 'grooving': 1, 'pack': 1, 'repeat': 1, \"she'll\": 3, 'imagining': 1, 'voices': 9, 'strange': 6, 'weird': 3, 'dressed': 1, 'mail': 2, \"shinin'\": 3, 'glow': 1, 'feathers': 1, \"jungle's\": 1, \"baby's\": 3, 'jewel': 1, 'precious': 1, 'returned': 1, 'welcome': 2, 'asks': 2, 'circus': 1, 'dared': 1, 'seemed': 1, 'oohh': 11, \"couldn't\": 1, 'reaching': 1, 'kept': 1, 'watched': 1, 'thousand': 1, 'noo': 3, 'saw': 2, 'future': 1, 'anothers': 1, 'sleepin': 1, 'dreamin': 1, 'closing': 2, 'walls': 2, 'didnt': 3, 'brown': 2, 'im': 15, 'prison': 2, 'criminal': 2, 'gown': 1, 'isnt': 1, 'lied': 1, 'prisoner': 2, 'missing': 1, 'ooo': 2, 'wedding': 1, 'daydreaming': 1, 'misery': 1, 'falling': 1, 'breathe': 1, 'shaking': 1, 'ground': 1, 'losing': 18, 'concerned': 1, 'gunshot': 1, 'wasting': 1, 'maybe': 2, 'noticed': 1, 'heavenly': 1, 'drawing': 1, 'driving': 1, 'stayed': 1, \"would've\": 1, 'turned': 2, 'removed': 2, 'led': 4, 'stood': 1, 'missed': 1, 'caught': 1, 'sweep': 1, 'believed': 1, 'waited': 1, 'thought': 3, 'lovely': 3, 'glad': 1, 'whoever': 2, 'outside': 2, 'knowing': 1, 'helpless': 1, 'feelin': 2, 'livin': 2, 'difference': 1, 'comfortable': 1, 'mall': 4, 'fits': 4, 'ninety': 4, 'whips': 4, '3x': 8, 'sayin': 8, 'pimps': 8, 'paid': 3, 'table': 4, \"standin'\": 4, 'ace': 4, \"sippin'\": 4, 'spades': 4, 'standin': 1, 'lookin': 1, 'models': 1, 'yea': 1, 'super': 2, 'bottles': 1, 'buyin': 1, 'haters': 1, 'swallow': 1, 'purse': 1, 'holla': 2, 'pumps': 1, 'bag': 1, 'lou': 1, 'vuitton': 2, 'checks': 1, 'case': 1, 'aye': 1, 'boys': 1, 'dimes': 1, 'getcha': 1, 'paper': 1, 'drinks': 1, 'gotcha': 1, 'haa': 1, 'cherries': 1, 'stems': 1, 'tied': 1, 'tongue': 1, 'squirter': 1, 'cum': 1, 'percussions': 1, 'liked': 1, 'drums': 1, 'doctrine': 1, 'sprung': 1, 'weeks': 1, 'return': 2, 'wont': 1, 'writings': 1, 'hate': 9, 'spike': 3, 'gator': 3, 'lee': 3, 'joint': 3, 'shoot': 6, 'veins': 6, 'actions': 3, 'fiend': 3, 'product': 1, 'gucci': 1, 'louis': 1, 'juicy': 1, 'six': 1, 'heel': 1, 'stilettos': 1, 'inch': 1, 'turns': 1, 'midnight': 1, 'hour': 1, 'early': 1, 'shes': 4, 'homie': 1, 'trippin': 1, 'soft': 1, 'revoked': 1, \"doin'\": 1, \"movin'\": 1, 'instrumental': 1, 'stage': 1, 'stacks': 1, 'gimme': 20, 'freak': 1, 'velvet': 1, 'preachers': 1, 'dollars': 1, 'church': 1, 'everytime': 7, 'physical': 1, 'seperated': 2, 'replacement': 2, 'almost': 2, 'search': 2, 'sobers': 2, \"where'd\": 12, 'ive': 10, 'mustve': 1, 'beauty': 1, 'strobe': 1, 'rushing': 2, 'crowd': 1, 'shawty': 1, 'walked': 1, 'dj': 1, 'booth': 1, 'headed': 1, \"callin'\": 1, 'walkin': 2, 'suppose': 1, 'fuss': 2, 'giving': 2, \"somethin's\": 3, 'tells': 3, 'stick': 3, 'figure': 3, 'later': 1, 'ooohh': 1, 'appreciate': 1, 'youuu': 1, 'youuuu': 1, 'yooou': 1, 'thats': 1, '3am': 1, 'fooled': 1, 'quickly': 1, 'happens': 1, 'longer': 3, \"nothing's\": 1, 'decisions': 1, 'changing': 1, 'string': 1, 'allow': 1, 'dim': 7, 'sweet': 7, 'victrola': 4, 'seldom': 2, 'freely': 1, 'dreamed': 1, 'dreaming': 1, 'bottom': 1, 'moments': 1, 'wakes': 1, 'jumps': 1, 'shower': 1, 'ooooh': 8, 'lotion': 1, 'rubs': 1, 'towel': 1, 'wrapped': 1, 'perfection': 1, 'bathrooms': 1, 'showing': 1, 'reflection': 1, 'favourite': 6, 'part': 6, 'cute': 3, 'nude': 3, 'evening': 1, 'reservations': 1, 'noooo': 1, 'nooo': 1, 'impatient': 1, 'gets': 1, 'temptation': 1, 'plans': 1, 'cancel': 1, 'ohhhhh': 1, 'herself': 2, 'da': 2, \"music's\": 1, 'bedroom': 1, 'closer': 1, 'finish': 2, 'press': 9, 'tempo': 5, 'space': 1, 'hips': 1, 'licking': 1, 'secret': 1, 'dish': 1, \"shakin'\": 2, 'nonchalant': 1, 'usually': 1, 'feelings': 1, 'conceal': 1, 'must': 1, 'admit': 1, 'speaking': 1, 'million': 1, \"givin'\": 1, 'gives': 1, 'sleeve': 1, 'wear': 1, \"nothin'\": 2, 'bridge': 1})\n"
          ]
        }
      ],
      "source": [
        "# Cantidad de veces quea aparece cada palabra en cada \"documento\"\n",
        "# (1 documento = 1 caso de entrada)\n",
        "print(tok.word_docs)"
      ]
    },
    {
      "cell_type": "markdown",
      "source": [
        "\n",
        "### Definir el modelo"
      ],
      "metadata": {
        "id": "uYfhWVLLzKVO"
      }
    },
    {
      "cell_type": "code",
      "source": [
        "model = Sequential()\n",
        "\n",
        "# la primera capa es de embedding entrenable. Recordar que se puede variar el tamaño\n",
        "# del embedding a entrenar\n",
        "model.add(Embedding(input_dim=vocab_size+1, output_dim=50, input_shape=(None,)))\n",
        "\n",
        "model.add(LSTM(100, return_sequences=True))\n",
        "# model.add(Dropout(0.2))\n",
        "\n",
        "model.add(LSTM(100, return_sequences=True))\n",
        "# model.add(Dense(32, activation='relu'))\n",
        "\n",
        "# Predicción de clasificación con softmax\n",
        "# La salida es del tamaño del vocabulario\n",
        "model.add(Dense(vocab_size+1, activation='softmax'))\n",
        "\n",
        "\n",
        "# Clasificación multiple categórica --> loss = categorical_crossentropy\n",
        "# notar que usamos la versión Sparse para utilizar sólo índices en lugar de OHE\n",
        "model.compile(loss=SparseCategoricalCrossentropy(), optimizer='rmsprop')\n",
        "\n",
        "model.summary()"
      ],
      "metadata": {
        "id": "5UXA5hQfWVX1",
        "colab": {
          "base_uri": "https://localhost:8080/",
          "height": 313
        },
        "outputId": "f875f536-3010-4d71-adfd-da919e7d5898"
      },
      "execution_count": 87,
      "outputs": [
        {
          "output_type": "stream",
          "name": "stderr",
          "text": [
            "/usr/local/lib/python3.10/dist-packages/keras/src/layers/core/embedding.py:93: UserWarning: Do not pass an `input_shape`/`input_dim` argument to a layer. When using Sequential models, prefer using an `Input(shape)` object as the first layer in the model instead.\n",
            "  super().__init__(**kwargs)\n"
          ]
        },
        {
          "output_type": "display_data",
          "data": {
            "text/plain": [
              "\u001b[1mModel: \"sequential_2\"\u001b[0m\n"
            ],
            "text/html": [
              "<pre style=\"white-space:pre;overflow-x:auto;line-height:normal;font-family:Menlo,'DejaVu Sans Mono',consolas,'Courier New',monospace\"><span style=\"font-weight: bold\">Model: \"sequential_2\"</span>\n",
              "</pre>\n"
            ]
          },
          "metadata": {}
        },
        {
          "output_type": "display_data",
          "data": {
            "text/plain": [
              "┏━━━━━━━━━━━━━━━━━━━━━━━━━━━━━━━━━━━━━━┳━━━━━━━━━━━━━━━━━━━━━━━━━━━━━┳━━━━━━━━━━━━━━━━━┓\n",
              "┃\u001b[1m \u001b[0m\u001b[1mLayer (type)                        \u001b[0m\u001b[1m \u001b[0m┃\u001b[1m \u001b[0m\u001b[1mOutput Shape               \u001b[0m\u001b[1m \u001b[0m┃\u001b[1m \u001b[0m\u001b[1m        Param #\u001b[0m\u001b[1m \u001b[0m┃\n",
              "┡━━━━━━━━━━━━━━━━━━━━━━━━━━━━━━━━━━━━━━╇━━━━━━━━━━━━━━━━━━━━━━━━━━━━━╇━━━━━━━━━━━━━━━━━┩\n",
              "│ embedding_2 (\u001b[38;5;33mEmbedding\u001b[0m)              │ (\u001b[38;5;45mNone\u001b[0m, \u001b[38;5;45mNone\u001b[0m, \u001b[38;5;34m50\u001b[0m)            │          \u001b[38;5;34m94,850\u001b[0m │\n",
              "├──────────────────────────────────────┼─────────────────────────────┼─────────────────┤\n",
              "│ lstm_4 (\u001b[38;5;33mLSTM\u001b[0m)                        │ (\u001b[38;5;45mNone\u001b[0m, \u001b[38;5;45mNone\u001b[0m, \u001b[38;5;34m100\u001b[0m)           │          \u001b[38;5;34m60,400\u001b[0m │\n",
              "├──────────────────────────────────────┼─────────────────────────────┼─────────────────┤\n",
              "│ lstm_5 (\u001b[38;5;33mLSTM\u001b[0m)                        │ (\u001b[38;5;45mNone\u001b[0m, \u001b[38;5;45mNone\u001b[0m, \u001b[38;5;34m100\u001b[0m)           │          \u001b[38;5;34m80,400\u001b[0m │\n",
              "├──────────────────────────────────────┼─────────────────────────────┼─────────────────┤\n",
              "│ dense_2 (\u001b[38;5;33mDense\u001b[0m)                      │ (\u001b[38;5;45mNone\u001b[0m, \u001b[38;5;45mNone\u001b[0m, \u001b[38;5;34m1897\u001b[0m)          │         \u001b[38;5;34m191,597\u001b[0m │\n",
              "└──────────────────────────────────────┴─────────────────────────────┴─────────────────┘\n"
            ],
            "text/html": [
              "<pre style=\"white-space:pre;overflow-x:auto;line-height:normal;font-family:Menlo,'DejaVu Sans Mono',consolas,'Courier New',monospace\">┏━━━━━━━━━━━━━━━━━━━━━━━━━━━━━━━━━━━━━━┳━━━━━━━━━━━━━━━━━━━━━━━━━━━━━┳━━━━━━━━━━━━━━━━━┓\n",
              "┃<span style=\"font-weight: bold\"> Layer (type)                         </span>┃<span style=\"font-weight: bold\"> Output Shape                </span>┃<span style=\"font-weight: bold\">         Param # </span>┃\n",
              "┡━━━━━━━━━━━━━━━━━━━━━━━━━━━━━━━━━━━━━━╇━━━━━━━━━━━━━━━━━━━━━━━━━━━━━╇━━━━━━━━━━━━━━━━━┩\n",
              "│ embedding_2 (<span style=\"color: #0087ff; text-decoration-color: #0087ff\">Embedding</span>)              │ (<span style=\"color: #00d7ff; text-decoration-color: #00d7ff\">None</span>, <span style=\"color: #00d7ff; text-decoration-color: #00d7ff\">None</span>, <span style=\"color: #00af00; text-decoration-color: #00af00\">50</span>)            │          <span style=\"color: #00af00; text-decoration-color: #00af00\">94,850</span> │\n",
              "├──────────────────────────────────────┼─────────────────────────────┼─────────────────┤\n",
              "│ lstm_4 (<span style=\"color: #0087ff; text-decoration-color: #0087ff\">LSTM</span>)                        │ (<span style=\"color: #00d7ff; text-decoration-color: #00d7ff\">None</span>, <span style=\"color: #00d7ff; text-decoration-color: #00d7ff\">None</span>, <span style=\"color: #00af00; text-decoration-color: #00af00\">100</span>)           │          <span style=\"color: #00af00; text-decoration-color: #00af00\">60,400</span> │\n",
              "├──────────────────────────────────────┼─────────────────────────────┼─────────────────┤\n",
              "│ lstm_5 (<span style=\"color: #0087ff; text-decoration-color: #0087ff\">LSTM</span>)                        │ (<span style=\"color: #00d7ff; text-decoration-color: #00d7ff\">None</span>, <span style=\"color: #00d7ff; text-decoration-color: #00d7ff\">None</span>, <span style=\"color: #00af00; text-decoration-color: #00af00\">100</span>)           │          <span style=\"color: #00af00; text-decoration-color: #00af00\">80,400</span> │\n",
              "├──────────────────────────────────────┼─────────────────────────────┼─────────────────┤\n",
              "│ dense_2 (<span style=\"color: #0087ff; text-decoration-color: #0087ff\">Dense</span>)                      │ (<span style=\"color: #00d7ff; text-decoration-color: #00d7ff\">None</span>, <span style=\"color: #00d7ff; text-decoration-color: #00d7ff\">None</span>, <span style=\"color: #00af00; text-decoration-color: #00af00\">1897</span>)          │         <span style=\"color: #00af00; text-decoration-color: #00af00\">191,597</span> │\n",
              "└──────────────────────────────────────┴─────────────────────────────┴─────────────────┘\n",
              "</pre>\n"
            ]
          },
          "metadata": {}
        },
        {
          "output_type": "display_data",
          "data": {
            "text/plain": [
              "\u001b[1m Total params: \u001b[0m\u001b[38;5;34m427,247\u001b[0m (1.63 MB)\n"
            ],
            "text/html": [
              "<pre style=\"white-space:pre;overflow-x:auto;line-height:normal;font-family:Menlo,'DejaVu Sans Mono',consolas,'Courier New',monospace\"><span style=\"font-weight: bold\"> Total params: </span><span style=\"color: #00af00; text-decoration-color: #00af00\">427,247</span> (1.63 MB)\n",
              "</pre>\n"
            ]
          },
          "metadata": {}
        },
        {
          "output_type": "display_data",
          "data": {
            "text/plain": [
              "\u001b[1m Trainable params: \u001b[0m\u001b[38;5;34m427,247\u001b[0m (1.63 MB)\n"
            ],
            "text/html": [
              "<pre style=\"white-space:pre;overflow-x:auto;line-height:normal;font-family:Menlo,'DejaVu Sans Mono',consolas,'Courier New',monospace\"><span style=\"font-weight: bold\"> Trainable params: </span><span style=\"color: #00af00; text-decoration-color: #00af00\">427,247</span> (1.63 MB)\n",
              "</pre>\n"
            ]
          },
          "metadata": {}
        },
        {
          "output_type": "display_data",
          "data": {
            "text/plain": [
              "\u001b[1m Non-trainable params: \u001b[0m\u001b[38;5;34m0\u001b[0m (0.00 B)\n"
            ],
            "text/html": [
              "<pre style=\"white-space:pre;overflow-x:auto;line-height:normal;font-family:Menlo,'DejaVu Sans Mono',consolas,'Courier New',monospace\"><span style=\"font-weight: bold\"> Non-trainable params: </span><span style=\"color: #00af00; text-decoration-color: #00af00\">0</span> (0.00 B)\n",
              "</pre>\n"
            ]
          },
          "metadata": {}
        }
      ]
    },
    {
      "cell_type": "markdown",
      "metadata": {
        "id": "YWK3z85sQfUe"
      },
      "source": [
        "Dado que por el momento no hay implementaciones adecuadas de la perplejidad que puedan operar en tiempo de entrenamiento, armaremos un Callback *ad-hoc* que la calcule en cada epoch.\n",
        "\n",
        "**Nota**: un Callback es una rutina gatillada por algún evento, son muy útiles para relevar datos en diferentes momentos del desarrollo del modelo. En este caso queremos hacer un cálculo cada vez que termina una epoch de entrenamiento."
      ]
    },
    {
      "cell_type": "code",
      "source": [
        "class PplCallback(keras.callbacks.Callback):\n",
        "\n",
        "    '''\n",
        "    Este callback es una solución ad-hoc para calcular al final de cada epoch de\n",
        "    entrenamiento la métrica de Perplejidad sobre un conjunto de datos de validación.\n",
        "    La perplejidad es una métrica cuantitativa para evaluar la calidad de la generación de secuencias.\n",
        "    Además implementa la finalización del entrenamiento (Early Stopping)\n",
        "    si la perplejidad no mejora después de `patience` epochs.\n",
        "    '''\n",
        "\n",
        "    def __init__(self, val_data, history_ppl, patience=5):\n",
        "      # El callback lo inicializamos con secuencias de validación sobre las cuales\n",
        "      # mediremos la perplejidad y la paciencia para detener el entrenamiento.\n",
        "      self.val_data = val_data\n",
        "\n",
        "      self.target = []\n",
        "      self.padded = []\n",
        "\n",
        "      count = 0\n",
        "      self.info = []\n",
        "      self.history_ppl = []\n",
        "      self.min_score = np.inf\n",
        "      self.patience_counter = 0\n",
        "      self.patience = patience\n",
        "\n",
        "      # nos movemos en todas las secuencias de los datos de validación\n",
        "      for seq in self.val_data:\n",
        "\n",
        "        len_seq = len(seq)\n",
        "        # armamos todas las subsecuencias\n",
        "        subseq = [seq[:i] for i in range(len_seq)]\n",
        "        self.target.extend([seq[i] for i in range(len_seq)])\n",
        "\n",
        "        if len(subseq)!=0:\n",
        "\n",
        "          self.padded.append(pad_sequences(subseq, maxlen=max_context_size, padding='pre'))\n",
        "\n",
        "          self.info.append((count,count+len_seq))\n",
        "          count += len_seq\n",
        "\n",
        "      self.padded = np.vstack(self.padded)\n",
        "\n",
        "\n",
        "    def on_epoch_end(self, epoch, logs=None):\n",
        "\n",
        "        # en `scores` iremos guardando la perplejidad de cada secuencia\n",
        "        scores = []\n",
        "\n",
        "        predictions = self.model.predict(self.padded,verbose=0)\n",
        "\n",
        "        # para cada secuencia de validación\n",
        "        for start,end in self.info:\n",
        "\n",
        "          # en `probs` iremos guardando las probabilidades de los términos target\n",
        "          probs = [predictions[idx_seq,-1,idx_vocab] for idx_seq, idx_vocab in zip(range(start,end),self.target[start:end])]\n",
        "\n",
        "          # calculamos la perplejidad por medio de logaritmos\n",
        "          scores.append(np.exp(-np.sum(np.log(probs))/(end-start)))\n",
        "\n",
        "        # promediamos todos los scores e imprimimos el valor promedio\n",
        "        current_score = np.mean(scores)\n",
        "        history_ppl.append(current_score)\n",
        "        print(f'\\n mean perplexity: {current_score} \\n')\n",
        "\n",
        "        # chequeamos si tenemos que detener el entrenamiento\n",
        "        if current_score < self.min_score:\n",
        "          self.min_score = current_score\n",
        "          # Added a .keras extension to the filename\n",
        "          self.model.save(\"my_model.keras\")\n",
        "          print(\"Saved new model!\")\n",
        "          self.patience_counter = 0\n",
        "        else:\n",
        "          self.patience_counter += 1\n",
        "          if self.patience_counter == self.patience:\n",
        "            print(\"Stopping training...\")\n",
        "            self.model.stop_training = True"
      ],
      "metadata": {
        "id": "TZJXLrUp41nf"
      },
      "execution_count": 88,
      "outputs": []
    },
    {
      "cell_type": "markdown",
      "metadata": {
        "id": "8HBZIwR0gruA"
      },
      "source": [
        "### Entrenamiento"
      ]
    },
    {
      "cell_type": "code",
      "execution_count": 89,
      "metadata": {
        "id": "oQq1PHDkxDvN",
        "colab": {
          "base_uri": "https://localhost:8080/"
        },
        "outputId": "6d67fdf2-0c35-4d7f-e15e-5f3c51726aed"
      },
      "outputs": [
        {
          "output_type": "stream",
          "name": "stdout",
          "text": [
            "Epoch 1/20\n",
            "\u001b[1m540/540\u001b[0m \u001b[32m━━━━━━━━━━━━━━━━━━━━\u001b[0m\u001b[37m\u001b[0m \u001b[1m0s\u001b[0m 158ms/step - loss: 3.9938\n",
            " mean perplexity: 1389.5871521486713 \n",
            "\n",
            "Saved new model!\n",
            "\u001b[1m540/540\u001b[0m \u001b[32m━━━━━━━━━━━━━━━━━━━━\u001b[0m\u001b[37m\u001b[0m \u001b[1m94s\u001b[0m 167ms/step - loss: 3.9927\n",
            "Epoch 2/20\n",
            "\u001b[1m540/540\u001b[0m \u001b[32m━━━━━━━━━━━━━━━━━━━━\u001b[0m\u001b[37m\u001b[0m \u001b[1m0s\u001b[0m 141ms/step - loss: 3.1228\n",
            " mean perplexity: 1116.5414094403104 \n",
            "\n",
            "Saved new model!\n",
            "\u001b[1m540/540\u001b[0m \u001b[32m━━━━━━━━━━━━━━━━━━━━\u001b[0m\u001b[37m\u001b[0m \u001b[1m133s\u001b[0m 150ms/step - loss: 3.1227\n",
            "Epoch 3/20\n",
            "\u001b[1m540/540\u001b[0m \u001b[32m━━━━━━━━━━━━━━━━━━━━\u001b[0m\u001b[37m\u001b[0m \u001b[1m0s\u001b[0m 159ms/step - loss: 3.0336\n",
            " mean perplexity: 1175.9603390829154 \n",
            "\n",
            "\u001b[1m540/540\u001b[0m \u001b[32m━━━━━━━━━━━━━━━━━━━━\u001b[0m\u001b[37m\u001b[0m \u001b[1m91s\u001b[0m 166ms/step - loss: 3.0336\n",
            "Epoch 4/20\n",
            "\u001b[1m540/540\u001b[0m \u001b[32m━━━━━━━━━━━━━━━━━━━━\u001b[0m\u001b[37m\u001b[0m \u001b[1m0s\u001b[0m 142ms/step - loss: 2.8867\n",
            " mean perplexity: 1093.1364755956797 \n",
            "\n",
            "Saved new model!\n",
            "\u001b[1m540/540\u001b[0m \u001b[32m━━━━━━━━━━━━━━━━━━━━\u001b[0m\u001b[37m\u001b[0m \u001b[1m81s\u001b[0m 150ms/step - loss: 2.8866\n",
            "Epoch 5/20\n",
            "\u001b[1m540/540\u001b[0m \u001b[32m━━━━━━━━━━━━━━━━━━━━\u001b[0m\u001b[37m\u001b[0m \u001b[1m0s\u001b[0m 141ms/step - loss: 2.7856\n",
            " mean perplexity: 1155.704801480001 \n",
            "\n",
            "\u001b[1m540/540\u001b[0m \u001b[32m━━━━━━━━━━━━━━━━━━━━\u001b[0m\u001b[37m\u001b[0m \u001b[1m81s\u001b[0m 149ms/step - loss: 2.7855\n",
            "Epoch 6/20\n",
            "\u001b[1m540/540\u001b[0m \u001b[32m━━━━━━━━━━━━━━━━━━━━\u001b[0m\u001b[37m\u001b[0m \u001b[1m0s\u001b[0m 140ms/step - loss: 2.6920\n",
            " mean perplexity: 998.2895563456881 \n",
            "\n",
            "Saved new model!\n",
            "\u001b[1m540/540\u001b[0m \u001b[32m━━━━━━━━━━━━━━━━━━━━\u001b[0m\u001b[37m\u001b[0m \u001b[1m82s\u001b[0m 150ms/step - loss: 2.6920\n",
            "Epoch 7/20\n",
            "\u001b[1m540/540\u001b[0m \u001b[32m━━━━━━━━━━━━━━━━━━━━\u001b[0m\u001b[37m\u001b[0m \u001b[1m0s\u001b[0m 154ms/step - loss: 2.6072\n",
            " mean perplexity: 1016.50913368849 \n",
            "\n",
            "\u001b[1m540/540\u001b[0m \u001b[32m━━━━━━━━━━━━━━━━━━━━\u001b[0m\u001b[37m\u001b[0m \u001b[1m89s\u001b[0m 164ms/step - loss: 2.6072\n",
            "Epoch 8/20\n",
            "\u001b[1m540/540\u001b[0m \u001b[32m━━━━━━━━━━━━━━━━━━━━\u001b[0m\u001b[37m\u001b[0m \u001b[1m0s\u001b[0m 146ms/step - loss: 2.5039\n",
            " mean perplexity: 995.3234252347944 \n",
            "\n",
            "Saved new model!\n",
            "\u001b[1m540/540\u001b[0m \u001b[32m━━━━━━━━━━━━━━━━━━━━\u001b[0m\u001b[37m\u001b[0m \u001b[1m137s\u001b[0m 155ms/step - loss: 2.5039\n",
            "Epoch 9/20\n",
            "\u001b[1m540/540\u001b[0m \u001b[32m━━━━━━━━━━━━━━━━━━━━\u001b[0m\u001b[37m\u001b[0m \u001b[1m0s\u001b[0m 143ms/step - loss: 2.4466\n",
            " mean perplexity: 915.4310600469213 \n",
            "\n",
            "Saved new model!\n",
            "\u001b[1m540/540\u001b[0m \u001b[32m━━━━━━━━━━━━━━━━━━━━\u001b[0m\u001b[37m\u001b[0m \u001b[1m140s\u001b[0m 152ms/step - loss: 2.4466\n",
            "Epoch 10/20\n",
            "\u001b[1m540/540\u001b[0m \u001b[32m━━━━━━━━━━━━━━━━━━━━\u001b[0m\u001b[37m\u001b[0m \u001b[1m0s\u001b[0m 143ms/step - loss: 2.3699\n",
            " mean perplexity: 918.1794352377331 \n",
            "\n",
            "\u001b[1m540/540\u001b[0m \u001b[32m━━━━━━━━━━━━━━━━━━━━\u001b[0m\u001b[37m\u001b[0m \u001b[1m143s\u001b[0m 153ms/step - loss: 2.3699\n",
            "Epoch 11/20\n",
            "\u001b[1m540/540\u001b[0m \u001b[32m━━━━━━━━━━━━━━━━━━━━\u001b[0m\u001b[37m\u001b[0m \u001b[1m0s\u001b[0m 146ms/step - loss: 2.3101\n",
            " mean perplexity: 868.1257388503212 \n",
            "\n",
            "Saved new model!\n",
            "\u001b[1m540/540\u001b[0m \u001b[32m━━━━━━━━━━━━━━━━━━━━\u001b[0m\u001b[37m\u001b[0m \u001b[1m142s\u001b[0m 153ms/step - loss: 2.3101\n",
            "Epoch 12/20\n",
            "\u001b[1m540/540\u001b[0m \u001b[32m━━━━━━━━━━━━━━━━━━━━\u001b[0m\u001b[37m\u001b[0m \u001b[1m0s\u001b[0m 158ms/step - loss: 2.2412\n",
            " mean perplexity: 922.8467720212849 \n",
            "\n",
            "\u001b[1m540/540\u001b[0m \u001b[32m━━━━━━━━━━━━━━━━━━━━\u001b[0m\u001b[37m\u001b[0m \u001b[1m148s\u001b[0m 165ms/step - loss: 2.2412\n",
            "Epoch 13/20\n",
            "\u001b[1m540/540\u001b[0m \u001b[32m━━━━━━━━━━━━━━━━━━━━\u001b[0m\u001b[37m\u001b[0m \u001b[1m0s\u001b[0m 158ms/step - loss: 2.1807\n",
            " mean perplexity: 925.3771653981509 \n",
            "\n",
            "\u001b[1m540/540\u001b[0m \u001b[32m━━━━━━━━━━━━━━━━━━━━\u001b[0m\u001b[37m\u001b[0m \u001b[1m142s\u001b[0m 165ms/step - loss: 2.1807\n",
            "Epoch 14/20\n",
            "\u001b[1m540/540\u001b[0m \u001b[32m━━━━━━━━━━━━━━━━━━━━\u001b[0m\u001b[37m\u001b[0m \u001b[1m0s\u001b[0m 157ms/step - loss: 2.1248\n",
            " mean perplexity: 899.5997779240656 \n",
            "\n",
            "\u001b[1m540/540\u001b[0m \u001b[32m━━━━━━━━━━━━━━━━━━━━\u001b[0m\u001b[37m\u001b[0m \u001b[1m143s\u001b[0m 167ms/step - loss: 2.1248\n",
            "Epoch 15/20\n",
            "\u001b[1m540/540\u001b[0m \u001b[32m━━━━━━━━━━━━━━━━━━━━\u001b[0m\u001b[37m\u001b[0m \u001b[1m0s\u001b[0m 141ms/step - loss: 2.0614\n",
            " mean perplexity: 913.189795676896 \n",
            "\n",
            "\u001b[1m540/540\u001b[0m \u001b[32m━━━━━━━━━━━━━━━━━━━━\u001b[0m\u001b[37m\u001b[0m \u001b[1m132s\u001b[0m 149ms/step - loss: 2.0614\n",
            "Epoch 16/20\n",
            "\u001b[1m540/540\u001b[0m \u001b[32m━━━━━━━━━━━━━━━━━━━━\u001b[0m\u001b[37m\u001b[0m \u001b[1m0s\u001b[0m 141ms/step - loss: 2.0057\n",
            " mean perplexity: 917.1788387026351 \n",
            "\n",
            "Stopping training...\n",
            "\u001b[1m540/540\u001b[0m \u001b[32m━━━━━━━━━━━━━━━━━━━━\u001b[0m\u001b[37m\u001b[0m \u001b[1m83s\u001b[0m 151ms/step - loss: 2.0057\n"
          ]
        }
      ],
      "source": [
        "# fiteamos, nótese el agregado del callback con su inicialización. El batch_size lo podemos seleccionar a mano\n",
        "# en general, lo mejor es escoger el batch más grande posible que minimice el tiempo de cada época.\n",
        "# En la variable `history_ppl` se guardarán los valores de perplejidad para cada época.\n",
        "history_ppl = []\n",
        "hist = model.fit(X, y, epochs=20, callbacks=[PplCallback(tokenized_sentences_val,history_ppl)], batch_size=64)"
      ]
    },
    {
      "cell_type": "code",
      "source": [
        "import matplotlib.pyplot as plt\n",
        "import seaborn as sns\n",
        "\n",
        "# Podemos graficar la evolución de la perplejidad con las épocas.\n",
        "# Recordar que el valor de perplejidad del modelo trivial es el tamaño del vocabulario.\n",
        "epoch_count = range(1, len(history_ppl) + 1)\n",
        "sns.lineplot(x=epoch_count,  y=history_ppl)\n",
        "plt.show()"
      ],
      "metadata": {
        "id": "K30JHB3Dv-mx",
        "colab": {
          "base_uri": "https://localhost:8080/",
          "height": 430
        },
        "outputId": "97b1b3f6-63a0-4789-e604-3845465fac46"
      },
      "execution_count": 90,
      "outputs": [
        {
          "output_type": "display_data",
          "data": {
            "text/plain": [
              "<Figure size 640x480 with 1 Axes>"
            ],
            "image/png": "[encoded data removed]"
          },
          "metadata": {}
        }
      ]
    },
    {
      "cell_type": "code",
      "source": [
        "# Cargamos el mejor modelo guardado del entrenamiento para hacer inferencia\n",
        "model = keras.models.load_model('my_model.keras')"
      ],
      "metadata": {
        "id": "Rhy5hZN38qfO"
      },
      "execution_count": 91,
      "outputs": []
    },
    {
      "cell_type": "markdown",
      "metadata": {
        "id": "KN6Fg_BsxJe6"
      },
      "source": [
        "\n",
        "### Predicción de próxima palabra"
      ]
    },
    {
      "cell_type": "code",
      "source": [
        "# Use sequences_to_texts to convert tokenized sequences back to text\n",
        "words = tok.sequences_to_texts(tokenized_sentences_val)"
      ],
      "metadata": {
        "id": "aDAkG93PCUX0"
      },
      "execution_count": 92,
      "outputs": []
    },
    {
      "cell_type": "code",
      "source": [
        "words"
      ],
      "metadata": {
        "colab": {
          "base_uri": "https://localhost:8080/"
        },
        "id": "ptYjSu6T_jfS",
        "outputId": "b88659b8-3d36-4eb4-a448-5562922c9921"
      },
      "execution_count": 93,
      "outputs": [
        {
          "output_type": "execute_result",
          "data": {
            "text/plain": [
              "[\"i'm sweating with desire\",\n",
              " 'es tan difícil',\n",
              " 'oooh',\n",
              " 'lobster tail for dinner',\n",
              " \"yeah them the ones i'm trying to recruit\",\n",
              " \"'cause i got you all night don't you worry about a thing no no no\",\n",
              " 'why do i wait to come see you',\n",
              " 'y es tan difícil',\n",
              " 'bitch say my name you know who i am',\n",
              " 'eating good sleeping soundly',\n",
              " \"touch me while we're there\",\n",
              " \"touch me while we're there\",\n",
              " 'one more time you need to activate your sexy activate your sexy',\n",
              " \"lucky for you that's what i like that's what i like\",\n",
              " \"i can't fight back the tears in my eyes\",\n",
              " \"talking to the moon oh i'm feeling like i'm famous\",\n",
              " \"lucky for you that's what i like that's what i like\",\n",
              " 'lyrics from',\n",
              " \"so here's my proposition\",\n",
              " \"for when i'm a billionaire yeah i would have a show like oprah\",\n",
              " 'lady and i know',\n",
              " 'oh take take take it all but you never give',\n",
              " 'esta distancia me está matando',\n",
              " \"every time's a new way every time i love ya\",\n",
              " \"but she's dancing with another man my pride my ego my needs and my selfish ways\",\n",
              " 'but your booty deserve a celebration',\n",
              " \"we don't care so we say i' ma need to\",\n",
              " 'now my baby is dancing',\n",
              " \"but we're stuck where we are and it's so hard\",\n",
              " 'estás tan lejos',\n",
              " \"and i'm running outta things\",\n",
              " 'i dream about you and i',\n",
              " \"oh baby we gon' have some fun tonight\",\n",
              " \"'cause this ain't wonderland\",\n",
              " 'and thinking that i run the whole block',\n",
              " \"it was you and me against the world baby ain't nobody gonna love me like the way you do\",\n",
              " \"don't fight the feeling invite the feeling just put your pinky rings up to the moon\",\n",
              " 'oooh take it off for me for me for me for me now girl i unzip the back to watch it fall',\n",
              " 'buy all of the things i never had',\n",
              " \"while all the while i'm trying to open up your heart\",\n",
              " 'the whole world stops and stares for a while',\n",
              " \"'cause i done already cursed your name\",\n",
              " 'yo prefiero estar',\n",
              " 'silk sheets and diamonds all white',\n",
              " \"if we show up we gon' show out\",\n",
              " 'oh strut through the club yeah they know we so paid',\n",
              " 'anything you want',\n",
              " 'oh verse',\n",
              " \"where'd she go\",\n",
              " 'todo lo que necesita es una inyección para mí para hacer estallar todo por la borda',\n",
              " 'got chucks on with saint laurent',\n",
              " 'oooh take it off for me for me for me for me now girl i unzip the back to watch it fall',\n",
              " \"a heart that can't feel it's broken\",\n",
              " 'got our friends got the night',\n",
              " 'my favourite part of the day',\n",
              " 'oh no look at what you started baby',\n",
              " 'one drag for my sorrow',\n",
              " \"yeah you make me feel like i've been locked out of heaven\",\n",
              " 'all you young wild girls',\n",
              " \"can't i just stay here\",\n",
              " \"your pleasure pleasure island is where we can go no i won't think you're easy no i won't think you're fast\",\n",
              " \"girl you're amazing\",\n",
              " 'leave the past behind me today my life begins',\n",
              " \"only when you're lonely\",\n",
              " \"you and me baby we'll be fuckin' it like gorillas\",\n",
              " 'them good girls straight masterpieces',\n",
              " \"'cause you make me feel like i've been locked out of heaven\",\n",
              " \"back oh her eyes her eyes make the stars look like they're not shinin'\",\n",
              " 'i spy with my little eye',\n",
              " 'your head down to your heels',\n",
              " 'his love is all she knows all she knows all she knows',\n",
              " \"she wanted someone that's perfect\",\n",
              " \"if perfect's what you're searching for then just stay the same\",\n",
              " 'if i lose you baby',\n",
              " 'sayin ladies is pimps too 3x',\n",
              " \"she's somewhere somewhere somewhere in brooklyn oh oh oh oh\",\n",
              " 'my mommy told me to give them a call',\n",
              " 'head to toe so player',\n",
              " 'estoy perdiendo mi mente',\n",
              " 'so turn it up oh oh turn it up',\n",
              " 'tryna live on more than what i got',\n",
              " \"hold me like i'm more than just a friend\",\n",
              " \"and once again i'm moving on and i just wanna hate her i hate her i hate her\",\n",
              " \"no she don't go where preachers preach\",\n",
              " 'you see i play guitar but my fingers too small',\n",
              " \"lucky for you that's what i like that's what i like\",\n",
              " 'when we are',\n",
              " 'the voices in my head',\n",
              " 'while i kiss your neck and shoulders',\n",
              " 'the whole world stops and stares for a while',\n",
              " 'i want you back',\n",
              " 'y las horas se sienten como días',\n",
              " \"has got me feeling like i'm on top give me this one shot for my pain\",\n",
              " 'you control the tempo look over your shoulder',\n",
              " \"so don't even bother asking if you look okay\",\n",
              " \"i put you on and now you're feelin' right straight up\",\n",
              " \"they say i've gone mad\",\n",
              " \"'cause you know how i like it use a dirty little lover\",\n",
              " 'so leave a message at the tone',\n",
              " 'high comb hot',\n",
              " \"can't get her off my brain my brain my brain\",\n",
              " \"'cause it's so brand new babe it's so brand new babe don't it feel good babe don't it feel good babe\",\n",
              " \"lemmi tell y'all a lil' something\",\n",
              " 'get messed up today',\n",
              " 'para sacarte de mi mente',\n",
              " 'all this is here for you',\n",
              " 'necesito saber en este momento',\n",
              " 'you know it you know it',\n",
              " 'oooh i was your man and you were my girl',\n",
              " 'but how this turned out',\n",
              " 'oh yeah yeah year yeah',\n",
              " 'just the way you are when i see your face',\n",
              " \"in someone else's arms but i wouldn't have done all the things that i have done\",\n",
              " \"i'm all about you\",\n",
              " \"so we can touch some more kiss me while we're there\",\n",
              " \"out here drippin' in finesse\",\n",
              " 'oh oh when i was just a little boy',\n",
              " \"there's no place i'd rather be in this world\",\n",
              " 'but when will i learn to just put you first i come to you now when i need you',\n",
              " \"'cause girl you're amazing\",\n",
              " 'uptown funk you up',\n",
              " \"let's just kiss 'til we're naked baby versace on the floor\",\n",
              " \"it's warmin' up\",\n",
              " 'silk sheets and diamonds all white',\n",
              " 'or am i a fool',\n",
              " \"no my baby don't play\",\n",
              " 'say my name you know who i am',\n",
              " \"but you're the first girl i met baby girl you're shining like a star\",\n",
              " 'is when she dance in the mirror',\n",
              " 'dancing in the nude nude nude ohhh',\n",
              " 'watch her drop it like down down down hey',\n",
              " 'no matter what you do',\n",
              " 'yes i would die for ya baby',\n",
              " \"i won't say a word\",\n",
              " 'uptown funk you up come on dance jump on it',\n",
              " 'uptown funk you up',\n",
              " \"i promise is a killer you'll be banging on my chest\",\n",
              " 'i see that guilt beneath the shame',\n",
              " \"he'd carry me\",\n",
              " 'we fuss fight and scream',\n",
              " \"if my father didn't tell me\",\n",
              " 'oh strut through the club yeah they know we so paid',\n",
              " 'and what will it take it',\n",
              " \"say it's us say it's us and i'll agree baby jump in the cadillac\",\n",
              " 'like everything will be okay',\n",
              " 'and her dance to perfection perfection',\n",
              " 'cause i remember how much',\n",
              " 'one shot for my pain',\n",
              " \"ooh you'd watch me burn down in flames\",\n",
              " 'so far this long distance is killing me now the minutes feel like hours',\n",
              " \"but i just can't tonight\",\n",
              " 'estás tan lejos',\n",
              " 'así que',\n",
              " 'i need to know right now',\n",
              " \"it's warmin' up can you feel it\",\n",
              " 'uptown funk you up say what',\n",
              " 'oh every time i close my eyes i see my name in shining lights',\n",
              " 'estoy perdiendo el control de mí mismo esta vez',\n",
              " \"oh they don't know go on tell 'em\",\n",
              " \"nobody's gon' tell me i cant no i'll be loungin' on the couch just chillin' in my snuggie\",\n",
              " 'i let you get away',\n",
              " 'the day has come at last',\n",
              " 'pero chica que me pone nervioso',\n",
              " 'and i promise to love her for the rest of my life seems like yesterday when she first said hello',\n",
              " \"i don't wanna be cruel or vicious\",\n",
              " \"and then we'll take this home\",\n",
              " \"i don't want it to stop no\",\n",
              " 'another pretty thing ready for me to grab',\n",
              " 'get messed up today',\n",
              " \"in hopes you're on\",\n",
              " \"i didn't notice what time it was\",\n",
              " 'yeah you you you',\n",
              " 'and when you smile',\n",
              " 'you better you better you better run run runaway runaway baby',\n",
              " \"that i can't lie in my world oh no chorus\",\n",
              " 'lift off and say goodbye',\n",
              " 'spend the rest of my days here',\n",
              " \"and it's so it's so sad to think that she doesn't see what i see\",\n",
              " \"yeah them the ones i'm trying to recruit\",\n",
              " 'get messed up today',\n",
              " \"just don't know\",\n",
              " 'hasta que me aviso',\n",
              " 'a estas alturas ya debería haberme dado cuenta',\n",
              " 'so take a breath leave me and',\n",
              " \"only when you're lonely\",\n",
              " \"don't believe me just watch\",\n",
              " \"lucky for you that's what i like that's what i like i wanna be a billionaire so f in' bad\",\n",
              " 'and i always will be true',\n",
              " 'but swimming in your water is something spiritual spiritual uh',\n",
              " 'stop stop',\n",
              " 'boy you made my heart melt',\n",
              " \"i don't want it to stop no\",\n",
              " 'cause i loved you loved you loved you',\n",
              " \"she's singing to herself like da da da da da da\",\n",
              " 'i could wait a whole life time',\n",
              " 'see you when you cry yourself to sleep',\n",
              " 'but at the end of the day',\n",
              " 'pero yo creo que ella siente que ya estoy atrapado hey hey hey',\n",
              " '¿dónde estamos',\n",
              " 'show her how to lay it back',\n",
              " \"'cause years have passed and we're still here today never in my dreams did i think that this would happen to me as i stand here before my woman\",\n",
              " 'once in a million times',\n",
              " \"money money money make her smile she's a super freak\",\n",
              " 'got our friends got the night',\n",
              " 'sex by the fire at night',\n",
              " 'this you know i understand',\n",
              " \"don't believe me just watch\",\n",
              " \"it's like i'm dreamin that walls are closing in on me\",\n",
              " 'it seems like every other night you pick a fight fight',\n",
              " 'just the way you are and when you smile',\n",
              " \"if you're ready like i'm ready cause it's a beautiful night\",\n",
              " 'es tan difícil',\n",
              " \"we don't have it anymore there's no religion that could save me\",\n",
              " 'i think i wanna marry you is it the look in your eyes',\n",
              " \"you're gonna get there just keep on grooving\",\n",
              " 'the way you are',\n",
              " 'uptown funk you up',\n",
              " 'thirty seven twenty seven forty two ooh',\n",
              " 'light up my room',\n",
              " 'oh oh oh oh',\n",
              " 'oh welcome back i say welcome welcome welcome',\n",
              " 'i know exactly what is on your mind straight up',\n",
              " 'you make me testify uh',\n",
              " 'cause my heart breaks a little',\n",
              " \"in spike lee joint i'm gator i'm gator i'm gator\",\n",
              " 'but i just choose to write a new single',\n",
              " 'lobster tail for dinner',\n",
              " 'oh verse',\n",
              " 'hey baby',\n",
              " \"cause now i finally see you only want me when you're lonely oh nothing's ever changing decisions you can't make it\",\n",
              " 'so everybody that i love can have a couple bucks',\n",
              " 'oh yeah yeah',\n",
              " \"yeah yeah if you tossin' and you're turnin' and you just can't fall asleep\",\n",
              " \"in spike lee joint i'm gator i'm gator i'm gator\",\n",
              " 'for too long for too long oh yeah yeah yeah yeah',\n",
              " 'for too long for too long oh yeah yeah yeah yeah uh',\n",
              " 'with you life is so easy',\n",
              " \"she's so beautiful and i tell her everyday\",\n",
              " 'for too long for too long oh oh oh oh yeah yeah yeah',\n",
              " \"not a place i'd rather be\",\n",
              " 'what you want is what i got',\n",
              " 'ill sing to my mom sing it to my dad',\n",
              " \"you say you're a woman who knows what she likes then show me you got to you got to show me\",\n",
              " 'para la celestial',\n",
              " 'well okay',\n",
              " 'ooooh ooooh',\n",
              " \"that's why you can catch me here\",\n",
              " \"cause i'm losing my head\",\n",
              " 'when i was your man tonight',\n",
              " \"i'm losing my way\",\n",
              " 'necesito saber en este momento',\n",
              " 'head to toe so player',\n",
              " 'esta distancia me está matando ahora los minutos',\n",
              " '¿puedes oírme llorar',\n",
              " \"it's good to see you again good to see you again\",\n",
              " 'a different city every night all right',\n",
              " \"for when i'm a billionaire\",\n",
              " 'let me show you what you got to do',\n",
              " 'put your pinky rings up to the moon',\n",
              " \"where'd she go\",\n",
              " \"yeah we got it goin' on got it goin' on\",\n",
              " 'on my body',\n",
              " \"no i wouldn't have done\",\n",
              " \"now tell me who's the fairest\",\n",
              " 'ooh girl your my desire your wish is my command',\n",
              " \"lucky for you that's what i like that's what i like\",\n",
              " 'show time show time',\n",
              " 'looking for them girls with the big old hoops',\n",
              " 'feel that you should be concerned',\n",
              " 'i always try to do this on my own',\n",
              " 'but show me show me show me tonight yeah',\n",
              " \"it's all right we got you\",\n",
              " \"but we can't stop time\",\n",
              " 'cause a scene all the guys',\n",
              " 'and never let me fall',\n",
              " 'all around me i can feel a change ohh chorus',\n",
              " \"i'm born again every time you spend the night uh 'cause your sex takes me to paradise\",\n",
              " 'cause once again shes gone',\n",
              " \"lucky for you that's what i like that's what i like i'm talkin' trips to puerto rico\",\n",
              " \"and you ain't never gonna find a love like mine\",\n",
              " 'my eyes will do the same if you walk away',\n",
              " 'one shot for my pain',\n",
              " 'if it takes a lifetime to do',\n",
              " 'i see the blood in your eyes',\n",
              " 'little party party party so good',\n",
              " \"lucky for you that's what i like that's what i like that's what i like\",\n",
              " 'if you want it girl come and get it',\n",
              " 'by now you should have noticed me',\n",
              " \"and nobody at the party droppin' it low like the way that you do\",\n",
              " \"don't speak boy just listen\",\n",
              " \"lucky for you that's what i like that's what i like you say you want a good time\",\n",
              " \"stay up late we don't sleep\",\n",
              " 'one shot for my pain',\n",
              " 'so i',\n",
              " \"and i'm gonna give it to you cool jewelry shining so bright\",\n",
              " \"there's no more you there's no more you\",\n",
              " 'hey baby',\n",
              " \"and i tell me you'll be coming home coming home\",\n",
              " 'now greetings to the world standing at this liquor store',\n",
              " 'it hits your belly your chin and toes',\n",
              " 'i want to be your woman',\n",
              " 'hoo oo oo oo oo oo ah ah ah ah',\n",
              " \"i'd catch a grenade for ya\",\n",
              " 'get messed up today',\n",
              " \"'cause girl you're amazing\",\n",
              " \"guess who's back again\",\n",
              " \"just take me the long way home kiss me while we're there\",\n",
              " \"and i'm gonna give it to you cool jewelry shining so bright\",\n",
              " 'for too long for too long oh oh oh oh yeah yeah yeah',\n",
              " \"it's been a couple months that i've been single so\",\n",
              " \"i know i'm not perfect\",\n",
              " '¿dónde estamos',\n",
              " 'remind you ooh',\n",
              " 'que ella no sabe realmente',\n",
              " \"riding to danger's where i'd always run above and is hurt\",\n",
              " 'all the way',\n",
              " 'looking at you you wanna take me home',\n",
              " 'it took us a lifetime to find each other',\n",
              " 'oh look what you making me do pick up the phone pick up the phone',\n",
              " 'pero estamos atrapados en esto',\n",
              " 'one drag for my sorrow',\n",
              " 'ella me tiene de perder la cabeza',\n",
              " \"no you won't need it no more\",\n",
              " 'ooh got me licking my lips',\n",
              " \"we out here drippin' in finesse\",\n",
              " \"and i'm running out of ways to break through\",\n",
              " 'you walk by',\n",
              " \"it don't make no sense\",\n",
              " 'girl with every single touch',\n",
              " 'oooh',\n",
              " \"and i hope i can do for him what he did for me i wouldn't be\",\n",
              " 'i know there is no tomorrow',\n",
              " 'bring it back now',\n",
              " \"got kiss myself i'm so pretty i'm too hot hot damn\",\n",
              " 'ooh before then we got seperated',\n",
              " \"i'll be the light to guide you find out what we're made of\",\n",
              " \"you know right now i can't be home\",\n",
              " 'let me feel your body',\n",
              " 'porque yo estoy perdiendo mi cabeza',\n",
              " 'let it fill you up dim all the lights sweet darling',\n",
              " 'do it all over again',\n",
              " 'girls hit your hallelujah whoo',\n",
              " 'you never know i might though',\n",
              " 'well okay',\n",
              " \"baby if you're ready for that ah ah ah it's getting freaky in this room room room\",\n",
              " \"i see my momma smile that's a blessin'\",\n",
              " \"there's not a thing that i would change\",\n",
              " 'let me hear you say you want it all',\n",
              " \"but you don't have to ask you know i wait for you\",\n",
              " 'if you want it girl come and get it',\n",
              " 'you can make a sinner change his ways',\n",
              " \"natalie she's probably out there thinking it's funny\",\n",
              " 'cause you know that only you girl',\n",
              " \"and pick up these broken pieces 'til i'm bleeding\",\n",
              " 'when we are called to help our friends in need you can count on me like one two three',\n",
              " 'porque yo estoy perdiendo mi cabeza',\n",
              " 'va a estar con ustedes y nadie más',\n",
              " 'estoy perdiendo el control de mí mismo esta vez',\n",
              " \"can i move on i'll get out of my own way\",\n",
              " 'oh',\n",
              " \"well i'm digging a ditch for this gold digging bitch\",\n",
              " 'aint no rush so can you slow down',\n",
              " 'i think i want to marry you is it the look in your eyes',\n",
              " \"i must've done something right\",\n",
              " \"and we'll go go go go go\",\n",
              " 'gimme what you got gimme gimme what you got yeah',\n",
              " 'cross over the line and come back alive',\n",
              " 'is when she dance in the mirror',\n",
              " \"i'm too hot hot damn\",\n",
              " \"but you walk around here like you wanna be someone else ooooooooohhhhhhhhhhh i know that you don't know it but you're fine so fine\",\n",
              " 'do you notice me',\n",
              " \"i can't fight back the tears in my eyes\",\n",
              " 'porque yo he estado creo que me voy a perder estribillo',\n",
              " 'wear my heart on my sleeve',\n",
              " \"if perfect's what you're searching for then just stay the same\",\n",
              " 'where did she go',\n",
              " \"we've found the perfect love\",\n",
              " 'girl i will wait for you',\n",
              " \"so don't even bother asking if you look okay you know i'll say when i see your face\",\n",
              " \"now lean with it lean throw a lil' sheen in it sheen\",\n",
              " 'under the strobe lights',\n",
              " \"that's right we out here drippin' in finesse\",\n",
              " \"this pretty little thing i swear won't let you down\",\n",
              " 'but can you tell me who is',\n",
              " \"and i've been thinking that i'm gonna lose it chorus\",\n",
              " 'for too long for too long oh yeah yeah yeah yeah',\n",
              " 'but show me show me show me tonight yeah love the way that you laugh the way that you smile',\n",
              " 'the whole world stops and stares for a while',\n",
              " 'gimme what you got gimme gimme what you got money money money make her smile',\n",
              " \"oh oh some more feels like i'm on fire fire\",\n",
              " 'and i promise to love her for the rest of my life seems like yesterday when she first said hello',\n",
              " \"'cause how could i ever leave\",\n",
              " 'come on girl serve me the dish the lights in the club are turning you on',\n",
              " 'oh you got me burning up oh oh',\n",
              " \"you'll be there\",\n",
              " \"i wonder if we'll ever meet again\",\n",
              " 'bang bang gorilla you and me baby making love like gorillas',\n",
              " 'no no no i just want to work you baby if you are scared you better run you better run',\n",
              " 'uh i wanna be on the cover of forbes magazine',\n",
              " 'que tengo muy cerca para ver tu cara todos los días',\n",
              " \"some more feels like i'm on fire fire\",\n",
              " 'sayin ladies is pimps too 3x',\n",
              " \"i'd probably pull an angelina and brad pitt\",\n",
              " 'is when she dance in the mirror',\n",
              " \"baby girl what's hatnin'\",\n",
              " \"uptown funk you up let's take our time tonight girl\",\n",
              " 'uptown funk you up',\n",
              " \"her laugh her laugh she hates but i think it's so sexy\",\n",
              " 'estás tan lejos',\n",
              " 'i swear the world better prepare',\n",
              " \"no you don't\",\n",
              " 'show her how to lay it back',\n",
              " 'ooooh ooooh',\n",
              " 'oh strut through the club yeah they know we so pay',\n",
              " 'leave the past behind me today my life begins',\n",
              " \"i bet they know soon as we walk in showin' up\",\n",
              " 'straight up and down straight up straight up straight up',\n",
              " 'i think i wanna marry you is it the look in your eyes',\n",
              " 'all this is here for you',\n",
              " 'throw my hand on a blade for ya',\n",
              " \"lucky for you that's what i like that's what i like\",\n",
              " 'i just wanna lay in my bed',\n",
              " \"i'll be ok tomorrow\",\n",
              " 'oh strut through the club yeah they know we so paid',\n",
              " 'the voices the voices the voices',\n",
              " \"that's why i wanna hate her i hate her i hate her\",\n",
              " \"so many eager young bunnies that i'd like to pursue\",\n",
              " \"you know i'd do anything for ya\",\n",
              " 'through my rise and fall',\n",
              " 'and right there is where i wanna stay cause your heart takes me to paradise',\n",
              " \"i must've done something right\",\n",
              " \"diamonds on my neck and i don't mean to brag\",\n",
              " \"but they don't know what i know 'cause when the sun goes down\",\n",
              " \"girls what y'all trying to do\",\n",
              " 'yeah',\n",
              " 'feeling sexy in your bedly',\n",
              " 'you gotta lay it back',\n",
              " \"i spend my lifetime in jail yeah that's what i do\",\n",
              " 'she better run the good lord better bless your soul',\n",
              " 'es tan difícil',\n",
              " \"can't i just stay here\",\n",
              " \"honey you're my golden star\",\n",
              " \"i'll always come back to you come back to you oh i got a bottle full of liquor with a cocaine\",\n",
              " \"find out what we're made of\",\n",
              " 'if you let me treasure you',\n",
              " \"'cause at the end of the night it is her i'll be holding i love you so\",\n",
              " \"i don't know if it's just because pineapple kush between my jaws\",\n",
              " \"while i hide from the sun it's better if you don't understand\",\n",
              " \"gonna dance the night away love just don't come easy\",\n",
              " 'who cares baby',\n",
              " \"i'm losing control of myself this time\",\n",
              " \"talking to the moon i know you're somewhere out there\",\n",
              " 'i know i can make it today my life begins',\n",
              " \"i'll pick up these broken pieces 'til i'm bleeding\",\n",
              " 'yeah your sex takes me to paradise',\n",
              " \"'cause uptown funk gon' give it to you\",\n",
              " 'esta distancia me está matando hay tantas canciones',\n",
              " 'yes i would die for you baby',\n",
              " \"'cause today i swear i'm not doing anything uh i'm gonna kick my feet up and stare at the fan\",\n",
              " 'no no no i just want to work you baby',\n",
              " \"my body's a 100 degrees ohhhh\",\n",
              " 'ya estoy atrapado me gustaría que me podía ver',\n",
              " 'yo prefiero estar',\n",
              " \"i know that we're pulling up\",\n",
              " 'but i was wrong cause only with you',\n",
              " 'yeah',\n",
              " \"'cause it's so brand new babe it's so brand new babe don't it feel good babe don't it feel good babe\",\n",
              " 'you need to take a minute',\n",
              " 'if i lose you baby',\n",
              " 'when we are called to help our friends in need you can count on me like one two three',\n",
              " 'oh take it off for me for me for me for me now girl versace on the floor',\n",
              " 'estás tan lejos',\n",
              " 'so gone so gone so gone',\n",
              " \"next time you need me there i won't make it\",\n",
              " \"but i can't do anything\",\n",
              " \"can't get her off my brain my brain my brain\",\n",
              " 'ooh',\n",
              " \"lucky for you that's what i like that's what i like\",\n",
              " 'so what you wanna do',\n",
              " 'is it strange i believe them again oh oh oh',\n",
              " 'you wanna put your body on mine',\n",
              " \"'cause what i got for you\",\n",
              " 'porque yo estoy perdiendo mi cabeza',\n",
              " \"don't believe me just watch\",\n",
              " \"this is me and my liquor store blues i'll take one shot for my pain\",\n",
              " 'the playing in my mind the playing in my mind',\n",
              " \"it's tearing me apart i know you wish you could see me\",\n",
              " 'a girl like you should never look so blue',\n",
              " 'been doing our thing for a minute and now both our hearts are in it',\n",
              " 'so far this long distance is killing me',\n",
              " 'what is making you',\n",
              " \"yeah we got it goin' on got it goin' on we out here drippin' in finesse\",\n",
              " \"you'll be the death of me the death of me\",\n",
              " 'yo prefiero estar',\n",
              " \"now i'm stronger don't need you any longer\",\n",
              " \"'cause you make me feel like i've been locked out of heaven\",\n",
              " \"it's always been you\",\n",
              " \"pour it up let's work throw some perm on your attitude\",\n",
              " \"'cause our baby's home\",\n",
              " 'what do i do what do i do',\n",
              " 'all the things that i have done',\n",
              " 'estoy perdiendo mi mente',\n",
              " 'straight up and down straight up straight up straight up',\n",
              " 'oh yeah yeah yeah yeah',\n",
              " 'touching me so gently',\n",
              " 'girl show me you got to you got to show me',\n",
              " \"you tell me all day that you're lonely\",\n",
              " \"since you ain't thinking of me since you ain't thinking of me\",\n",
              " \"then pat pat pat 'til it's flat\",\n",
              " 'bad bitches and ya ugly ass friends haha',\n",
              " 'so leave a message at the tone',\n",
              " \"mad woman bad woman that's just what you are yeah\",\n",
              " 'all i ask is if this is my last night with you',\n",
              " \"good god i must've been blind\",\n",
              " \"some more feels like i'm on fire fire\",\n",
              " 'ow show her how to lay it back',\n",
              " 'es tan difícil',\n",
              " \"yo yo yeah d don't it yeah yeah yeah yeah yeah\",\n",
              " \"oh seems like you're ready for more more more\",\n",
              " 'es tan difícil',\n",
              " \"while i'm freakin' you i got your body rockin' side to side straight up\",\n",
              " 'who cares baby',\n",
              " 'straight up and down straight up straight up straight up',\n",
              " \"'cause uptown funk gon' give it to you\",\n",
              " \"you'll be the death of me the death of me\",\n",
              " 'we too fresh',\n",
              " 'feeling like i run this whole block',\n",
              " 'all i ask is if this is my last night with you',\n",
              " \"oh look what you making me do honey pie i'm far too fly to be on standby\",\n",
              " 'i got a condo in manhattan',\n",
              " 'if she dared me i do it',\n",
              " 'look out for a pretty little thing named natalie',\n",
              " \"but you don't look like you're scared\",\n",
              " 'how do you heal',\n",
              " 'seems the clock is running too fast',\n",
              " 'when you undid my seatbelt',\n",
              " 'let you have your way',\n",
              " 'light up my room',\n",
              " 'ella me tiene de perder la cabeza',\n",
              " 'money money money make her smile im looking for the girl',\n",
              " 'oh yeah yeah yeah yeah uh you bring me to my knees',\n",
              " \"yeah they're talking back at night when the stars\",\n",
              " 'pero yo creo que ella siente que ya estoy atrapado ¿estás hablando conmigo',\n",
              " \"but love don't exist\",\n",
              " \"i'll sail the world to find you\",\n",
              " 'but darling not as much as tomorrow tomorrow makes each springtime just a day away',\n",
              " 'he was more than just a friend there was so many times i would doubt myself',\n",
              " 'somewhere somewhere somewhere in brooklyn',\n",
              " 'take off your clothes',\n",
              " 'so wrong could turn out so lovely',\n",
              " 'pero estamos atrapados en esto',\n",
              " 'esta distancia me está matando',\n",
              " 'oh yeah yeah yeah yeah uh hay tantas canciones',\n",
              " \"'cause you make me feel like i've been locked out of heaven\",\n",
              " 'little did i know',\n",
              " \"girl won't you listen\",\n",
              " 'dance in the mirror',\n",
              " 'oh and they only thing he asked',\n",
              " 'everytime i try to leave',\n",
              " 'do it fast do it slow',\n",
              " \"que puedo cantar para pasar el tiempo let's take our time tonight girl\",\n",
              " 'esta distancia me está matando',\n",
              " \"lucky for you that's what i like that's what i like\",\n",
              " 'but can you tell me who is',\n",
              " \"once i get my hands on you i'ma oh natalie she ran away with all my money\",\n",
              " 'that place we went the last time the last time oh moonshine your love it makes me come alive',\n",
              " \"'cause it would take a whole lot of medication\",\n",
              " \"there's not a thing that i would change\",\n",
              " '¿dónde estamos',\n",
              " 'but every time she asks me do i look okay',\n",
              " \"watch out she's quick\",\n",
              " \"and you don't know why well how do you think it feels to hear you screaming out my name\",\n",
              " 'esta distancia me está matando',\n",
              " 'a sad and lonely thing',\n",
              " \"there's nothing more i can say\",\n",
              " \"that she don't really know\",\n",
              " \"i'm losing my mind\",\n",
              " \"standin' on the table sippin' ace of spades\",\n",
              " \"and i'm gonna celebrate it all night long\",\n",
              " \"so just say alright alright if you ain't here to party take your ass back home\",\n",
              " \"'cause '68 cents ain't gonna pay the rent\",\n",
              " 'girl i will wait for you',\n",
              " \"i'm looking at you\",\n",
              " 'for too long for too long',\n",
              " 'oh verse',\n",
              " \"girl you're amazing\",\n",
              " 'you better get get getaway getaway darling',\n",
              " 'you control the tempo look over your shoulder',\n",
              " \"ooooh she's so cute cute cute\",\n",
              " 'but would that be selfish',\n",
              " 'gimme what you got gimme gimme what you got yeah',\n",
              " 'que tengo muy cerca para ver tu cara todos los días',\n",
              " \"we'll finish this up when we get home\",\n",
              " \"but i don't miss a show\",\n",
              " \"her laugh her laugh she hates but i think it's so sexy\",\n",
              " \"you tell me all day that you're lonely\",\n",
              " 'that shit that turns her on',\n",
              " 'estoy de pie temblando de tierra',\n",
              " 'so you better run run runaway runaway baby',\n",
              " 'estoy perdiendo a mi manera',\n",
              " \"then somebody's gotta come dry these eyes dry these eyes hi you've reached halle berry\",\n",
              " 'yeah you young wild girls',\n",
              " \"when we are we're so far this long distance is killing me\",\n",
              " 'we can take it slow we can zoom zoom zoom',\n",
              " \"it's late in the evening evening\",\n",
              " \"it's unfair she's out there somewhere somewhere somewhere in brooklyn\",\n",
              " 'oh yeah yeah',\n",
              " \"that's why i gotta hate her yeah are you getting back\",\n",
              " 'or is it this dancing juice',\n",
              " \"ladies grab your fellas and let's do this right\",\n",
              " 'before i put my spell on you',\n",
              " \"i'll be there\",\n",
              " \"open up your gates cause i can't wait to see the light uh\",\n",
              " 'never been afraid to roll the dice',\n",
              " 'if only a moment if only a day a place where you feel safe and warm',\n",
              " \"you feel like quiting you feel you're through\",\n",
              " \"another late night call i won't take it\",\n",
              " 'girls hit your hallelujah whoo',\n",
              " \"we'll be alright hoo oo oo oo oo oo alright alright alright\",\n",
              " \"'cause everything you heard is true you poor little heart will end up alone\",\n",
              " 'and close the door close the door',\n",
              " \"and i don't care who's knocking on the door\",\n",
              " 'watch her drop it like down down down hey',\n",
              " 'just take me the long way home',\n",
              " \"you're wonderful flawless ooh you're a sexy lady\",\n",
              " \"so don't even bother asking if you look okay you know i'll say when i see your face\",\n",
              " 'but i know that you believe me baby i i wish we were seventeen',\n",
              " \"cause now i finally see you only want me when you're lonely dim all the lights sweet darling\",\n",
              " 'for too long for too long',\n",
              " 'esta distancia me está matando',\n",
              " \"cause tonight it's you and me\",\n",
              " \"i know that we're pulling up\",\n",
              " 'make a dragon wanna retire man',\n",
              " \"only when you're lonely lonely\",\n",
              " 'noo whoa whoa whoa',\n",
              " \"oh oh oh oh oh oh kiss me while we're there\",\n",
              " 'anything you want',\n",
              " \"and you correct me when i'm lookin' wrong\",\n",
              " \"if you're ready like i'm ready cause it's a beautiful night\",\n",
              " \"'cause you're amazing\",\n",
              " 'and i know when i need it i can count on you like four three two',\n",
              " 'you deserve it baby you deserve it all',\n",
              " 'im looking for the girl',\n",
              " 'you know the moments are right',\n",
              " \"girl let's put some miles on it\",\n",
              " \"you can't change your mind\",\n",
              " 'pero estamos atrapados en esto',\n",
              " 'on my body',\n",
              " \"spend the rest of my days here cause you make feel like i've been locked out of heaven\",\n",
              " 'she was gone before i could say shit',\n",
              " \"cause there's a flame between us\",\n",
              " 'who sits alone',\n",
              " 'saturday night and we in the spot',\n",
              " 'do it fast do it slow']"
            ]
          },
          "metadata": {},
          "execution_count": 93
        }
      ]
    },
    {
      "cell_type": "code",
      "execution_count": 108,
      "metadata": {
        "id": "IBvKHFPmzpy2"
      },
      "outputs": [],
      "source": [
        "# Se puede usar gradio para probar el modelo\n",
        "# Gradio es una herramienta muy útil para crear interfaces para ensayar modelos\n",
        "# https://gradio.app/\n",
        "\n",
        "!pip install -q gradio"
      ]
    },
    {
      "cell_type": "code",
      "execution_count": 109,
      "metadata": {
        "id": "HNyBykvhzs7-",
        "colab": {
          "base_uri": "https://localhost:8080/",
          "height": 677
        },
        "outputId": "ce569e6d-087c-4936-c1cd-d6fa39a0ddab"
      },
      "outputs": [
        {
          "output_type": "stream",
          "name": "stdout",
          "text": [
            "Setting queue=True in a Colab notebook requires sharing enabled. Setting `share=True` (you can turn this off by setting `share=False` in `launch()` explicitly).\n",
            "\n",
            "Colab notebook detected. This cell will run indefinitely so that you can see errors and logs. To turn off, set debug=False in launch().\n",
            "Running on public URL: https://eb3bc56e29e72e08bd.gradio.live\n",
            "\n",
            "This share link expires in 72 hours. For free permanent hosting and GPU upgrades, run `gradio deploy` from Terminal to deploy to Spaces (https://huggingface.co/spaces)\n"
          ]
        },
        {
          "output_type": "display_data",
          "data": {
            "text/plain": [
              "<IPython.core.display.HTML object>"
            ],
            "text/html": [
              "<div><iframe src=\"https://eb3bc56e29e72e08bd.gradio.live\" width=\"100%\" height=\"500\" allow=\"autoplay; camera; microphone; clipboard-read; clipboard-write;\" frameborder=\"0\" allowfullscreen></iframe></div>"
            ]
          },
          "metadata": {}
        },
        {
          "output_type": "stream",
          "name": "stdout",
          "text": [
            "\u001b[1m1/1\u001b[0m \u001b[32m━━━━━━━━━━━━━━━━━━━━\u001b[0m\u001b[37m\u001b[0m \u001b[1m0s\u001b[0m 138ms/step\n",
            "Keyboard interruption in main thread... closing server.\n",
            "Killing tunnel 127.0.0.1:7860 <> https://eb3bc56e29e72e08bd.gradio.live\n"
          ]
        },
        {
          "output_type": "execute_result",
          "data": {
            "text/plain": []
          },
          "metadata": {},
          "execution_count": 109
        }
      ],
      "source": [
        "import gradio as gr\n",
        "\n",
        "def model_response(human_text):\n",
        "\n",
        "    # Encodeamos\n",
        "    encoded = tok.texts_to_sequences([human_text])[0]\n",
        "    # Si tienen distinto largo\n",
        "    encoded = pad_sequences([encoded], maxlen=max_context_size, padding='pre')\n",
        "\n",
        "    # Predicción softmax\n",
        "    y_hat = np.argmax(model.predict(encoded)[0,-1,:])\n",
        "\n",
        "\n",
        "    # Debemos buscar en el vocabulario la palabra\n",
        "    # que corresopnde al indice (y_hat) predicho por le modelo\n",
        "    out_word = ''\n",
        "    for word, index in tok.word_index.items():\n",
        "        if index == y_hat:\n",
        "            out_word = word\n",
        "            break\n",
        "\n",
        "    # Agrego la palabra a la frase predicha\n",
        "    return human_text + ' ' + out_word\n",
        "\n",
        "iface = gr.Interface(\n",
        "    fn=model_response,\n",
        "    inputs=[\"textbox\"],\n",
        "    outputs=\"text\")\n",
        "\n",
        "iface.launch(debug=True)"
      ]
    },
    {
      "cell_type": "markdown",
      "metadata": {
        "id": "mCeMWWupxN1-"
      },
      "source": [
        "### Generación de secuencias"
      ]
    },
    {
      "cell_type": "code",
      "execution_count": 96,
      "metadata": {
        "id": "bwbS_pfhxvB3"
      },
      "outputs": [],
      "source": [
        "def generate_seq(model, tokenizer, seed_text, max_length, n_words):\n",
        "    \"\"\"\n",
        "        Exec model sequence prediction\n",
        "\n",
        "        Args:\n",
        "            model (keras): modelo entrenado\n",
        "            tokenizer (keras tokenizer): tonenizer utilizado en el preprocesamiento\n",
        "            seed_text (string): texto de entrada (input_seq)\n",
        "            max_length (int): máxima longitud de la sequencia de entrada\n",
        "            n_words (int): números de palabras a agregar a la sequencia de entrada\n",
        "        returns:\n",
        "            output_text (string): sentencia con las \"n_words\" agregadas\n",
        "    \"\"\"\n",
        "    output_text = seed_text\n",
        "\t  # generate a fixed number of words\n",
        "    for _ in range(n_words):\n",
        "\t\t  # Tokenizamos\n",
        "      encoded = tokenizer.texts_to_sequences([output_text])[0]\n",
        "\n",
        "\t\t  # Si tienen distinto largo\n",
        "      encoded = pad_sequences([encoded], maxlen=max_length, padding='pre')\n",
        "\n",
        "\t\t  # Predicción softmax\n",
        "      y_hat = np.argmax(model.predict(encoded)[0,-1,:])\n",
        "\n",
        "      # Vamos concatenando las predicciones\n",
        "      out_word = ''\n",
        "\n",
        "      # Debemos buscar en el vocabulario la palabra\n",
        "      # que corresopnde al indice (y_hat) predicho por le modelo\n",
        "      for word, index in tokenizer.word_index.items():\n",
        "        if index == y_hat:\n",
        "          out_word = word\n",
        "          break\n",
        "\n",
        "\t\t  # Agrego las palabras a la frase predicha\n",
        "      output_text += ' ' + out_word\n",
        "\n",
        "    return output_text"
      ]
    },
    {
      "cell_type": "code",
      "execution_count": 191,
      "metadata": {
        "id": "JoFqRC5pxzqS",
        "colab": {
          "base_uri": "https://localhost:8080/",
          "height": 87
        },
        "outputId": "ba61c138-f947-48df-c218-752dcbef43c5"
      },
      "outputs": [
        {
          "output_type": "stream",
          "name": "stdout",
          "text": [
            "\u001b[1m1/1\u001b[0m \u001b[32m━━━━━━━━━━━━━━━━━━━━\u001b[0m\u001b[37m\u001b[0m \u001b[1m0s\u001b[0m 31ms/step\n",
            "\u001b[1m1/1\u001b[0m \u001b[32m━━━━━━━━━━━━━━━━━━━━\u001b[0m\u001b[37m\u001b[0m \u001b[1m0s\u001b[0m 32ms/step\n",
            "\u001b[1m1/1\u001b[0m \u001b[32m━━━━━━━━━━━━━━━━━━━━\u001b[0m\u001b[37m\u001b[0m \u001b[1m0s\u001b[0m 29ms/step\n"
          ]
        },
        {
          "output_type": "execute_result",
          "data": {
            "text/plain": [
              "'before i put my spell on the mirror side'"
            ],
            "application/vnd.google.colaboratory.intrinsic+json": {
              "type": "string"
            }
          },
          "metadata": {},
          "execution_count": 191
        }
      ],
      "source": [
        "input_text='before i put my spell on'\n",
        "\n",
        "generate_seq(model, tok, input_text, max_length=max_context_size, n_words=3)"
      ]
    },
    {
      "cell_type": "markdown",
      "metadata": {
        "id": "drJ6xn5qW1Hl"
      },
      "source": [
        "###  Beam search y muestreo aleatorio"
      ]
    },
    {
      "cell_type": "code",
      "execution_count": 116,
      "metadata": {
        "id": "_vovn9XZW1Hl"
      },
      "outputs": [],
      "source": [
        "# funcionalidades para hacer encoding y decoding\n",
        "\n",
        "def encode(text,max_length=max_context_size):\n",
        "\n",
        "    encoded = tok.texts_to_sequences([text])[0]\n",
        "    encoded = pad_sequences([encoded], maxlen=max_length, padding='pre')\n",
        "\n",
        "    return encoded\n",
        "\n",
        "def decode(seq):\n",
        "    return tok.sequences_to_texts([seq])"
      ]
    },
    {
      "cell_type": "code",
      "execution_count": 117,
      "metadata": {
        "id": "I_lZiQwkW1Hl"
      },
      "outputs": [],
      "source": [
        "from scipy.special import softmax\n",
        "\n",
        "# función que selecciona candidatos para el beam search\n",
        "def select_candidates(pred,num_beams,vocab_size,history_probs,history_tokens,temp,mode):\n",
        "\n",
        "  # colectar todas las probabilidades para la siguiente búsqueda\n",
        "  pred_large = []\n",
        "\n",
        "  for idx,pp in enumerate(pred):\n",
        "    pred_large.extend(np.log(pp+1E-10)+history_probs[idx])\n",
        "\n",
        "  pred_large = np.array(pred_large)\n",
        "\n",
        "  # criterio de selección\n",
        "  if mode == 'det':\n",
        "    idx_select = np.argsort(pred_large)[::-1][:num_beams] # beam search determinista\n",
        "  elif mode == 'sto':\n",
        "    idx_select = np.random.choice(np.arange(pred_large.shape[0]), num_beams, p=softmax(pred_large/temp)) # beam search con muestreo aleatorio\n",
        "  else:\n",
        "    raise ValueError(f'Wrong selection mode. {mode} was given. det and sto are supported.')\n",
        "\n",
        "  # traducir a índices de token en el vocabulario\n",
        "  new_history_tokens = np.concatenate((np.array(history_tokens)[idx_select//vocab_size],\n",
        "                        np.array([idx_select%vocab_size]).T),\n",
        "                      axis=1)\n",
        "\n",
        "  # devolver el producto de las probabilidades (log) y la secuencia de tokens seleccionados\n",
        "  return pred_large[idx_select.astype(int)], new_history_tokens.astype(int)\n",
        "\n",
        "\n",
        "def beam_search(model,num_beams,num_words,input,temp=1,mode='det'):\n",
        "\n",
        "    # first iteration\n",
        "\n",
        "    # encode\n",
        "    encoded = encode(input)\n",
        "\n",
        "    # first prediction\n",
        "    y_hat = model.predict(encoded,verbose=0)[0,-1,:]\n",
        "\n",
        "    # get vocabulary size\n",
        "    vocab_size = y_hat.shape[0]\n",
        "\n",
        "    # initialize history\n",
        "    history_probs = [0]*num_beams\n",
        "    history_tokens = [encoded[0]]*num_beams\n",
        "\n",
        "    # select num_beams candidates\n",
        "    history_probs, history_tokens = select_candidates([y_hat],\n",
        "                                        num_beams,\n",
        "                                        vocab_size,\n",
        "                                        history_probs,\n",
        "                                        history_tokens,\n",
        "                                        temp,\n",
        "                                        mode)\n",
        "\n",
        "    # beam search loop\n",
        "    for i in range(num_words-1):\n",
        "\n",
        "      preds = []\n",
        "\n",
        "      for hist in history_tokens:\n",
        "\n",
        "        # actualizar secuencia de tokens\n",
        "        input_update = np.array([hist[i+1:]]).copy()\n",
        "\n",
        "        # predicción\n",
        "        y_hat = model.predict(input_update,verbose=0)[0,-1,:]\n",
        "\n",
        "        preds.append(y_hat)\n",
        "\n",
        "      history_probs, history_tokens = select_candidates(preds,\n",
        "                                                        num_beams,\n",
        "                                                        vocab_size,\n",
        "                                                        history_probs,\n",
        "                                                        history_tokens,\n",
        "                                                        temp,\n",
        "                                                        mode)\n",
        "\n",
        "    return history_tokens"
      ]
    },
    {
      "cell_type": "code",
      "execution_count": 192,
      "metadata": {
        "id": "GeLqAoOYW1Hm"
      },
      "outputs": [],
      "source": [
        "# predicción con beam search.\n",
        "# Se pueden camiar los modos entre 'det' (determinista) y\n",
        "# 'sto' (estocástico)\n",
        "# para el caso estocástico también se puede variar la temperatura\n",
        "salidas = beam_search(model,num_beams=10,num_words=6,input=\"before i put my spell on\",temp=1,mode='sto')"
      ]
    },
    {
      "cell_type": "code",
      "source": [
        "# tenemos `num_beams` salidas ordenadas de mayor a menor likelihood\n",
        "salidas.shape"
      ],
      "metadata": {
        "id": "P8HQoLhw-NYg",
        "colab": {
          "base_uri": "https://localhost:8080/"
        },
        "outputId": "095cd57e-810d-4e28-cadb-15f0b1113054"
      },
      "execution_count": 194,
      "outputs": [
        {
          "output_type": "execute_result",
          "data": {
            "text/plain": [
              "(10, 19)"
            ]
          },
          "metadata": {},
          "execution_count": 194
        }
      ]
    },
    {
      "cell_type": "code",
      "execution_count": 193,
      "metadata": {
        "id": "2S3_I3S1W1Hm",
        "colab": {
          "base_uri": "https://localhost:8080/"
        },
        "outputId": "b4b79381-9c48-4928-8474-d98d0d11db8e"
      },
      "outputs": [
        {
          "output_type": "execute_result",
          "data": {
            "text/plain": [
              "[\"before i put my spell on the air 'cause i can't watch\"]"
            ]
          },
          "metadata": {},
          "execution_count": 193
        }
      ],
      "source": [
        "# veamos las salidas\n",
        "decode(salidas[0])"
      ]
    },
    {
      "cell_type": "code",
      "source": [
        "# veamos las salidas\n",
        "decode(salidas[1])"
      ],
      "metadata": {
        "colab": {
          "base_uri": "https://localhost:8080/"
        },
        "id": "Up83Pqd6Q0Js",
        "outputId": "81f48bb1-964e-484b-ac57-24144f36c6df"
      },
      "execution_count": 195,
      "outputs": [
        {
          "output_type": "execute_result",
          "data": {
            "text/plain": [
              "[\"before i put my spell on the air 'cause i can't stop\"]"
            ]
          },
          "metadata": {},
          "execution_count": 195
        }
      ]
    },
    {
      "cell_type": "code",
      "source": [
        "# veamos las salidas\n",
        "decode(salidas[2])"
      ],
      "metadata": {
        "colab": {
          "base_uri": "https://localhost:8080/"
        },
        "id": "i2HpO2oqQ0RC",
        "outputId": "901f4c23-1420-425f-d4bb-d62318f7c793"
      },
      "execution_count": 196,
      "outputs": [
        {
          "output_type": "execute_result",
          "data": {
            "text/plain": [
              "[\"before i put my spell on the air 'cause i can't don't\"]"
            ]
          },
          "metadata": {},
          "execution_count": 196
        }
      ]
    },
    {
      "cell_type": "code",
      "source": [
        "# veamos las salidas\n",
        "decode(salidas[3])"
      ],
      "metadata": {
        "colab": {
          "base_uri": "https://localhost:8080/"
        },
        "id": "PR8VhZtWQ4Oy",
        "outputId": "cd870f4a-aad6-42ad-b2b6-86fbd2b219cf"
      },
      "execution_count": 197,
      "outputs": [
        {
          "output_type": "execute_result",
          "data": {
            "text/plain": [
              "[\"before i put my spell on the air 'cause i can't get\"]"
            ]
          },
          "metadata": {},
          "execution_count": 197
        }
      ]
    },
    {
      "cell_type": "code",
      "source": [
        "# veamos las salidas\n",
        "decode(salidas[4])"
      ],
      "metadata": {
        "colab": {
          "base_uri": "https://localhost:8080/"
        },
        "id": "lBiR9VxYQ6ue",
        "outputId": "e4e33aba-bc79-4a1b-a4a0-4e7b63854d47"
      },
      "execution_count": 198,
      "outputs": [
        {
          "output_type": "execute_result",
          "data": {
            "text/plain": [
              "[\"before i put my spell on the air 'cause i can't ya'\"]"
            ]
          },
          "metadata": {},
          "execution_count": 198
        }
      ]
    },
    {
      "cell_type": "code",
      "source": [
        "# veamos las salidas\n",
        "decode(salidas[5])"
      ],
      "metadata": {
        "colab": {
          "base_uri": "https://localhost:8080/"
        },
        "id": "HhVlIpSyQ6xI",
        "outputId": "eab5d9a4-cb60-467a-f192-25fe8a20b8d2"
      },
      "execution_count": 199,
      "outputs": [
        {
          "output_type": "execute_result",
          "data": {
            "text/plain": [
              "[\"before i put my spell on the air 'cause i can't catch\"]"
            ]
          },
          "metadata": {},
          "execution_count": 199
        }
      ]
    },
    {
      "cell_type": "code",
      "source": [
        "# veamos las salidas\n",
        "decode(salidas[6])"
      ],
      "metadata": {
        "colab": {
          "base_uri": "https://localhost:8080/"
        },
        "id": "oTvIa7L_Q98d",
        "outputId": "96446d0d-43fe-4bc8-df0e-2101d8b3a698"
      },
      "execution_count": 200,
      "outputs": [
        {
          "output_type": "execute_result",
          "data": {
            "text/plain": [
              "[\"before i put my spell on the air 'cause i can't get\"]"
            ]
          },
          "metadata": {},
          "execution_count": 200
        }
      ]
    },
    {
      "cell_type": "code",
      "source": [
        "# veamos las salidas\n",
        "decode(salidas[7])"
      ],
      "metadata": {
        "colab": {
          "base_uri": "https://localhost:8080/"
        },
        "id": "JvxVxFI6Q9_e",
        "outputId": "b553ae18-165d-476d-9d7b-7fa68729552c"
      },
      "execution_count": 201,
      "outputs": [
        {
          "output_type": "execute_result",
          "data": {
            "text/plain": [
              "['before i put my spell on on the fire of we hoo']"
            ]
          },
          "metadata": {},
          "execution_count": 201
        }
      ]
    },
    {
      "cell_type": "code",
      "source": [
        "# veamos las salidas\n",
        "decode(salidas[8])"
      ],
      "metadata": {
        "colab": {
          "base_uri": "https://localhost:8080/"
        },
        "id": "d7ErCNK5RBu5",
        "outputId": "90a3d5a6-f513-4926-8abe-096d3901d08c"
      },
      "execution_count": 202,
      "outputs": [
        {
          "output_type": "execute_result",
          "data": {
            "text/plain": [
              "[\"before i put my spell on the air 'cause i can't be\"]"
            ]
          },
          "metadata": {},
          "execution_count": 202
        }
      ]
    },
    {
      "cell_type": "code",
      "source": [
        "# veamos las salidas\n",
        "decode(salidas[9])"
      ],
      "metadata": {
        "colab": {
          "base_uri": "https://localhost:8080/"
        },
        "id": "Q0LnLr1YRBx3",
        "outputId": "d40ced6e-1602-405a-be0c-f4bf2e8e9611"
      },
      "execution_count": 203,
      "outputs": [
        {
          "output_type": "execute_result",
          "data": {
            "text/plain": [
              "[\"before i put my spell on the air 'cause i can't put\"]"
            ]
          },
          "metadata": {},
          "execution_count": 203
        }
      ]
    },
    {
      "cell_type": "markdown",
      "metadata": {
        "id": "Q_LlqmtEW1Hn"
      },
      "source": [
        "### Definir el modelo bidireccional"
      ]
    },
    {
      "cell_type": "code",
      "source": [
        "model = Sequential()\n",
        "\n",
        "# la primera capa es de embedding entrenable. Recordar que se puede variar el tamaño\n",
        "# del embedding a entrenar\n",
        "model.add(Embedding(input_dim=vocab_size+1, output_dim=50, input_shape=(None,)))\n",
        "\n",
        "model.add(Bidirectional(LSTM(100, return_sequences=True)))\n",
        "# model.add(Dropout(0.2))\n",
        "\n",
        "model.add(Bidirectional(LSTM(100, return_sequences=True)))\n",
        "# model.add(Dense(32, activation='relu'))\n",
        "\n",
        "# Predicción de clasificación con softmax\n",
        "# La salida es del tamaño del vocabulario\n",
        "model.add(Dense(vocab_size+1, activation='softmax'))\n",
        "\n",
        "\n",
        "# Clasificación multiple categórica --> loss = categorical_crossentropy\n",
        "# notar que usamos la versión Sparse para utilizar sólo índices en lugar de OHE\n",
        "model.compile(loss=SparseCategoricalCrossentropy(), optimizer='rmsprop')\n",
        "\n",
        "model.summary()"
      ],
      "metadata": {
        "colab": {
          "base_uri": "https://localhost:8080/",
          "height": 313
        },
        "id": "wMrlh6xLaBoM",
        "outputId": "31dbd9ec-0b02-4b72-97cb-218232f4dbb5"
      },
      "execution_count": 121,
      "outputs": [
        {
          "output_type": "stream",
          "name": "stderr",
          "text": [
            "/usr/local/lib/python3.10/dist-packages/keras/src/layers/core/embedding.py:93: UserWarning: Do not pass an `input_shape`/`input_dim` argument to a layer. When using Sequential models, prefer using an `Input(shape)` object as the first layer in the model instead.\n",
            "  super().__init__(**kwargs)\n"
          ]
        },
        {
          "output_type": "display_data",
          "data": {
            "text/plain": [
              "\u001b[1mModel: \"sequential_4\"\u001b[0m\n"
            ],
            "text/html": [
              "<pre style=\"white-space:pre;overflow-x:auto;line-height:normal;font-family:Menlo,'DejaVu Sans Mono',consolas,'Courier New',monospace\"><span style=\"font-weight: bold\">Model: \"sequential_4\"</span>\n",
              "</pre>\n"
            ]
          },
          "metadata": {}
        },
        {
          "output_type": "display_data",
          "data": {
            "text/plain": [
              "┏━━━━━━━━━━━━━━━━━━━━━━━━━━━━━━━━━━━━━━┳━━━━━━━━━━━━━━━━━━━━━━━━━━━━━┳━━━━━━━━━━━━━━━━━┓\n",
              "┃\u001b[1m \u001b[0m\u001b[1mLayer (type)                        \u001b[0m\u001b[1m \u001b[0m┃\u001b[1m \u001b[0m\u001b[1mOutput Shape               \u001b[0m\u001b[1m \u001b[0m┃\u001b[1m \u001b[0m\u001b[1m        Param #\u001b[0m\u001b[1m \u001b[0m┃\n",
              "┡━━━━━━━━━━━━━━━━━━━━━━━━━━━━━━━━━━━━━━╇━━━━━━━━━━━━━━━━━━━━━━━━━━━━━╇━━━━━━━━━━━━━━━━━┩\n",
              "│ embedding_4 (\u001b[38;5;33mEmbedding\u001b[0m)              │ (\u001b[38;5;45mNone\u001b[0m, \u001b[38;5;45mNone\u001b[0m, \u001b[38;5;34m50\u001b[0m)            │          \u001b[38;5;34m94,850\u001b[0m │\n",
              "├──────────────────────────────────────┼─────────────────────────────┼─────────────────┤\n",
              "│ bidirectional_4 (\u001b[38;5;33mBidirectional\u001b[0m)      │ (\u001b[38;5;45mNone\u001b[0m, \u001b[38;5;45mNone\u001b[0m, \u001b[38;5;34m200\u001b[0m)           │         \u001b[38;5;34m120,800\u001b[0m │\n",
              "├──────────────────────────────────────┼─────────────────────────────┼─────────────────┤\n",
              "│ bidirectional_5 (\u001b[38;5;33mBidirectional\u001b[0m)      │ (\u001b[38;5;45mNone\u001b[0m, \u001b[38;5;45mNone\u001b[0m, \u001b[38;5;34m200\u001b[0m)           │         \u001b[38;5;34m240,800\u001b[0m │\n",
              "├──────────────────────────────────────┼─────────────────────────────┼─────────────────┤\n",
              "│ dense_4 (\u001b[38;5;33mDense\u001b[0m)                      │ (\u001b[38;5;45mNone\u001b[0m, \u001b[38;5;45mNone\u001b[0m, \u001b[38;5;34m1897\u001b[0m)          │         \u001b[38;5;34m381,297\u001b[0m │\n",
              "└──────────────────────────────────────┴─────────────────────────────┴─────────────────┘\n"
            ],
            "text/html": [
              "<pre style=\"white-space:pre;overflow-x:auto;line-height:normal;font-family:Menlo,'DejaVu Sans Mono',consolas,'Courier New',monospace\">┏━━━━━━━━━━━━━━━━━━━━━━━━━━━━━━━━━━━━━━┳━━━━━━━━━━━━━━━━━━━━━━━━━━━━━┳━━━━━━━━━━━━━━━━━┓\n",
              "┃<span style=\"font-weight: bold\"> Layer (type)                         </span>┃<span style=\"font-weight: bold\"> Output Shape                </span>┃<span style=\"font-weight: bold\">         Param # </span>┃\n",
              "┡━━━━━━━━━━━━━━━━━━━━━━━━━━━━━━━━━━━━━━╇━━━━━━━━━━━━━━━━━━━━━━━━━━━━━╇━━━━━━━━━━━━━━━━━┩\n",
              "│ embedding_4 (<span style=\"color: #0087ff; text-decoration-color: #0087ff\">Embedding</span>)              │ (<span style=\"color: #00d7ff; text-decoration-color: #00d7ff\">None</span>, <span style=\"color: #00d7ff; text-decoration-color: #00d7ff\">None</span>, <span style=\"color: #00af00; text-decoration-color: #00af00\">50</span>)            │          <span style=\"color: #00af00; text-decoration-color: #00af00\">94,850</span> │\n",
              "├──────────────────────────────────────┼─────────────────────────────┼─────────────────┤\n",
              "│ bidirectional_4 (<span style=\"color: #0087ff; text-decoration-color: #0087ff\">Bidirectional</span>)      │ (<span style=\"color: #00d7ff; text-decoration-color: #00d7ff\">None</span>, <span style=\"color: #00d7ff; text-decoration-color: #00d7ff\">None</span>, <span style=\"color: #00af00; text-decoration-color: #00af00\">200</span>)           │         <span style=\"color: #00af00; text-decoration-color: #00af00\">120,800</span> │\n",
              "├──────────────────────────────────────┼─────────────────────────────┼─────────────────┤\n",
              "│ bidirectional_5 (<span style=\"color: #0087ff; text-decoration-color: #0087ff\">Bidirectional</span>)      │ (<span style=\"color: #00d7ff; text-decoration-color: #00d7ff\">None</span>, <span style=\"color: #00d7ff; text-decoration-color: #00d7ff\">None</span>, <span style=\"color: #00af00; text-decoration-color: #00af00\">200</span>)           │         <span style=\"color: #00af00; text-decoration-color: #00af00\">240,800</span> │\n",
              "├──────────────────────────────────────┼─────────────────────────────┼─────────────────┤\n",
              "│ dense_4 (<span style=\"color: #0087ff; text-decoration-color: #0087ff\">Dense</span>)                      │ (<span style=\"color: #00d7ff; text-decoration-color: #00d7ff\">None</span>, <span style=\"color: #00d7ff; text-decoration-color: #00d7ff\">None</span>, <span style=\"color: #00af00; text-decoration-color: #00af00\">1897</span>)          │         <span style=\"color: #00af00; text-decoration-color: #00af00\">381,297</span> │\n",
              "└──────────────────────────────────────┴─────────────────────────────┴─────────────────┘\n",
              "</pre>\n"
            ]
          },
          "metadata": {}
        },
        {
          "output_type": "display_data",
          "data": {
            "text/plain": [
              "\u001b[1m Total params: \u001b[0m\u001b[38;5;34m837,747\u001b[0m (3.20 MB)\n"
            ],
            "text/html": [
              "<pre style=\"white-space:pre;overflow-x:auto;line-height:normal;font-family:Menlo,'DejaVu Sans Mono',consolas,'Courier New',monospace\"><span style=\"font-weight: bold\"> Total params: </span><span style=\"color: #00af00; text-decoration-color: #00af00\">837,747</span> (3.20 MB)\n",
              "</pre>\n"
            ]
          },
          "metadata": {}
        },
        {
          "output_type": "display_data",
          "data": {
            "text/plain": [
              "\u001b[1m Trainable params: \u001b[0m\u001b[38;5;34m837,747\u001b[0m (3.20 MB)\n"
            ],
            "text/html": [
              "<pre style=\"white-space:pre;overflow-x:auto;line-height:normal;font-family:Menlo,'DejaVu Sans Mono',consolas,'Courier New',monospace\"><span style=\"font-weight: bold\"> Trainable params: </span><span style=\"color: #00af00; text-decoration-color: #00af00\">837,747</span> (3.20 MB)\n",
              "</pre>\n"
            ]
          },
          "metadata": {}
        },
        {
          "output_type": "display_data",
          "data": {
            "text/plain": [
              "\u001b[1m Non-trainable params: \u001b[0m\u001b[38;5;34m0\u001b[0m (0.00 B)\n"
            ],
            "text/html": [
              "<pre style=\"white-space:pre;overflow-x:auto;line-height:normal;font-family:Menlo,'DejaVu Sans Mono',consolas,'Courier New',monospace\"><span style=\"font-weight: bold\"> Non-trainable params: </span><span style=\"color: #00af00; text-decoration-color: #00af00\">0</span> (0.00 B)\n",
              "</pre>\n"
            ]
          },
          "metadata": {}
        }
      ]
    },
    {
      "cell_type": "markdown",
      "source": [
        "### Entrenamiento"
      ],
      "metadata": {
        "id": "HjL0d5QAeWe8"
      }
    },
    {
      "cell_type": "code",
      "source": [
        "# fiteamos, nótese el agregado del callback con su inicialización. El batch_size lo podemos seleccionar a mano\n",
        "# en general, lo mejor es escoger el batch más grande posible que minimice el tiempo de cada época.\n",
        "# En la variable `history_ppl` se guardarán los valores de perplejidad para cada época.\n",
        "history_ppl = []\n",
        "hist = model.fit(X, y, epochs=20, callbacks=[PplCallback(tokenized_sentences_val,history_ppl)], batch_size=64)"
      ],
      "metadata": {
        "colab": {
          "base_uri": "https://localhost:8080/"
        },
        "id": "ry7b5JJEeZBP",
        "outputId": "54e7eaec-e903-4c0b-b4df-6a2f7c60b90d"
      },
      "execution_count": 123,
      "outputs": [
        {
          "output_type": "stream",
          "name": "stdout",
          "text": [
            "Epoch 1/20\n",
            "\u001b[1m540/540\u001b[0m \u001b[32m━━━━━━━━━━━━━━━━━━━━\u001b[0m\u001b[37m\u001b[0m \u001b[1m0s\u001b[0m 299ms/step - loss: 1.3380\n",
            " mean perplexity: 602.1359770395617 \n",
            "\n",
            "Saved new model!\n",
            "\u001b[1m540/540\u001b[0m \u001b[32m━━━━━━━━━━━━━━━━━━━━\u001b[0m\u001b[37m\u001b[0m \u001b[1m167s\u001b[0m 309ms/step - loss: 1.3378\n",
            "Epoch 2/20\n",
            "\u001b[1m540/540\u001b[0m \u001b[32m━━━━━━━━━━━━━━━━━━━━\u001b[0m\u001b[37m\u001b[0m \u001b[1m0s\u001b[0m 261ms/step - loss: 0.9833\n",
            " mean perplexity: 512.5824648111181 \n",
            "\n",
            "Saved new model!\n",
            "\u001b[1m540/540\u001b[0m \u001b[32m━━━━━━━━━━━━━━━━━━━━\u001b[0m\u001b[37m\u001b[0m \u001b[1m186s\u001b[0m 281ms/step - loss: 0.9832\n",
            "Epoch 3/20\n",
            "\u001b[1m540/540\u001b[0m \u001b[32m━━━━━━━━━━━━━━━━━━━━\u001b[0m\u001b[37m\u001b[0m \u001b[1m0s\u001b[0m 265ms/step - loss: 0.7169\n",
            " mean perplexity: 489.9719259737191 \n",
            "\n",
            "Saved new model!\n",
            "\u001b[1m540/540\u001b[0m \u001b[32m━━━━━━━━━━━━━━━━━━━━\u001b[0m\u001b[37m\u001b[0m \u001b[1m201s\u001b[0m 279ms/step - loss: 0.7168\n",
            "Epoch 4/20\n",
            "\u001b[1m540/540\u001b[0m \u001b[32m━━━━━━━━━━━━━━━━━━━━\u001b[0m\u001b[37m\u001b[0m \u001b[1m0s\u001b[0m 263ms/step - loss: 0.5505\n",
            " mean perplexity: 491.50796000501043 \n",
            "\n",
            "\u001b[1m540/540\u001b[0m \u001b[32m━━━━━━━━━━━━━━━━━━━━\u001b[0m\u001b[37m\u001b[0m \u001b[1m204s\u001b[0m 283ms/step - loss: 0.5504\n",
            "Epoch 5/20\n",
            "\u001b[1m540/540\u001b[0m \u001b[32m━━━━━━━━━━━━━━━━━━━━\u001b[0m\u001b[37m\u001b[0m \u001b[1m0s\u001b[0m 268ms/step - loss: 0.4613\n",
            " mean perplexity: 495.1944936445909 \n",
            "\n",
            "\u001b[1m540/540\u001b[0m \u001b[32m━━━━━━━━━━━━━━━━━━━━\u001b[0m\u001b[37m\u001b[0m \u001b[1m152s\u001b[0m 281ms/step - loss: 0.4613\n",
            "Epoch 6/20\n",
            "\u001b[1m540/540\u001b[0m \u001b[32m━━━━━━━━━━━━━━━━━━━━\u001b[0m\u001b[37m\u001b[0m \u001b[1m0s\u001b[0m 291ms/step - loss: 0.4048\n",
            " mean perplexity: 516.158534040769 \n",
            "\n",
            "\u001b[1m540/540\u001b[0m \u001b[32m━━━━━━━━━━━━━━━━━━━━\u001b[0m\u001b[37m\u001b[0m \u001b[1m217s\u001b[0m 310ms/step - loss: 0.4048\n",
            "Epoch 7/20\n",
            "\u001b[1m540/540\u001b[0m \u001b[32m━━━━━━━━━━━━━━━━━━━━\u001b[0m\u001b[37m\u001b[0m \u001b[1m0s\u001b[0m 273ms/step - loss: 0.3630\n",
            " mean perplexity: 531.9396484920488 \n",
            "\n",
            "\u001b[1m540/540\u001b[0m \u001b[32m━━━━━━━━━━━━━━━━━━━━\u001b[0m\u001b[37m\u001b[0m \u001b[1m188s\u001b[0m 285ms/step - loss: 0.3630\n",
            "Epoch 8/20\n",
            "\u001b[1m540/540\u001b[0m \u001b[32m━━━━━━━━━━━━━━━━━━━━\u001b[0m\u001b[37m\u001b[0m \u001b[1m0s\u001b[0m 268ms/step - loss: 0.3345\n",
            " mean perplexity: 528.0098932705445 \n",
            "\n",
            "Stopping training...\n",
            "\u001b[1m540/540\u001b[0m \u001b[32m━━━━━━━━━━━━━━━━━━━━\u001b[0m\u001b[37m\u001b[0m \u001b[1m203s\u001b[0m 288ms/step - loss: 0.3345\n"
          ]
        }
      ]
    },
    {
      "cell_type": "code",
      "source": [
        "import matplotlib.pyplot as plt\n",
        "import seaborn as sns\n",
        "\n",
        "# Podemos graficar la evolución de la perplejidad con las épocas.\n",
        "# Recordar que el valor de perplejidad del modelo trivial es el tamaño del vocabulario.\n",
        "epoch_count = range(1, len(history_ppl) + 1)\n",
        "sns.lineplot(x=epoch_count,  y=history_ppl)\n",
        "plt.show()"
      ],
      "metadata": {
        "colab": {
          "base_uri": "https://localhost:8080/",
          "height": 430
        },
        "id": "8E2Y65jIe9A3",
        "outputId": "ea46a5db-479b-475c-cdb5-dcd49a07b9da"
      },
      "execution_count": 124,
      "outputs": [
        {
          "output_type": "display_data",
          "data": {
            "text/plain": [
              "<Figure size 640x480 with 1 Axes>"
            ],
            "image/png": "[encoded data removed]"
          },
          "metadata": {}
        }
      ]
    },
    {
      "cell_type": "code",
      "source": [
        "# Cargamos el mejor modelo guardado del entrenamiento para hacer inferencia\n",
        "model = keras.models.load_model('my_model.keras')"
      ],
      "metadata": {
        "id": "hkWTZ_Ope81c"
      },
      "execution_count": 154,
      "outputs": []
    },
    {
      "cell_type": "markdown",
      "source": [
        "\n",
        "### Predicción de próxima palabra"
      ],
      "metadata": {
        "id": "1cXGMiAafGZc"
      }
    },
    {
      "cell_type": "code",
      "source": [
        "# Se puede usar gradio para probar el modelo\n",
        "# Gradio es una herramienta muy útil para crear interfaces para ensayar modelos\n",
        "# https://gradio.app/\n",
        "\n",
        "!pip install -q gradio"
      ],
      "metadata": {
        "id": "i4Hoss3me8yM"
      },
      "execution_count": 183,
      "outputs": []
    },
    {
      "cell_type": "code",
      "execution_count": 184,
      "metadata": {
        "colab": {
          "base_uri": "https://localhost:8080/",
          "height": 677
        },
        "outputId": "79979400-0e5d-4856-a357-f883cbce5745",
        "id": "0GOKQUUdfWCD"
      },
      "outputs": [
        {
          "output_type": "stream",
          "name": "stdout",
          "text": [
            "Setting queue=True in a Colab notebook requires sharing enabled. Setting `share=True` (you can turn this off by setting `share=False` in `launch()` explicitly).\n",
            "\n",
            "Colab notebook detected. This cell will run indefinitely so that you can see errors and logs. To turn off, set debug=False in launch().\n",
            "Running on public URL: https://e2d01e942924da416d.gradio.live\n",
            "\n",
            "This share link expires in 72 hours. For free permanent hosting and GPU upgrades, run `gradio deploy` from Terminal to deploy to Spaces (https://huggingface.co/spaces)\n"
          ]
        },
        {
          "output_type": "display_data",
          "data": {
            "text/plain": [
              "<IPython.core.display.HTML object>"
            ],
            "text/html": [
              "<div><iframe src=\"https://e2d01e942924da416d.gradio.live\" width=\"100%\" height=\"500\" allow=\"autoplay; camera; microphone; clipboard-read; clipboard-write;\" frameborder=\"0\" allowfullscreen></iframe></div>"
            ]
          },
          "metadata": {}
        },
        {
          "output_type": "stream",
          "name": "stdout",
          "text": [
            "\u001b[1m1/1\u001b[0m \u001b[32m━━━━━━━━━━━━━━━━━━━━\u001b[0m\u001b[37m\u001b[0m \u001b[1m0s\u001b[0m 28ms/step\n",
            "Keyboard interruption in main thread... closing server.\n",
            "Killing tunnel 127.0.0.1:7860 <> https://e2d01e942924da416d.gradio.live\n"
          ]
        },
        {
          "output_type": "execute_result",
          "data": {
            "text/plain": []
          },
          "metadata": {},
          "execution_count": 184
        }
      ],
      "source": [
        "import gradio as gr\n",
        "\n",
        "def model_response(human_text):\n",
        "\n",
        "    # Encodeamos\n",
        "    encoded = tok.texts_to_sequences([human_text])[0]\n",
        "    # Si tienen distinto largo\n",
        "    encoded = pad_sequences([encoded], maxlen=max_context_size, padding='pre')\n",
        "\n",
        "    # Predicción softmax\n",
        "    y_hat = np.argmax(model.predict(encoded)[0,-1,:])\n",
        "\n",
        "\n",
        "    # Debemos buscar en el vocabulario la palabra\n",
        "    # que corresopnde al indice (y_hat) predicho por le modelo\n",
        "    out_word = ''\n",
        "    for word, index in tok.word_index.items():\n",
        "        if index == y_hat:\n",
        "            out_word = word\n",
        "            break\n",
        "\n",
        "    # Agrego la palabra a la frase predicha\n",
        "    return human_text + ' ' + out_word\n",
        "\n",
        "iface = gr.Interface(\n",
        "    fn=model_response,\n",
        "    inputs=[\"textbox\"],\n",
        "    outputs=\"text\")\n",
        "\n",
        "iface.launch(debug=True)\n",
        "#i'm looking at you"
      ]
    },
    {
      "cell_type": "markdown",
      "source": [
        "### Generación de secuencias"
      ],
      "metadata": {
        "id": "jc6_fV51fesc"
      }
    },
    {
      "cell_type": "code",
      "source": [
        "input_text='who sits alone'\n",
        "\n",
        "generate_seq(model, tok, input_text, max_length=max_context_size, n_words=5)"
      ],
      "metadata": {
        "colab": {
          "base_uri": "https://localhost:8080/",
          "height": 122
        },
        "id": "nlHfFXREfVlT",
        "outputId": "5e275eaf-b0ed-45c6-ba0f-d1aaa82f622b"
      },
      "execution_count": 155,
      "outputs": [
        {
          "output_type": "stream",
          "name": "stdout",
          "text": [
            "\u001b[1m1/1\u001b[0m \u001b[32m━━━━━━━━━━━━━━━━━━━━\u001b[0m\u001b[37m\u001b[0m \u001b[1m2s\u001b[0m 2s/step\n",
            "\u001b[1m1/1\u001b[0m \u001b[32m━━━━━━━━━━━━━━━━━━━━\u001b[0m\u001b[37m\u001b[0m \u001b[1m0s\u001b[0m 30ms/step\n",
            "\u001b[1m1/1\u001b[0m \u001b[32m━━━━━━━━━━━━━━━━━━━━\u001b[0m\u001b[37m\u001b[0m \u001b[1m0s\u001b[0m 28ms/step\n",
            "\u001b[1m1/1\u001b[0m \u001b[32m━━━━━━━━━━━━━━━━━━━━\u001b[0m\u001b[37m\u001b[0m \u001b[1m0s\u001b[0m 29ms/step\n",
            "\u001b[1m1/1\u001b[0m \u001b[32m━━━━━━━━━━━━━━━━━━━━\u001b[0m\u001b[37m\u001b[0m \u001b[1m0s\u001b[0m 28ms/step\n"
          ]
        },
        {
          "output_type": "execute_result",
          "data": {
            "text/plain": [
              "'who sits alone this this this this time'"
            ],
            "application/vnd.google.colaboratory.intrinsic+json": {
              "type": "string"
            }
          },
          "metadata": {},
          "execution_count": 155
        }
      ]
    },
    {
      "cell_type": "code",
      "source": [
        "#spend the rest of my days here cause you make feel like i've been locked out of heaven\n",
        "input_text=\"spend the rest of my days here cause you make feel like i've been\"\n",
        "\n",
        "generate_seq(model, tok, input_text, max_length=max_context_size, n_words=10)"
      ],
      "metadata": {
        "colab": {
          "base_uri": "https://localhost:8080/",
          "height": 209
        },
        "id": "c57PdpSKqLqU",
        "outputId": "02c8fefb-4142-4135-e9ef-6d157cdee272"
      },
      "execution_count": 182,
      "outputs": [
        {
          "output_type": "stream",
          "name": "stdout",
          "text": [
            "\u001b[1m1/1\u001b[0m \u001b[32m━━━━━━━━━━━━━━━━━━━━\u001b[0m\u001b[37m\u001b[0m \u001b[1m0s\u001b[0m 34ms/step\n",
            "\u001b[1m1/1\u001b[0m \u001b[32m━━━━━━━━━━━━━━━━━━━━\u001b[0m\u001b[37m\u001b[0m \u001b[1m0s\u001b[0m 30ms/step\n",
            "\u001b[1m1/1\u001b[0m \u001b[32m━━━━━━━━━━━━━━━━━━━━\u001b[0m\u001b[37m\u001b[0m \u001b[1m0s\u001b[0m 30ms/step\n",
            "\u001b[1m1/1\u001b[0m \u001b[32m━━━━━━━━━━━━━━━━━━━━\u001b[0m\u001b[37m\u001b[0m \u001b[1m0s\u001b[0m 29ms/step\n",
            "\u001b[1m1/1\u001b[0m \u001b[32m━━━━━━━━━━━━━━━━━━━━\u001b[0m\u001b[37m\u001b[0m \u001b[1m0s\u001b[0m 29ms/step\n",
            "\u001b[1m1/1\u001b[0m \u001b[32m━━━━━━━━━━━━━━━━━━━━\u001b[0m\u001b[37m\u001b[0m \u001b[1m0s\u001b[0m 28ms/step\n",
            "\u001b[1m1/1\u001b[0m \u001b[32m━━━━━━━━━━━━━━━━━━━━\u001b[0m\u001b[37m\u001b[0m \u001b[1m0s\u001b[0m 28ms/step\n",
            "\u001b[1m1/1\u001b[0m \u001b[32m━━━━━━━━━━━━━━━━━━━━\u001b[0m\u001b[37m\u001b[0m \u001b[1m0s\u001b[0m 30ms/step\n",
            "\u001b[1m1/1\u001b[0m \u001b[32m━━━━━━━━━━━━━━━━━━━━\u001b[0m\u001b[37m\u001b[0m \u001b[1m0s\u001b[0m 28ms/step\n",
            "\u001b[1m1/1\u001b[0m \u001b[32m━━━━━━━━━━━━━━━━━━━━\u001b[0m\u001b[37m\u001b[0m \u001b[1m0s\u001b[0m 33ms/step\n"
          ]
        },
        {
          "output_type": "execute_result",
          "data": {
            "text/plain": [
              "\"spend the rest of my days here cause you make feel like i've been locked a billionaire so f in' in' in' in' in'\""
            ],
            "application/vnd.google.colaboratory.intrinsic+json": {
              "type": "string"
            }
          },
          "metadata": {},
          "execution_count": 182
        }
      ]
    },
    {
      "cell_type": "markdown",
      "source": [
        "###  Beam search y muestreo aleatorio"
      ],
      "metadata": {
        "id": "v0tSebQ8hB_M"
      }
    },
    {
      "cell_type": "code",
      "source": [
        "# predicción con beam search.\n",
        "# Se pueden camiar los modos entre 'det' (determinista) y\n",
        "# 'sto' (estocástico)\n",
        "# para el caso estocástico también se puede variar la temperatura\n",
        "#before i put my spell on you\n",
        "salidas = beam_search(model,num_beams=10,num_words=3,input=\"before i put my spell\",temp=1,mode='sto')"
      ],
      "metadata": {
        "id": "_Wtk5XBhhBWD"
      },
      "execution_count": 167,
      "outputs": []
    },
    {
      "cell_type": "code",
      "source": [
        "# predicción con beam search.\n",
        "# Se pueden camiar los modos entre 'det' (determinista) y\n",
        "# 'sto' (estocástico)\n",
        "# para el caso estocástico también se puede variar la temperatura\n",
        "salidasdet = beam_search(model,num_beams=10,num_words=6,input=\"spend the rest of my days here cause you make feel like i've been\",temp=1,mode='det')"
      ],
      "metadata": {
        "id": "gQxW8BERviVd"
      },
      "execution_count": 185,
      "outputs": []
    },
    {
      "cell_type": "code",
      "source": [
        "# tenemos `num_beams` salidas ordenadas de mayor a menor likelihood\n",
        "salidas.shape"
      ],
      "metadata": {
        "colab": {
          "base_uri": "https://localhost:8080/"
        },
        "id": "cX-Ql5udhTxw",
        "outputId": "3e67cc47-4bb5-4689-8edf-a52cd1dd4944"
      },
      "execution_count": 169,
      "outputs": [
        {
          "output_type": "execute_result",
          "data": {
            "text/plain": [
              "(10, 16)"
            ]
          },
          "metadata": {},
          "execution_count": 169
        }
      ]
    },
    {
      "cell_type": "code",
      "source": [
        "salidasdet.shape"
      ],
      "metadata": {
        "colab": {
          "base_uri": "https://localhost:8080/"
        },
        "id": "bb04-1XLvm5j",
        "outputId": "004c9781-b1cb-4561-9c3a-3cef026b8878"
      },
      "execution_count": 162,
      "outputs": [
        {
          "output_type": "execute_result",
          "data": {
            "text/plain": [
              "(10, 19)"
            ]
          },
          "metadata": {},
          "execution_count": 162
        }
      ]
    },
    {
      "cell_type": "code",
      "source": [
        "# veamos las salidas\n",
        "decode(salidas[0])"
      ],
      "metadata": {
        "colab": {
          "base_uri": "https://localhost:8080/"
        },
        "id": "_KH6GqhghTsl",
        "outputId": "c43adc79-7088-412c-bb8a-1dca78f06957"
      },
      "execution_count": 168,
      "outputs": [
        {
          "output_type": "execute_result",
          "data": {
            "text/plain": [
              "['before i put my spell in home way']"
            ]
          },
          "metadata": {},
          "execution_count": 168
        }
      ]
    },
    {
      "cell_type": "code",
      "source": [
        "decode(salidas[1])"
      ],
      "metadata": {
        "colab": {
          "base_uri": "https://localhost:8080/"
        },
        "id": "EsFOmfBzwEqR",
        "outputId": "c9aec3ea-17a2-4fe1-aa8f-b77bbfb51b3d"
      },
      "execution_count": 170,
      "outputs": [
        {
          "output_type": "execute_result",
          "data": {
            "text/plain": [
              "['before i put my spell on the things']"
            ]
          },
          "metadata": {},
          "execution_count": 170
        }
      ]
    },
    {
      "cell_type": "code",
      "source": [
        "decode(salidas[2])"
      ],
      "metadata": {
        "colab": {
          "base_uri": "https://localhost:8080/"
        },
        "id": "-hUvrDb0wGln",
        "outputId": "8ae0fcc0-79b5-489f-af0a-c719bf298e2f"
      },
      "execution_count": 171,
      "outputs": [
        {
          "output_type": "execute_result",
          "data": {
            "text/plain": [
              "['before i put my spell in the world']"
            ]
          },
          "metadata": {},
          "execution_count": 171
        }
      ]
    },
    {
      "cell_type": "code",
      "source": [
        "decode(salidas[3])"
      ],
      "metadata": {
        "colab": {
          "base_uri": "https://localhost:8080/"
        },
        "id": "8lSCOq__wKFe",
        "outputId": "32966787-5cd0-42ba-ada2-9f7f1383f1b0"
      },
      "execution_count": 172,
      "outputs": [
        {
          "output_type": "execute_result",
          "data": {
            "text/plain": [
              "['before i put my spell on the day']"
            ]
          },
          "metadata": {},
          "execution_count": 172
        }
      ]
    },
    {
      "cell_type": "code",
      "source": [
        "decode(salidas[4])"
      ],
      "metadata": {
        "colab": {
          "base_uri": "https://localhost:8080/"
        },
        "id": "r6-EnX0fwMFp",
        "outputId": "c6b6406e-3a0a-46f0-e98d-8680565e6b44"
      },
      "execution_count": 173,
      "outputs": [
        {
          "output_type": "execute_result",
          "data": {
            "text/plain": [
              "['before i put my spell in standing all']"
            ]
          },
          "metadata": {},
          "execution_count": 173
        }
      ]
    },
    {
      "cell_type": "code",
      "source": [
        "decode(salidas[5])"
      ],
      "metadata": {
        "colab": {
          "base_uri": "https://localhost:8080/"
        },
        "id": "D9ivvLtIwNna",
        "outputId": "68eca437-8e36-4e3c-e0ab-4edac95c3d70"
      },
      "execution_count": 174,
      "outputs": [
        {
          "output_type": "execute_result",
          "data": {
            "text/plain": [
              "['before i put my spell on the words']"
            ]
          },
          "metadata": {},
          "execution_count": 174
        }
      ]
    },
    {
      "cell_type": "code",
      "source": [
        "decode(salidas[6])"
      ],
      "metadata": {
        "colab": {
          "base_uri": "https://localhost:8080/"
        },
        "id": "4Y1w2J71wPVC",
        "outputId": "db4c60e7-92d7-4e17-eeb0-93eca01f26a3"
      },
      "execution_count": 175,
      "outputs": [
        {
          "output_type": "execute_result",
          "data": {
            "text/plain": [
              "['before i put my spell on the home']"
            ]
          },
          "metadata": {},
          "execution_count": 175
        }
      ]
    },
    {
      "cell_type": "code",
      "source": [
        "decode(salidas[7])"
      ],
      "metadata": {
        "colab": {
          "base_uri": "https://localhost:8080/"
        },
        "id": "qmuH1fT1wRKs",
        "outputId": "1ae43fc7-8121-4dff-aea8-369fa6a75291"
      },
      "execution_count": 176,
      "outputs": [
        {
          "output_type": "execute_result",
          "data": {
            "text/plain": [
              "['before i put my spell on the body']"
            ]
          },
          "metadata": {},
          "execution_count": 176
        }
      ]
    },
    {
      "cell_type": "code",
      "source": [
        "decode(salidas[8])"
      ],
      "metadata": {
        "colab": {
          "base_uri": "https://localhost:8080/"
        },
        "id": "t2xC0tOcwREr",
        "outputId": "533543c1-0f70-4624-8842-f92d2a712c07"
      },
      "execution_count": 177,
      "outputs": [
        {
          "output_type": "execute_result",
          "data": {
            "text/plain": [
              "['before i put my spell in the man']"
            ]
          },
          "metadata": {},
          "execution_count": 177
        }
      ]
    },
    {
      "cell_type": "code",
      "source": [
        "decode(salidas[9])"
      ],
      "metadata": {
        "colab": {
          "base_uri": "https://localhost:8080/"
        },
        "id": "iotcsT7kwQ_6",
        "outputId": "2f758dd4-735e-437f-e3ec-d7270491bf8e"
      },
      "execution_count": 178,
      "outputs": [
        {
          "output_type": "execute_result",
          "data": {
            "text/plain": [
              "['before i put my spell on the air']"
            ]
          },
          "metadata": {},
          "execution_count": 178
        }
      ]
    },
    {
      "cell_type": "code",
      "source": [
        "#salida modo determinista\n",
        "decode(salidasdet[0])"
      ],
      "metadata": {
        "colab": {
          "base_uri": "https://localhost:8080/"
        },
        "id": "UVMFzfHxvqrf",
        "outputId": "0ba6dee0-5e98-4487-dc3f-724b37dc4836"
      },
      "execution_count": 186,
      "outputs": [
        {
          "output_type": "execute_result",
          "data": {
            "text/plain": [
              "[\"the rest of my days here cause you make feel like i've been chains that bind me bind me\"]"
            ]
          },
          "metadata": {},
          "execution_count": 186
        }
      ]
    },
    {
      "cell_type": "code",
      "source": [
        "#salida modo determinista1\n",
        "decode(salidasdet[1])"
      ],
      "metadata": {
        "colab": {
          "base_uri": "https://localhost:8080/"
        },
        "id": "Jd6hM-72E1ic",
        "outputId": "434555ca-d206-495c-a7f6-355d7119619b"
      },
      "execution_count": 187,
      "outputs": [
        {
          "output_type": "execute_result",
          "data": {
            "text/plain": [
              "[\"the rest of my days here cause you make feel like i've been chains that bind me in the\"]"
            ]
          },
          "metadata": {},
          "execution_count": 187
        }
      ]
    },
    {
      "cell_type": "code",
      "source": [
        "#salida modo determinista\n",
        "decode(salidasdet[2])"
      ],
      "metadata": {
        "colab": {
          "base_uri": "https://localhost:8080/"
        },
        "id": "LLEa5i6qE1rl",
        "outputId": "40fc71c3-6c8b-42c5-f7e5-79841ac5d562"
      },
      "execution_count": 188,
      "outputs": [
        {
          "output_type": "execute_result",
          "data": {
            "text/plain": [
              "[\"the rest of my days here cause you make feel like i've been chains that bind me in my\"]"
            ]
          },
          "metadata": {},
          "execution_count": 188
        }
      ]
    },
    {
      "cell_type": "code",
      "source": [
        "#salida modo determinista\n",
        "decode(salidasdet[3])"
      ],
      "metadata": {
        "colab": {
          "base_uri": "https://localhost:8080/"
        },
        "id": "q3RpOkMIE7mY",
        "outputId": "bca12537-2ea2-4428-9635-f3cc70b597e7"
      },
      "execution_count": 189,
      "outputs": [
        {
          "output_type": "execute_result",
          "data": {
            "text/plain": [
              "[\"the rest of my days here cause you make feel like i've been locked i will break this this\"]"
            ]
          },
          "metadata": {},
          "execution_count": 189
        }
      ]
    },
    {
      "cell_type": "code",
      "source": [
        "#salida modo determinista\n",
        "decode(salidasdet[4])"
      ],
      "metadata": {
        "colab": {
          "base_uri": "https://localhost:8080/"
        },
        "id": "TrLyxOM7FVES",
        "outputId": "25df2de0-980e-420c-f52b-ed4972706297"
      },
      "execution_count": 190,
      "outputs": [
        {
          "output_type": "execute_result",
          "data": {
            "text/plain": [
              "[\"the rest of my days here cause you make feel like i've been locked i will break these chains\"]"
            ]
          },
          "metadata": {},
          "execution_count": 190
        }
      ]
    },
    {
      "cell_type": "markdown",
      "source": [
        "### Conclusiones"
      ],
      "metadata": {
        "id": "EDU_eYuGr61n"
      }
    },
    {
      "cell_type": "markdown",
      "source": [
        "Se observa que ambas arquitrecturas(LSTM sin capa bidireccional y LSTM con capa bidireccional):\n",
        "\n",
        "* En cada época de entrenamiento se va bajando la función de pérdidad, así como la perplejidad. Siendo que la arquitectura con bidireccionalidad tiene hasta la época 4 mejor desempeño; esta arquitectura dejo de aprender desde la capa 5, por lo cual se detuvo.\n",
        "\n",
        "* La creación de secuencias de ambas arquitecturas con gradio es incorrecta.\n",
        "\n",
        "* La creación de secuencias con beam search para ambos modos es correcta para la arquitectura bidireccional solamente. Se observa que para el modo estocástico la posición uno de la generación de secuencia predice la palabra. Así, se observa que para la posición tres del modo determinista, se predice la siguente palabra correctamente."
      ],
      "metadata": {
        "id": "tELQq-IRsEW4"
      }
    }
  ],
  "metadata": {
    "colab": {
      "provenance": [],
      "include_colab_link": true
    },
    "kernelspec": {
      "display_name": "Python 3",
      "name": "python3"
    },
    "language_info": {
      "name": "python"
    }
  },
  "nbformat": 4,
  "nbformat_minor": 0
}